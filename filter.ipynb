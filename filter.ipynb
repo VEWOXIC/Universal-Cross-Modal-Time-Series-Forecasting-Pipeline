{
 "cells": [
  {
   "cell_type": "code",
   "execution_count": 1,
   "metadata": {},
   "outputs": [],
   "source": [
    "import torch\n",
    "import pandas as pd\n",
    "import numpy as np\n",
    "import os\n",
    "from models import model_init\n",
    "from data_provider.data_factory import Data_Provider\n",
    "import matplotlib.pyplot as plt\n",
    "from utils.task import ahead_task_parser\n",
    "from utils.tools import dotdict\n",
    "import yaml, json"
   ]
  },
  {
   "cell_type": "code",
   "execution_count": 2,
   "metadata": {},
   "outputs": [],
   "source": [
    "model = 'iTransformer'\n",
    "data = 'solar'\n",
    "ahead = 'day'\n",
    "version = 'latest'\n",
    "ckpt_base = './checkpoints'\n",
    "\n",
    "ckpt_id = f'_{model}_{data}_{ahead}_ahead'\n",
    "\n",
    "if version == 'latest':\n",
    "    # find all the path that end with the ckpt_id\n",
    "    ckpt_paths = [os.path.join(ckpt_base, i) for i in os.listdir(ckpt_base) if i.endswith(ckpt_id)]\n",
    "    # the path is in format of yyyy-mm-dd{ckpt_id}, now find the latest one\n",
    "    ckpt_paths.sort()\n",
    "    ckpt_path = ckpt_paths[-1]\n",
    "else:\n",
    "    ckpt_path = version + ckpt_id\n",
    "\n",
    "config = dotdict(json.load(open(os.path.join(ckpt_path, 'args.json'))))\n",
    "config.model_config = dotdict(config.model_config)\n",
    "config.data_config = dotdict(config.data_config)\n",
    "\n",
    "config.device = torch.device(\"cuda\" if torch.cuda.is_available() else \"cpu\")\n",
    "config.batch_size = 1"
   ]
  },
  {
   "cell_type": "code",
   "execution_count": 3,
   "metadata": {},
   "outputs": [
    {
     "data": {
      "text/plain": [
       "Model(\n",
       "  (enc_embedding): DataEmbedding_inverted(\n",
       "    (value_embedding): Linear(in_features=168, out_features=128, bias=True)\n",
       "    (dropout): Dropout(p=0.1, inplace=False)\n",
       "  )\n",
       "  (encoder): Encoder(\n",
       "    (attn_layers): ModuleList(\n",
       "      (0-1): 2 x EncoderLayer(\n",
       "        (attention): AttentionLayer(\n",
       "          (inner_attention): FullAttention(\n",
       "            (dropout): Dropout(p=0.1, inplace=False)\n",
       "          )\n",
       "          (query_projection): Linear(in_features=128, out_features=128, bias=True)\n",
       "          (key_projection): Linear(in_features=128, out_features=128, bias=True)\n",
       "          (value_projection): Linear(in_features=128, out_features=128, bias=True)\n",
       "          (out_projection): Linear(in_features=128, out_features=128, bias=True)\n",
       "        )\n",
       "        (conv1): Conv1d(128, 128, kernel_size=(1,), stride=(1,))\n",
       "        (conv2): Conv1d(128, 128, kernel_size=(1,), stride=(1,))\n",
       "        (norm1): LayerNorm((128,), eps=1e-05, elementwise_affine=True)\n",
       "        (norm2): LayerNorm((128,), eps=1e-05, elementwise_affine=True)\n",
       "        (dropout): Dropout(p=0.1, inplace=False)\n",
       "      )\n",
       "    )\n",
       "    (norm): LayerNorm((128,), eps=1e-05, elementwise_affine=True)\n",
       "  )\n",
       "  (projector): Linear(in_features=128, out_features=24, bias=True)\n",
       ")"
      ]
     },
     "execution_count": 3,
     "metadata": {},
     "output_type": "execute_result"
    }
   ],
   "source": [
    "model_TST = model_init(config.model, config.model_config, config).to(config.device)\n",
    "# load the model\n",
    "model_TST.load_state_dict(torch.load(os.path.join(ckpt_path, 'checkpoint.pth'))) \n",
    "model_TST.eval()"
   ]
  },
  {
   "cell_type": "code",
   "execution_count": 4,
   "metadata": {},
   "outputs": [
    {
     "name": "stdout",
     "output_type": "stream",
     "text": [
      "./checkpoints/04-16-0457_TGTSF_solar_day_ahead\n"
     ]
    }
   ],
   "source": [
    "model = 'TGTSF'\n",
    "data = 'solar'\n",
    "ahead = 'day'\n",
    "version = 'latest'#'04-16-0316'#'latest'\n",
    "ckpt_base = './checkpoints'\n",
    "\n",
    "ckpt_id = f'_{model}_{data}_{ahead}_ahead'\n",
    "\n",
    "if version == 'latest':\n",
    "    # find all the path that end with the ckpt_id\n",
    "    ckpt_paths = [os.path.join(ckpt_base, i) for i in os.listdir(ckpt_base) if i.endswith(ckpt_id)]\n",
    "    # the path is in format of yyyy-mm-dd{ckpt_id}, now find the latest one\n",
    "    ckpt_paths.sort()\n",
    "    ckpt_path = ckpt_paths[-1]\n",
    "else:\n",
    "    ckpt_path = version + ckpt_id\n",
    "    ckpt_path = os.path.join(ckpt_base, ckpt_path)\n",
    "\n",
    "config = dotdict(json.load(open(os.path.join(ckpt_path, 'args.json'))))\n",
    "config.model_config = dotdict(config.model_config)\n",
    "config.data_config = dotdict(config.data_config)\n",
    "\n",
    "config.device = torch.device(\"cuda\" if torch.cuda.is_available() else \"cpu\")\n",
    "config.batch_size = 1\n",
    "print(ckpt_path)"
   ]
  },
  {
   "cell_type": "code",
   "execution_count": 5,
   "metadata": {},
   "outputs": [
    {
     "data": {
      "text/plain": [
       "Model(\n",
       "  (TS_encoder): TS_encoder(\n",
       "    (attentions): TransformerEncoder(\n",
       "      (layers): ModuleList(\n",
       "        (0-2): 3 x TransformerEncoderLayer(\n",
       "          (self_attn): MultiheadAttention(\n",
       "            (out_proj): NonDynamicallyQuantizableLinear(in_features=256, out_features=256, bias=True)\n",
       "          )\n",
       "          (linear1): Linear(in_features=256, out_features=1024, bias=True)\n",
       "          (dropout): Dropout(p=0.3, inplace=False)\n",
       "          (linear2): Linear(in_features=1024, out_features=256, bias=True)\n",
       "          (norm1): LayerNorm((256,), eps=1e-05, elementwise_affine=True)\n",
       "          (norm2): LayerNorm((256,), eps=1e-05, elementwise_affine=True)\n",
       "          (dropout1): Dropout(p=0.3, inplace=False)\n",
       "          (dropout2): Dropout(p=0.3, inplace=False)\n",
       "        )\n",
       "      )\n",
       "      (norm): LayerNorm((256,), eps=1e-05, elementwise_affine=True)\n",
       "    )\n",
       "    (input_encoder): Linear(in_features=16, out_features=256, bias=True)\n",
       "    (dropout_layer): Dropout(p=0.3, inplace=False)\n",
       "  )\n",
       "  (text_encoder): text_encoder(\n",
       "    (cross_encoder): TransformerDecoder(\n",
       "      (layers): ModuleList(\n",
       "        (0-2): 3 x TransformerDecoderLayer(\n",
       "          (self_attn): MultiheadAttention(\n",
       "            (out_proj): NonDynamicallyQuantizableLinear(in_features=256, out_features=256, bias=True)\n",
       "          )\n",
       "          (multihead_attn): MultiheadAttention(\n",
       "            (out_proj): NonDynamicallyQuantizableLinear(in_features=256, out_features=256, bias=True)\n",
       "          )\n",
       "          (linear1): Linear(in_features=256, out_features=1024, bias=True)\n",
       "          (dropout): Dropout(p=0.3, inplace=False)\n",
       "          (linear2): Linear(in_features=1024, out_features=256, bias=True)\n",
       "          (norm1): LayerNorm((256,), eps=1e-05, elementwise_affine=True)\n",
       "          (norm2): LayerNorm((256,), eps=1e-05, elementwise_affine=True)\n",
       "          (norm3): LayerNorm((256,), eps=1e-05, elementwise_affine=True)\n",
       "          (dropout1): Dropout(p=0.3, inplace=False)\n",
       "          (dropout2): Dropout(p=0.3, inplace=False)\n",
       "          (dropout3): Dropout(p=0.3, inplace=False)\n",
       "        )\n",
       "      )\n",
       "      (norm): LayerNorm((256,), eps=1e-05, elementwise_affine=True)\n",
       "    )\n",
       "    (dropout_layer): Dropout(p=0.3, inplace=False)\n",
       "  )\n",
       "  (mixer): text_temp_cross_block(\n",
       "    (cross_encoder): TransformerDecoder(\n",
       "      (layers): ModuleList(\n",
       "        (0-2): 3 x TransformerDecoderLayer(\n",
       "          (self_attn): MultiheadAttention(\n",
       "            (out_proj): NonDynamicallyQuantizableLinear(in_features=256, out_features=256, bias=True)\n",
       "          )\n",
       "          (multihead_attn): MultiheadAttention(\n",
       "            (out_proj): NonDynamicallyQuantizableLinear(in_features=256, out_features=256, bias=True)\n",
       "          )\n",
       "          (linear1): Linear(in_features=256, out_features=1024, bias=True)\n",
       "          (dropout): Dropout(p=0.0, inplace=False)\n",
       "          (linear2): Linear(in_features=1024, out_features=256, bias=True)\n",
       "          (norm1): LayerNorm((256,), eps=1e-05, elementwise_affine=True)\n",
       "          (norm2): LayerNorm((256,), eps=1e-05, elementwise_affine=True)\n",
       "          (norm3): LayerNorm((256,), eps=1e-05, elementwise_affine=True)\n",
       "          (dropout1): Dropout(p=0.0, inplace=False)\n",
       "          (dropout2): Dropout(p=0.0, inplace=False)\n",
       "          (dropout3): Dropout(p=0.0, inplace=False)\n",
       "        )\n",
       "      )\n",
       "      (norm): LayerNorm((256,), eps=1e-05, elementwise_affine=True)\n",
       "    )\n",
       "    (self_encoder): TransformerDecoder(\n",
       "      (layers): ModuleList(\n",
       "        (0-2): 3 x TransformerDecoderLayer(\n",
       "          (self_attn): MultiheadAttention(\n",
       "            (out_proj): NonDynamicallyQuantizableLinear(in_features=256, out_features=256, bias=True)\n",
       "          )\n",
       "          (multihead_attn): MultiheadAttention(\n",
       "            (out_proj): NonDynamicallyQuantizableLinear(in_features=256, out_features=256, bias=True)\n",
       "          )\n",
       "          (linear1): Linear(in_features=256, out_features=1024, bias=True)\n",
       "          (dropout): Dropout(p=0.0, inplace=False)\n",
       "          (linear2): Linear(in_features=1024, out_features=256, bias=True)\n",
       "          (norm1): LayerNorm((256,), eps=1e-05, elementwise_affine=True)\n",
       "          (norm2): LayerNorm((256,), eps=1e-05, elementwise_affine=True)\n",
       "          (norm3): LayerNorm((256,), eps=1e-05, elementwise_affine=True)\n",
       "          (dropout1): Dropout(p=0.0, inplace=False)\n",
       "          (dropout2): Dropout(p=0.0, inplace=False)\n",
       "          (dropout3): Dropout(p=0.0, inplace=False)\n",
       "        )\n",
       "      )\n",
       "      (norm): LayerNorm((256,), eps=1e-05, elementwise_affine=True)\n",
       "    )\n",
       "  )\n",
       "  (head): Linear(in_features=256, out_features=16, bias=True)\n",
       ")"
      ]
     },
     "execution_count": 5,
     "metadata": {},
     "output_type": "execute_result"
    }
   ],
   "source": [
    "model_TGTSF = model_init(config.model, config.model_config, config).to(config.device)\n",
    "# load the model\n",
    "model_TGTSF.load_state_dict(torch.load(os.path.join(ckpt_path, 'checkpoint.pth')))\n",
    "model_TGTSF.eval()"
   ]
  },
  {
   "cell_type": "code",
   "execution_count": 6,
   "metadata": {},
   "outputs": [
    {
     "name": "stdout",
     "output_type": "stream",
     "text": [
      "[ info ] Successfully load the dynamic data embedding from fast_general_formal_embeddings_????.pkl\n"
     ]
    },
    {
     "name": "stderr",
     "output_type": "stream",
     "text": [
      "Loading test datasets: 100%|██████████| 9/9 [00:04<00:00,  1.86it/s]"
     ]
    },
    {
     "name": "stdout",
     "output_type": "stream",
     "text": [
      "dict_keys(['314106', '319086', '164440', '355827', '331901', '332785', '577650', '551172', '570079'])\n"
     ]
    },
    {
     "name": "stderr",
     "output_type": "stream",
     "text": [
      "\n"
     ]
    }
   ],
   "source": [
    "id_data = Data_Provider(config)\n",
    "fullsets = id_data.get_test('set')\n",
    "print(fullsets.keys())"
   ]
  },
  {
   "cell_type": "code",
   "execution_count": 7,
   "metadata": {},
   "outputs": [
    {
     "data": {
      "text/plain": [
       "<matplotlib.legend.Legend at 0x7f41ee2a80d0>"
      ]
     },
     "execution_count": 7,
     "metadata": {},
     "output_type": "execute_result"
    },
    {
     "data": {
      "image/png": "[encoded data removed]",
      "text/plain": [
       "<Figure size 640x480 with 1 Axes>"
      ]
     },
     "metadata": {},
     "output_type": "display_data"
    }
   ],
   "source": [
    "sample_num = 1500\n",
    "batch_x, batch_y, timestamp_x, timestamp_y, batch_x_hetero, batch_y_hetero, hetero_x_time, hetero_y_time, hetero_general, hetero_channel = fullsets['314106'][sample_num]\n",
    "\n",
    "batch_x = torch.tensor(batch_x).unsqueeze(0).float().to(config.device)\n",
    "batch_y = torch.tensor(batch_y).unsqueeze(0).float().to(config.device)\n",
    "batch_y_hetero = torch.tensor(batch_y_hetero).unsqueeze(0).float().to(config.device)\n",
    "hetero_channel = torch.tensor(hetero_channel).unsqueeze(0).float().to(config.device)\n",
    "\n",
    "output_TST = model_TST(x=batch_x)\n",
    "output_TST = output_TST[:, -config.output_len:, :]\n",
    "\n",
    "output_TGTSF = model_TGTSF(x=batch_x, historical_events =batch_x_hetero, news = batch_y_hetero, dataset_description=hetero_general, channel_description=hetero_channel)\n",
    "output_TGTSF = output_TGTSF[:, -config.output_len:, :]\n",
    "\n",
    "\n",
    "\n",
    "indate = [str(i) for i in timestamp_x]\n",
    "outdate = [str(i) for i in timestamp_y]\n",
    "# convert the yyyymmddHHMMSS to datetime\n",
    "indate = pd.to_datetime(indate, format='%Y%m%d%H%M%S')\n",
    "outdate = pd.to_datetime(outdate, format='%Y%m%d%H%M%S')\n",
    "# reformat the indate as datetime\n",
    "# plot the result\n",
    "# enable inline plotting\n",
    "%matplotlib inline\n",
    "plt.plot(indate, batch_x.cpu().detach().numpy().squeeze(), label='input')\n",
    "plt.plot(outdate, batch_y.cpu().detach().numpy().squeeze(), label='target')\n",
    "plt.plot(outdate, output_TST.cpu().detach().numpy().squeeze(), label='PatchTST')\n",
    "plt.plot(outdate, output_TGTSF.cpu().detach().numpy().squeeze(), label='TGTSF')\n",
    "plt.legend()"
   ]
  },
  {
   "cell_type": "code",
   "execution_count": 51,
   "metadata": {},
   "outputs": [],
   "source": [
    "selectset = '314106'\n",
    "losslist = {}\n",
    "for sample_num in range(0, len(fullsets[selectset]), 24):\n",
    "    batch_x, batch_y, timestamp_x, timestamp_y, batch_x_hetero, batch_y_hetero, hetero_x_time, hetero_y_time, hetero_general, hetero_channel = fullsets['314106'][sample_num]\n",
    "\n",
    "    batch_x = torch.tensor(batch_x).unsqueeze(0).float().to(config.device)\n",
    "    batch_y = torch.tensor(batch_y).unsqueeze(0).float().to(config.device)\n",
    "    batch_y_hetero = torch.tensor(batch_y_hetero).unsqueeze(0).float().to(config.device)\n",
    "    hetero_channel = torch.tensor(hetero_channel).unsqueeze(0).float().to(config.device)\n",
    "\n",
    "    output_TST = model_TST(x=batch_x)\n",
    "    output_TST = output_TST[:, -config.output_len:, :]\n",
    "\n",
    "    output_TGTSF = model_TGTSF(x=batch_x, historical_events =batch_x_hetero, news = batch_y_hetero, dataset_description=hetero_general, channel_description=hetero_channel)\n",
    "    output_TGTSF = output_TGTSF[:, -config.output_len:, :]\n",
    "\n",
    "    # calculate the loss\n",
    "    loss_TST = torch.nn.MSELoss()(output_TST, batch_y)\n",
    "    loss_TGTSF = torch.nn.MSELoss()(output_TGTSF, batch_y)\n",
    "    loss_mutual = torch.nn.MSELoss()(output_TST, output_TGTSF)\n",
    "    losslist[sample_num] = {\n",
    "        'loss_TST': loss_TST.item(),\n",
    "        'loss_TGTSF': loss_TGTSF.item(),\n",
    "        'loss_mutual': loss_mutual.item(),\n",
    "    }\n"
   ]
  },
  {
   "cell_type": "code",
   "execution_count": 52,
   "metadata": {},
   "outputs": [
    {
     "data": {
      "application/vnd.microsoft.datawrangler.viewer.v0+json": {
       "columns": [
        {
         "name": "index",
         "rawType": "int64",
         "type": "integer"
        },
        {
         "name": "loss_TST",
         "rawType": "float64",
         "type": "float"
        },
        {
         "name": "loss_TGTSF",
         "rawType": "float64",
         "type": "float"
        },
        {
         "name": "loss_mutual",
         "rawType": "float64",
         "type": "float"
        }
       ],
       "conversionMethod": "pd.DataFrame",
       "ref": "59076a2c-0f94-4211-99f2-734ea433db7c",
       "rows": [
        [
         "0",
         "4.388247361930553e-06",
         "0.0024976397398859262",
         "0.0023303208872675896"
        ],
        [
         "24",
         "4.388247361930553e-06",
         "0.0029063429683446884",
         "0.002728490624576807"
        ],
        [
         "48",
         "4.388247361930553e-06",
         "0.002579759806394577",
         "0.0024143895134329796"
        ],
        [
         "72",
         "4.388247361930553e-06",
         "0.0024786661379039288",
         "0.002315944992005825"
        ],
        [
         "96",
         "4.388247361930553e-06",
         "0.002634057542309165",
         "0.0024677354376763105"
        ],
        [
         "120",
         "4.388247361930553e-06",
         "0.0025782110169529915",
         "0.002411662368103862"
        ],
        [
         "144",
         "4.388247361930553e-06",
         "0.002533834660425782",
         "0.0023632769007235765"
        ],
        [
         "168",
         "4.388247361930553e-06",
         "0.0023742152843624353",
         "0.0022126291878521442"
        ],
        [
         "192",
         "4.388247361930553e-06",
         "0.0030850775074213743",
         "0.002900363877415657"
        ],
        [
         "216",
         "4.388247361930553e-06",
         "0.0024144300259649754",
         "0.0022505391389131546"
        ],
        [
         "240",
         "4.388247361930553e-06",
         "0.0017085708677768707",
         "0.001576724462211132"
        ],
        [
         "264",
         "4.388247361930553e-06",
         "0.0024794063065201044",
         "0.0023117451928555965"
        ],
        [
         "288",
         "4.388247361930553e-06",
         "0.0023431028239428997",
         "0.0021828466560691595"
        ],
        [
         "312",
         "4.388247361930553e-06",
         "0.002080476377159357",
         "0.0019270002376288176"
        ],
        [
         "336",
         "4.388247361930553e-06",
         "0.002761279698461294",
         "0.0025863340124487877"
        ],
        [
         "360",
         "4.388247361930553e-06",
         "0.002456469926983118",
         "0.0022994244936853647"
        ],
        [
         "384",
         "4.388247361930553e-06",
         "0.0017362325452268124",
         "0.0015979785239323974"
        ],
        [
         "408",
         "4.388247361930553e-06",
         "0.0022713220678269863",
         "0.0021137376315891743"
        ],
        [
         "432",
         "0.09277233481407166",
         "0.07238654792308807",
         "0.003412945196032524"
        ],
        [
         "456",
         "0.11205267161130905",
         "0.03518687188625336",
         "0.12379368394613266"
        ],
        [
         "480",
         "0.008021366782486439",
         "0.008831451646983624",
         "0.013297250494360924"
        ],
        [
         "504",
         "0.04843008518218994",
         "0.038301531225442886",
         "0.07321663200855255"
        ],
        [
         "528",
         "0.019211895763874054",
         "0.023985199630260468",
         "0.011007910594344139"
        ],
        [
         "552",
         "0.01848708465695381",
         "0.07668931782245636",
         "0.03909705579280853"
        ],
        [
         "576",
         "0.08393403142690659",
         "0.002245919778943062",
         "0.07249926030635834"
        ],
        [
         "600",
         "0.01796051487326622",
         "0.05588550493121147",
         "0.01374684926122427"
        ],
        [
         "624",
         "0.048676781356334686",
         "0.02117472141981125",
         "0.013590218499302864"
        ],
        [
         "648",
         "0.07140100747346878",
         "0.09342554211616516",
         "0.006586603820323944"
        ],
        [
         "672",
         "0.004376953933387995",
         "0.011801443062722683",
         "0.010824727825820446"
        ],
        [
         "696",
         "0.3529159426689148",
         "0.18477605283260345",
         "0.031854502856731415"
        ],
        [
         "720",
         "0.31748339533805847",
         "0.11867612600326538",
         "0.07343491911888123"
        ],
        [
         "744",
         "0.07448315620422363",
         "0.2946814298629761",
         "0.09738444536924362"
        ],
        [
         "768",
         "0.2786852717399597",
         "0.06011764705181122",
         "0.4286384582519531"
        ],
        [
         "792",
         "0.0188710056245327",
         "0.028627820312976837",
         "0.010873286053538322"
        ],
        [
         "816",
         "0.26084086298942566",
         "0.02132577821612358",
         "0.2925960421562195"
        ],
        [
         "840",
         "0.1330242156982422",
         "0.10121666640043259",
         "0.1826407015323639"
        ],
        [
         "864",
         "0.1904219090938568",
         "0.06681793928146362",
         "0.23489737510681152"
        ],
        [
         "888",
         "0.21084079146385193",
         "0.00916262250393629",
         "0.18756696581840515"
        ],
        [
         "912",
         "0.08766140043735504",
         "0.039186399430036545",
         "0.13871002197265625"
        ],
        [
         "936",
         "0.20292067527770996",
         "1.0142807960510254",
         "0.333405077457428"
        ],
        [
         "960",
         "0.27658742666244507",
         "0.43718501925468445",
         "0.03527431935071945"
        ],
        [
         "984",
         "0.11092039197683334",
         "0.08322615921497345",
         "0.3185202181339264"
        ],
        [
         "1008",
         "0.030372198671102524",
         "0.020001262426376343",
         "0.015125791542232037"
        ],
        [
         "1032",
         "0.20035764575004578",
         "0.006091202609241009",
         "0.1457950919866562"
        ],
        [
         "1056",
         "0.06621649116277695",
         "0.0012004736345261335",
         "0.06123381853103638"
        ],
        [
         "1080",
         "0.040584713220596313",
         "0.002463100478053093",
         "0.03468091040849686"
        ],
        [
         "1104",
         "0.017558695748448372",
         "0.002464442513883114",
         "0.01194705255329609"
        ],
        [
         "1128",
         "0.01109229028224945",
         "0.0018807752057909966",
         "0.007661603391170502"
        ],
        [
         "1152",
         "0.0026735160499811172",
         "0.0052140261977910995",
         "0.0010126493871212006"
        ],
        [
         "1176",
         "0.05835723131895065",
         "0.033485062420368195",
         "0.006117620505392551"
        ]
       ],
       "shape": {
        "columns": 3,
        "rows": 1147
       }
      },
      "text/html": [
       "<div>\n",
       "<style scoped>\n",
       "    .dataframe tbody tr th:only-of-type {\n",
       "        vertical-align: middle;\n",
       "    }\n",
       "\n",
       "    .dataframe tbody tr th {\n",
       "        vertical-align: top;\n",
       "    }\n",
       "\n",
       "    .dataframe thead th {\n",
       "        text-align: right;\n",
       "    }\n",
       "</style>\n",
       "<table border=\"1\" class=\"dataframe\">\n",
       "  <thead>\n",
       "    <tr style=\"text-align: right;\">\n",
       "      <th></th>\n",
       "      <th>loss_TST</th>\n",
       "      <th>loss_TGTSF</th>\n",
       "      <th>loss_mutual</th>\n",
       "    </tr>\n",
       "  </thead>\n",
       "  <tbody>\n",
       "    <tr>\n",
       "      <th>0</th>\n",
       "      <td>0.000004</td>\n",
       "      <td>0.002498</td>\n",
       "      <td>0.002330</td>\n",
       "    </tr>\n",
       "    <tr>\n",
       "      <th>24</th>\n",
       "      <td>0.000004</td>\n",
       "      <td>0.002906</td>\n",
       "      <td>0.002728</td>\n",
       "    </tr>\n",
       "    <tr>\n",
       "      <th>48</th>\n",
       "      <td>0.000004</td>\n",
       "      <td>0.002580</td>\n",
       "      <td>0.002414</td>\n",
       "    </tr>\n",
       "    <tr>\n",
       "      <th>72</th>\n",
       "      <td>0.000004</td>\n",
       "      <td>0.002479</td>\n",
       "      <td>0.002316</td>\n",
       "    </tr>\n",
       "    <tr>\n",
       "      <th>96</th>\n",
       "      <td>0.000004</td>\n",
       "      <td>0.002634</td>\n",
       "      <td>0.002468</td>\n",
       "    </tr>\n",
       "    <tr>\n",
       "      <th>...</th>\n",
       "      <td>...</td>\n",
       "      <td>...</td>\n",
       "      <td>...</td>\n",
       "    </tr>\n",
       "    <tr>\n",
       "      <th>27408</th>\n",
       "      <td>0.392889</td>\n",
       "      <td>0.133649</td>\n",
       "      <td>0.135464</td>\n",
       "    </tr>\n",
       "    <tr>\n",
       "      <th>27432</th>\n",
       "      <td>0.191818</td>\n",
       "      <td>0.035795</td>\n",
       "      <td>0.106640</td>\n",
       "    </tr>\n",
       "    <tr>\n",
       "      <th>27456</th>\n",
       "      <td>0.096853</td>\n",
       "      <td>0.023567</td>\n",
       "      <td>0.087837</td>\n",
       "    </tr>\n",
       "    <tr>\n",
       "      <th>27480</th>\n",
       "      <td>0.073532</td>\n",
       "      <td>0.035434</td>\n",
       "      <td>0.043072</td>\n",
       "    </tr>\n",
       "    <tr>\n",
       "      <th>27504</th>\n",
       "      <td>0.076926</td>\n",
       "      <td>0.051619</td>\n",
       "      <td>0.142044</td>\n",
       "    </tr>\n",
       "  </tbody>\n",
       "</table>\n",
       "<p>1147 rows × 3 columns</p>\n",
       "</div>"
      ],
      "text/plain": [
       "       loss_TST  loss_TGTSF  loss_mutual\n",
       "0      0.000004    0.002498     0.002330\n",
       "24     0.000004    0.002906     0.002728\n",
       "48     0.000004    0.002580     0.002414\n",
       "72     0.000004    0.002479     0.002316\n",
       "96     0.000004    0.002634     0.002468\n",
       "...         ...         ...          ...\n",
       "27408  0.392889    0.133649     0.135464\n",
       "27432  0.191818    0.035795     0.106640\n",
       "27456  0.096853    0.023567     0.087837\n",
       "27480  0.073532    0.035434     0.043072\n",
       "27504  0.076926    0.051619     0.142044\n",
       "\n",
       "[1147 rows x 3 columns]"
      ]
     },
     "execution_count": 52,
     "metadata": {},
     "output_type": "execute_result"
    }
   ],
   "source": [
    "# convert to pandas df\n",
    "lossdf = pd.DataFrame(losslist).T\n",
    "lossdf"
   ]
  },
  {
   "cell_type": "code",
   "execution_count": 53,
   "metadata": {},
   "outputs": [
    {
     "data": {
      "application/vnd.microsoft.datawrangler.viewer.v0+json": {
       "columns": [
        {
         "name": "index",
         "rawType": "int64",
         "type": "integer"
        },
        {
         "name": "loss_TST",
         "rawType": "float64",
         "type": "float"
        },
        {
         "name": "loss_TGTSF",
         "rawType": "float64",
         "type": "float"
        },
        {
         "name": "loss_mutual",
         "rawType": "float64",
         "type": "float"
        }
       ],
       "conversionMethod": "pd.DataFrame",
       "ref": "3c1ff2fd-da60-4a76-ac27-f3b08f2b3268",
       "rows": [
        [
         "2256",
         "1.6786350011825562",
         "0.003029022365808487",
         "1.6089915037155151"
        ],
        [
         "3144",
         "0.7001482844352722",
         "0.19935360550880432",
         "1.4069902896881104"
        ],
        [
         "11232",
         "0.9300150871276855",
         "0.027263900265097618",
         "1.2067806720733643"
        ],
        [
         "12216",
         "1.4921038150787354",
         "0.04654155299067497",
         "1.1043496131896973"
        ],
        [
         "10632",
         "1.072038173675537",
         "0.0478699654340744",
         "1.0027260780334473"
        ],
        [
         "11208",
         "0.6883842349052429",
         "0.31102561950683594",
         "0.9683438539505005"
        ],
        [
         "4584",
         "1.1340482234954834",
         "0.1663963943719864",
         "0.9397889971733093"
        ],
        [
         "11832",
         "0.5704970955848694",
         "0.11805681884288788",
         "0.9064428210258484"
        ],
        [
         "2496",
         "1.4870285987854004",
         "0.08566790819168091",
         "0.8922685980796814"
        ],
        [
         "21072",
         "0.9557704925537109",
         "0.14348238706588745",
         "0.8802525401115417"
        ],
        [
         "2424",
         "1.7595446109771729",
         "0.1545286476612091",
         "0.8796607851982117"
        ],
        [
         "5448",
         "1.0350453853607178",
         "0.015838351100683212",
         "0.8466194868087769"
        ],
        [
         "21168",
         "0.31442785263061523",
         "0.30425921082496643",
         "0.8362897634506226"
        ],
        [
         "19608",
         "1.2279958724975586",
         "0.049964539706707",
         "0.7977184057235718"
        ],
        [
         "12528",
         "0.7104955911636353",
         "0.07002978026866913",
         "0.7871389389038086"
        ],
        [
         "14400",
         "0.9292736053466797",
         "0.020151032134890556",
         "0.7672252655029297"
        ],
        [
         "21600",
         "0.39570313692092896",
         "0.5184425115585327",
         "0.7623857855796814"
        ],
        [
         "13176",
         "0.34094271063804626",
         "0.3345702588558197",
         "0.7499706745147705"
        ],
        [
         "19896",
         "1.017704725265503",
         "0.026617806404829025",
         "0.7420567274093628"
        ],
        [
         "12624",
         "0.7658998966217041",
         "0.14253060519695282",
         "0.741990327835083"
        ],
        [
         "1296",
         "0.739329993724823",
         "0.0014344747178256512",
         "0.7073025703430176"
        ],
        [
         "2280",
         "0.7047744989395142",
         "0.007875815033912659",
         "0.7057946920394897"
        ],
        [
         "4272",
         "0.6874208450317383",
         "0.15211863815784454",
         "0.6705887317657471"
        ],
        [
         "14496",
         "0.8413299322128296",
         "0.023829732090234756",
         "0.64522784948349"
        ],
        [
         "11592",
         "1.0484073162078857",
         "0.10920139402151108",
         "0.6428356170654297"
        ],
        [
         "15384",
         "0.5113114714622498",
         "0.009182706475257874",
         "0.6075081825256348"
        ],
        [
         "22344",
         "0.32595768570899963",
         "0.14949536323547363",
         "0.5863182544708252"
        ],
        [
         "13584",
         "0.6233268976211548",
         "0.029897412285208702",
         "0.5857350826263428"
        ],
        [
         "18648",
         "0.3035261631011963",
         "0.109859399497509",
         "0.5733239650726318"
        ],
        [
         "6096",
         "0.5269075632095337",
         "0.01888788491487503",
         "0.5705130100250244"
        ],
        [
         "20256",
         "0.5954194068908691",
         "0.03524522855877876",
         "0.5693948864936829"
        ],
        [
         "20640",
         "0.6291387677192688",
         "0.06950366497039795",
         "0.5568537712097168"
        ],
        [
         "15216",
         "0.6904659271240234",
         "0.11157585680484772",
         "0.5477285385131836"
        ],
        [
         "3096",
         "0.8300875425338745",
         "0.1865900754928589",
         "0.5356159806251526"
        ],
        [
         "20232",
         "1.0820081233978271",
         "0.11885788291692734",
         "0.5350755453109741"
        ],
        [
         "22824",
         "0.6591531038284302",
         "0.029441658407449722",
         "0.5271260738372803"
        ],
        [
         "5976",
         "0.22545002400875092",
         "0.1271468997001648",
         "0.5247868299484253"
        ],
        [
         "19248",
         "0.3728364408016205",
         "0.030896294862031937",
         "0.5245041251182556"
        ],
        [
         "14232",
         "0.27335160970687866",
         "0.17589980363845825",
         "0.5147401094436646"
        ],
        [
         "23112",
         "0.904772937297821",
         "0.06451650708913803",
         "0.5124616026878357"
        ],
        [
         "14160",
         "0.9668941497802734",
         "0.10134818404912949",
         "0.5074511766433716"
        ],
        [
         "20712",
         "0.21012189984321594",
         "0.11627789586782455",
         "0.5049872994422913"
        ],
        [
         "12672",
         "0.4509105086326599",
         "0.01697569340467453",
         "0.5009112358093262"
        ],
        [
         "13608",
         "0.40302568674087524",
         "0.09466132521629333",
         "0.49762338399887085"
        ],
        [
         "18576",
         "0.3725256323814392",
         "0.041732825338840485",
         "0.4841688871383667"
        ],
        [
         "18696",
         "0.09880276769399643",
         "0.22242991626262665",
         "0.4649237394332886"
        ],
        [
         "12408",
         "0.09372960031032562",
         "0.4617217779159546",
         "0.4625037610530853"
        ],
        [
         "1920",
         "0.7730242609977722",
         "0.13698947429656982",
         "0.45376667380332947"
        ],
        [
         "11616",
         "0.44163012504577637",
         "0.04860975965857506",
         "0.4519331157207489"
        ],
        [
         "11688",
         "0.623532772064209",
         "0.3143172860145569",
         "0.4385260045528412"
        ]
       ],
       "shape": {
        "columns": 3,
        "rows": 1147
       }
      },
      "text/html": [
       "<div>\n",
       "<style scoped>\n",
       "    .dataframe tbody tr th:only-of-type {\n",
       "        vertical-align: middle;\n",
       "    }\n",
       "\n",
       "    .dataframe tbody tr th {\n",
       "        vertical-align: top;\n",
       "    }\n",
       "\n",
       "    .dataframe thead th {\n",
       "        text-align: right;\n",
       "    }\n",
       "</style>\n",
       "<table border=\"1\" class=\"dataframe\">\n",
       "  <thead>\n",
       "    <tr style=\"text-align: right;\">\n",
       "      <th></th>\n",
       "      <th>loss_TST</th>\n",
       "      <th>loss_TGTSF</th>\n",
       "      <th>loss_mutual</th>\n",
       "    </tr>\n",
       "  </thead>\n",
       "  <tbody>\n",
       "    <tr>\n",
       "      <th>2256</th>\n",
       "      <td>1.678635</td>\n",
       "      <td>0.003029</td>\n",
       "      <td>1.608992</td>\n",
       "    </tr>\n",
       "    <tr>\n",
       "      <th>3144</th>\n",
       "      <td>0.700148</td>\n",
       "      <td>0.199354</td>\n",
       "      <td>1.406990</td>\n",
       "    </tr>\n",
       "    <tr>\n",
       "      <th>11232</th>\n",
       "      <td>0.930015</td>\n",
       "      <td>0.027264</td>\n",
       "      <td>1.206781</td>\n",
       "    </tr>\n",
       "    <tr>\n",
       "      <th>12216</th>\n",
       "      <td>1.492104</td>\n",
       "      <td>0.046542</td>\n",
       "      <td>1.104350</td>\n",
       "    </tr>\n",
       "    <tr>\n",
       "      <th>10632</th>\n",
       "      <td>1.072038</td>\n",
       "      <td>0.047870</td>\n",
       "      <td>1.002726</td>\n",
       "    </tr>\n",
       "    <tr>\n",
       "      <th>...</th>\n",
       "      <td>...</td>\n",
       "      <td>...</td>\n",
       "      <td>...</td>\n",
       "    </tr>\n",
       "    <tr>\n",
       "      <th>25536</th>\n",
       "      <td>0.040417</td>\n",
       "      <td>0.040122</td>\n",
       "      <td>0.001297</td>\n",
       "    </tr>\n",
       "    <tr>\n",
       "      <th>9336</th>\n",
       "      <td>0.002990</td>\n",
       "      <td>0.002796</td>\n",
       "      <td>0.001249</td>\n",
       "    </tr>\n",
       "    <tr>\n",
       "      <th>7344</th>\n",
       "      <td>0.003563</td>\n",
       "      <td>0.004727</td>\n",
       "      <td>0.001034</td>\n",
       "    </tr>\n",
       "    <tr>\n",
       "      <th>1152</th>\n",
       "      <td>0.002674</td>\n",
       "      <td>0.005214</td>\n",
       "      <td>0.001013</td>\n",
       "    </tr>\n",
       "    <tr>\n",
       "      <th>25224</th>\n",
       "      <td>0.001127</td>\n",
       "      <td>0.001477</td>\n",
       "      <td>0.000778</td>\n",
       "    </tr>\n",
       "  </tbody>\n",
       "</table>\n",
       "<p>1147 rows × 3 columns</p>\n",
       "</div>"
      ],
      "text/plain": [
       "       loss_TST  loss_TGTSF  loss_mutual\n",
       "2256   1.678635    0.003029     1.608992\n",
       "3144   0.700148    0.199354     1.406990\n",
       "11232  0.930015    0.027264     1.206781\n",
       "12216  1.492104    0.046542     1.104350\n",
       "10632  1.072038    0.047870     1.002726\n",
       "...         ...         ...          ...\n",
       "25536  0.040417    0.040122     0.001297\n",
       "9336   0.002990    0.002796     0.001249\n",
       "7344   0.003563    0.004727     0.001034\n",
       "1152   0.002674    0.005214     0.001013\n",
       "25224  0.001127    0.001477     0.000778\n",
       "\n",
       "[1147 rows x 3 columns]"
      ]
     },
     "execution_count": 53,
     "metadata": {},
     "output_type": "execute_result"
    }
   ],
   "source": [
    "# sort the df by loss_TST\n",
    "lossdf = lossdf.sort_values(by='loss_mutual', ascending=False)\n",
    "lossdf"
   ]
  },
  {
   "cell_type": "code",
   "execution_count": 64,
   "metadata": {},
   "outputs": [
    {
     "data": {
      "text/plain": [
       "<matplotlib.legend.Legend at 0x7fb28423ec10>"
      ]
     },
     "execution_count": 64,
     "metadata": {},
     "output_type": "execute_result"
    },
    {
     "data": {
      "image/png": "[encoded data removed]",
      "text/plain": [
       "<Figure size 640x480 with 1 Axes>"
      ]
     },
     "metadata": {},
     "output_type": "display_data"
    }
   ],
   "source": [
    "sample_num = 4272#2256#20136\n",
    "batch_x, batch_y, timestamp_x, timestamp_y, batch_x_hetero, batch_y_hetero, hetero_x_time, hetero_y_time, hetero_general, hetero_channel = fullsets['314106'][sample_num]\n",
    "\n",
    "batch_x = torch.tensor(batch_x).unsqueeze(0).float().to(config.device)\n",
    "batch_y = torch.tensor(batch_y).unsqueeze(0).float().to(config.device)\n",
    "batch_y_hetero = torch.tensor(batch_y_hetero).unsqueeze(0).float().to(config.device)\n",
    "hetero_channel = torch.tensor(hetero_channel).unsqueeze(0).float().to(config.device)\n",
    "\n",
    "output_TST = model_TST(x=batch_x)\n",
    "output_TST = output_TST[:, -config.output_len:, :]\n",
    "\n",
    "output_TGTSF = model_TGTSF(x=batch_x, historical_events =batch_x_hetero, news = batch_y_hetero, dataset_description=hetero_general, channel_description=hetero_channel)\n",
    "output_TGTSF = output_TGTSF[:, -config.output_len:, :]\n",
    "\n",
    "\n",
    "\n",
    "indate = [str(i) for i in timestamp_x]\n",
    "outdate = [str(i) for i in timestamp_y]\n",
    "# convert the yyyymmddHHMMSS to datetime\n",
    "indate = pd.to_datetime(indate, format='%Y%m%d%H%M%S')\n",
    "outdate = pd.to_datetime(outdate, format='%Y%m%d%H%M%S')\n",
    "# reformat the indate as datetime\n",
    "# plot the result\n",
    "# enable inline plotting\n",
    "%matplotlib inline\n",
    "plt.plot(indate, batch_x.cpu().detach().numpy().squeeze(), label='input')\n",
    "plt.plot(outdate, batch_y.cpu().detach().numpy().squeeze(), label='target')\n",
    "plt.plot(outdate, output_TST.cpu().detach().numpy().squeeze(), label='PatchTST')\n",
    "plt.plot(outdate, output_TGTSF.cpu().detach().numpy().squeeze(), label='TGTSF')\n",
    "plt.legend()"
   ]
  }
 ],
 "metadata": {
  "kernelspec": {
   "display_name": "uni2ts",
   "language": "python",
   "name": "python3"
  },
  "language_info": {
   "codemirror_mode": {
    "name": "ipython",
    "version": 3
   },
   "file_extension": ".py",
   "mimetype": "text/x-python",
   "name": "python",
   "nbconvert_exporter": "python",
   "pygments_lexer": "ipython3",
   "version": "3.11.0"
  }
 },
 "nbformat": 4,
 "nbformat_minor": 2
}
