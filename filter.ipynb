{
 "cells": [
  {
   "cell_type": "code",
   "execution_count": 1,
   "metadata": {},
   "outputs": [],
   "source": [
    "import torch\n",
    "import pandas as pd\n",
    "import numpy as np\n",
    "import os\n",
    "from models import model_init\n",
    "from data_provider.data_factory import Data_Provider\n",
    "import matplotlib.pyplot as plt\n",
    "from utils.task import ahead_task_parser\n",
    "from utils.tools import dotdict\n",
    "import yaml, json"
   ]
  },
  {
   "cell_type": "code",
   "execution_count": 2,
   "metadata": {},
   "outputs": [],
   "source": [
    "model = 'PatchTST'\n",
    "data = 'solar'\n",
    "ahead = 'day'\n",
    "version = 'latest'\n",
    "ckpt_base = './checkpoints'\n",
    "\n",
    "ckpt_id = f'_{model}_{data}_{ahead}_ahead'\n",
    "\n",
    "if version == 'latest':\n",
    "    # find all the path that end with the ckpt_id\n",
    "    ckpt_paths = [os.path.join(ckpt_base, i) for i in os.listdir(ckpt_base) if i.endswith(ckpt_id)]\n",
    "    # the path is in format of yyyy-mm-dd{ckpt_id}, now find the latest one\n",
    "    ckpt_paths.sort()\n",
    "    ckpt_path = ckpt_paths[-1]\n",
    "else:\n",
    "    ckpt_path = version + ckpt_id\n",
    "\n",
    "config = dotdict(json.load(open(os.path.join(ckpt_path, 'args.json'))))\n",
    "config.model_config = dotdict(config.model_config)\n",
    "config.data_config = dotdict(config.data_config)\n",
    "\n",
    "config.device = torch.device(\"cuda\" if torch.cuda.is_available() else \"cpu\")\n",
    "config.batch_size = 1"
   ]
  },
  {
   "cell_type": "code",
   "execution_count": 3,
   "metadata": {},
   "outputs": [
    {
     "data": {
      "text/plain": [
       "Model(\n",
       "  (model): PatchTST_backbone(\n",
       "    (revin_layer): RevIN()\n",
       "    (padding_patch_layer): ReplicationPad1d((0, 8))\n",
       "    (backbone): TSTiEncoder(\n",
       "      (W_P): Linear(in_features=16, out_features=16, bias=True)\n",
       "      (dropout): Dropout(p=0.3, inplace=False)\n",
       "      (encoder): TSTEncoder(\n",
       "        (layers): ModuleList(\n",
       "          (0-2): 3 x TSTEncoderLayer(\n",
       "            (self_attn): _MultiheadAttention(\n",
       "              (W_Q): Linear(in_features=16, out_features=16, bias=True)\n",
       "              (W_K): Linear(in_features=16, out_features=16, bias=True)\n",
       "              (W_V): Linear(in_features=16, out_features=16, bias=True)\n",
       "              (sdp_attn): _ScaledDotProductAttention(\n",
       "                (attn_dropout): Dropout(p=0.0, inplace=False)\n",
       "              )\n",
       "              (to_out): Sequential(\n",
       "                (0): Linear(in_features=16, out_features=16, bias=True)\n",
       "                (1): Dropout(p=0.3, inplace=False)\n",
       "              )\n",
       "            )\n",
       "            (dropout_attn): Dropout(p=0.3, inplace=False)\n",
       "            (norm_attn): Sequential(\n",
       "              (0): Transpose()\n",
       "              (1): BatchNorm1d(16, eps=1e-05, momentum=0.1, affine=True, track_running_stats=True)\n",
       "              (2): Transpose()\n",
       "            )\n",
       "            (ff): Sequential(\n",
       "              (0): Linear(in_features=16, out_features=128, bias=True)\n",
       "              (1): GELU(approximate='none')\n",
       "              (2): Dropout(p=0.3, inplace=False)\n",
       "              (3): Linear(in_features=128, out_features=16, bias=True)\n",
       "            )\n",
       "            (dropout_ffn): Dropout(p=0.3, inplace=False)\n",
       "            (norm_ffn): Sequential(\n",
       "              (0): Transpose()\n",
       "              (1): BatchNorm1d(16, eps=1e-05, momentum=0.1, affine=True, track_running_stats=True)\n",
       "              (2): Transpose()\n",
       "            )\n",
       "          )\n",
       "        )\n",
       "      )\n",
       "    )\n",
       "    (head): Flatten_Head(\n",
       "      (flatten): Flatten(start_dim=-2, end_dim=-1)\n",
       "      (linear): Linear(in_features=336, out_features=24, bias=True)\n",
       "      (dropout): Dropout(p=0, inplace=False)\n",
       "    )\n",
       "  )\n",
       ")"
      ]
     },
     "execution_count": 3,
     "metadata": {},
     "output_type": "execute_result"
    }
   ],
   "source": [
    "model_TST = model_init(config.model, config.model_config, config).to(config.device)\n",
    "# load the model\n",
    "model_TST.load_state_dict(torch.load(os.path.join(ckpt_path, 'checkpoint.pth'))) \n",
    "model_TST.eval()"
   ]
  },
  {
   "cell_type": "code",
   "execution_count": 4,
   "metadata": {},
   "outputs": [
    {
     "name": "stdout",
     "output_type": "stream",
     "text": [
      "./checkpoints/04-17-0943_TGTSF_solar_day_ahead\n"
     ]
    }
   ],
   "source": [
    "model = 'TGTSF'\n",
    "data = 'solar'\n",
    "ahead = 'day'\n",
    "version = 'latest'#'04-16-0316'#'latest'\n",
    "ckpt_base = './checkpoints'\n",
    "\n",
    "ckpt_id = f'_{model}_{data}_{ahead}_ahead'\n",
    "\n",
    "if version == 'latest':\n",
    "    # find all the path that end with the ckpt_id\n",
    "    ckpt_paths = [os.path.join(ckpt_base, i) for i in os.listdir(ckpt_base) if i.endswith(ckpt_id)]\n",
    "    # the path is in format of yyyy-mm-dd{ckpt_id}, now find the latest one\n",
    "    ckpt_paths.sort()\n",
    "    ckpt_path = ckpt_paths[-1]\n",
    "else:\n",
    "    ckpt_path = version + ckpt_id\n",
    "    ckpt_path = os.path.join(ckpt_base, ckpt_path)\n",
    "\n",
    "config = dotdict(json.load(open(os.path.join(ckpt_path, 'args.json'))))\n",
    "config.model_config = dotdict(config.model_config)\n",
    "config.data_config = dotdict(config.data_config)\n",
    "\n",
    "config.device = torch.device(\"cuda\" if torch.cuda.is_available() else \"cpu\")\n",
    "config.batch_size = 1\n",
    "print(ckpt_path)"
   ]
  },
  {
   "cell_type": "code",
   "execution_count": 5,
   "metadata": {},
   "outputs": [
    {
     "data": {
      "text/plain": [
       "Model(\n",
       "  (TS_encoder): TS_encoder(\n",
       "    (attentions): TransformerEncoder(\n",
       "      (layers): ModuleList(\n",
       "        (0-2): 3 x TransformerEncoderLayer(\n",
       "          (self_attn): MultiheadAttention(\n",
       "            (out_proj): NonDynamicallyQuantizableLinear(in_features=256, out_features=256, bias=True)\n",
       "          )\n",
       "          (linear1): Linear(in_features=256, out_features=1024, bias=True)\n",
       "          (dropout): Dropout(p=0.3, inplace=False)\n",
       "          (linear2): Linear(in_features=1024, out_features=256, bias=True)\n",
       "          (norm1): LayerNorm((256,), eps=1e-05, elementwise_affine=True)\n",
       "          (norm2): LayerNorm((256,), eps=1e-05, elementwise_affine=True)\n",
       "          (dropout1): Dropout(p=0.3, inplace=False)\n",
       "          (dropout2): Dropout(p=0.3, inplace=False)\n",
       "        )\n",
       "      )\n",
       "      (norm): LayerNorm((256,), eps=1e-05, elementwise_affine=True)\n",
       "    )\n",
       "    (input_encoder): Linear(in_features=16, out_features=256, bias=True)\n",
       "    (dropout_layer): Dropout(p=0.3, inplace=False)\n",
       "  )\n",
       "  (text_encoder): text_encoder(\n",
       "    (cross_encoder): TransformerDecoder(\n",
       "      (layers): ModuleList(\n",
       "        (0-2): 3 x TransformerDecoderLayer(\n",
       "          (self_attn): MultiheadAttention(\n",
       "            (out_proj): NonDynamicallyQuantizableLinear(in_features=256, out_features=256, bias=True)\n",
       "          )\n",
       "          (multihead_attn): MultiheadAttention(\n",
       "            (out_proj): NonDynamicallyQuantizableLinear(in_features=256, out_features=256, bias=True)\n",
       "          )\n",
       "          (linear1): Linear(in_features=256, out_features=1024, bias=True)\n",
       "          (dropout): Dropout(p=0.3, inplace=False)\n",
       "          (linear2): Linear(in_features=1024, out_features=256, bias=True)\n",
       "          (norm1): LayerNorm((256,), eps=1e-05, elementwise_affine=True)\n",
       "          (norm2): LayerNorm((256,), eps=1e-05, elementwise_affine=True)\n",
       "          (norm3): LayerNorm((256,), eps=1e-05, elementwise_affine=True)\n",
       "          (dropout1): Dropout(p=0.3, inplace=False)\n",
       "          (dropout2): Dropout(p=0.3, inplace=False)\n",
       "          (dropout3): Dropout(p=0.3, inplace=False)\n",
       "        )\n",
       "      )\n",
       "      (norm): LayerNorm((256,), eps=1e-05, elementwise_affine=True)\n",
       "    )\n",
       "    (dropout_layer): Dropout(p=0.3, inplace=False)\n",
       "  )\n",
       "  (mixer): text_temp_cross_block(\n",
       "    (cross_encoder): TransformerDecoder(\n",
       "      (layers): ModuleList(\n",
       "        (0-2): 3 x TransformerDecoderLayer(\n",
       "          (self_attn): MultiheadAttention(\n",
       "            (out_proj): NonDynamicallyQuantizableLinear(in_features=256, out_features=256, bias=True)\n",
       "          )\n",
       "          (multihead_attn): MultiheadAttention(\n",
       "            (out_proj): NonDynamicallyQuantizableLinear(in_features=256, out_features=256, bias=True)\n",
       "          )\n",
       "          (linear1): Linear(in_features=256, out_features=1024, bias=True)\n",
       "          (dropout): Dropout(p=0.0, inplace=False)\n",
       "          (linear2): Linear(in_features=1024, out_features=256, bias=True)\n",
       "          (norm1): LayerNorm((256,), eps=1e-05, elementwise_affine=True)\n",
       "          (norm2): LayerNorm((256,), eps=1e-05, elementwise_affine=True)\n",
       "          (norm3): LayerNorm((256,), eps=1e-05, elementwise_affine=True)\n",
       "          (dropout1): Dropout(p=0.0, inplace=False)\n",
       "          (dropout2): Dropout(p=0.0, inplace=False)\n",
       "          (dropout3): Dropout(p=0.0, inplace=False)\n",
       "        )\n",
       "      )\n",
       "      (norm): LayerNorm((256,), eps=1e-05, elementwise_affine=True)\n",
       "    )\n",
       "    (self_encoder): TransformerDecoder(\n",
       "      (layers): ModuleList(\n",
       "        (0-2): 3 x TransformerDecoderLayer(\n",
       "          (self_attn): MultiheadAttention(\n",
       "            (out_proj): NonDynamicallyQuantizableLinear(in_features=256, out_features=256, bias=True)\n",
       "          )\n",
       "          (multihead_attn): MultiheadAttention(\n",
       "            (out_proj): NonDynamicallyQuantizableLinear(in_features=256, out_features=256, bias=True)\n",
       "          )\n",
       "          (linear1): Linear(in_features=256, out_features=1024, bias=True)\n",
       "          (dropout): Dropout(p=0.0, inplace=False)\n",
       "          (linear2): Linear(in_features=1024, out_features=256, bias=True)\n",
       "          (norm1): LayerNorm((256,), eps=1e-05, elementwise_affine=True)\n",
       "          (norm2): LayerNorm((256,), eps=1e-05, elementwise_affine=True)\n",
       "          (norm3): LayerNorm((256,), eps=1e-05, elementwise_affine=True)\n",
       "          (dropout1): Dropout(p=0.0, inplace=False)\n",
       "          (dropout2): Dropout(p=0.0, inplace=False)\n",
       "          (dropout3): Dropout(p=0.0, inplace=False)\n",
       "        )\n",
       "      )\n",
       "      (norm): LayerNorm((256,), eps=1e-05, elementwise_affine=True)\n",
       "    )\n",
       "  )\n",
       "  (head): Linear(in_features=256, out_features=16, bias=True)\n",
       ")"
      ]
     },
     "execution_count": 5,
     "metadata": {},
     "output_type": "execute_result"
    }
   ],
   "source": [
    "model_TGTSF = model_init(config.model, config.model_config, config).to(config.device)\n",
    "# load the model\n",
    "model_TGTSF.load_state_dict(torch.load(os.path.join(ckpt_path, 'checkpoint.pth')))\n",
    "model_TGTSF.eval()"
   ]
  },
  {
   "cell_type": "code",
   "execution_count": 6,
   "metadata": {},
   "outputs": [
    {
     "name": "stdout",
     "output_type": "stream",
     "text": [
      "[ info ] Successfully load the dynamic data embedding from fast_general_formal_embeddings_????.pkl\n"
     ]
    },
    {
     "name": "stderr",
     "output_type": "stream",
     "text": [
      "Loading test datasets: 100%|██████████| 9/9 [00:04<00:00,  1.85it/s]"
     ]
    },
    {
     "name": "stdout",
     "output_type": "stream",
     "text": [
      "dict_keys(['314106', '319086', '164440', '355827', '331901', '332785', '577650', '551172', '570079'])\n"
     ]
    },
    {
     "name": "stderr",
     "output_type": "stream",
     "text": [
      "\n"
     ]
    }
   ],
   "source": [
    "id_data = Data_Provider(config)\n",
    "fullsets = id_data.get_test('set')\n",
    "print(fullsets.keys())"
   ]
  },
  {
   "cell_type": "code",
   "execution_count": 7,
   "metadata": {},
   "outputs": [
    {
     "data": {
      "text/plain": [
       "<matplotlib.legend.Legend at 0x7fed17d45910>"
      ]
     },
     "execution_count": 7,
     "metadata": {},
     "output_type": "execute_result"
    },
    {
     "data": {
      "image/png": "[encoded data removed]",
      "text/plain": [
       "<Figure size 640x480 with 1 Axes>"
      ]
     },
     "metadata": {},
     "output_type": "display_data"
    }
   ],
   "source": [
    "sample_num = 1500\n",
    "batch_x, batch_y, timestamp_x, timestamp_y, batch_x_hetero, batch_y_hetero, hetero_x_time, hetero_y_time, hetero_general, hetero_channel = fullsets['314106'][sample_num]\n",
    "\n",
    "batch_x = torch.tensor(batch_x).unsqueeze(0).float().to(config.device)\n",
    "batch_y = torch.tensor(batch_y).unsqueeze(0).float().to(config.device)\n",
    "batch_y_hetero = torch.tensor(batch_y_hetero).unsqueeze(0).float().to(config.device)\n",
    "hetero_channel = torch.tensor(hetero_channel).unsqueeze(0).float().to(config.device)\n",
    "\n",
    "output_TST = model_TST(x=batch_x)\n",
    "output_TST = output_TST[:, -config.output_len:, :]\n",
    "\n",
    "output_TGTSF = model_TGTSF(x=batch_x, historical_events =batch_x_hetero, news = batch_y_hetero, dataset_description=hetero_general, channel_description=hetero_channel)\n",
    "output_TGTSF = output_TGTSF[:, -config.output_len:, :]\n",
    "\n",
    "\n",
    "\n",
    "indate = [str(i) for i in timestamp_x]\n",
    "outdate = [str(i) for i in timestamp_y]\n",
    "# convert the yyyymmddHHMMSS to datetime\n",
    "indate = pd.to_datetime(indate, format='%Y%m%d%H%M%S')\n",
    "outdate = pd.to_datetime(outdate, format='%Y%m%d%H%M%S')\n",
    "# reformat the indate as datetime\n",
    "# plot the result\n",
    "# enable inline plotting\n",
    "%matplotlib inline\n",
    "plt.plot(indate, batch_x.cpu().detach().numpy().squeeze(), label='input')\n",
    "plt.plot(outdate, batch_y.cpu().detach().numpy().squeeze(), label='target')\n",
    "plt.plot(outdate, output_TST.cpu().detach().numpy().squeeze(), label='PatchTST')\n",
    "plt.plot(outdate, output_TGTSF.cpu().detach().numpy().squeeze(), label='TGTSF')\n",
    "plt.legend()"
   ]
  },
  {
   "cell_type": "code",
   "execution_count": 8,
   "metadata": {},
   "outputs": [],
   "source": [
    "selectset = '314106'\n",
    "losslist = {}\n",
    "for sample_num in range(0, len(fullsets[selectset]), 24):\n",
    "    batch_x, batch_y, timestamp_x, timestamp_y, batch_x_hetero, batch_y_hetero, hetero_x_time, hetero_y_time, hetero_general, hetero_channel = fullsets['314106'][sample_num]\n",
    "\n",
    "    batch_x = torch.tensor(batch_x).unsqueeze(0).float().to(config.device)\n",
    "    batch_y = torch.tensor(batch_y).unsqueeze(0).float().to(config.device)\n",
    "    batch_y_hetero = torch.tensor(batch_y_hetero).unsqueeze(0).float().to(config.device)\n",
    "    hetero_channel = torch.tensor(hetero_channel).unsqueeze(0).float().to(config.device)\n",
    "\n",
    "    output_TST = model_TST(x=batch_x)\n",
    "    output_TST = output_TST[:, -config.output_len:, :]\n",
    "\n",
    "    output_TGTSF = model_TGTSF(x=batch_x, historical_events =batch_x_hetero, news = batch_y_hetero, dataset_description=hetero_general, channel_description=hetero_channel)\n",
    "    output_TGTSF = output_TGTSF[:, -config.output_len:, :]\n",
    "\n",
    "    # calculate the loss\n",
    "    loss_TST = torch.nn.MSELoss()(output_TST, batch_y)\n",
    "    loss_TGTSF = torch.nn.MSELoss()(output_TGTSF, batch_y)\n",
    "    loss_mutual = torch.nn.MSELoss()(output_TST, output_TGTSF)\n",
    "    losslist[sample_num] = {\n",
    "        'loss_TST': loss_TST.item(),\n",
    "        'loss_TGTSF': loss_TGTSF.item(),\n",
    "        'loss_mutual': loss_mutual.item(),\n",
    "    }\n"
   ]
  },
  {
   "cell_type": "code",
   "execution_count": 12,
   "metadata": {},
   "outputs": [
    {
     "data": {
      "text/plain": [
       "1146"
      ]
     },
     "execution_count": 12,
     "metadata": {},
     "output_type": "execute_result"
    }
   ],
   "source": [
    "len(fullsets[selectset])//24"
   ]
  },
  {
   "cell_type": "code",
   "execution_count": 9,
   "metadata": {},
   "outputs": [
    {
     "data": {
      "application/vnd.microsoft.datawrangler.viewer.v0+json": {
       "columns": [
        {
         "name": "index",
         "rawType": "int64",
         "type": "integer"
        },
        {
         "name": "loss_TST",
         "rawType": "float64",
         "type": "float"
        },
        {
         "name": "loss_TGTSF",
         "rawType": "float64",
         "type": "float"
        },
        {
         "name": "loss_mutual",
         "rawType": "float64",
         "type": "float"
        }
       ],
       "conversionMethod": "pd.DataFrame",
       "ref": "e0813aca-065e-4af8-9411-7fd6d7ea464b",
       "rows": [
        [
         "0",
         "7.047586336739187e-08",
         "1.2375134247122332e-05",
         "1.3091939763398841e-05"
        ],
        [
         "24",
         "7.047586336739187e-08",
         "9.407042853126768e-06",
         "9.923805009748321e-06"
        ],
        [
         "48",
         "7.047586336739187e-08",
         "5.696377229469363e-06",
         "5.993968443362974e-06"
        ],
        [
         "72",
         "7.047586336739187e-08",
         "1.4783287042519078e-05",
         "1.5571018593618646e-05"
        ],
        [
         "96",
         "7.047586336739187e-08",
         "5.903667442908045e-06",
         "6.173075234983116e-06"
        ],
        [
         "120",
         "7.047586336739187e-08",
         "3.786944944295101e-06",
         "3.824325631285319e-06"
        ],
        [
         "144",
         "7.047586336739187e-08",
         "2.3636562218598556e-06",
         "2.2717822503182106e-06"
        ],
        [
         "168",
         "7.047586336739187e-08",
         "5.133339072926901e-06",
         "5.343608336261241e-06"
        ],
        [
         "192",
         "7.047586336739187e-08",
         "1.1476760846562684e-05",
         "1.2013860214210581e-05"
        ],
        [
         "216",
         "7.047586336739187e-08",
         "1.0846026270883158e-05",
         "1.1371135769877583e-05"
        ],
        [
         "240",
         "7.047586336739187e-08",
         "2.1814776118844748e-06",
         "1.956893811438931e-06"
        ],
        [
         "264",
         "7.047586336739187e-08",
         "9.150866389973089e-06",
         "9.70842575043207e-06"
        ],
        [
         "288",
         "7.047586336739187e-08",
         "2.6477532628632616e-06",
         "2.579166675786837e-06"
        ],
        [
         "312",
         "7.047586336739187e-08",
         "5.5414402595488355e-06",
         "5.80308278586017e-06"
        ],
        [
         "336",
         "7.047586336739187e-08",
         "4.13684983868734e-06",
         "4.23597521148622e-06"
        ],
        [
         "360",
         "7.047586336739187e-08",
         "7.318752523133298e-06",
         "7.689849553571548e-06"
        ],
        [
         "384",
         "7.047586336739187e-08",
         "2.8069759991922183e-06",
         "2.7849282560055144e-06"
        ],
        [
         "408",
         "7.047586336739187e-08",
         "4.96731445309706e-06",
         "5.179387699172366e-06"
        ],
        [
         "432",
         "0.0932181179523468",
         "0.09155137836933136",
         "2.0903038603137247e-05"
        ],
        [
         "456",
         "0.14087054133415222",
         "0.09768271446228027",
         "0.008968888781964779"
        ],
        [
         "480",
         "0.027408763766288757",
         "0.009026233106851578",
         "0.01025124080479145"
        ],
        [
         "504",
         "0.07606907188892365",
         "0.04757513850927353",
         "0.01615338958799839"
        ],
        [
         "528",
         "0.032244354486465454",
         "0.03595514968037605",
         "0.004644596017897129"
        ],
        [
         "552",
         "0.03578396514058113",
         "0.11796598136425018",
         "0.036916136741638184"
        ],
        [
         "576",
         "0.060643117874860764",
         "0.0025115872267633677",
         "0.042495157569646835"
        ],
        [
         "600",
         "0.02061811275780201",
         "0.015105197206139565",
         "0.0045676338486373425"
        ],
        [
         "624",
         "0.056757669895887375",
         "0.13696406781673431",
         "0.02668844163417816"
        ],
        [
         "648",
         "0.054460398852825165",
         "0.044343914836645126",
         "0.00348610314540565"
        ],
        [
         "672",
         "0.007175499107688665",
         "0.017225582152605057",
         "0.03653169423341751"
        ],
        [
         "696",
         "0.35736748576164246",
         "0.23175041377544403",
         "0.02283029817044735"
        ],
        [
         "720",
         "0.3860796391963959",
         "0.25989800691604614",
         "0.022905826568603516"
        ],
        [
         "744",
         "0.051025599241256714",
         "0.07972653210163116",
         "0.012960441410541534"
        ],
        [
         "768",
         "0.2935790419578552",
         "0.10854565352201462",
         "0.072538360953331"
        ],
        [
         "792",
         "0.021172475069761276",
         "0.13884487748146057",
         "0.11938291043043137"
        ],
        [
         "816",
         "0.38212138414382935",
         "0.1045994758605957",
         "0.1181817501783371"
        ],
        [
         "840",
         "0.16421973705291748",
         "0.1089661568403244",
         "0.0446145161986351"
        ],
        [
         "864",
         "0.1984054446220398",
         "0.0955515056848526",
         "0.05970136448740959"
        ],
        [
         "888",
         "0.23543229699134827",
         "0.02702225372195244",
         "0.30408215522766113"
        ],
        [
         "912",
         "0.05770556628704071",
         "0.05095831677317619",
         "0.15256251394748688"
        ],
        [
         "936",
         "0.19073180854320526",
         "0.4142313599586487",
         "0.05174028128385544"
        ],
        [
         "960",
         "0.27806007862091064",
         "0.2098854035139084",
         "0.13093626499176025"
        ],
        [
         "984",
         "0.05776063725352287",
         "0.07032235711812973",
         "0.1762751042842865"
        ],
        [
         "1008",
         "0.025784678757190704",
         "0.03234271705150604",
         "0.04366373270750046"
        ],
        [
         "1032",
         "0.15261448919773102",
         "0.003953464329242706",
         "0.12767809629440308"
        ],
        [
         "1056",
         "0.03751455619931221",
         "0.001764488173648715",
         "0.03300800174474716"
        ],
        [
         "1080",
         "0.02940882369875908",
         "0.18040156364440918",
         "0.06981538981199265"
        ],
        [
         "1104",
         "0.017618104815483093",
         "0.1727793663740158",
         "0.08549895137548447"
        ],
        [
         "1128",
         "0.02267296239733696",
         "0.017100071534514427",
         "0.005535188131034374"
        ],
        [
         "1152",
         "0.003457103855907917",
         "0.03577490895986557",
         "0.0181412510573864"
        ],
        [
         "1176",
         "0.0542522594332695",
         "0.021263718605041504",
         "0.014159160666167736"
        ]
       ],
       "shape": {
        "columns": 3,
        "rows": 1147
       }
      },
      "text/html": [
       "<div>\n",
       "<style scoped>\n",
       "    .dataframe tbody tr th:only-of-type {\n",
       "        vertical-align: middle;\n",
       "    }\n",
       "\n",
       "    .dataframe tbody tr th {\n",
       "        vertical-align: top;\n",
       "    }\n",
       "\n",
       "    .dataframe thead th {\n",
       "        text-align: right;\n",
       "    }\n",
       "</style>\n",
       "<table border=\"1\" class=\"dataframe\">\n",
       "  <thead>\n",
       "    <tr style=\"text-align: right;\">\n",
       "      <th></th>\n",
       "      <th>loss_TST</th>\n",
       "      <th>loss_TGTSF</th>\n",
       "      <th>loss_mutual</th>\n",
       "    </tr>\n",
       "  </thead>\n",
       "  <tbody>\n",
       "    <tr>\n",
       "      <th>0</th>\n",
       "      <td>7.047586e-08</td>\n",
       "      <td>0.000012</td>\n",
       "      <td>0.000013</td>\n",
       "    </tr>\n",
       "    <tr>\n",
       "      <th>24</th>\n",
       "      <td>7.047586e-08</td>\n",
       "      <td>0.000009</td>\n",
       "      <td>0.000010</td>\n",
       "    </tr>\n",
       "    <tr>\n",
       "      <th>48</th>\n",
       "      <td>7.047586e-08</td>\n",
       "      <td>0.000006</td>\n",
       "      <td>0.000006</td>\n",
       "    </tr>\n",
       "    <tr>\n",
       "      <th>72</th>\n",
       "      <td>7.047586e-08</td>\n",
       "      <td>0.000015</td>\n",
       "      <td>0.000016</td>\n",
       "    </tr>\n",
       "    <tr>\n",
       "      <th>96</th>\n",
       "      <td>7.047586e-08</td>\n",
       "      <td>0.000006</td>\n",
       "      <td>0.000006</td>\n",
       "    </tr>\n",
       "    <tr>\n",
       "      <th>...</th>\n",
       "      <td>...</td>\n",
       "      <td>...</td>\n",
       "      <td>...</td>\n",
       "    </tr>\n",
       "    <tr>\n",
       "      <th>27408</th>\n",
       "      <td>6.529824e-01</td>\n",
       "      <td>0.329547</td>\n",
       "      <td>0.099990</td>\n",
       "    </tr>\n",
       "    <tr>\n",
       "      <th>27432</th>\n",
       "      <td>4.891581e-01</td>\n",
       "      <td>0.201667</td>\n",
       "      <td>0.082060</td>\n",
       "    </tr>\n",
       "    <tr>\n",
       "      <th>27456</th>\n",
       "      <td>3.406103e-01</td>\n",
       "      <td>0.088105</td>\n",
       "      <td>0.131522</td>\n",
       "    </tr>\n",
       "    <tr>\n",
       "      <th>27480</th>\n",
       "      <td>2.625567e-01</td>\n",
       "      <td>0.053567</td>\n",
       "      <td>0.156449</td>\n",
       "    </tr>\n",
       "    <tr>\n",
       "      <th>27504</th>\n",
       "      <td>1.666918e-01</td>\n",
       "      <td>0.046297</td>\n",
       "      <td>0.098492</td>\n",
       "    </tr>\n",
       "  </tbody>\n",
       "</table>\n",
       "<p>1147 rows × 3 columns</p>\n",
       "</div>"
      ],
      "text/plain": [
       "           loss_TST  loss_TGTSF  loss_mutual\n",
       "0      7.047586e-08    0.000012     0.000013\n",
       "24     7.047586e-08    0.000009     0.000010\n",
       "48     7.047586e-08    0.000006     0.000006\n",
       "72     7.047586e-08    0.000015     0.000016\n",
       "96     7.047586e-08    0.000006     0.000006\n",
       "...             ...         ...          ...\n",
       "27408  6.529824e-01    0.329547     0.099990\n",
       "27432  4.891581e-01    0.201667     0.082060\n",
       "27456  3.406103e-01    0.088105     0.131522\n",
       "27480  2.625567e-01    0.053567     0.156449\n",
       "27504  1.666918e-01    0.046297     0.098492\n",
       "\n",
       "[1147 rows x 3 columns]"
      ]
     },
     "execution_count": 9,
     "metadata": {},
     "output_type": "execute_result"
    }
   ],
   "source": [
    "# convert to pandas df\n",
    "lossdf = pd.DataFrame(losslist).T\n",
    "lossdf"
   ]
  },
  {
   "cell_type": "code",
   "execution_count": 10,
   "metadata": {},
   "outputs": [
    {
     "data": {
      "application/vnd.microsoft.datawrangler.viewer.v0+json": {
       "columns": [
        {
         "name": "index",
         "rawType": "int64",
         "type": "integer"
        },
        {
         "name": "loss_TST",
         "rawType": "float64",
         "type": "float"
        },
        {
         "name": "loss_TGTSF",
         "rawType": "float64",
         "type": "float"
        },
        {
         "name": "loss_mutual",
         "rawType": "float64",
         "type": "float"
        }
       ],
       "conversionMethod": "pd.DataFrame",
       "ref": "b838026d-0157-4f96-a8a8-392fd747564e",
       "rows": [
        [
         "12216",
         "1.2675637006759644",
         "0.04972812533378601",
         "1.1639766693115234"
        ],
        [
         "2256",
         "1.3491430282592773",
         "0.02523517608642578",
         "1.1600263118743896"
        ],
        [
         "3144",
         "0.44482922554016113",
         "0.2379944771528244",
         "1.10414457321167"
        ],
        [
         "4584",
         "1.140073299407959",
         "0.1567160189151764",
         "1.0955958366394043"
        ],
        [
         "12624",
         "0.5192129611968994",
         "0.18383686244487762",
         "0.89997398853302"
        ],
        [
         "11208",
         "0.45555004477500916",
         "0.40755507349967957",
         "0.8963901996612549"
        ],
        [
         "19896",
         "1.1297526359558105",
         "0.055302850902080536",
         "0.8598889708518982"
        ],
        [
         "5448",
         "0.7944198846817017",
         "0.019857287406921387",
         "0.847559928894043"
        ],
        [
         "2520",
         "1.247643232345581",
         "0.08065003156661987",
         "0.7790651321411133"
        ],
        [
         "10632",
         "0.9640201330184937",
         "0.13244280219078064",
         "0.7469090819358826"
        ],
        [
         "13584",
         "0.598842978477478",
         "0.08256855607032776",
         "0.7454211115837097"
        ],
        [
         "20640",
         "0.6184049844741821",
         "0.42176827788352966",
         "0.7427980303764343"
        ],
        [
         "12528",
         "0.6970378756523132",
         "0.11925029754638672",
         "0.7223528623580933"
        ],
        [
         "22824",
         "0.5709408521652222",
         "0.04777082800865173",
         "0.7190002202987671"
        ],
        [
         "13176",
         "0.2904266119003296",
         "0.397002637386322",
         "0.6791624426841736"
        ],
        [
         "11832",
         "0.5011135339736938",
         "0.08779378980398178",
         "0.6550617218017578"
        ],
        [
         "23664",
         "0.6200072765350342",
         "0.4322904944419861",
         "0.6226598024368286"
        ],
        [
         "19608",
         "0.7615849375724792",
         "0.019017323851585388",
         "0.6041993498802185"
        ],
        [
         "18648",
         "0.269118070602417",
         "0.153529554605484",
         "0.6017981767654419"
        ],
        [
         "19248",
         "0.4451272487640381",
         "0.03740265592932701",
         "0.6012637615203857"
        ],
        [
         "2352",
         "0.8125406503677368",
         "0.14462600648403168",
         "0.6001613140106201"
        ],
        [
         "5136",
         "0.5560189485549927",
         "0.20083527266979218",
         "0.5931960344314575"
        ],
        [
         "11232",
         "0.39640530943870544",
         "0.04222425818443298",
         "0.5877158641815186"
        ],
        [
         "20232",
         "1.0029665231704712",
         "0.0830104798078537",
         "0.5806148052215576"
        ],
        [
         "15120",
         "0.39549654722213745",
         "0.030920356512069702",
         "0.5797638893127441"
        ],
        [
         "20400",
         "0.22361372411251068",
         "0.10903491824865341",
         "0.5755986571311951"
        ],
        [
         "23112",
         "0.7043846845626831",
         "0.036503516137599945",
         "0.5680754780769348"
        ],
        [
         "6096",
         "0.4731413722038269",
         "0.03067634627223015",
         "0.566966712474823"
        ],
        [
         "21168",
         "0.23218214511871338",
         "0.2646130621433258",
         "0.5516785383224487"
        ],
        [
         "2424",
         "0.9684159755706787",
         "0.0735180526971817",
         "0.5419126749038696"
        ],
        [
         "12672",
         "0.26577135920524597",
         "0.09292608499526978",
         "0.5260835886001587"
        ],
        [
         "21600",
         "0.3513079285621643",
         "0.735465407371521",
         "0.511796236038208"
        ],
        [
         "18792",
         "0.6074721217155457",
         "0.013479586690664291",
         "0.5033912658691406"
        ],
        [
         "14496",
         "0.4905115067958832",
         "0.017496174201369286",
         "0.4922761917114258"
        ],
        [
         "11592",
         "0.9789385199546814",
         "0.198563814163208",
         "0.46863389015197754"
        ],
        [
         "23472",
         "0.5266778469085693",
         "0.02021235041320324",
         "0.4659639298915863"
        ],
        [
         "4608",
         "0.5384604930877686",
         "0.038012370467185974",
         "0.44737696647644043"
        ],
        [
         "1272",
         "0.5299362540245056",
         "0.007150120101869106",
         "0.4403350055217743"
        ],
        [
         "10656",
         "0.7021409869194031",
         "0.061325475573539734",
         "0.4384537935256958"
        ],
        [
         "2280",
         "0.5536812543869019",
         "0.02183249592781067",
         "0.4380492568016052"
        ],
        [
         "23136",
         "0.7041243314743042",
         "0.06223367899656296",
         "0.43606290221214294"
        ],
        [
         "20136",
         "0.4182604253292084",
         "0.03215368837118149",
         "0.4272211194038391"
        ],
        [
         "18696",
         "0.09175875037908554",
         "0.23107653856277466",
         "0.4240719676017761"
        ],
        [
         "20064",
         "0.4336612820625305",
         "0.036503247916698456",
         "0.421508252620697"
        ],
        [
         "4248",
         "0.27264583110809326",
         "0.04634174332022667",
         "0.41983601450920105"
        ],
        [
         "3768",
         "0.24477557837963104",
         "0.10665252059698105",
         "0.4091174602508545"
        ],
        [
         "20712",
         "0.13894203305244446",
         "0.13493913412094116",
         "0.4029291570186615"
        ],
        [
         "24408",
         "0.4309977889060974",
         "0.007994298823177814",
         "0.3995002210140228"
        ],
        [
         "2472",
         "0.49320846796035767",
         "0.21762745082378387",
         "0.3987925052642822"
        ],
        [
         "6336",
         "0.30604827404022217",
         "0.14961755275726318",
         "0.3954543471336365"
        ]
       ],
       "shape": {
        "columns": 3,
        "rows": 1147
       }
      },
      "text/html": [
       "<div>\n",
       "<style scoped>\n",
       "    .dataframe tbody tr th:only-of-type {\n",
       "        vertical-align: middle;\n",
       "    }\n",
       "\n",
       "    .dataframe tbody tr th {\n",
       "        vertical-align: top;\n",
       "    }\n",
       "\n",
       "    .dataframe thead th {\n",
       "        text-align: right;\n",
       "    }\n",
       "</style>\n",
       "<table border=\"1\" class=\"dataframe\">\n",
       "  <thead>\n",
       "    <tr style=\"text-align: right;\">\n",
       "      <th></th>\n",
       "      <th>loss_TST</th>\n",
       "      <th>loss_TGTSF</th>\n",
       "      <th>loss_mutual</th>\n",
       "    </tr>\n",
       "  </thead>\n",
       "  <tbody>\n",
       "    <tr>\n",
       "      <th>12216</th>\n",
       "      <td>1.267564e+00</td>\n",
       "      <td>0.049728</td>\n",
       "      <td>1.163977</td>\n",
       "    </tr>\n",
       "    <tr>\n",
       "      <th>2256</th>\n",
       "      <td>1.349143e+00</td>\n",
       "      <td>0.025235</td>\n",
       "      <td>1.160026</td>\n",
       "    </tr>\n",
       "    <tr>\n",
       "      <th>3144</th>\n",
       "      <td>4.448292e-01</td>\n",
       "      <td>0.237994</td>\n",
       "      <td>1.104145</td>\n",
       "    </tr>\n",
       "    <tr>\n",
       "      <th>4584</th>\n",
       "      <td>1.140073e+00</td>\n",
       "      <td>0.156716</td>\n",
       "      <td>1.095596</td>\n",
       "    </tr>\n",
       "    <tr>\n",
       "      <th>12624</th>\n",
       "      <td>5.192130e-01</td>\n",
       "      <td>0.183837</td>\n",
       "      <td>0.899974</td>\n",
       "    </tr>\n",
       "    <tr>\n",
       "      <th>...</th>\n",
       "      <td>...</td>\n",
       "      <td>...</td>\n",
       "      <td>...</td>\n",
       "    </tr>\n",
       "    <tr>\n",
       "      <th>240</th>\n",
       "      <td>7.047586e-08</td>\n",
       "      <td>0.000002</td>\n",
       "      <td>0.000002</td>\n",
       "    </tr>\n",
       "    <tr>\n",
       "      <th>25392</th>\n",
       "      <td>7.047586e-08</td>\n",
       "      <td>0.000002</td>\n",
       "      <td>0.000002</td>\n",
       "    </tr>\n",
       "    <tr>\n",
       "      <th>25368</th>\n",
       "      <td>7.047586e-08</td>\n",
       "      <td>0.000002</td>\n",
       "      <td>0.000002</td>\n",
       "    </tr>\n",
       "    <tr>\n",
       "      <th>25320</th>\n",
       "      <td>7.047586e-08</td>\n",
       "      <td>0.000002</td>\n",
       "      <td>0.000002</td>\n",
       "    </tr>\n",
       "    <tr>\n",
       "      <th>25344</th>\n",
       "      <td>7.047586e-08</td>\n",
       "      <td>0.000002</td>\n",
       "      <td>0.000002</td>\n",
       "    </tr>\n",
       "  </tbody>\n",
       "</table>\n",
       "<p>1147 rows × 3 columns</p>\n",
       "</div>"
      ],
      "text/plain": [
       "           loss_TST  loss_TGTSF  loss_mutual\n",
       "12216  1.267564e+00    0.049728     1.163977\n",
       "2256   1.349143e+00    0.025235     1.160026\n",
       "3144   4.448292e-01    0.237994     1.104145\n",
       "4584   1.140073e+00    0.156716     1.095596\n",
       "12624  5.192130e-01    0.183837     0.899974\n",
       "...             ...         ...          ...\n",
       "240    7.047586e-08    0.000002     0.000002\n",
       "25392  7.047586e-08    0.000002     0.000002\n",
       "25368  7.047586e-08    0.000002     0.000002\n",
       "25320  7.047586e-08    0.000002     0.000002\n",
       "25344  7.047586e-08    0.000002     0.000002\n",
       "\n",
       "[1147 rows x 3 columns]"
      ]
     },
     "execution_count": 10,
     "metadata": {},
     "output_type": "execute_result"
    }
   ],
   "source": [
    "# sort the df by loss_TST\n",
    "lossdf = lossdf.sort_values(by='loss_mutual', ascending=False)\n",
    "lossdf"
   ]
  },
  {
   "cell_type": "code",
   "execution_count": 64,
   "metadata": {},
   "outputs": [
    {
     "data": {
      "text/plain": [
       "<matplotlib.legend.Legend at 0x7fb28423ec10>"
      ]
     },
     "execution_count": 64,
     "metadata": {},
     "output_type": "execute_result"
    },
    {
     "data": {
      "image/png": "[encoded data removed]",
      "text/plain": [
       "<Figure size 640x480 with 1 Axes>"
      ]
     },
     "metadata": {},
     "output_type": "display_data"
    }
   ],
   "source": [
    "sample_num = 4272#2256#20136\n",
    "batch_x, batch_y, timestamp_x, timestamp_y, batch_x_hetero, batch_y_hetero, hetero_x_time, hetero_y_time, hetero_general, hetero_channel = fullsets['314106'][sample_num]\n",
    "\n",
    "batch_x = torch.tensor(batch_x).unsqueeze(0).float().to(config.device)\n",
    "batch_y = torch.tensor(batch_y).unsqueeze(0).float().to(config.device)\n",
    "batch_y_hetero = torch.tensor(batch_y_hetero).unsqueeze(0).float().to(config.device)\n",
    "hetero_channel = torch.tensor(hetero_channel).unsqueeze(0).float().to(config.device)\n",
    "\n",
    "output_TST = model_TST(x=batch_x)\n",
    "output_TST = output_TST[:, -config.output_len:, :]\n",
    "\n",
    "output_TGTSF = model_TGTSF(x=batch_x, historical_events =batch_x_hetero, news = batch_y_hetero, dataset_description=hetero_general, channel_description=hetero_channel)\n",
    "output_TGTSF = output_TGTSF[:, -config.output_len:, :]\n",
    "\n",
    "\n",
    "\n",
    "indate = [str(i) for i in timestamp_x]\n",
    "outdate = [str(i) for i in timestamp_y]\n",
    "# convert the yyyymmddHHMMSS to datetime\n",
    "indate = pd.to_datetime(indate, format='%Y%m%d%H%M%S')\n",
    "outdate = pd.to_datetime(outdate, format='%Y%m%d%H%M%S')\n",
    "# reformat the indate as datetime\n",
    "# plot the result\n",
    "# enable inline plotting\n",
    "%matplotlib inline\n",
    "plt.plot(indate, batch_x.cpu().detach().numpy().squeeze(), label='input')\n",
    "plt.plot(outdate, batch_y.cpu().detach().numpy().squeeze(), label='target')\n",
    "plt.plot(outdate, output_TST.cpu().detach().numpy().squeeze(), label='PatchTST')\n",
    "plt.plot(outdate, output_TGTSF.cpu().detach().numpy().squeeze(), label='TGTSF')\n",
    "plt.legend()"
   ]
  }
 ],
 "metadata": {
  "kernelspec": {
   "display_name": "uni2ts",
   "language": "python",
   "name": "python3"
  },
  "language_info": {
   "codemirror_mode": {
    "name": "ipython",
    "version": 3
   },
   "file_extension": ".py",
   "mimetype": "text/x-python",
   "name": "python",
   "nbconvert_exporter": "python",
   "pygments_lexer": "ipython3",
   "version": "3.11.0"
  }
 },
 "nbformat": 4,
 "nbformat_minor": 2
}
