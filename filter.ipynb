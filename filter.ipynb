{
 "cells": [
  {
   "cell_type": "code",
   "execution_count": 1,
   "metadata": {},
   "outputs": [],
   "source": [
    "import torch\n",
    "import pandas as pd\n",
    "import numpy as np\n",
    "import os\n",
    "from models import model_init\n",
    "from data_provider.data_factory import Data_Provider\n",
    "import matplotlib.pyplot as plt\n",
    "from utils.task import ahead_task_parser\n",
    "from utils.tools import dotdict\n",
    "import yaml, json"
   ]
  },
  {
   "cell_type": "code",
   "execution_count": 2,
   "metadata": {},
   "outputs": [],
   "source": [
    "model = 'PatchTST'\n",
    "data = 'solar'\n",
    "ahead = 'day'\n",
    "version = 'latest'\n",
    "ckpt_base = './checkpoints/solar'\n",
    "\n",
    "ckpt_id = f'_{model}_{data}_{ahead}_ahead'\n",
    "\n",
    "if version == 'latest':\n",
    "    # find all the path that end with the ckpt_id\n",
    "    ckpt_paths = [os.path.join(ckpt_base, i) for i in os.listdir(ckpt_base) if i.endswith(ckpt_id)]\n",
    "    # the path is in format of yyyy-mm-dd{ckpt_id}, now find the latest one\n",
    "    ckpt_paths.sort()\n",
    "    ckpt_path = ckpt_paths[-1]\n",
    "else:\n",
    "    ckpt_path = version + ckpt_id\n",
    "\n",
    "config = dotdict(json.load(open(os.path.join(ckpt_path, 'args.json'))))\n",
    "config.model_config = dotdict(config.model_config)\n",
    "config.data_config = dotdict(config.data_config)\n",
    "\n",
    "config.device = torch.device(\"cuda\" if torch.cuda.is_available() else \"cpu\")\n",
    "config.batch_size = 1"
   ]
  },
  {
   "cell_type": "code",
   "execution_count": 3,
   "metadata": {},
   "outputs": [
    {
     "data": {
      "text/plain": [
       "Model(\n",
       "  (model): PatchTST_backbone(\n",
       "    (revin_layer): RevIN()\n",
       "    (padding_patch_layer): ReplicationPad1d((0, 8))\n",
       "    (backbone): TSTiEncoder(\n",
       "      (W_P): Linear(in_features=16, out_features=16, bias=True)\n",
       "      (dropout): Dropout(p=0.3, inplace=False)\n",
       "      (encoder): TSTEncoder(\n",
       "        (layers): ModuleList(\n",
       "          (0-2): 3 x TSTEncoderLayer(\n",
       "            (self_attn): _MultiheadAttention(\n",
       "              (W_Q): Linear(in_features=16, out_features=16, bias=True)\n",
       "              (W_K): Linear(in_features=16, out_features=16, bias=True)\n",
       "              (W_V): Linear(in_features=16, out_features=16, bias=True)\n",
       "              (sdp_attn): _ScaledDotProductAttention(\n",
       "                (attn_dropout): Dropout(p=0.0, inplace=False)\n",
       "              )\n",
       "              (to_out): Sequential(\n",
       "                (0): Linear(in_features=16, out_features=16, bias=True)\n",
       "                (1): Dropout(p=0.3, inplace=False)\n",
       "              )\n",
       "            )\n",
       "            (dropout_attn): Dropout(p=0.3, inplace=False)\n",
       "            (norm_attn): Sequential(\n",
       "              (0): Transpose()\n",
       "              (1): BatchNorm1d(16, eps=1e-05, momentum=0.1, affine=True, track_running_stats=True)\n",
       "              (2): Transpose()\n",
       "            )\n",
       "            (ff): Sequential(\n",
       "              (0): Linear(in_features=16, out_features=128, bias=True)\n",
       "              (1): GELU(approximate='none')\n",
       "              (2): Dropout(p=0.3, inplace=False)\n",
       "              (3): Linear(in_features=128, out_features=16, bias=True)\n",
       "            )\n",
       "            (dropout_ffn): Dropout(p=0.3, inplace=False)\n",
       "            (norm_ffn): Sequential(\n",
       "              (0): Transpose()\n",
       "              (1): BatchNorm1d(16, eps=1e-05, momentum=0.1, affine=True, track_running_stats=True)\n",
       "              (2): Transpose()\n",
       "            )\n",
       "          )\n",
       "        )\n",
       "      )\n",
       "    )\n",
       "    (head): Flatten_Head(\n",
       "      (flatten): Flatten(start_dim=-2, end_dim=-1)\n",
       "      (linear): Linear(in_features=336, out_features=24, bias=True)\n",
       "      (dropout): Dropout(p=0, inplace=False)\n",
       "    )\n",
       "  )\n",
       ")"
      ]
     },
     "execution_count": 3,
     "metadata": {},
     "output_type": "execute_result"
    }
   ],
   "source": [
    "model_TST = model_init(config.model, config.model_config, config).to(config.device)\n",
    "# load the model\n",
    "model_TST.load_state_dict(torch.load(os.path.join(ckpt_path, 'checkpoint.pth'))) \n",
    "model_TST.eval()"
   ]
  },
  {
   "cell_type": "code",
   "execution_count": 4,
   "metadata": {},
   "outputs": [
    {
     "name": "stdout",
     "output_type": "stream",
     "text": [
      "./checkpoints/04-25-0548_TGTSF_solar_day_ahead\n"
     ]
    }
   ],
   "source": [
    "model = 'TGTSF'\n",
    "data = 'solar'\n",
    "ahead = 'day'\n",
    "version = 'latest'#'04-16-0316'#'latest'\n",
    "ckpt_base = './checkpoints/'#+data\n",
    "\n",
    "ckpt_id = f'_{model}_{data}_{ahead}_ahead'\n",
    "\n",
    "if version == 'latest':\n",
    "    # find all the path that end with the ckpt_id\n",
    "    ckpt_paths = [os.path.join(ckpt_base, i) for i in os.listdir(ckpt_base) if i.endswith(ckpt_id)]\n",
    "    # the path is in format of yyyy-mm-dd{ckpt_id}, now find the latest one\n",
    "    ckpt_paths.sort()\n",
    "    ckpt_path = ckpt_paths[-1]\n",
    "else:\n",
    "    ckpt_path = version + ckpt_id\n",
    "    ckpt_path = os.path.join(ckpt_base, ckpt_path)\n",
    "\n",
    "config = dotdict(json.load(open(os.path.join(ckpt_path, 'args.json'))))\n",
    "config.model_config = dotdict(config.model_config)\n",
    "config.data_config = dotdict(config.data_config)\n",
    "\n",
    "config.device = torch.device(\"cuda\" if torch.cuda.is_available() else \"cpu\")\n",
    "config.batch_size = 1\n",
    "print(ckpt_path)"
   ]
  },
  {
   "cell_type": "code",
   "execution_count": 5,
   "metadata": {},
   "outputs": [
    {
     "data": {
      "text/plain": [
       "Model(\n",
       "  (TS_encoder): TS_encoder(\n",
       "    (attentions): TransformerEncoder(\n",
       "      (layers): ModuleList(\n",
       "        (0-2): 3 x TransformerEncoderLayer(\n",
       "          (self_attn): MultiheadAttention(\n",
       "            (out_proj): NonDynamicallyQuantizableLinear(in_features=256, out_features=256, bias=True)\n",
       "          )\n",
       "          (linear1): Linear(in_features=256, out_features=1024, bias=True)\n",
       "          (dropout): Dropout(p=0.3, inplace=False)\n",
       "          (linear2): Linear(in_features=1024, out_features=256, bias=True)\n",
       "          (norm1): LayerNorm((256,), eps=1e-05, elementwise_affine=True)\n",
       "          (norm2): LayerNorm((256,), eps=1e-05, elementwise_affine=True)\n",
       "          (dropout1): Dropout(p=0.3, inplace=False)\n",
       "          (dropout2): Dropout(p=0.3, inplace=False)\n",
       "        )\n",
       "      )\n",
       "      (norm): LayerNorm((256,), eps=1e-05, elementwise_affine=True)\n",
       "    )\n",
       "    (input_encoder): Linear(in_features=8, out_features=256, bias=True)\n",
       "    (dropout_layer): Dropout(p=0.3, inplace=False)\n",
       "  )\n",
       "  (text_encoder): text_encoder(\n",
       "    (cross_encoder): TransformerDecoder(\n",
       "      (layers): ModuleList(\n",
       "        (0-2): 3 x TransformerDecoderLayer(\n",
       "          (self_attn): MultiheadAttention(\n",
       "            (out_proj): NonDynamicallyQuantizableLinear(in_features=256, out_features=256, bias=True)\n",
       "          )\n",
       "          (multihead_attn): MultiheadAttention(\n",
       "            (out_proj): NonDynamicallyQuantizableLinear(in_features=256, out_features=256, bias=True)\n",
       "          )\n",
       "          (linear1): Linear(in_features=256, out_features=1024, bias=True)\n",
       "          (dropout): Dropout(p=0.3, inplace=False)\n",
       "          (linear2): Linear(in_features=1024, out_features=256, bias=True)\n",
       "          (norm1): LayerNorm((256,), eps=1e-05, elementwise_affine=True)\n",
       "          (norm2): LayerNorm((256,), eps=1e-05, elementwise_affine=True)\n",
       "          (norm3): LayerNorm((256,), eps=1e-05, elementwise_affine=True)\n",
       "          (dropout1): Dropout(p=0.3, inplace=False)\n",
       "          (dropout2): Dropout(p=0.3, inplace=False)\n",
       "          (dropout3): Dropout(p=0.3, inplace=False)\n",
       "        )\n",
       "      )\n",
       "      (norm): LayerNorm((256,), eps=1e-05, elementwise_affine=True)\n",
       "    )\n",
       "    (dropout_layer): Dropout(p=0.3, inplace=False)\n",
       "  )\n",
       "  (mixer): text_temp_cross_block(\n",
       "    (cross_encoder): TransformerDecoder(\n",
       "      (layers): ModuleList(\n",
       "        (0-2): 3 x TransformerDecoderLayer(\n",
       "          (self_attn): MultiheadAttention(\n",
       "            (out_proj): NonDynamicallyQuantizableLinear(in_features=256, out_features=256, bias=True)\n",
       "          )\n",
       "          (multihead_attn): MultiheadAttention(\n",
       "            (out_proj): NonDynamicallyQuantizableLinear(in_features=256, out_features=256, bias=True)\n",
       "          )\n",
       "          (linear1): Linear(in_features=256, out_features=1024, bias=True)\n",
       "          (dropout): Dropout(p=0.0, inplace=False)\n",
       "          (linear2): Linear(in_features=1024, out_features=256, bias=True)\n",
       "          (norm1): LayerNorm((256,), eps=1e-05, elementwise_affine=True)\n",
       "          (norm2): LayerNorm((256,), eps=1e-05, elementwise_affine=True)\n",
       "          (norm3): LayerNorm((256,), eps=1e-05, elementwise_affine=True)\n",
       "          (dropout1): Dropout(p=0.0, inplace=False)\n",
       "          (dropout2): Dropout(p=0.0, inplace=False)\n",
       "          (dropout3): Dropout(p=0.0, inplace=False)\n",
       "        )\n",
       "      )\n",
       "      (norm): LayerNorm((256,), eps=1e-05, elementwise_affine=True)\n",
       "    )\n",
       "    (self_encoder): TransformerDecoder(\n",
       "      (layers): ModuleList(\n",
       "        (0-2): 3 x TransformerDecoderLayer(\n",
       "          (self_attn): MultiheadAttention(\n",
       "            (out_proj): NonDynamicallyQuantizableLinear(in_features=256, out_features=256, bias=True)\n",
       "          )\n",
       "          (multihead_attn): MultiheadAttention(\n",
       "            (out_proj): NonDynamicallyQuantizableLinear(in_features=256, out_features=256, bias=True)\n",
       "          )\n",
       "          (linear1): Linear(in_features=256, out_features=1024, bias=True)\n",
       "          (dropout): Dropout(p=0.0, inplace=False)\n",
       "          (linear2): Linear(in_features=1024, out_features=256, bias=True)\n",
       "          (norm1): LayerNorm((256,), eps=1e-05, elementwise_affine=True)\n",
       "          (norm2): LayerNorm((256,), eps=1e-05, elementwise_affine=True)\n",
       "          (norm3): LayerNorm((256,), eps=1e-05, elementwise_affine=True)\n",
       "          (dropout1): Dropout(p=0.0, inplace=False)\n",
       "          (dropout2): Dropout(p=0.0, inplace=False)\n",
       "          (dropout3): Dropout(p=0.0, inplace=False)\n",
       "        )\n",
       "      )\n",
       "      (norm): LayerNorm((256,), eps=1e-05, elementwise_affine=True)\n",
       "    )\n",
       "  )\n",
       "  (head): Linear(in_features=256, out_features=8, bias=True)\n",
       ")"
      ]
     },
     "execution_count": 5,
     "metadata": {},
     "output_type": "execute_result"
    }
   ],
   "source": [
    "model_TGTSF = model_init(config.model, config.model_config, config).to(config.device)\n",
    "# load the model\n",
    "model_TGTSF.load_state_dict(torch.load(os.path.join(ckpt_path, 'checkpoint.pth')))\n",
    "model_TGTSF.eval()"
   ]
  },
  {
   "cell_type": "code",
   "execution_count": 6,
   "metadata": {},
   "outputs": [
    {
     "name": "stdout",
     "output_type": "stream",
     "text": [
      "[ info ] Successfully load the dynamic data embedding from fast_general_formal_embeddings_????.pkl\n"
     ]
    },
    {
     "name": "stderr",
     "output_type": "stream",
     "text": [
      "Loading test datasets: 100%|██████████| 9/9 [00:05<00:00,  1.72it/s]"
     ]
    },
    {
     "name": "stdout",
     "output_type": "stream",
     "text": [
      "dict_keys(['314106', '319086', '164440', '355827', '331901', '332785', '577650', '551172', '570079'])\n"
     ]
    },
    {
     "name": "stderr",
     "output_type": "stream",
     "text": [
      "\n"
     ]
    }
   ],
   "source": [
    "id_data = Data_Provider(config)\n",
    "fullsets = id_data.get_test('set')\n",
    "print(fullsets.keys())"
   ]
  },
  {
   "cell_type": "code",
   "execution_count": 63,
   "metadata": {},
   "outputs": [
    {
     "data": {
      "text/plain": [
       "<matplotlib.legend.Legend at 0x7fad8087f6d0>"
      ]
     },
     "execution_count": 63,
     "metadata": {},
     "output_type": "execute_result"
    },
    {
     "data": {
      "image/png": "[encoded data removed]",
      "text/plain": [
       "<Figure size 640x480 with 1 Axes>"
      ]
     },
     "metadata": {},
     "output_type": "display_data"
    }
   ],
   "source": [
    "sample_num = 27072\n",
    "batch_x, batch_y, timestamp_x, timestamp_y, batch_x_hetero, batch_y_hetero, hetero_x_time, hetero_y_time, hetero_general, hetero_channel = fullsets['332785'][sample_num]\n",
    "\n",
    "batch_x = torch.tensor(batch_x).unsqueeze(0).float().to(config.device)\n",
    "batch_y = torch.tensor(batch_y).unsqueeze(0).float().to(config.device)\n",
    "batch_y_hetero = torch.tensor(batch_y_hetero).unsqueeze(0).float().to(config.device)\n",
    "hetero_channel = torch.tensor(hetero_channel).unsqueeze(0).float().to(config.device)\n",
    "\n",
    "output_TST = model_TST(x=batch_x)\n",
    "output_TST = output_TST[:, -config.output_len:, :]\n",
    "\n",
    "output_TGTSF = model_TGTSF(x=batch_x, historical_events =batch_x_hetero, news = batch_y_hetero, dataset_description=hetero_general, channel_description=hetero_channel)\n",
    "output_TGTSF = output_TGTSF[:, -config.output_len:, :]\n",
    "\n",
    "\n",
    "\n",
    "indate = [str(i) for i in timestamp_x]\n",
    "outdate = [str(i) for i in timestamp_y]\n",
    "# convert the yyyymmddHHMMSS to datetime\n",
    "indate = pd.to_datetime(indate, format='%Y%m%d%H%M%S')\n",
    "outdate = pd.to_datetime(outdate, format='%Y%m%d%H%M%S')\n",
    "# reformat the indate as datetime\n",
    "# plot the result\n",
    "# enable inline plotting\n",
    "%matplotlib inline\n",
    "plt.plot(indate, batch_x.cpu().detach().numpy().squeeze(), label='input')\n",
    "plt.plot(outdate, batch_y.cpu().detach().numpy().squeeze(), label='target')\n",
    "plt.plot(outdate, output_TST.cpu().detach().numpy().squeeze(), label='PatchTST')\n",
    "plt.plot(outdate, output_TGTSF.cpu().detach().numpy().squeeze(), label='TGTSF')\n",
    "plt.legend()"
   ]
  },
  {
   "cell_type": "code",
   "execution_count": 37,
   "metadata": {},
   "outputs": [],
   "source": [
    "selectset = '332785'\n",
    "losslist = {}\n",
    "for sample_num in range(0, len(fullsets[selectset]), 24):\n",
    "    batch_x, batch_y, timestamp_x, timestamp_y, batch_x_hetero, batch_y_hetero, hetero_x_time, hetero_y_time, hetero_general, hetero_channel = fullsets[selectset][sample_num]\n",
    "\n",
    "    batch_x = torch.tensor(batch_x).unsqueeze(0).float().to(config.device)\n",
    "    batch_y = torch.tensor(batch_y).unsqueeze(0).float().to(config.device)\n",
    "    batch_y_hetero = torch.tensor(batch_y_hetero).unsqueeze(0).float().to(config.device)\n",
    "    hetero_channel = torch.tensor(hetero_channel).unsqueeze(0).float().to(config.device)\n",
    "\n",
    "    output_TST = model_TST(x=batch_x)\n",
    "    output_TST = output_TST[:, -config.output_len:, :]\n",
    "\n",
    "    output_TGTSF = model_TGTSF(x=batch_x, historical_events =batch_x_hetero, news = batch_y_hetero, dataset_description=hetero_general, channel_description=hetero_channel)\n",
    "    output_TGTSF = output_TGTSF[:, -config.output_len:, :]\n",
    "\n",
    "    # calculate the loss\n",
    "    loss_TST = torch.nn.MSELoss()(output_TST, batch_y)\n",
    "    loss_TGTSF = torch.nn.MSELoss()(output_TGTSF, batch_y)\n",
    "    loss_mutual = torch.nn.MSELoss()(output_TST, output_TGTSF)\n",
    "    losslist[sample_num] = {\n",
    "        'loss_TST': loss_TST.item(),\n",
    "        'loss_TGTSF': loss_TGTSF.item(),\n",
    "        'loss_mutual': loss_mutual.item(),\n",
    "    }\n"
   ]
  },
  {
   "cell_type": "code",
   "execution_count": null,
   "metadata": {},
   "outputs": [],
   "source": [
    "def get_lossdf()"
   ]
  },
  {
   "cell_type": "code",
   "execution_count": 38,
   "metadata": {},
   "outputs": [
    {
     "data": {
      "application/vnd.microsoft.datawrangler.viewer.v0+json": {
       "columns": [
        {
         "name": "index",
         "rawType": "int64",
         "type": "integer"
        },
        {
         "name": "loss_TST",
         "rawType": "float64",
         "type": "float"
        },
        {
         "name": "loss_TGTSF",
         "rawType": "float64",
         "type": "float"
        },
        {
         "name": "loss_mutual",
         "rawType": "float64",
         "type": "float"
        }
       ],
       "conversionMethod": "pd.DataFrame",
       "ref": "7945815b-8318-4506-944c-cda267055684",
       "rows": [
        [
         "0",
         "1.3500429304258432e-05",
         "0.0017284166533499956",
         "0.0018544849008321762"
        ],
        [
         "24",
         "8.901091632651514e-07",
         "0.012687724083662033",
         "0.012616055086255074"
        ],
        [
         "48",
         "3.875038601108827e-06",
         "0.006960014812648296",
         "0.0069099292159080505"
        ],
        [
         "72",
         "0.13361792266368866",
         "0.09890007227659225",
         "0.0049551697447896"
        ],
        [
         "96",
         "0.004242763854563236",
         "0.15464988350868225",
         "0.1221584901213646"
        ],
        [
         "120",
         "0.09972846508026123",
         "0.03548208624124527",
         "0.04495128616690636"
        ],
        [
         "144",
         "0.16065384447574615",
         "0.1393071711063385",
         "0.010842184536159039"
        ],
        [
         "168",
         "0.14673477411270142",
         "0.037927448749542236",
         "0.06029171869158745"
        ],
        [
         "192",
         "0.1739080548286438",
         "0.08353488147258759",
         "0.05698660761117935"
        ],
        [
         "216",
         "0.35991692543029785",
         "0.21151801943778992",
         "0.04055608808994293"
        ],
        [
         "240",
         "0.18477892875671387",
         "0.011577369645237923",
         "0.1335737556219101"
        ],
        [
         "264",
         "0.13030526041984558",
         "0.2158413827419281",
         "0.029118001461029053"
        ],
        [
         "288",
         "0.07197441160678864",
         "0.020620957016944885",
         "0.04485970735549927"
        ],
        [
         "312",
         "0.23195861279964447",
         "0.09338753670454025",
         "0.06820186227560043"
        ],
        [
         "336",
         "0.13860368728637695",
         "0.09995967149734497",
         "0.05569108948111534"
        ],
        [
         "360",
         "0.09804686158895493",
         "0.013112761080265045",
         "0.1010689064860344"
        ],
        [
         "384",
         "0.07543137669563293",
         "0.17280666530132294",
         "0.28158506751060486"
        ],
        [
         "408",
         "0.06573773175477982",
         "0.10520695894956589",
         "0.02211839333176613"
        ],
        [
         "432",
         "0.05857996642589569",
         "0.19458451867103577",
         "0.13022060692310333"
        ],
        [
         "456",
         "0.3652389943599701",
         "0.08721940964460373",
         "0.20043566823005676"
        ],
        [
         "480",
         "0.0569077804684639",
         "0.06141364201903343",
         "0.04385638236999512"
        ],
        [
         "504",
         "0.12276472896337509",
         "0.1013876423239708",
         "0.0365469753742218"
        ],
        [
         "528",
         "0.07249493896961212",
         "0.05184274539351463",
         "0.05276481434702873"
        ],
        [
         "552",
         "0.04517078027129173",
         "0.06690463423728943",
         "0.03371544927358627"
        ],
        [
         "576",
         "0.18824705481529236",
         "0.007035539485514164",
         "0.14109459519386292"
        ],
        [
         "600",
         "0.05332396179437637",
         "0.002852081786841154",
         "0.06734509766101837"
        ],
        [
         "624",
         "0.030800536274909973",
         "0.120907723903656",
         "0.1685747504234314"
        ],
        [
         "648",
         "0.054094426333904266",
         "0.08951245993375778",
         "0.018207374960184097"
        ],
        [
         "672",
         "0.01744205877184868",
         "0.048944249749183655",
         "0.05606047064065933"
        ],
        [
         "696",
         "0.5138402581214905",
         "0.22147874534130096",
         "0.10198577493429184"
        ],
        [
         "720",
         "0.5897848606109619",
         "0.09025441855192184",
         "0.2946653962135315"
        ],
        [
         "744",
         "0.11722519993782043",
         "0.4240616261959076",
         "0.146351620554924"
        ],
        [
         "768",
         "0.39844489097595215",
         "0.023335393518209457",
         "0.43852120637893677"
        ],
        [
         "792",
         "0.06332060694694519",
         "0.10548339784145355",
         "0.060663383454084396"
        ],
        [
         "816",
         "0.4528041481971741",
         "0.0511794313788414",
         "0.24051015079021454"
        ],
        [
         "840",
         "0.13830897212028503",
         "0.0776592344045639",
         "0.1242230236530304"
        ],
        [
         "864",
         "0.1316288262605667",
         "0.09762725234031677",
         "0.07842641323804855"
        ],
        [
         "888",
         "0.3258320987224579",
         "0.06663449108600616",
         "0.20380178093910217"
        ],
        [
         "912",
         "0.13959038257598877",
         "0.054274752736091614",
         "0.2106562703847885"
        ],
        [
         "936",
         "0.2519904375076294",
         "0.6134347319602966",
         "0.09229046106338501"
        ],
        [
         "960",
         "0.29952704906463623",
         "0.14908984303474426",
         "0.191497802734375"
        ],
        [
         "984",
         "0.09170066565275192",
         "0.06574174761772156",
         "0.260723352432251"
        ],
        [
         "1008",
         "0.029612448066473007",
         "0.4956382215023041",
         "0.6266733407974243"
        ],
        [
         "1032",
         "0.16428889334201813",
         "0.0054189665243029594",
         "0.11537055671215057"
        ],
        [
         "1056",
         "0.05148591846227646",
         "0.001700101769529283",
         "0.0396990105509758"
        ],
        [
         "1080",
         "0.034403882920742035",
         "0.01952177658677101",
         "0.0038787664379924536"
        ],
        [
         "1104",
         "0.021109431982040405",
         "0.0020392052829265594",
         "0.012367000803351402"
        ],
        [
         "1128",
         "0.02627401612699032",
         "0.001688923453912139",
         "0.01685086265206337"
        ],
        [
         "1152",
         "0.025748318061232567",
         "0.031797539442777634",
         "0.0025771339423954487"
        ],
        [
         "1176",
         "0.6999897956848145",
         "0.4233071804046631",
         "0.046784382313489914"
        ]
       ],
       "shape": {
        "columns": 3,
        "rows": 1147
       }
      },
      "text/html": [
       "<div>\n",
       "<style scoped>\n",
       "    .dataframe tbody tr th:only-of-type {\n",
       "        vertical-align: middle;\n",
       "    }\n",
       "\n",
       "    .dataframe tbody tr th {\n",
       "        vertical-align: top;\n",
       "    }\n",
       "\n",
       "    .dataframe thead th {\n",
       "        text-align: right;\n",
       "    }\n",
       "</style>\n",
       "<table border=\"1\" class=\"dataframe\">\n",
       "  <thead>\n",
       "    <tr style=\"text-align: right;\">\n",
       "      <th></th>\n",
       "      <th>loss_TST</th>\n",
       "      <th>loss_TGTSF</th>\n",
       "      <th>loss_mutual</th>\n",
       "    </tr>\n",
       "  </thead>\n",
       "  <tbody>\n",
       "    <tr>\n",
       "      <th>0</th>\n",
       "      <td>1.350043e-05</td>\n",
       "      <td>0.001728</td>\n",
       "      <td>0.001854</td>\n",
       "    </tr>\n",
       "    <tr>\n",
       "      <th>24</th>\n",
       "      <td>8.901092e-07</td>\n",
       "      <td>0.012688</td>\n",
       "      <td>0.012616</td>\n",
       "    </tr>\n",
       "    <tr>\n",
       "      <th>48</th>\n",
       "      <td>3.875039e-06</td>\n",
       "      <td>0.006960</td>\n",
       "      <td>0.006910</td>\n",
       "    </tr>\n",
       "    <tr>\n",
       "      <th>72</th>\n",
       "      <td>1.336179e-01</td>\n",
       "      <td>0.098900</td>\n",
       "      <td>0.004955</td>\n",
       "    </tr>\n",
       "    <tr>\n",
       "      <th>96</th>\n",
       "      <td>4.242764e-03</td>\n",
       "      <td>0.154650</td>\n",
       "      <td>0.122158</td>\n",
       "    </tr>\n",
       "    <tr>\n",
       "      <th>...</th>\n",
       "      <td>...</td>\n",
       "      <td>...</td>\n",
       "      <td>...</td>\n",
       "    </tr>\n",
       "    <tr>\n",
       "      <th>27408</th>\n",
       "      <td>6.407602e-01</td>\n",
       "      <td>0.140657</td>\n",
       "      <td>0.247824</td>\n",
       "    </tr>\n",
       "    <tr>\n",
       "      <th>27432</th>\n",
       "      <td>3.873941e-01</td>\n",
       "      <td>0.127128</td>\n",
       "      <td>0.157481</td>\n",
       "    </tr>\n",
       "    <tr>\n",
       "      <th>27456</th>\n",
       "      <td>2.623532e-01</td>\n",
       "      <td>0.075915</td>\n",
       "      <td>0.109401</td>\n",
       "    </tr>\n",
       "    <tr>\n",
       "      <th>27480</th>\n",
       "      <td>1.857238e-01</td>\n",
       "      <td>0.053388</td>\n",
       "      <td>0.074093</td>\n",
       "    </tr>\n",
       "    <tr>\n",
       "      <th>27504</th>\n",
       "      <td>1.439641e-01</td>\n",
       "      <td>0.081580</td>\n",
       "      <td>0.039639</td>\n",
       "    </tr>\n",
       "  </tbody>\n",
       "</table>\n",
       "<p>1147 rows × 3 columns</p>\n",
       "</div>"
      ],
      "text/plain": [
       "           loss_TST  loss_TGTSF  loss_mutual\n",
       "0      1.350043e-05    0.001728     0.001854\n",
       "24     8.901092e-07    0.012688     0.012616\n",
       "48     3.875039e-06    0.006960     0.006910\n",
       "72     1.336179e-01    0.098900     0.004955\n",
       "96     4.242764e-03    0.154650     0.122158\n",
       "...             ...         ...          ...\n",
       "27408  6.407602e-01    0.140657     0.247824\n",
       "27432  3.873941e-01    0.127128     0.157481\n",
       "27456  2.623532e-01    0.075915     0.109401\n",
       "27480  1.857238e-01    0.053388     0.074093\n",
       "27504  1.439641e-01    0.081580     0.039639\n",
       "\n",
       "[1147 rows x 3 columns]"
      ]
     },
     "execution_count": 38,
     "metadata": {},
     "output_type": "execute_result"
    }
   ],
   "source": [
    "# convert to pandas df\n",
    "lossdf = pd.DataFrame(losslist).T\n",
    "lossdf"
   ]
  },
  {
   "cell_type": "code",
   "execution_count": 39,
   "metadata": {},
   "outputs": [],
   "source": [
    "# add a column to the df with the sample_num\n",
    "lossdf['loss_mutual'] = (lossdf.loss_TST-lossdf.loss_TGTSF)/lossdf.loss_TST"
   ]
  },
  {
   "cell_type": "code",
   "execution_count": 40,
   "metadata": {},
   "outputs": [
    {
     "data": {
      "application/vnd.microsoft.datawrangler.viewer.v0+json": {
       "columns": [
        {
         "name": "index",
         "rawType": "int64",
         "type": "integer"
        },
        {
         "name": "loss_TST",
         "rawType": "float64",
         "type": "float"
        },
        {
         "name": "loss_TGTSF",
         "rawType": "float64",
         "type": "float"
        },
        {
         "name": "loss_mutual",
         "rawType": "float64",
         "type": "float"
        }
       ],
       "conversionMethod": "pd.DataFrame",
       "ref": "40a027e1-4dac-43da-91dd-8c2917176947",
       "rows": [
        [
         "9816",
         "0.31305378675460815",
         "0.0017446012934669852",
         "0.994427151603713"
        ],
        [
         "25080",
         "0.3024316132068634",
         "0.0019729281775653362",
         "0.9934764485873511"
        ],
        [
         "19296",
         "0.38111603260040283",
         "0.0032645221799612045",
         "0.9914343089749151"
        ],
        [
         "9840",
         "0.20882269740104675",
         "0.0018325985874980688",
         "0.9912241408127271"
        ],
        [
         "9096",
         "0.3442448377609253",
         "0.0033951555378735065",
         "0.9901373814057557"
        ],
        [
         "18192",
         "0.09844228625297546",
         "0.0009888834320008755",
         "0.9899546884815367"
        ],
        [
         "16752",
         "0.16300979256629944",
         "0.0016970771830528975",
         "0.9895891089956288"
        ],
        [
         "15696",
         "0.18725882470607758",
         "0.002036257181316614",
         "0.989125974786434"
        ],
        [
         "1320",
         "0.21445363759994507",
         "0.002374412026256323",
         "0.9889280869616878"
        ],
        [
         "6912",
         "0.2841304540634155",
         "0.0031758244149386883",
         "0.9888226539270237"
        ],
        [
         "6888",
         "0.5000218749046326",
         "0.005602353718131781",
         "0.9887957827461042"
        ],
        [
         "25776",
         "0.10225605964660645",
         "0.0011526739690452814",
         "0.9887275729865899"
        ],
        [
         "5448",
         "0.8795344829559326",
         "0.010077671147882938",
         "0.9885420397458279"
        ],
        [
         "26856",
         "0.367431640625",
         "0.004321695305407047",
         "0.9882380970292709"
        ],
        [
         "2256",
         "0.8710117340087891",
         "0.010351413860917091",
         "0.9881156436167913"
        ],
        [
         "18216",
         "0.0884709358215332",
         "0.0010667366441339254",
         "0.987942518814475"
        ],
        [
         "19320",
         "0.2645682692527771",
         "0.0032235169783234596",
         "0.9878159350422948"
        ],
        [
         "25104",
         "0.1357155740261078",
         "0.001674434868618846",
         "0.9876621759835998"
        ],
        [
         "26928",
         "0.10274439305067062",
         "0.0013292732182890177",
         "0.987062328378022"
        ],
        [
         "9864",
         "0.1251271665096283",
         "0.0017331000417470932",
         "0.9861492904371512"
        ],
        [
         "19272",
         "0.5694682598114014",
         "0.008003189228475094",
         "0.9859462066751085"
        ],
        [
         "7152",
         "0.19122210144996643",
         "0.0027403596322983503",
         "0.985669231686509"
        ],
        [
         "18168",
         "0.19596537947654724",
         "0.002855578437447548",
         "0.9854281483541878"
        ],
        [
         "10104",
         "0.42895591259002686",
         "0.00627221679314971",
         "0.9853779453574186"
        ],
        [
         "15672",
         "0.2148338407278061",
         "0.00315106357447803",
         "0.9853325548535418"
        ],
        [
         "14496",
         "0.5975459218025208",
         "0.008985975757241249",
         "0.9849618658091839"
        ],
        [
         "26088",
         "0.14699557423591614",
         "0.002413159469142556",
         "0.983583454932666"
        ],
        [
         "1296",
         "0.22782263159751892",
         "0.003771558403968811",
         "0.9834451986726596"
        ],
        [
         "18816",
         "0.20197533071041107",
         "0.0034128983970731497",
         "0.9831023997580848"
        ],
        [
         "25128",
         "0.08026457577943802",
         "0.001386057585477829",
         "0.9827313908780054"
        ],
        [
         "15408",
         "0.4337008595466614",
         "0.007526454981416464",
         "0.9826459763319729"
        ],
        [
         "9792",
         "0.5955685377120972",
         "0.010577762499451637",
         "0.9822392187806183"
        ],
        [
         "7944",
         "0.1852414458990097",
         "0.0033223177306354046",
         "0.9820649330687763"
        ],
        [
         "17400",
         "0.1892649233341217",
         "0.0034561629872769117",
         "0.981739019959998"
        ],
        [
         "9240",
         "0.08987368643283844",
         "0.0016762828454375267",
         "0.9813484579083089"
        ],
        [
         "26112",
         "0.07507872581481934",
         "0.0014015920460224152",
         "0.9813317017462521"
        ],
        [
         "8256",
         "0.06698479503393173",
         "0.0012647755211219192",
         "0.9811184684452459"
        ],
        [
         "15744",
         "0.09397416561841965",
         "0.0017901323735713959",
         "0.9809508032150006"
        ],
        [
         "25800",
         "0.05144509673118591",
         "0.0010750999208539724",
         "0.9791019943752531"
        ],
        [
         "18840",
         "0.16575229167938232",
         "0.003605720354244113",
         "0.9782463318141101"
        ],
        [
         "10128",
         "0.10837313532829285",
         "0.002404979895800352",
         "0.9778083388607796"
        ],
        [
         "18792",
         "0.6962219476699829",
         "0.01575031876564026",
         "0.9773774457723557"
        ],
        [
         "18144",
         "0.2691805064678192",
         "0.00620023999363184",
         "0.9769662369872497"
        ],
        [
         "9216",
         "0.19815373420715332",
         "0.004628985188901424",
         "0.9766394249019693"
        ],
        [
         "13608",
         "0.6446126699447632",
         "0.015216301195323467",
         "0.9763946600729593"
        ],
        [
         "21072",
         "0.8944333791732788",
         "0.021396588534116745",
         "0.9760780522816651"
        ],
        [
         "6096",
         "0.6987662315368652",
         "0.016877494752407074",
         "0.9758467224220513"
        ],
        [
         "23472",
         "0.61178058385849",
         "0.014802108518779278",
         "0.9758048736600586"
        ],
        [
         "18240",
         "0.06474025547504425",
         "0.0015709197614341974",
         "0.975735039197679"
        ],
        [
         "7968",
         "0.06645415723323822",
         "0.0016128381248563528",
         "0.9757300642727937"
        ]
       ],
       "shape": {
        "columns": 3,
        "rows": 1147
       }
      },
      "text/html": [
       "<div>\n",
       "<style scoped>\n",
       "    .dataframe tbody tr th:only-of-type {\n",
       "        vertical-align: middle;\n",
       "    }\n",
       "\n",
       "    .dataframe tbody tr th {\n",
       "        vertical-align: top;\n",
       "    }\n",
       "\n",
       "    .dataframe thead th {\n",
       "        text-align: right;\n",
       "    }\n",
       "</style>\n",
       "<table border=\"1\" class=\"dataframe\">\n",
       "  <thead>\n",
       "    <tr style=\"text-align: right;\">\n",
       "      <th></th>\n",
       "      <th>loss_TST</th>\n",
       "      <th>loss_TGTSF</th>\n",
       "      <th>loss_mutual</th>\n",
       "    </tr>\n",
       "  </thead>\n",
       "  <tbody>\n",
       "    <tr>\n",
       "      <th>9816</th>\n",
       "      <td>3.130538e-01</td>\n",
       "      <td>0.001745</td>\n",
       "      <td>0.994427</td>\n",
       "    </tr>\n",
       "    <tr>\n",
       "      <th>25080</th>\n",
       "      <td>3.024316e-01</td>\n",
       "      <td>0.001973</td>\n",
       "      <td>0.993476</td>\n",
       "    </tr>\n",
       "    <tr>\n",
       "      <th>19296</th>\n",
       "      <td>3.811160e-01</td>\n",
       "      <td>0.003265</td>\n",
       "      <td>0.991434</td>\n",
       "    </tr>\n",
       "    <tr>\n",
       "      <th>9840</th>\n",
       "      <td>2.088227e-01</td>\n",
       "      <td>0.001833</td>\n",
       "      <td>0.991224</td>\n",
       "    </tr>\n",
       "    <tr>\n",
       "      <th>9096</th>\n",
       "      <td>3.442448e-01</td>\n",
       "      <td>0.003395</td>\n",
       "      <td>0.990137</td>\n",
       "    </tr>\n",
       "    <tr>\n",
       "      <th>...</th>\n",
       "      <td>...</td>\n",
       "      <td>...</td>\n",
       "      <td>...</td>\n",
       "    </tr>\n",
       "    <tr>\n",
       "      <th>25320</th>\n",
       "      <td>5.209364e-08</td>\n",
       "      <td>0.001750</td>\n",
       "      <td>-33596.385014</td>\n",
       "    </tr>\n",
       "    <tr>\n",
       "      <th>25368</th>\n",
       "      <td>5.209364e-08</td>\n",
       "      <td>0.001774</td>\n",
       "      <td>-34049.421053</td>\n",
       "    </tr>\n",
       "    <tr>\n",
       "      <th>25344</th>\n",
       "      <td>5.209364e-08</td>\n",
       "      <td>0.001775</td>\n",
       "      <td>-34065.616155</td>\n",
       "    </tr>\n",
       "    <tr>\n",
       "      <th>17832</th>\n",
       "      <td>4.125366e-08</td>\n",
       "      <td>0.001664</td>\n",
       "      <td>-40326.600541</td>\n",
       "    </tr>\n",
       "    <tr>\n",
       "      <th>17856</th>\n",
       "      <td>3.467107e-08</td>\n",
       "      <td>0.001630</td>\n",
       "      <td>-47001.133435</td>\n",
       "    </tr>\n",
       "  </tbody>\n",
       "</table>\n",
       "<p>1147 rows × 3 columns</p>\n",
       "</div>"
      ],
      "text/plain": [
       "           loss_TST  loss_TGTSF   loss_mutual\n",
       "9816   3.130538e-01    0.001745      0.994427\n",
       "25080  3.024316e-01    0.001973      0.993476\n",
       "19296  3.811160e-01    0.003265      0.991434\n",
       "9840   2.088227e-01    0.001833      0.991224\n",
       "9096   3.442448e-01    0.003395      0.990137\n",
       "...             ...         ...           ...\n",
       "25320  5.209364e-08    0.001750 -33596.385014\n",
       "25368  5.209364e-08    0.001774 -34049.421053\n",
       "25344  5.209364e-08    0.001775 -34065.616155\n",
       "17832  4.125366e-08    0.001664 -40326.600541\n",
       "17856  3.467107e-08    0.001630 -47001.133435\n",
       "\n",
       "[1147 rows x 3 columns]"
      ]
     },
     "execution_count": 40,
     "metadata": {},
     "output_type": "execute_result"
    }
   ],
   "source": [
    "# sort the df by loss_TST\n",
    "lossdf = lossdf.sort_values(by='loss_mutual', ascending=False)\n",
    "lossdf"
   ]
  },
  {
   "cell_type": "code",
   "execution_count": 41,
   "metadata": {},
   "outputs": [
    {
     "data": {
      "text/plain": [
       "loss_TST         0.238918\n",
       "loss_TGTSF       0.151082\n",
       "loss_mutual   -394.026704\n",
       "dtype: float64"
      ]
     },
     "execution_count": 41,
     "metadata": {},
     "output_type": "execute_result"
    }
   ],
   "source": [
    "# average loss\n",
    "lossdf.mean()\n"
   ]
  },
  {
   "cell_type": "code",
   "execution_count": 56,
   "metadata": {},
   "outputs": [
    {
     "data": {
      "text/plain": [
       "165"
      ]
     },
     "execution_count": 56,
     "metadata": {},
     "output_type": "execute_result"
    }
   ],
   "source": [
    "sum(lossdf.loss_mutual>0.9)"
   ]
  },
  {
   "cell_type": "code",
   "execution_count": 35,
   "metadata": {},
   "outputs": [
    {
     "data": {
      "image/png": "[encoded data removed]",
      "text/plain": [
       "<Figure size 1000x500 with 3 Axes>"
      ]
     },
     "metadata": {},
     "output_type": "display_data"
    }
   ],
   "source": [
    "# plot the distribution of these losses\n",
    "plt.figure(figsize=(10, 5))\n",
    "plt.subplot(1, 3, 1)\n",
    "plt.hist(lossdf['loss_TST'], bins=50)\n",
    "plt.title('loss_TST')\n",
    "plt.subplot(1, 3, 2)\n",
    "plt.hist(lossdf['loss_TGTSF'], bins=50)\n",
    "plt.title('loss_TGTSF')\n",
    "plt.subplot(1, 3, 3)\n",
    "plt.hist(lossdf['loss_mutual'], bins=50)\n",
    "plt.title('loss_mutual')\n",
    "plt.show()"
   ]
  },
  {
   "cell_type": "code",
   "execution_count": 81,
   "metadata": {},
   "outputs": [],
   "source": [
    "def get_reasoning_samples(lossdf):\n",
    "    lossdf['loss_mutual'] = (lossdf.loss_TST-lossdf.loss_TGTSF)/lossdf.loss_TST\n",
    "    lossdf_ok = lossdf[lossdf.loss_mutual > -10]\n",
    "    lossdf_pos = lossdf_ok[lossdf_ok.loss_mutual > 0]\n",
    "    lossdf_neg = lossdf_ok[lossdf_ok.loss_mutual < 0]\n",
    "    prob_pos = lossdf_pos['loss_mutual'] / sum(lossdf_pos['loss_mutual'])\n",
    "    prob_neg = lossdf_neg['loss_mutual'] / sum(lossdf_neg['loss_mutual'])\n",
    "    sample_num_pos = int(len(lossdf_pos) * 0.1)\n",
    "    sample_num_neg = int(len(lossdf_neg) * 0.1)\n",
    "    sample_pos = np.random.choice(lossdf_pos.index, sample_num_pos, p=prob_pos)\n",
    "    sample_neg = np.random.choice(lossdf_neg.index, sample_num_neg, p=prob_neg)\n",
    "    samples = np.concatenate((sample_pos, sample_neg))\n",
    "    return samples.tolist()"
   ]
  },
  {
   "cell_type": "code",
   "execution_count": 58,
   "metadata": {},
   "outputs": [
    {
     "data": {
      "text/plain": [
       "347"
      ]
     },
     "execution_count": 58,
     "metadata": {},
     "output_type": "execute_result"
    }
   ],
   "source": [
    "sum(lossdf['loss_TST']-lossdf['loss_TGTSF']<0)"
   ]
  },
  {
   "cell_type": "code",
   "execution_count": 59,
   "metadata": {},
   "outputs": [
    {
     "data": {
      "application/vnd.microsoft.datawrangler.viewer.v0+json": {
       "columns": [
        {
         "name": "index",
         "rawType": "int64",
         "type": "integer"
        },
        {
         "name": "loss_TST",
         "rawType": "float64",
         "type": "float"
        },
        {
         "name": "loss_TGTSF",
         "rawType": "float64",
         "type": "float"
        },
        {
         "name": "loss_mutual",
         "rawType": "float64",
         "type": "float"
        }
       ],
       "conversionMethod": "pd.DataFrame",
       "ref": "e2fd5258-d414-4e5c-b0c5-aa9c0cadbf42",
       "rows": [
        [
         "4920",
         "0.16813600063323975",
         "0.16823232173919678",
         "-0.000572876157362274"
        ],
        [
         "13128",
         "0.08036655187606812",
         "0.08042744547128677",
         "-0.0007576982438236422"
        ],
        [
         "12552",
         "0.13246308267116547",
         "0.13277429342269897",
         "-0.00234941498610656"
        ],
        [
         "3576",
         "0.24461953341960907",
         "0.24524375796318054",
         "-0.0025518180614820573"
        ],
        [
         "10032",
         "0.2042212188243866",
         "0.2050756812095642",
         "-0.004184003944822107"
        ],
        [
         "2760",
         "0.1537216752767563",
         "0.1543746292591095",
         "-0.004247637694408743"
        ],
        [
         "16728",
         "0.11879145354032516",
         "0.1193728893995285",
         "-0.004894593355623545"
        ],
        [
         "18048",
         "0.13900883495807648",
         "0.13999326527118683",
         "-0.0070817823443182215"
        ],
        [
         "5544",
         "0.3256269693374634",
         "0.3280584514141083",
         "-0.007467078300031813"
        ],
        [
         "4536",
         "0.0428323820233345",
         "0.04337126016616821",
         "-0.012581092093830695"
        ],
        [
         "26832",
         "0.13025175034999847",
         "0.13241390883922577",
         "-0.016599842101295188"
        ],
        [
         "2184",
         "0.26290857791900635",
         "0.26874983310699463",
         "-0.022217818962863144"
        ],
        [
         "22344",
         "0.2611582279205322",
         "0.26902902126312256",
         "-0.030138025538239344"
        ],
        [
         "2856",
         "0.16746167838573456",
         "0.1728811264038086",
         "-0.032362317578059685"
        ],
        [
         "18720",
         "0.29972004890441895",
         "0.30983060598373413",
         "-0.03373333587884023"
        ],
        [
         "12792",
         "0.12921445071697235",
         "0.13384953141212463",
         "-0.03587122546614257"
        ],
        [
         "23400",
         "0.3034919202327728",
         "0.3144967555999756",
         "-0.03626071942462998"
        ],
        [
         "7704",
         "0.18433287739753723",
         "0.19119104743003845",
         "-0.03720535440734594"
        ],
        [
         "24600",
         "0.11938464641571045",
         "0.12437742948532104",
         "-0.04182098133645407"
        ],
        [
         "12648",
         "0.17834070324897766",
         "0.18618075549602509",
         "-0.04396109303271107"
        ],
        [
         "16368",
         "0.08489065617322922",
         "0.08974187076091766",
         "-0.057146626099684995"
        ],
        [
         "7344",
         "0.0017290891846641898",
         "0.00182943360414356",
         "-0.05803310804865061"
        ],
        [
         "21864",
         "0.40078872442245483",
         "0.42424917221069336",
         "-0.05853569813383731"
        ],
        [
         "21432",
         "0.2976885139942169",
         "0.3151261806488037",
         "-0.05857688770257877"
        ],
        [
         "21048",
         "0.3092096447944641",
         "0.3287619352340698",
         "-0.06323311956392041"
        ],
        [
         "11352",
         "0.18935292959213257",
         "0.2020704746246338",
         "-0.06716318073290387"
        ],
        [
         "25680",
         "0.17136798799037933",
         "0.18295249342918396",
         "-0.06760017185622197"
        ],
        [
         "3600",
         "0.33252406120300293",
         "0.35595017671585083",
         "-0.07044938470947662"
        ],
        [
         "24096",
         "0.34478145837783813",
         "0.36943358182907104",
         "-0.07150072271060821"
        ],
        [
         "16824",
         "0.02309262566268444",
         "0.024754716083407402",
         "-0.07197494321352754"
        ],
        [
         "3792",
         "0.19371823966503143",
         "0.20792484283447266",
         "-0.07333642507802374"
        ],
        [
         "10992",
         "0.20182764530181885",
         "0.2166460007429123",
         "-0.07342084093055563"
        ],
        [
         "12888",
         "0.0933951735496521",
         "0.100692018866539",
         "-0.07812871949970356"
        ],
        [
         "480",
         "0.0569077804684639",
         "0.06141364201903343",
         "-0.07917830415239106"
        ],
        [
         "26016",
         "0.21459335088729858",
         "0.2317276895046234",
         "-0.07984561752019774"
        ],
        [
         "25488",
         "0.0007894574664533138",
         "0.0008536456152796745",
         "-0.08130665875481538"
        ],
        [
         "3720",
         "0.18137916922569275",
         "0.1967562884092331",
         "-0.0847788599384661"
        ],
        [
         "20808",
         "0.1803780198097229",
         "0.19694730639457703",
         "-0.09185867880317529"
        ],
        [
         "6336",
         "0.4172123372554779",
         "0.4557141959667206",
         "-0.09228360542863394"
        ],
        [
         "21216",
         "0.27658170461654663",
         "0.3030931353569031",
         "-0.09585388439597602"
        ],
        [
         "13872",
         "0.18296775221824646",
         "0.2006388008594513",
         "-0.09658012642646756"
        ],
        [
         "1752",
         "0.16145732998847961",
         "0.17767593264579773",
         "-0.1004513245603365"
        ],
        [
         "19488",
         "0.026435744017362595",
         "0.02914958819746971",
         "-0.10265813507366031"
        ],
        [
         "7800",
         "0.06934034824371338",
         "0.07656840980052948",
         "-0.10424034115622459"
        ],
        [
         "25512",
         "0.0019113407470285892",
         "0.002117214724421501",
         "-0.10771181314109897"
        ],
        [
         "1248",
         "0.8303279280662537",
         "0.9208037257194519",
         "-0.1089639341216751"
        ],
        [
         "24888",
         "0.11013945937156677",
         "0.12352737784385681",
         "-0.12155424176474774"
        ],
        [
         "13032",
         "0.18367481231689453",
         "0.20615482330322266",
         "-0.12239027606868227"
        ],
        [
         "13896",
         "0.36267155408859253",
         "0.40810471773147583",
         "-0.12527357916740556"
        ],
        [
         "20088",
         "0.22386138141155243",
         "0.25194069743156433",
         "-0.12543171065486358"
        ]
       ],
       "shape": {
        "columns": 3,
        "rows": 347
       }
      },
      "text/html": [
       "<div>\n",
       "<style scoped>\n",
       "    .dataframe tbody tr th:only-of-type {\n",
       "        vertical-align: middle;\n",
       "    }\n",
       "\n",
       "    .dataframe tbody tr th {\n",
       "        vertical-align: top;\n",
       "    }\n",
       "\n",
       "    .dataframe thead th {\n",
       "        text-align: right;\n",
       "    }\n",
       "</style>\n",
       "<table border=\"1\" class=\"dataframe\">\n",
       "  <thead>\n",
       "    <tr style=\"text-align: right;\">\n",
       "      <th></th>\n",
       "      <th>loss_TST</th>\n",
       "      <th>loss_TGTSF</th>\n",
       "      <th>loss_mutual</th>\n",
       "    </tr>\n",
       "  </thead>\n",
       "  <tbody>\n",
       "    <tr>\n",
       "      <th>4920</th>\n",
       "      <td>1.681360e-01</td>\n",
       "      <td>0.168232</td>\n",
       "      <td>-0.000573</td>\n",
       "    </tr>\n",
       "    <tr>\n",
       "      <th>13128</th>\n",
       "      <td>8.036655e-02</td>\n",
       "      <td>0.080427</td>\n",
       "      <td>-0.000758</td>\n",
       "    </tr>\n",
       "    <tr>\n",
       "      <th>12552</th>\n",
       "      <td>1.324631e-01</td>\n",
       "      <td>0.132774</td>\n",
       "      <td>-0.002349</td>\n",
       "    </tr>\n",
       "    <tr>\n",
       "      <th>3576</th>\n",
       "      <td>2.446195e-01</td>\n",
       "      <td>0.245244</td>\n",
       "      <td>-0.002552</td>\n",
       "    </tr>\n",
       "    <tr>\n",
       "      <th>10032</th>\n",
       "      <td>2.042212e-01</td>\n",
       "      <td>0.205076</td>\n",
       "      <td>-0.004184</td>\n",
       "    </tr>\n",
       "    <tr>\n",
       "      <th>...</th>\n",
       "      <td>...</td>\n",
       "      <td>...</td>\n",
       "      <td>...</td>\n",
       "    </tr>\n",
       "    <tr>\n",
       "      <th>25320</th>\n",
       "      <td>5.209364e-08</td>\n",
       "      <td>0.001750</td>\n",
       "      <td>-33596.385014</td>\n",
       "    </tr>\n",
       "    <tr>\n",
       "      <th>25368</th>\n",
       "      <td>5.209364e-08</td>\n",
       "      <td>0.001774</td>\n",
       "      <td>-34049.421053</td>\n",
       "    </tr>\n",
       "    <tr>\n",
       "      <th>25344</th>\n",
       "      <td>5.209364e-08</td>\n",
       "      <td>0.001775</td>\n",
       "      <td>-34065.616155</td>\n",
       "    </tr>\n",
       "    <tr>\n",
       "      <th>17832</th>\n",
       "      <td>4.125366e-08</td>\n",
       "      <td>0.001664</td>\n",
       "      <td>-40326.600541</td>\n",
       "    </tr>\n",
       "    <tr>\n",
       "      <th>17856</th>\n",
       "      <td>3.467107e-08</td>\n",
       "      <td>0.001630</td>\n",
       "      <td>-47001.133435</td>\n",
       "    </tr>\n",
       "  </tbody>\n",
       "</table>\n",
       "<p>347 rows × 3 columns</p>\n",
       "</div>"
      ],
      "text/plain": [
       "           loss_TST  loss_TGTSF   loss_mutual\n",
       "4920   1.681360e-01    0.168232     -0.000573\n",
       "13128  8.036655e-02    0.080427     -0.000758\n",
       "12552  1.324631e-01    0.132774     -0.002349\n",
       "3576   2.446195e-01    0.245244     -0.002552\n",
       "10032  2.042212e-01    0.205076     -0.004184\n",
       "...             ...         ...           ...\n",
       "25320  5.209364e-08    0.001750 -33596.385014\n",
       "25368  5.209364e-08    0.001774 -34049.421053\n",
       "25344  5.209364e-08    0.001775 -34065.616155\n",
       "17832  4.125366e-08    0.001664 -40326.600541\n",
       "17856  3.467107e-08    0.001630 -47001.133435\n",
       "\n",
       "[347 rows x 3 columns]"
      ]
     },
     "execution_count": 59,
     "metadata": {},
     "output_type": "execute_result"
    }
   ],
   "source": [
    "# get the rows that have loss_TST - loss_TGTSF < 0\n",
    "lossdf[lossdf['loss_TST']-lossdf['loss_TGTSF']<0].sort_values(by='loss_mutual', ascending=False)"
   ]
  },
  {
   "cell_type": "code",
   "execution_count": 65,
   "metadata": {},
   "outputs": [],
   "source": [
    "# remove the lines that have |loss_mutual| >10\n",
    "lossdf_ok = lossdf[lossdf['loss_mutual']>-10]\n",
    "lossdf_pos = lossdf_ok[lossdf_ok['loss_mutual']>0]\n",
    "lossdf_neg = lossdf_ok[lossdf_ok['loss_mutual']<0]"
   ]
  },
  {
   "cell_type": "code",
   "execution_count": 74,
   "metadata": {},
   "outputs": [
    {
     "data": {
      "text/plain": [
       "array([15336,  4056, 19968, 21744, 23232, 20640, 10872, 22248,  6264,\n",
       "        8616, 25104, 11760, 15312, 10080, 18456, 23040,  8328, 15888,\n",
       "       17496, 20952,  6720,  2832, 12528, 18816,   576,   240,  9552,\n",
       "        5640, 25776, 24408, 10536, 23112,  3408, 19248, 24936, 27456,\n",
       "       11304,  7152,  4248, 25776, 10464, 13944, 19224,  6216, 13560,\n",
       "       22824,  4680, 15768, 20880, 24072,  1608, 19512, 26160, 12384,\n",
       "       13560, 10512, 18648,  6672, 18288,  7536,  6792,  9336, 25032,\n",
       "        2112, 14904,  7224, 26184, 22896, 23064, 12312, 24408,  7968,\n",
       "       14616,   456, 19416,  7968, 13608, 22632,  3408, 13680])"
      ]
     },
     "execution_count": 74,
     "metadata": {},
     "output_type": "execute_result"
    }
   ],
   "source": [
    "# do importance sampling over the loss_mutual\n",
    "prob = lossdf_pos['loss_mutual'] / sum(lossdf_pos['loss_mutual'])\n",
    "# sample 10% of the data\n",
    "sample_num = int(len(lossdf_pos) * 0.1)\n",
    "samples = np.random.choice(lossdf_pos.index, sample_num, p=prob)\n",
    "samples"
   ]
  },
  {
   "cell_type": "code",
   "execution_count": 78,
   "metadata": {},
   "outputs": [],
   "source": [
    "prob_neg = lossdf_neg['loss_mutual'] / sum(lossdf_neg['loss_mutual'])\n",
    "# sample 10% of the data\n",
    "sample_num = int(len(lossdf_neg) * 0.1)\n",
    "samples_neg = np.random.choice(lossdf_neg.index, sample_num, p=prob_neg)\n",
    "samples_neg\n",
    "# combine the two samples\n",
    "samples = np.concatenate((samples, samples_neg))\n",
    "samples = np.unique(samples)"
   ]
  },
  {
   "cell_type": "code",
   "execution_count": 80,
   "metadata": {},
   "outputs": [
    {
     "data": {
      "application/vnd.microsoft.datawrangler.viewer.v0+json": {
       "columns": [
        {
         "name": "index",
         "rawType": "int64",
         "type": "integer"
        },
        {
         "name": "loss_TST",
         "rawType": "float64",
         "type": "float"
        },
        {
         "name": "loss_TGTSF",
         "rawType": "float64",
         "type": "float"
        },
        {
         "name": "loss_mutual",
         "rawType": "float64",
         "type": "float"
        }
       ],
       "conversionMethod": "pd.DataFrame",
       "ref": "7296604e-f4fb-44d7-81e7-d931d0b5e1e8",
       "rows": [
        [
         "25776",
         "0.10225605964660645",
         "0.0011526739690452814",
         "0.9887275729865899"
        ],
        [
         "25104",
         "0.1357155740261078",
         "0.001674434868618846",
         "0.9876621759835998"
        ],
        [
         "7152",
         "0.19122210144996643",
         "0.0027403596322983503",
         "0.985669231686509"
        ],
        [
         "18816",
         "0.20197533071041107",
         "0.0034128983970731497",
         "0.9831023997580848"
        ],
        [
         "13608",
         "0.6446126699447632",
         "0.015216301195323467",
         "0.9763946600729593"
        ],
        [
         "7968",
         "0.06645415723323822",
         "0.0016128381248563528",
         "0.9757300642727937"
        ],
        [
         "19248",
         "0.9412417411804199",
         "0.02338123880326748",
         "0.9751591564841303"
        ],
        [
         "7224",
         "0.07679254561662674",
         "0.001937574241310358",
         "0.974768719727259"
        ],
        [
         "22824",
         "0.6914680004119873",
         "0.01804260164499283",
         "0.9739068161733547"
        ],
        [
         "17496",
         "0.14502370357513428",
         "0.003985031973570585",
         "0.9725215128607855"
        ],
        [
         "4056",
         "0.31991612911224365",
         "0.009518077597022057",
         "0.9702482096684703"
        ],
        [
         "8328",
         "0.03079730086028576",
         "0.0010737426346167922",
         "0.9651351707901966"
        ],
        [
         "576",
         "0.18824705481529236",
         "0.007035539485514164",
         "0.9626260315604012"
        ],
        [
         "6216",
         "0.25062236189842224",
         "0.009768045507371426",
         "0.9610248445773948"
        ],
        [
         "6264",
         "0.147649884223938",
         "0.006143718492239714",
         "0.9583899538795327"
        ],
        [
         "10464",
         "0.2661094069480896",
         "0.014474218711256981",
         "0.945608015600589"
        ],
        [
         "15312",
         "0.15600600838661194",
         "0.00856463797390461",
         "0.945100588993471"
        ],
        [
         "15336",
         "0.1209331601858139",
         "0.006854727398604155",
         "0.9433180495070842"
        ],
        [
         "2832",
         "0.9246672987937927",
         "0.054443955421447754",
         "0.9411204922111244"
        ],
        [
         "12528",
         "0.8792209625244141",
         "0.05430424213409424",
         "0.9382359560921111"
        ],
        [
         "240",
         "0.18477892875671387",
         "0.011577369645237923",
         "0.9373447517899561"
        ],
        [
         "6672",
         "0.12148825824260712",
         "0.008408067747950554",
         "0.9307911079673232"
        ],
        [
         "26160",
         "0.02560279332101345",
         "0.0017840757500380278",
         "0.9303171443963597"
        ],
        [
         "24408",
         "0.5576574802398682",
         "0.03945234417915344",
         "0.9292534475424169"
        ],
        [
         "11760",
         "0.45122432708740234",
         "0.0325637087225914",
         "0.9278325507563252"
        ],
        [
         "26184",
         "0.025167446583509445",
         "0.001817880431190133",
         "0.9277685789395389"
        ],
        [
         "24072",
         "0.26190441846847534",
         "0.019338484853506088",
         "0.926162051917296"
        ],
        [
         "18648",
         "0.45925554633140564",
         "0.035547010600566864",
         "0.9225986253524402"
        ],
        [
         "6720",
         "0.23411564528942108",
         "0.020425841212272644",
         "0.9127531985868711"
        ],
        [
         "10872",
         "0.3086959719657898",
         "0.03379485756158829",
         "0.8905238142681904"
        ],
        [
         "20640",
         "0.6466816067695618",
         "0.07474963366985321",
         "0.8844104534791734"
        ],
        [
         "5640",
         "0.14550338685512543",
         "0.021752556785941124",
         "0.8505013714381805"
        ],
        [
         "14904",
         "0.42888158559799194",
         "0.06601180136203766",
         "0.8460838525627137"
        ],
        [
         "9552",
         "0.4871537685394287",
         "0.07684092223644257",
         "0.8422655695206362"
        ],
        [
         "24936",
         "0.15853655338287354",
         "0.025223640725016594",
         "0.8408970033295712"
        ],
        [
         "4248",
         "0.34109997749328613",
         "0.05622265487909317",
         "0.835172504870072"
        ],
        [
         "19968",
         "0.3851519525051117",
         "0.06747505068778992",
         "0.8248092726807755"
        ],
        [
         "10512",
         "0.18926042318344116",
         "0.03386644273996353",
         "0.8210590351098476"
        ],
        [
         "7536",
         "0.2028706967830658",
         "0.03708198294043541",
         "0.8172137054367787"
        ],
        [
         "9336",
         "0.009508246555924416",
         "0.002049192553386092",
         "0.7844826024090343"
        ],
        [
         "19224",
         "0.4529202878475189",
         "0.097743920981884",
         "0.7841917803099369"
        ],
        [
         "22896",
         "0.25579506158828735",
         "0.05858452245593071",
         "0.7709708620167777"
        ],
        [
         "20880",
         "0.7763883471488953",
         "0.17841807007789612",
         "0.7701948119995685"
        ],
        [
         "456",
         "0.3652389943599701",
         "0.08721940964460373",
         "0.7611990751495649"
        ],
        [
         "10536",
         "0.13713933527469635",
         "0.03422769159078598",
         "0.750416672778628"
        ],
        [
         "14616",
         "0.5949416160583496",
         "0.1538972109556198",
         "0.7413238428751534"
        ],
        [
         "23112",
         "0.9790477156639099",
         "0.2620701491832733",
         "0.7323213720941488"
        ],
        [
         "13560",
         "0.38965439796447754",
         "0.11191920936107635",
         "0.7127731396187671"
        ],
        [
         "27456",
         "0.26235318183898926",
         "0.07591454684734344",
         "0.7106398850770046"
        ],
        [
         "8616",
         "0.16968068480491638",
         "0.05268212780356407",
         "0.6895219519880341"
        ]
       ],
       "shape": {
        "columns": 3,
        "rows": 102
       }
      },
      "text/html": [
       "<div>\n",
       "<style scoped>\n",
       "    .dataframe tbody tr th:only-of-type {\n",
       "        vertical-align: middle;\n",
       "    }\n",
       "\n",
       "    .dataframe tbody tr th {\n",
       "        vertical-align: top;\n",
       "    }\n",
       "\n",
       "    .dataframe thead th {\n",
       "        text-align: right;\n",
       "    }\n",
       "</style>\n",
       "<table border=\"1\" class=\"dataframe\">\n",
       "  <thead>\n",
       "    <tr style=\"text-align: right;\">\n",
       "      <th></th>\n",
       "      <th>loss_TST</th>\n",
       "      <th>loss_TGTSF</th>\n",
       "      <th>loss_mutual</th>\n",
       "    </tr>\n",
       "  </thead>\n",
       "  <tbody>\n",
       "    <tr>\n",
       "      <th>25776</th>\n",
       "      <td>0.102256</td>\n",
       "      <td>0.001153</td>\n",
       "      <td>0.988728</td>\n",
       "    </tr>\n",
       "    <tr>\n",
       "      <th>25104</th>\n",
       "      <td>0.135716</td>\n",
       "      <td>0.001674</td>\n",
       "      <td>0.987662</td>\n",
       "    </tr>\n",
       "    <tr>\n",
       "      <th>7152</th>\n",
       "      <td>0.191222</td>\n",
       "      <td>0.002740</td>\n",
       "      <td>0.985669</td>\n",
       "    </tr>\n",
       "    <tr>\n",
       "      <th>18816</th>\n",
       "      <td>0.201975</td>\n",
       "      <td>0.003413</td>\n",
       "      <td>0.983102</td>\n",
       "    </tr>\n",
       "    <tr>\n",
       "      <th>13608</th>\n",
       "      <td>0.644613</td>\n",
       "      <td>0.015216</td>\n",
       "      <td>0.976395</td>\n",
       "    </tr>\n",
       "    <tr>\n",
       "      <th>...</th>\n",
       "      <td>...</td>\n",
       "      <td>...</td>\n",
       "      <td>...</td>\n",
       "    </tr>\n",
       "    <tr>\n",
       "      <th>9480</th>\n",
       "      <td>0.090610</td>\n",
       "      <td>0.534219</td>\n",
       "      <td>-4.895814</td>\n",
       "    </tr>\n",
       "    <tr>\n",
       "      <th>1704</th>\n",
       "      <td>0.195938</td>\n",
       "      <td>1.357213</td>\n",
       "      <td>-5.926759</td>\n",
       "    </tr>\n",
       "    <tr>\n",
       "      <th>17088</th>\n",
       "      <td>0.016676</td>\n",
       "      <td>0.119016</td>\n",
       "      <td>-6.136770</td>\n",
       "    </tr>\n",
       "    <tr>\n",
       "      <th>27096</th>\n",
       "      <td>0.000212</td>\n",
       "      <td>0.001577</td>\n",
       "      <td>-6.432513</td>\n",
       "    </tr>\n",
       "    <tr>\n",
       "      <th>24672</th>\n",
       "      <td>0.094945</td>\n",
       "      <td>0.803316</td>\n",
       "      <td>-7.460820</td>\n",
       "    </tr>\n",
       "  </tbody>\n",
       "</table>\n",
       "<p>102 rows × 3 columns</p>\n",
       "</div>"
      ],
      "text/plain": [
       "       loss_TST  loss_TGTSF  loss_mutual\n",
       "25776  0.102256    0.001153     0.988728\n",
       "25104  0.135716    0.001674     0.987662\n",
       "7152   0.191222    0.002740     0.985669\n",
       "18816  0.201975    0.003413     0.983102\n",
       "13608  0.644613    0.015216     0.976395\n",
       "...         ...         ...          ...\n",
       "9480   0.090610    0.534219    -4.895814\n",
       "1704   0.195938    1.357213    -5.926759\n",
       "17088  0.016676    0.119016    -6.136770\n",
       "27096  0.000212    0.001577    -6.432513\n",
       "24672  0.094945    0.803316    -7.460820\n",
       "\n",
       "[102 rows x 3 columns]"
      ]
     },
     "execution_count": 80,
     "metadata": {},
     "output_type": "execute_result"
    }
   ],
   "source": [
    "# get the samples rows from the lossdf\n",
    "lossdf.loc[samples].sort_values(by='loss_mutual', ascending=False)"
   ]
  },
  {
   "cell_type": "code",
   "execution_count": 64,
   "metadata": {},
   "outputs": [
    {
     "data": {
      "text/plain": [
       "<matplotlib.legend.Legend at 0x7fb28423ec10>"
      ]
     },
     "execution_count": 64,
     "metadata": {},
     "output_type": "execute_result"
    },
    {
     "data": {
      "image/png": "[encoded data removed]",
      "text/plain": [
       "<Figure size 640x480 with 1 Axes>"
      ]
     },
     "metadata": {},
     "output_type": "display_data"
    }
   ],
   "source": [
    "sample_num = 4272#2256#20136\n",
    "batch_x, batch_y, timestamp_x, timestamp_y, batch_x_hetero, batch_y_hetero, hetero_x_time, hetero_y_time, hetero_general, hetero_channel = fullsets['314106'][sample_num]\n",
    "\n",
    "batch_x = torch.tensor(batch_x).unsqueeze(0).float().to(config.device)\n",
    "batch_y = torch.tensor(batch_y).unsqueeze(0).float().to(config.device)\n",
    "batch_y_hetero = torch.tensor(batch_y_hetero).unsqueeze(0).float().to(config.device)\n",
    "hetero_channel = torch.tensor(hetero_channel).unsqueeze(0).float().to(config.device)\n",
    "\n",
    "output_TST = model_TST(x=batch_x)\n",
    "output_TST = output_TST[:, -config.output_len:, :]\n",
    "\n",
    "output_TGTSF = model_TGTSF(x=batch_x, historical_events =batch_x_hetero, news = batch_y_hetero, dataset_description=hetero_general, channel_description=hetero_channel)\n",
    "output_TGTSF = output_TGTSF[:, -config.output_len:, :]\n",
    "\n",
    "\n",
    "\n",
    "indate = [str(i) for i in timestamp_x]\n",
    "outdate = [str(i) for i in timestamp_y]\n",
    "# convert the yyyymmddHHMMSS to datetime\n",
    "indate = pd.to_datetime(indate, format='%Y%m%d%H%M%S')\n",
    "outdate = pd.to_datetime(outdate, format='%Y%m%d%H%M%S')\n",
    "# reformat the indate as datetime\n",
    "# plot the result\n",
    "# enable inline plotting\n",
    "%matplotlib inline\n",
    "plt.plot(indate, batch_x.cpu().detach().numpy().squeeze(), label='input')\n",
    "plt.plot(outdate, batch_y.cpu().detach().numpy().squeeze(), label='target')\n",
    "plt.plot(outdate, output_TST.cpu().detach().numpy().squeeze(), label='PatchTST')\n",
    "plt.plot(outdate, output_TGTSF.cpu().detach().numpy().squeeze(), label='TGTSF')\n",
    "plt.legend()"
   ]
  },
  {
   "cell_type": "code",
   "execution_count": null,
   "metadata": {},
   "outputs": [],
   "source": []
  }
 ],
 "metadata": {
  "kernelspec": {
   "display_name": "uni2ts",
   "language": "python",
   "name": "python3"
  },
  "language_info": {
   "codemirror_mode": {
    "name": "ipython",
    "version": 3
   },
   "file_extension": ".py",
   "mimetype": "text/x-python",
   "name": "python",
   "nbconvert_exporter": "python",
   "pygments_lexer": "ipython3",
   "version": "3.11.0"
  }
 },
 "nbformat": 4,
 "nbformat_minor": 2
}
