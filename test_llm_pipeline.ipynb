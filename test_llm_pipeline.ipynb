{
 "cells": [
  {
   "cell_type": "code",
   "execution_count": 1,
   "metadata": {},
   "outputs": [],
   "source": [
    "import pandas as pd\n",
    "import numpy as np\n",
    "import torch\n",
    "from data_provider.data_factory import Data_Provider\n",
    "import yaml, json\n",
    "from utils.tools import dotdict"
   ]
  },
  {
   "cell_type": "code",
   "execution_count": 2,
   "metadata": {},
   "outputs": [],
   "source": [
    "# load json\n",
    "with open('checkpoints/03-11-0936_FITS_solar_day_ahead/args.json', 'r') as f:\n",
    "    args = json.load(f)\n",
    "args = dotdict(args)"
   ]
  },
  {
   "cell_type": "code",
   "execution_count": 3,
   "metadata": {},
   "outputs": [],
   "source": [
    "# load yaml\n",
    "with open('./data_configs/fullsolar_hetero.yaml') as f:\n",
    "    data_config = yaml.load(f, Loader=yaml.FullLoader)\n",
    "data_config = dotdict(data_config)\n",
    "args.data_config = data_config\n",
    "\n",
    "args.scale = False # disable the normalization"
   ]
  },
  {
   "cell_type": "code",
   "execution_count": 4,
   "metadata": {},
   "outputs": [
    {
     "name": "stdout",
     "output_type": "stream",
     "text": [
      "[ info ] Successfully load the dynamic data from fast_general_weather_forecast_????.json\n"
     ]
    }
   ],
   "source": [
    "a=Data_Provider(args, buffer=(not args.disable_buffer))"
   ]
  },
  {
   "cell_type": "code",
   "execution_count": 5,
   "metadata": {},
   "outputs": [
    {
     "name": "stderr",
     "output_type": "stream",
     "text": [
      "Loading val datasets:  11%|█         | 1/9 [00:00<00:05,  1.56it/s]"
     ]
    },
    {
     "name": "stdout",
     "output_type": "stream",
     "text": [
      "Add data /data/Blob_WestJP/v-zhijianxu/Benchmark/fullsolar/impute_data/id_314106.parquet to buffer\n"
     ]
    },
    {
     "name": "stderr",
     "output_type": "stream",
     "text": [
      "Loading val datasets:  22%|██▏       | 2/9 [00:01<00:03,  1.83it/s]"
     ]
    },
    {
     "name": "stdout",
     "output_type": "stream",
     "text": [
      "Add data /data/Blob_WestJP/v-zhijianxu/Benchmark/fullsolar/impute_data/id_319086.parquet to buffer\n"
     ]
    },
    {
     "name": "stderr",
     "output_type": "stream",
     "text": [
      "Loading val datasets:  33%|███▎      | 3/9 [00:01<00:03,  1.81it/s]"
     ]
    },
    {
     "name": "stdout",
     "output_type": "stream",
     "text": [
      "Add data /data/Blob_WestJP/v-zhijianxu/Benchmark/fullsolar/impute_data/id_164440.parquet to buffer\n"
     ]
    },
    {
     "name": "stderr",
     "output_type": "stream",
     "text": [
      "Loading val datasets:  44%|████▍     | 4/9 [00:02<00:02,  1.76it/s]"
     ]
    },
    {
     "name": "stdout",
     "output_type": "stream",
     "text": [
      "Add data /data/Blob_WestJP/v-zhijianxu/Benchmark/fullsolar/impute_data/id_355827.parquet to buffer\n"
     ]
    },
    {
     "name": "stderr",
     "output_type": "stream",
     "text": [
      "Loading val datasets:  56%|█████▌    | 5/9 [00:02<00:02,  1.73it/s]"
     ]
    },
    {
     "name": "stdout",
     "output_type": "stream",
     "text": [
      "Add data /data/Blob_WestJP/v-zhijianxu/Benchmark/fullsolar/impute_data/id_331901.parquet to buffer\n"
     ]
    },
    {
     "name": "stderr",
     "output_type": "stream",
     "text": [
      "Loading val datasets:  67%|██████▋   | 6/9 [00:03<00:01,  1.81it/s]"
     ]
    },
    {
     "name": "stdout",
     "output_type": "stream",
     "text": [
      "Add data /data/Blob_WestJP/v-zhijianxu/Benchmark/fullsolar/impute_data/id_332785.parquet to buffer\n"
     ]
    },
    {
     "name": "stderr",
     "output_type": "stream",
     "text": [
      "Loading val datasets:  78%|███████▊  | 7/9 [00:03<00:01,  1.78it/s]"
     ]
    },
    {
     "name": "stdout",
     "output_type": "stream",
     "text": [
      "Add data /data/Blob_WestJP/v-zhijianxu/Benchmark/fullsolar/impute_data/id_577650.parquet to buffer\n"
     ]
    },
    {
     "name": "stderr",
     "output_type": "stream",
     "text": [
      "Loading val datasets:  89%|████████▉ | 8/9 [00:04<00:00,  1.87it/s]"
     ]
    },
    {
     "name": "stdout",
     "output_type": "stream",
     "text": [
      "Add data /data/Blob_WestJP/v-zhijianxu/Benchmark/fullsolar/impute_data/id_551172.parquet to buffer\n"
     ]
    },
    {
     "name": "stderr",
     "output_type": "stream",
     "text": [
      "Loading val datasets: 100%|██████████| 9/9 [00:04<00:00,  1.83it/s]"
     ]
    },
    {
     "name": "stdout",
     "output_type": "stream",
     "text": [
      "Add data /data/Blob_WestJP/v-zhijianxu/Benchmark/fullsolar/impute_data/id_570079.parquet to buffer\n"
     ]
    },
    {
     "name": "stderr",
     "output_type": "stream",
     "text": [
      "\n"
     ]
    }
   ],
   "source": [
    "fullsets = a.get_val('set')"
   ]
  },
  {
   "cell_type": "code",
   "execution_count": 6,
   "metadata": {},
   "outputs": [
    {
     "data": {
      "text/plain": [
       "dict_keys(['314106', '319086', '164440', '355827', '331901', '332785', '577650', '551172', '570079'])"
      ]
     },
     "execution_count": 6,
     "metadata": {},
     "output_type": "execute_result"
    }
   ],
   "source": [
    "fullsets.keys()"
   ]
  },
  {
   "cell_type": "code",
   "execution_count": 7,
   "metadata": {},
   "outputs": [
    {
     "data": {
      "text/plain": [
       "8569"
      ]
     },
     "execution_count": 7,
     "metadata": {},
     "output_type": "execute_result"
    }
   ],
   "source": [
    "seta = fullsets['314106']\n",
    "len(seta)"
   ]
  },
  {
   "cell_type": "code",
   "execution_count": 8,
   "metadata": {},
   "outputs": [],
   "source": [
    "instance = seta[2000-144]"
   ]
  },
  {
   "cell_type": "code",
   "execution_count": 9,
   "metadata": {},
   "outputs": [
    {
     "data": {
      "text/plain": [
       "'[{\"daily\":\"It\\'s going to be a beautiful day in March, with a mix of sunshine and passing clouds. Temperatures will be mild, ranging from 4 to 14 degrees Celsius. Expect a gentle breeze blowing from the south to the north, with wind speeds of around 20-30 km\\\\/h. As the day progresses, the humidity will decrease, making it a pleasant day to be outdoors. However, be prepared for scattered showers in the late evening, with a chance of partly cloudy skies.\",\"Early Morning\":\"Early morning will be cool and calm, with temperatures ranging from 4 to 7 degrees Celsius. Expect passing clouds and a gentle breeze blowing from the south to the north, with wind speeds of around 10-20 km\\\\/h. It\\'s a great time to get outside and enjoy the fresh air!\",\"Morning\":\"Morning will be partly cloudy, with temperatures ranging from 7 to 12 degrees Celsius. Expect a gentle breeze blowing from the south to the north, with wind speeds of around 20-30 km\\\\/h. It\\'s a great time to get outside and enjoy the sunshine!\",\"Afternoon\":\"Afternoon will be sunny, with temperatures ranging from 12 to 14 degrees Celsius. Expect a gentle breeze blowing from the south to the north, with wind speeds of around 20-30 km\\\\/h. It\\'s a great time to get outside and enjoy the sunshine!\",\"Evening\":\"Evening will be partly cloudy, with temperatures ranging from 11 to 9 degrees Celsius. Expect scattered showers and a gentle breeze blowing from the west to the east, with wind speeds of around 20-30 km\\\\/h. It\\'s a great time to get outside and enjoy the fresh air, but be prepared for some rain!\",\"time\":\"20210319000000\",\"note\":\"\"},{\"daily\":\"It\\'s going to be a chilly day with a mix of passing clouds and partly cloudy skies. Expect a temperature drop in the late afternoon, with a high of around 10 degrees Celsius and a low of around 1 degree Celsius. There might be a sudden shower in the late afternoon, so make sure to carry an umbrella.\",\"Early Morning\":\"Early morning will be quite chilly with a temperature of around 3 degrees Celsius. Expect passing clouds with a gentle breeze of around 11 km\\\\/h. It\\'s a good idea to dress warmly for the morning.\",\"Morning\":\"Morning will see a slight temperature rise to around 4 degrees Celsius. The weather will remain mostly cloudy with a gentle breeze of around 9 km\\\\/h. It\\'s a good day to get some fresh air.\",\"Afternoon\":\"Afternoon will be quite windy with a temperature of around 10 degrees Celsius. Expect passing clouds with a strong breeze of around 32 km\\\\/h. There might be a sudden shower in the late afternoon, so make sure to carry an umbrella.\",\"Evening\":\"Evening will see a temperature drop to around 8 degrees Celsius. The weather will remain mostly cloudy with a gentle breeze of around 24 km\\\\/h. It\\'s a good idea to dress warmly for the evening.\",\"time\":\"20210320000000\",\"note\":\"\"},{\"daily\":\"It\\'s going to be a chilly day with a mix of clouds and sunshine. Expect a temperature drop in the late afternoon, with a high of around 8 degrees Celsius and a low of around 2 degrees Celsius. There might be some scattered showers in the evening, so it\\'s a good idea to bring an umbrella.\",\"Early Morning\":\"Early morning will be partly cloudy with a temperature around 0 degrees Celsius. Expect a gentle breeze from the north.\",\"Morning\":\"Morning will be mostly cloudy with a temperature around 2 degrees Celsius. There might be some scattered showers, so it\\'s a good idea to bring an umbrella.\",\"Afternoon\":\"Afternoon will be mostly cloudy with a temperature around 7 degrees Celsius. Expect a gentle breeze from the south.\",\"Evening\":\"Evening will be partly cloudy with a temperature around 2 degrees Celsius. There might be some scattered showers, so it\\'s a good idea to bring an umbrella.\",\"time\":\"20210321000000\",\"note\":\"\"},{\"daily\":\"It\\'s going to be a chilly day tomorrow, March 22nd, in the early spring. Expect mostly cloudy skies with a high chance of scattered showers and light snow in the late afternoon and evening. Temperatures will be quite low, ranging from around 2 to 7 degrees Celsius throughout the day. Be prepared for strong winds and icy conditions, especially in the evening.\",\"Early Morning\":\"Early morning, March 22nd, will be quite chilly with partly cloudy skies and a gentle breeze. Temperatures will be around 2-4 degrees Celsius. Expect a partly sunny day with a high chance of scattered showers and light snow in the late afternoon and evening.\",\"Morning\":\"Morning, March 22nd, will be mostly cloudy with a high chance of scattered showers and light snow. Temperatures will be around 4-6 degrees Celsius. Expect a strong wind blowing from the northwest, making it feel even colder.\",\"Afternoon\":\"Afternoon, March 22nd, will be mostly cloudy with a high chance of scattered showers and light snow. Temperatures will be around 5-7 degrees Celsius. Expect a strong wind blowing from the northwest, making it feel even colder. Be prepared for icy conditions and reduced visibility.\",\"Evening\":\"Evening, March 22nd, will be mostly cloudy with a high chance of scattered showers and light snow. Temperatures will be around 0-2 degrees Celsius. Expect a strong wind blowing from the northwest, making it feel even colder. Be prepared for icy conditions and reduced visibility.\",\"time\":\"20210322000000\",\"note\":\"\"},{\"daily\":\"It\\'s going to be a chilly day with ice fog in the early morning, gradually clearing up to partly sunny skies by the afternoon. Expect a temperature drop in the late afternoon, with a high of around 5\\\\u00b0C and a low of around 2\\\\u00b0C. Winds will be moderate, blowing from the south at around 20 km\\\\/h.\",\"Early Morning\":\"Early morning will be icy and foggy, with temperatures around -4\\\\u00b0C. Expect moderate winds blowing from the south at around 20 km\\\\/h.\",\"Morning\":\"Morning will see a gradual clearing of the fog, with partly sunny skies and temperatures around 2\\\\u00b0C. Winds will remain moderate, blowing from the south at around 20 km\\\\/h.\",\"Afternoon\":\"Afternoon will be partly sunny, with temperatures around 5\\\\u00b0C. Expect moderate winds blowing from the south at around 20 km\\\\/h, with a slight drop in temperature in the late afternoon.\",\"Evening\":\"Evening will be partly cloudy, with temperatures around 2\\\\u00b0C. Winds will remain moderate, blowing from the south at around 20 km\\\\/h.\",\"time\":\"20210323000000\",\"note\":\"\"},{\"daily\":\"It\\'s going to be a chilly day in March with a mix of sun and clouds. Expect a temperature drop in the late afternoon, with a chance of light snow and ice fog. The wind will be moderate to strong throughout the day, with a slight increase in humidity in the evening.\",\"Early Morning\":\"Early morning will be partly cloudy with a moderate wind. The temperature will be around 2-3\\\\u00b0C, with a slight increase in humidity.\",\"Morning\":\"In the morning, the sky will be mostly cloudy with a moderate wind. The temperature will be around 5-6\\\\u00b0C, with a slight decrease in humidity.\",\"Afternoon\":\"In the afternoon, the sky will be broken clouds with a moderate wind. The temperature will be around 8-9\\\\u00b0C, with a slight increase in humidity.\",\"Evening\":\"In the evening, the sky will be mostly cloudy with a strong wind. The temperature will be around 0-1\\\\u00b0C, with a significant increase in humidity and a chance of light snow and ice fog.\",\"time\":\"20210324000000\",\"note\":\"\"},{\"daily\":\"It\\'s going to be a cold and snowy day on March 25th. Expect light snow and low clouds throughout the day, with a temperature trend of dropping to -5\\\\u00b0C by the evening. Be prepared for icy roads and reduced visibility. The wind will be blowing from the north at a moderate speed, and the humidity will be high, around 93%. As the day progresses, the snow flurries will become more frequent, and the temperature will continue to drop. It\\'s a good idea to stay indoors and avoid traveling unless necessary.\",\"Early Morning\":\"Early morning on March 25th will be quite chilly, with a temperature of around -1\\\\u00b0C. Expect light snow and low clouds, with a moderate wind blowing from the north. The humidity will be high, around 93%, and the visibility will be reduced due to the snow. It\\'s a good idea to bundle up and stay indoors.\",\"Morning\":\"Morning on March 25th will be similar to the early morning, with light snow and low clouds. The temperature will drop to around -2\\\\u00b0C, and the wind will continue to blow from the north. The humidity will remain high, around 93%, and the visibility will be reduced. It\\'s still a good idea to stay indoors and avoid traveling unless necessary.\",\"Afternoon\":\"Afternoon on March 25th will see a slight improvement in the weather, with the snow flurries becoming more frequent. The temperature will drop to around -5\\\\u00b0C, and the wind will continue to blow from the north. The humidity will remain high, around 93%, and the visibility will be reduced. It\\'s still a good idea to stay indoors and avoid traveling unless necessary.\",\"Evening\":\"Evening on March 25th will be quite cold, with a temperature of around -5\\\\u00b0C. Expect light snow and low clouds, with a moderate wind blowing from the north. The humidity will be high, around 93%, and the visibility will be reduced due to the snow. It\\'s a good idea to stay indoors and avoid traveling unless necessary.\",\"time\":\"20210325000000\",\"note\":\"\"},{\"daily\":\"It\\'s going to be a chilly day in March, with a mix of light snow and ice fog. The temperature will fluctuate between -5\\\\u00b0C and 2\\\\u00b0C, with a general trend of warming up slightly towards the end of the day. Expect mostly cloudy skies with some scattered clouds and snow flurries. The wind will be moderate to strong, blowing from various directions. It\\'s a good idea to bundle up and stay warm!\",\"Early Morning\":\"Early morning will be quite chilly, with temperatures around -5\\\\u00b0C. Expect light snow and ice fog, with moderate winds blowing from the east-southeast. It\\'s a good idea to dress warmly and stay indoors if possible.\",\"Morning\":\"Morning will see a slight warming trend, with temperatures rising to around -2\\\\u00b0C. Expect light snow and broken clouds, with moderate winds blowing from the south. It\\'s a good idea to take a warm drink with you on your way out.\",\"Afternoon\":\"Afternoon will be quite pleasant, with temperatures rising to around 2\\\\u00b0C. Expect mostly cloudy skies with some scattered clouds and snow flurries. The wind will be moderate to strong, blowing from various directions. It\\'s a good idea to take a break and enjoy the scenery.\",\"Evening\":\"Evening will see a slight cooling trend, with temperatures dropping to around 0\\\\u00b0C. Expect light snow and partly cloudy skies, with moderate winds blowing from the east-northeast. It\\'s a good idea to bundle up and stay warm.\",\"time\":\"20210326000000\",\"note\":\"\"}]'"
      ]
     },
     "execution_count": 9,
     "metadata": {},
     "output_type": "execute_result"
    }
   ],
   "source": [
    "instance[4]"
   ]
  },
  {
   "cell_type": "markdown",
   "metadata": {},
   "source": [
    "## try with openai API"
   ]
  },
  {
   "cell_type": "code",
   "execution_count": null,
   "metadata": {},
   "outputs": [],
   "source": [
    "# ts_x, ts_y, tm_x, tm_y, (dy_tm_x, general, channel, [dy_x]), (dy_tm_y, general, channel, [dy_y])"
   ]
  },
  {
   "cell_type": "code",
   "execution_count": 10,
   "metadata": {},
   "outputs": [],
   "source": [
    "import openai"
   ]
  },
  {
   "cell_type": "code",
   "execution_count": 11,
   "metadata": {},
   "outputs": [],
   "source": [
    "openai.base_url = 'http://localhost:8021/v1/'\n",
    "openai.api_key = 'EMPTY'"
   ]
  },
  {
   "cell_type": "code",
   "execution_count": null,
   "metadata": {},
   "outputs": [],
   "source": [
    "system_prompt = \"You are a professonal data analyst. You can do the forecasting by considering the historical time series readings along with weather condition and make the prediction for the next 24 hours. \" + seta[2000][4][1] + \"Please directly do the forecasting without any further external tools such as coding. You can consider the periodicity, trend, and seasonality of the data. Then consider the affect of weather condition to further refine your prediction. The time period are defined as follows, 0~6 as Early morning, 7~12 as Morning, 13~18 as Afternoon, 19~24 as Evening. \"\n"
   ]
  },
  {
   "cell_type": "code",
   "execution_count": 25,
   "metadata": {},
   "outputs": [
    {
     "data": {
      "text/plain": [
       "'The solar panel is located at Calgary Fire Hall Headquarters.'"
      ]
     },
     "execution_count": 25,
     "metadata": {},
     "output_type": "execute_result"
    }
   ],
   "source": [
    "x_ts = instance[0].squeeze().tolist()\n",
    "x_timestamp = instance[2].tolist()\n",
    "x_table = [(x_timestamp[i], x_ts[i]) for i in range(len(x_ts))]\n",
    "\n",
    "x_dy = instance[4][-1]\n",
    "x_dy_timestamp = instance[4][0]\n",
    "x_dy_table = [(x_dy_timestamp[i], x_dy[i]) for i in range(len(x_dy))]\n",
    "\n",
    "channel_info = instance[4][2]\n",
    "channel_info"
   ]
  },
  {
   "cell_type": "code",
   "execution_count": 26,
   "metadata": {},
   "outputs": [
    {
     "data": {
      "text/plain": [
       "[('20210326000000',\n",
       "  '{\"daily\":\"It\\'s going to be a chilly day in March, with a mix of light snow and ice fog. The temperature will fluctuate between -5\\\\u00b0C and 2\\\\u00b0C, with a general trend of warming up slightly towards the end of the day. Expect mostly cloudy skies with some scattered clouds and snow flurries. The wind will be moderate to strong, blowing from various directions. It\\'s a good idea to bundle up and stay warm!\",\"Early Morning\":\"Early morning will be quite chilly, with temperatures around -5\\\\u00b0C. Expect light snow and ice fog, with moderate winds blowing from the east-southeast. It\\'s a good idea to dress warmly and stay indoors if possible.\",\"Morning\":\"Morning will see a slight warming trend, with temperatures rising to around -2\\\\u00b0C. Expect light snow and broken clouds, with moderate winds blowing from the south. It\\'s a good idea to take a warm drink with you on your way out.\",\"Afternoon\":\"Afternoon will be quite pleasant, with temperatures rising to around 2\\\\u00b0C. Expect mostly cloudy skies with some scattered clouds and snow flurries. The wind will be moderate to strong, blowing from various directions. It\\'s a good idea to take a break and enjoy the scenery.\",\"Evening\":\"Evening will see a slight cooling trend, with temperatures dropping to around 0\\\\u00b0C. Expect light snow and partly cloudy skies, with moderate winds blowing from the east-northeast. It\\'s a good idea to bundle up and stay warm.\",\"time\":\"20210326000000\",\"note\":\"\"}'),\n",
       " ('20210327000000',\n",
       "  '{\"daily\":\"It\\'s going to be a chilly day on March 27th, with ice fog in the early morning and partly sunny skies in the afternoon. Temperatures will be dropping throughout the day, with a low of -3\\\\u00b0C in the late afternoon. Expect a gentle breeze blowing from the south to north, with wind speeds ranging from 6 to 17 km\\\\/h. Humidity will be relatively high, around 70-90%, with a slight decrease in the afternoon.\",\"Early Morning\":\"Early morning on March 27th will be quite chilly, with ice fog and temperatures around -2\\\\u00b0C. Expect a gentle breeze blowing from the south to north, with wind speeds around 11 km\\\\/h. Humidity will be high, around 93%.\",\"Morning\":\"Morning on March 27th will see a slight improvement in weather, with partly sunny skies and temperatures around 0\\\\u00b0C. Expect a gentle breeze blowing from the south-southwest to north-northeast, with wind speeds around 15 km\\\\/h. Humidity will be relatively high, around 75%.\",\"Afternoon\":\"Afternoon on March 27th will be partly sunny, with temperatures around 12\\\\u00b0C. Expect a gentle breeze blowing from the west to east, with wind speeds around 15 km\\\\/h. Humidity will be relatively low, around 28-32%.\",\"Evening\":\"Evening on March 27th will see a slight drop in temperature, with partly cloudy skies and temperatures around 9\\\\u00b0C. Expect a gentle breeze blowing from the southwest to northeast, with wind speeds around 9 km\\\\/h. Humidity will be relatively high, around 37%.\",\"time\":\"20210327000000\",\"note\":\"\"}')]"
      ]
     },
     "execution_count": 26,
     "metadata": {},
     "output_type": "execute_result"
    }
   ],
   "source": [
    "y_ts = instance[1].squeeze().tolist()\n",
    "y_timestamp = instance[3].tolist()\n",
    "\n",
    "y_dy = instance[5][-1]\n",
    "y_dy_timestamp = instance[5][0]\n",
    "y_dy_table = [(y_dy_timestamp[i], y_dy[i]) for i in range(len(y_dy))]\n",
    "y_dy_table"
   ]
  },
  {
   "cell_type": "code",
   "execution_count": 27,
   "metadata": {},
   "outputs": [],
   "source": [
    "user_prompt = f'''\n",
    "\n",
    "We now have the data from {channel_info}. The historical data is as follows:\n",
    "\n",
    "{x_table}\n",
    "\n",
    "The historical weather condition is as follows:\n",
    "\n",
    "{x_dy_table}\n",
    "\n",
    "We now have the weather forecasting for the following days:\n",
    "\n",
    "{y_dy_table}\n",
    "\n",
    "Please make the prediction for the next 24 hours.\n",
    "\n",
    "The timestamp for forecasting is as follows:\n",
    "\n",
    "{y_timestamp}\n",
    "\n",
    "Please format it in json format in [datastamp, value] pair, as below:\n",
    "\n",
    "```json\n",
    "\n",
    "[[<timestamp>, <predicted_value>],\n",
    " [<timestamp>, <predicted_value>],\n",
    " ...]\n",
    "\n",
    "```\n",
    "'''"
   ]
  },
  {
   "cell_type": "code",
   "execution_count": 28,
   "metadata": {},
   "outputs": [],
   "source": [
    "messages = [\n",
    "    {'role': 'system', 'content': system_prompt},\n",
    "    {'role': 'user', 'content': user_prompt}\n",
    "]"
   ]
  },
  {
   "cell_type": "code",
   "execution_count": 29,
   "metadata": {},
   "outputs": [
    {
     "data": {
      "text/plain": [
       "['Qwen/QwQ-32B']"
      ]
     },
     "execution_count": 29,
     "metadata": {},
     "output_type": "execute_result"
    }
   ],
   "source": [
    "avaliable_models = openai.models.list()\n",
    "avaliable_models = [model.id for model in avaliable_models.data]\n",
    "avaliable_models"
   ]
  },
  {
   "cell_type": "code",
   "execution_count": 30,
   "metadata": {},
   "outputs": [],
   "source": [
    "import re"
   ]
  },
  {
   "cell_type": "code",
   "execution_count": 31,
   "metadata": {},
   "outputs": [],
   "source": [
    "def extract_result(result):\n",
    "    pattern = r'```json(.*?)```'\n",
    "    result = re.search(pattern, result, re.DOTALL)\n",
    "    pred = json.loads(result.group(1))\n",
    "\n",
    "    return pred"
   ]
  },
  {
   "cell_type": "code",
   "execution_count": 32,
   "metadata": {},
   "outputs": [],
   "source": [
    "# do multi processing\n",
    "import multiprocessing\n",
    "\n",
    "def call_openai(model_id, messages):\n",
    "    temp = 0.2\n",
    "    # if 'DeepSeek' in model_id:\n",
    "    messages[1]['content']=messages[0]['content']+messages[1]['content']\n",
    "    messages[0]['content']=''\n",
    "    temp = 0.6\n",
    "    response = openai.chat.completions.create(\n",
    "        model=model_id,\n",
    "        messages=messages,\n",
    "        temperature=temp,\n",
    "    )\n",
    "    extracted = extract_result(response.choices[0].message.content)\n",
    "    return extracted, response.choices[0].message.content, model_id\n",
    "    # return response.choices[0].message.content\n",
    "\n",
    "pool = multiprocessing.Pool(processes=4)\n",
    "results = pool.starmap(call_openai, [(model_id, messages) for model_id in avaliable_models])"
   ]
  },
  {
   "cell_type": "code",
   "execution_count": 33,
   "metadata": {},
   "outputs": [
    {
     "data": {
      "text/plain": [
       "[([['20210326080000', 0.4],\n",
       "   ['20210326090000', 1.0],\n",
       "   ['20210326100000', 2.5],\n",
       "   ['20210326110000', 3.8],\n",
       "   ['20210326120000', 4.5],\n",
       "   ['20210326130000', 4.0],\n",
       "   ['20210326140000', 3.2],\n",
       "   ['20210326150000', 2.5],\n",
       "   ['20210326160000', 1.8],\n",
       "   ['20210326170000', 1.0],\n",
       "   ['20210326180000', 0.4],\n",
       "   ['20210326190000', 0.1],\n",
       "   ['20210326200000', 0.0],\n",
       "   ['20210326210000', 0.0],\n",
       "   ['20210326220000', 0.0],\n",
       "   ['20210326230000', 0.0],\n",
       "   ['20210327000000', 0.0],\n",
       "   ['20210327010000', 0.0],\n",
       "   ['20210327020000', 0.0],\n",
       "   ['20210327030000', 0.0],\n",
       "   ['20210327040000', 0.0],\n",
       "   ['20210327050000', 0.0],\n",
       "   ['20210327060000', 0.0],\n",
       "   ['20210327070000', 0.01]],\n",
       "  '<think>\\nOkay, let\\'s tackle this forecasting problem. So, the user wants me to predict the next 24 hours of solar power generation for the Calgary Fire Hall Headquarters solar panels. They provided historical data from March 19 to March 25, 2021, along with weather conditions and forecasts for March 26 and 27. I need to use this data without any external tools, so I\\'ll have to do this manually by analyzing the patterns and considering weather impacts.\\n\\nFirst, I should look at the historical solar data to understand the trends, periodicity, and seasonality. The data is hourly, so I can see the daily cycles. Looking at the timestamps, each day has a clear pattern with generation starting near zero in the early morning, peaking around noon, and dropping back to zero in the evening. Let me check the patterns over the days provided.\\n\\nLooking at March 19: The peak was around 11.733 at 12:00, then 13.264 at 13:00, but then it starts to decline. The next day, March 20, the peak is higher at 13.41. March 21 peaks at 14.349, which is even higher. March 22, though, shows a significant drop to 8.722 at noon, probably due to weather. On March 23, the peak is again high at 14.349. March 24 has lower peaks, maybe due to cloudiness, and March 25 is very low, almost zero, likely because of snow.\\n\\nNow, the weather data from the historical and forecasted periods will affect the solar generation. The key factors are cloud cover, precipitation (like snow), and temperature, but since solar panels are affected more by sunlight, I\\'ll focus on cloud cover and precipitation.\\n\\nThe weather forecast for March 26 (the day we need to predict starting from 8 AM) says: light snow and ice fog throughout the day, temperatures between -5°C and 2°C. The afternoon might be slightly better with 2°C, but still with snow flurries. The evening cools down again. So, overall, it\\'s not ideal for solar generation. The forecast for March 27 morning has ice fog but then partly sunny skies in the afternoon with higher temperatures (up to 12°C). That suggests better conditions on the 27th afternoon.\\n\\nWait, the timestamps start at 20210326080000 (March 26, 8 AM) and go through March 27 7 AM. So the prediction needs to cover 24 hours starting March 26 8 AM.\\n\\nFirst, let\\'s break down the days:\\n\\n- March 26 (forecast day 1): The weather is cold with light snow and ice fog. The solar generation is likely going to be low throughout the day because of the clouds and snow, which block sunlight. The historical data on days with similar weather (like March 25) had very low generation. For example, on March 25, most of the day had near-zero except a slight rise in the morning but then dropped to almost nothing. So maybe on March 26, the solar output will be minimal, maybe peaking around noon but not very high.\\n\\nLooking at the March 25 data: The highest was 0.354 at 15:00, but most were near zero. So maybe on March 26, similar conditions would lead to low numbers. Let\\'s check the forecast details:\\n\\nMarch 26\\'s weather:\\n\\n- Early Morning (-5°C, light snow, ice fog, moderate winds): So from midnight to 6 AM, but our prediction starts at 8 AM. So 8 AM is part of the morning period.\\n\\nThe Morning on March 26 (per the weather data) has temperatures rising to -2°C, light snow and broken clouds. The wind is from the south. So the morning (7-12) might have some sun but still overcast. Let\\'s see the time periods:\\n\\nThe user defined the periods as:\\n\\n0~6: Early morning,\\n\\n7~12: Morning,\\n\\n13~18: Afternoon,\\n\\n19~24: Evening.\\n\\nSo March 26\\'s morning (7-12) would be 8 AM to noon. The weather says morning has light snow and broken clouds, so maybe some sun but not full. Let\\'s see the historical data on a similar day. On March 24, the morning had some generation (0.755 at 8 AM, 1.579 at 9 AM, but then at 10 AM it went up to 5.267. Wait, but that day had some fluctuations. However, on March 25, the morning was mostly low. Maybe the key is to look for days with similar weather.\\n\\nLooking at March 22, which had scattered showers and light snow, the generation was very low in the afternoon and evening. On March 22, from 8 AM to 12 PM, generation was 0.337, 2.494, 4.969, 7.635, 8.722 at noon. Wait, that day\\'s afternoon had a peak at noon despite the weather. Hmm, maybe the snow wasn\\'t as heavy then. But March 25 had much worse weather with lower generation.\\n\\nThe forecast for March 26 says afternoon will be \"pleasant\" with 2°C, mostly cloudy and snow flurries. So maybe the peak is around noon but not as high as clear days. Let\\'s consider that on March 26, the peak might be around 8-10 kW, but given the snow, maybe lower.\\n\\nAlternatively, looking at the immediate previous day, March 25, had almost nothing except a tiny blip. But March 26\\'s forecast is a bit better (since temperatures are slightly higher), but still with snow. Let\\'s think of similar days in the data.\\n\\nLooking at March 22\\'s data: Afternoon peak at 10.993 at 14:00, but that day had scattered showers and snow. Maybe the difference is the temperature. March 22\\'s afternoon was 5-7°C, which is warmer than March 26\\'s forecasted 2°C. So maybe March 26\\'s peak would be lower.\\n\\nAlternatively, perhaps March 23 had ice fog but then cleared a bit. On March 23, the peak was 14.349 at noon, which suggests that if the ice fog clears, it can generate well. But March 26\\'s forecast says light snow and ice fog all day. Hmm.\\n\\nWait, the March 26 forecast says \"mostly cloudy skies with some scattered clouds and snow flurries.\" So maybe not completely overcast. Maybe partial sun allows some generation. Let\\'s try to estimate.\\n\\nPerhaps the morning hours (8 AM to noon) will have some generation, but not as high as clear days. Let\\'s look at the March 24 data. March 24 had:\\n\\n8 AM: 0.755\\n\\n9 AM: 1.579\\n\\n10 AM:5.267\\n\\n11 AM: 3.702\\n\\n12 PM: 2.593\\n\\nHmm, that\\'s inconsistent. Maybe because of variable cloud cover. But March 24\\'s weather was partly cloudy with some snow in the afternoon. The peak at 10 AM could be a break in clouds.\\n\\nAlternatively, maybe the best approach is to look at the previous days\\' patterns and adjust based on weather.\\n\\nLooking at the last few days before March 26:\\n\\nOn March 25, the solar data was very low, almost nothing except a tiny peak around 11 AM (0.145). So that was a bad day for solar, likely due to heavy snow.\\n\\nMarch 24 had some generation, but lower than previous days. For example, on March 21, the peak was 14.349. So the trend before March 26 was a decline in solar output due to weather.\\n\\nNow, March 26\\'s forecast is for light snow and ice fog, so probably similar to March 25 but maybe slightly better. Let\\'s assume that the generation on March 26 would be low but not as bad as March 25, except maybe the morning.\\n\\nWait, March 26\\'s morning (7 AM to 12 PM) has temperatures rising to -2°C. The weather says \"light snow and broken clouds.\" Maybe some sun breaks through, so generation could start low but increase to a moderate peak at noon. Let\\'s try to estimate:\\n\\nAssume that the peak on March 26 at noon would be around 5-7 kW, considering the snow and clouds. The morning hours (8 AM to noon) would gradually increase, but not as sharply as on clear days.\\n\\nLooking at March 22\\'s morning data (which had snow showers):\\n\\n8 AM:0.337, 9 AM:2.494, 10 AM:4.969, 11 AM:7.635, 12 PM:8.722. That\\'s a decent increase despite the weather. Maybe the snow wasn\\'t as heavy then.\\n\\nMarch 23\\'s morning had better conditions: 8 AM:0.019, 9 AM:0.303, but then a big jump to 0.99 at 10 AM, then 5.661 at 11, 12.9 at noon. So that day had ice fog but then cleared.\\n\\nSo maybe the key is to see whether the current forecast\\'s cloud cover and snow will allow any solar gain. Since the forecast says \"snow flurries\" and \"light snow,\" maybe some periods have partial sun.\\n\\nAlternatively, comparing to March 25\\'s data, which had almost nothing except a slight rise at 11 AM (0.145). So perhaps March 26 will be similar but with a bit more generation because temperatures are a bit higher?\\n\\nWait, March 25 had a low of -1°C, and March 26\\'s forecast starts at -5°C but warms to 2°C. However, the presence of snow and ice fog would still block sunlight. Maybe the peak is around 3-5 kW.\\n\\nAlternatively, let\\'s consider the following approach:\\n\\n1. Find the most recent days with similar weather conditions to March 26 and use their solar data as a basis.\\n\\nLooking at the weather for March 26: light snow, ice fog, moderate winds. The closest days in the historical data are March 25 (heavy snow, low generation), March 22 (scattered showers and snow), and March 23 (ice fog).\\n\\nMarch 22\\'s solar data on a day with some snow had a peak of ~8.722 at noon. March 23\\'s peak was 14.349 after ice fog cleared. March 25\\'s peak was 0.354.\\n\\nSince March 26\\'s forecast is for light snow and ice fog throughout, maybe similar to March 22 but with lower temperatures. Let\\'s average those days. Maybe the peak would be around 6 kW?\\n\\nAlternatively, since March 26\\'s temperature is colder but the snow is lighter, maybe the effect is a lower peak but still some generation.\\n\\nAnother angle: the solar generation on days with bad weather typically has a low peak and shorter duration. For example, on March 22, the generation started dropping after noon. On March 26, maybe the peak is around 12 PM, then declines.\\n\\nNow, considering the time periods:\\n\\nMarch 26 8 AM to 7 PM (since the prediction goes until March 27 7 AM, which is 24 hours starting at 8 AM on the 26th). So the next 24 hours include all of March 26 and the early morning of March 27.\\n\\nWait the timestamps are from 20210326080000 (March 26 8 AM) up to 20210327070000 (March 27 7 AM). So that\\'s exactly 24 hours.\\n\\nNow, for March 26\\'s weather:\\n\\n- Morning (7-12): light snow, broken clouds, temps -2°C. Maybe some sun breaks, so generation increases from 0.3 to maybe 5 kW by noon.\\n\\n- Afternoon (13-18): mostly cloudy with snow flurries, temps up to 2°C. The peak is at noon, then gradual decline. Maybe 5 kW at 1 PM, dropping to 3 by 5 PM.\\n\\n- Evening (19-24): temps drop to 0°C, light snow. Generation drops to near zero by 7 PM.\\n\\nOn March 27\\'s early morning (0-6 AM), the weather forecast says ice fog but then partly sunny in the afternoon. However, the prediction only includes up to 7 AM on the 27th, which is part of the early morning (0~6). So March 27 0~6 AM would be very low, maybe similar to previous mornings with ice fog.\\n\\nLooking at March 23\\'s early morning (ice fog) had 0.019 at 8 AM, but the previous hours were zero. So maybe March 27\\'s early morning (0~6) would have zero except maybe a tiny blip at 7 AM.\\n\\nPutting this together, here\\'s a possible prediction pattern for March 26:\\n\\n- 8 AM: Starting low, maybe 0.5 kW (similar to March 22\\'s 0.337 but adjusted for snow)\\n\\n- 9 AM: 1.5 kW (like March 22\\'s 2.494)\\n\\n- 10 AM: 3.5 kW (less than March 22\\'s 4.969 due to colder temps?)\\n\\n- 11 AM: 5.0 kW (lower than March 22\\'s 7.635)\\n\\n- 12 PM: 6.0 kW (peak)\\n\\n- 1 PM: 5.5 kW\\n\\n- 2 PM: 4.5 kW\\n\\n- 3 PM: 3.5 kW\\n\\n- 4 PM: 2.5 kW\\n\\n- 5 PM: 1.5 kW\\n\\n- 6 PM: 0.5 kW\\n\\n- 7 PM: 0.1 kW (nearing evening)\\n\\n- 8 PM to midnight: near zero.\\n\\nWait, but the evening period (19-24) on March 26 would be from 7 PM to midnight. The forecast says evening (19-24) has light snow and partly cloudy, temps 0°C. So generation drops to near zero after 7 PM.\\n\\nThen, the next morning (March 27\\'s early morning 0~6) would have ice fog and light snow. The solar generation here would be near zero except maybe a tiny rise at 7 AM (but the forecast\\'s note for March 27\\'s early morning is -2°C and light snow, so likely zero except maybe a small value at 7 AM similar to previous days.\\n\\nLooking at March 23\\'s 7 AM: 0.007, March 24\\'s 7 AM: 0.011, March 25 had 0.0. So maybe March 27\\'s 7 AM would be ~0.01 or 0.0.\\n\\nPutting all this into JSON format for each hour from 8 AM March 26 to 7 AM March 27.\\n\\nNeed to list each timestamp and the predicted value.\\n\\nLet me map each timestamp to the estimated values based on the above pattern.\\n\\nFirst, list all the timestamps provided:\\n\\nThe timestamps given are:\\n\\n[\"20210326080000\", \"20210326090000\", \"20210326100000\", \"20210326110000\", \"20210326120000\", \"20210326130000\", \"20210326140000\", \"20210326150000\", \"20210326160000\", \"20210326170000\", \"20210326180000\", \"20210326190000\", \"20210326200000\", \"20210326210000\", \"20210326220000\", \"20210326230000\", \"20210327000000\", \"20210327010000\", \"20210327020000\", \"20210327030000\", \"20210327040000\", \"20210327050000\", \"20210327060000\", \"20210327070000\"]\\n\\nNow, assigning values:\\n\\nStarting with March 26:\\n\\n8 AM (20210326080000): 0.5\\n\\n9 AM: 1.5\\n\\n10 AM: 3.5\\n\\n11 AM: 5.0\\n\\n12 PM: 6.0\\n\\n1 PM (20210326130000): 5.5\\n\\n2 PM (1400): 4.5\\n\\n3 PM (1500): 3.5\\n\\n4 PM (1600): 2.5\\n\\n5 PM (1700): 1.5\\n\\n6 PM (1800): 0.5\\n\\n7 PM (1900): 0.1 (since evening starts, generation drops)\\n\\n8 PM (2000): 0.0\\n\\n9 PM (2100): 0.0\\n\\n10 PM (2200): 0.0\\n\\n11 PM (2300): 0.0\\n\\nMidnight (20210326230000 is actually 23:00, but the next one is 20210327000000 (midnight). So midnight to 7 AM on March 27:\\n\\n20210327000000 (0 AM): 0.0\\n\\n1 AM: 0.0\\n\\n2 AM: 0.0\\n\\n3 AM: 0.0\\n\\n4 AM: 0.0\\n\\n5 AM: 0.0\\n\\n6 AM: 0.0\\n\\n7 AM (20210327070000): maybe 0.01\\n\\nWait, the last timestamp is 20210327070000 (7 AM). So for that, similar to previous 7 AMs on same days, like March 25 had 0.003 at 7 AM, March 24 had 0.011. So perhaps 0.01.\\n\\nSo the values would be as follows:\\n\\n[\\n[\"20210326080000\", 0.5],\\n[\"20210326090000\", 1.5],\\n[\"20210326100000\", 3.5],\\n[\"20210326110000\", 5.0],\\n[\"20210326120000\", 6.0],\\n[\"20210326130000\", 5.5],\\n[\"20210326140000\", 4.5],\\n[\"20210326150000\", 3.5],\\n[\"20210326160000\", 2.5],\\n[\"20210326170000\", 1.5],\\n[\"20210326180000\", 0.5],\\n[\"20210326190000\", 0.1],\\n[\"20210326200000\", 0.0],\\n[\"20210326210000\", 0.0],\\n[\"20210326220000\", 0.0],\\n[\"20210326230000\", 0.0],\\n[\"20210327000000\", 0.0],\\n[\"20210327010000\", 0.0],\\n[\"20210327020000\", 0.0],\\n[\"20210327030000\", 0.0],\\n[\"20210327040000\", 0.0],\\n[\"20210327050000\", 0.0],\\n[\"20210327060000\", 0.0],\\n[\"20210327070000\", 0.01]\\n]\\n\\nWait, but maybe the evening drop is faster. Like after 7 PM, it goes to zero. Also, the 7 PM (1900) might be 0.1, but the next hours are zero. The morning of March 27\\'s 7 AM is 0.01.\\n\\nAlternatively, maybe the peak is a bit lower. Let me check again the previous days.\\n\\nMarch 22\\'s peak was 8.722 at noon with similar weather (scattered showers and snow). March 23 had a higher peak when ice fog cleared. Since March 26\\'s forecast has snow flurries, maybe the peak is around 5 kW instead of 6.\\n\\nPerhaps adjusting the peak down a bit. Let me recalculate with a peak of 5 kW at noon:\\n\\n8 AM: 0.3\\n\\n9 AM:1.0\\n\\n10 AM: 2.5\\n\\n11 AM:4.0\\n\\n12 PM:5.0\\n\\n1PM:4.5\\n\\n2PM:3.5\\n\\n3PM:2.5\\n\\n4PM:1.5\\n\\n5PM:0.8\\n\\n6PM:0.2\\n\\n7PM:0.05\\n\\nThen evening zeros.\\n\\nHmm, that might be more conservative. But I need to consider that on March 22, despite snow, they had 8.7 at noon. But March 26 is colder, so maybe less.\\n\\nAlternatively, maybe a peak of 4 kW.\\n\\nAlternatively, looking at March 25, which had worse weather, had a peak of 0.354 at 15:00. So perhaps March 26\\'s peak is higher, but still lower than typical days. Maybe 3-4 kW.\\n\\nHmm, perhaps I should take an average between March 22 and March 25. March 22 had 8.7, March 25 had 0.354. Let\\'s say 4.5.\\n\\nAlternatively, maybe the peak is 3.0.\\n\\nAlternatively, maybe I need to consider that the snow is light, so partial sun allows some generation. Let\\'s try:\\n\\nPeak at noon: 4 kW.\\n\\nThen:\\n\\n8 AM: 0.5\\n\\n9 AM:1.2\\n\\n10 AM:2.5\\n\\n11 AM:3.5\\n\\n12 PM:4.0\\n\\n1 PM:3.5\\n\\n2 PM:2.8\\n\\n3 PM:2.0\\n\\n4 PM:1.2\\n\\n5 PM:0.6\\n\\n6 PM:0.2\\n\\n7 PM:0.05\\n\\nThen the evening zeros.\\n\\nThe morning of March 27\\'s 7 AM is 0.01.\\n\\nAlternatively, perhaps the morning of March 27 is even worse? The forecast for March 27\\'s early morning says ice fog and -2°C. Similar to March 23, which had 0.019 at 8 AM. So 7 AM might be 0.01.\\n\\nAlternatively, maybe March 27\\'s morning is even colder, so even lower.\\n\\nBut the key is to stay consistent with the given data and forecast.\\n\\nAlternatively, maybe the peak on March 26 is around 5 kW, considering that the snow is light and there might be some sun breaks.\\n\\nAnother approach: The previous day (March 25) had almost nothing, so perhaps March 26, being the next day with similar but slightly better conditions, would have a slight increase. For example, the peak on March 25 was 0.354, so maybe March 26 has a peak of 1.5 times that, so ~0.5 kW? But that seems too low.\\n\\nWait, maybe I\\'m overcomplicating. Let me look at March 22\\'s data again. On March 22, despite the weather, the solar generation was still decent (8.7 at noon). So maybe the key factor is whether the sky is partially clear.\\n\\nMarch 26\\'s forecast mentions \"mostly cloudy skies with some scattered clouds and snow flurries.\" So maybe there are partial clearings. Hence, the generation can reach moderate levels.\\n\\nComparing to March 22\\'s data:\\n\\nMarch 22\\'s solar data:\\n\\n8 AM:0.337, 9:2.494, 10:4.969, 11:7.635, 12:8.722. So a steady increase.\\n\\nGiven that March 26 is colder (max temp 2°C vs March 22\\'s 7°C), maybe the peak is lower. Perhaps 60-70% of March 22\\'s peak.\\n\\n8.722 * 0.7 = ~6.1, so maybe 6 kW at noon. But with snow, maybe 5 kW.\\n\\nAlternatively, since the temperature is lower, the solar irradiance might be less, so lower peak. Let\\'s go with 4.5 kW.\\n\\nSo revising:\\n\\n8 AM: 0.4\\n\\n9 AM:1.0\\n\\n10 AM:2.5\\n\\n11 AM:3.8\\n\\n12 PM:4.5\\n\\n1 PM:4.0\\n\\n2 PM:3.2\\n\\n3 PM:2.5\\n\\n4 PM:1.8\\n\\n5 PM:1.0\\n\\n6 PM:0.4\\n\\n7 PM:0.1\\n\\nThen evening zeros.\\n\\nBut need to align with the timestamps provided. Let me structure the final JSON accordingly.\\n</think>\\n\\n```json\\n[\\n  [\"20210326080000\", 0.4],\\n  [\"20210326090000\", 1.0],\\n  [\"20210326100000\", 2.5],\\n  [\"20210326110000\", 3.8],\\n  [\"20210326120000\", 4.5],\\n  [\"20210326130000\", 4.0],\\n  [\"20210326140000\", 3.2],\\n  [\"20210326150000\", 2.5],\\n  [\"20210326160000\", 1.8],\\n  [\"20210326170000\", 1.0],\\n  [\"20210326180000\", 0.4],\\n  [\"20210326190000\", 0.1],\\n  [\"20210326200000\", 0.0],\\n  [\"20210326210000\", 0.0],\\n  [\"20210326220000\", 0.0],\\n  [\"20210326230000\", 0.0],\\n  [\"20210327000000\", 0.0],\\n  [\"20210327010000\", 0.0],\\n  [\"20210327020000\", 0.0],\\n  [\"20210327030000\", 0.0],\\n  [\"20210327040000\", 0.0],\\n  [\"20210327050000\", 0.0],\\n  [\"20210327060000\", 0.0],\\n  [\"20210327070000\", 0.01]\\n]\\n```',\n",
       "  'Qwen/QwQ-32B')]"
      ]
     },
     "execution_count": 33,
     "metadata": {},
     "output_type": "execute_result"
    }
   ],
   "source": [
    "results"
   ]
  },
  {
   "cell_type": "code",
   "execution_count": 34,
   "metadata": {},
   "outputs": [],
   "source": [
    "import matplotlib.pyplot as plt"
   ]
  },
  {
   "cell_type": "code",
   "execution_count": 35,
   "metadata": {},
   "outputs": [
    {
     "data": {
      "image/png": "[encoded data removed]",
      "text/plain": [
       "<Figure size 1000x500 with 1 Axes>"
      ]
     },
     "metadata": {},
     "output_type": "display_data"
    }
   ],
   "source": [
    "%matplotlib inline\n",
    "\n",
    "plt.figure(figsize=(10, 5))\n",
    "\n",
    "plt.plot(np.arange(len(x_ts)), x_ts, label='True')\n",
    "\n",
    "plt.plot(np.arange(len(x_ts), len(x_ts)+len(y_ts)), y_ts, label='True')\n",
    "\n",
    "for result in results:\n",
    "    pred = result[0][:24]\n",
    "    model_id = result[2]\n",
    "    plt.plot(np.arange(len(x_ts), len(x_ts)+len(y_ts)), [x[1] for x in pred], label=model_id)\n",
    "\n",
    "\n",
    "\n",
    "\n",
    "\n",
    "plt.legend()\n",
    "\n",
    "plt.show()\n"
   ]
  },
  {
   "cell_type": "code",
   "execution_count": 98,
   "metadata": {},
   "outputs": [
    {
     "data": {
      "text/plain": [
       "'\\n\\nWe now have the data from The solar panel is located at Calgary Fire Hall Headquarters.. The historical data is as follows:\\n\\n[(20210325080000, 0.0), (20210325090000, 0.0), (20210325100000, 0.043), (20210325110000, 0.145), (20210325120000, 0.118), (20210325130000, 0.307), (20210325140000, 0.286), (20210325150000, 0.354), (20210325160000, 0.118), (20210325170000, 0.003), (20210325180000, 0.0), (20210325190000, 0.0), (20210325200000, 0.0), (20210325210000, 0.0), (20210325220000, 0.0), (20210325230000, 0.0), (20210326000000, 0.0), (20210326010000, 0.0), (20210326020000, 0.0), (20210326030000, 0.0), (20210326040000, 0.0), (20210326050000, 0.0), (20210326060000, 0.0), (20210326070000, 0.0), (20210326080000, 0.0), (20210326090000, 0.0), (20210326100000, 0.032), (20210326110000, 0.457), (20210326120000, 1.448), (20210326130000, 1.681), (20210326140000, 2.697), (20210326150000, 2.321), (20210326160000, 2.547), (20210326170000, 2.752), (20210326180000, 1.87), (20210326190000, 0.216), (20210326200000, 0.0), (20210326210000, 0.0), (20210326220000, 0.0), (20210326230000, 0.0), (20210327000000, 0.0), (20210327010000, 0.0), (20210327020000, 0.0), (20210327030000, 0.0), (20210327040000, 0.0), (20210327050000, 0.0), (20210327060000, 0.0), (20210327070000, 0.023), (20210327080000, 1.151), (20210327090000, 3.316), (20210327100000, 5.531), (20210327110000, 8.038), (20210327120000, 13.042), (20210327130000, 12.176), (20210327140000, 11.183), (20210327150000, 8.851), (20210327160000, 8.903), (20210327170000, 4.099), (20210327180000, 1.123), (20210327190000, 0.249), (20210327200000, 0.0), (20210327210000, 0.0), (20210327220000, 0.0), (20210327230000, 0.0), (20210328000000, 0.0), (20210328010000, 0.0), (20210328020000, 0.0), (20210328030000, 0.0), (20210328040000, 0.0), (20210328050000, 0.0), (20210328060000, 0.0), (20210328070000, 0.026), (20210328080000, 0.491), (20210328090000, 2.309), (20210328100000, 5.553), (20210328110000, 8.179), (20210328120000, 12.731), (20210328130000, 14.266), (20210328140000, 14.156), (20210328150000, 12.798), (20210328160000, 7.915), (20210328170000, 3.254), (20210328180000, 1.602), (20210328190000, 0.168), (20210328200000, 0.0), (20210328210000, 0.0), (20210328220000, 0.0), (20210328230000, 0.0), (20210329000000, 0.0), (20210329010000, 0.0), (20210329020000, 0.0), (20210329030000, 0.0), (20210329040000, 0.0), (20210329050000, 0.0), (20210329060000, 0.0), (20210329070000, 0.005), (20210329080000, 0.299), (20210329090000, 2.048), (20210329100000, 4.964), (20210329110000, 6.94), (20210329120000, 11.863), (20210329130000, 14.053), (20210329140000, 13.987), (20210329150000, 13.494), (20210329160000, 11.36), (20210329170000, 7.982), (20210329180000, 3.843), (20210329190000, 0.529), (20210329200000, 0.0), (20210329210000, 0.0), (20210329220000, 0.0), (20210329230000, 0.0), (20210330000000, 0.0), (20210330010000, 0.0), (20210330020000, 0.0), (20210330030000, 0.0), (20210330040000, 0.0), (20210330050000, 0.0), (20210330060000, 0.0), (20210330070000, 0.125), (20210330080000, 1.504), (20210330090000, 3.929), (20210330100000, 6.343), (20210330110000, 8.661), (20210330120000, 13.408), (20210330130000, 14.59), (20210330140000, 14.38), (20210330150000, 11.317), (20210330160000, 8.285), (20210330170000, 2.892), (20210330180000, 3.385), (20210330190000, 0.608), (20210330200000, 0.0), (20210330210000, 0.0), (20210330220000, 0.0), (20210330230000, 0.0), (20210331000000, 0.0), (20210331010000, 0.0), (20210331020000, 0.0), (20210331030000, 0.0), (20210331040000, 0.0), (20210331050000, 0.0), (20210331060000, 0.0), (20210331070000, 0.153), (20210331080000, 1.764), (20210331090000, 3.918), (20210331100000, 6.249), (20210331110000, 8.578), (20210331120000, 13.493), (20210331130000, 14.533), (20210331140000, 14.323), (20210331150000, 12.963), (20210331160000, 10.707), (20210331170000, 7.495), (20210331180000, 2.11), (20210331190000, 0.238), (20210331200000, 0.0), (20210331210000, 0.0), (20210331220000, 0.0), (20210331230000, 0.0), (20210401000000, 0.0), (20210401010000, 0.0), (20210401020000, 0.0), (20210401030000, 0.0), (20210401040000, 0.0), (20210401050000, 0.0), (20210401060000, 0.0), (20210401070000, 0.164)]\\n\\nThe historical weather condition is as follows:\\n\\n[(\\'20210325000000\\', \\'{\"daily\":\"It\\\\\\'s going to be a cold and snowy day on March 25th. Expect light snow and low clouds throughout the day, with a temperature trend of dropping to -5\\\\\\\\u00b0C by the evening. Be prepared for icy roads and reduced visibility. The wind will be blowing from the north at a moderate speed, and the humidity will be high, around 93%. As the day progresses, the snow flurries will become more frequent, and the temperature will continue to drop. It\\\\\\'s a good idea to stay indoors and avoid traveling unless necessary.\",\"Early Morning\":\"Early morning on March 25th will be quite chilly, with a temperature of around -1\\\\\\\\u00b0C. Expect light snow and low clouds, with a moderate wind blowing from the north. The humidity will be high, around 93%, and the visibility will be reduced due to the snow. It\\\\\\'s a good idea to bundle up and stay indoors.\",\"Morning\":\"Morning on March 25th will be similar to the early morning, with light snow and low clouds. The temperature will drop to around -2\\\\\\\\u00b0C, and the wind will continue to blow from the north. The humidity will remain high, around 93%, and the visibility will be reduced. It\\\\\\'s still a good idea to stay indoors and avoid traveling unless necessary.\",\"Afternoon\":\"Afternoon on March 25th will see a slight improvement in the weather, with the snow flurries becoming more frequent. The temperature will drop to around -5\\\\\\\\u00b0C, and the wind will continue to blow from the north. The humidity will remain high, around 93%, and the visibility will be reduced. It\\\\\\'s still a good idea to stay indoors and avoid traveling unless necessary.\",\"Evening\":\"Evening on March 25th will be quite cold, with a temperature of around -5\\\\\\\\u00b0C. Expect light snow and low clouds, with a moderate wind blowing from the north. The humidity will be high, around 93%, and the visibility will be reduced due to the snow. It\\\\\\'s a good idea to stay indoors and avoid traveling unless necessary.\",\"time\":\"20210325000000\",\"note\":\"\"}\\'), (\\'20210326000000\\', \\'{\"daily\":\"It\\\\\\'s going to be a chilly day in March, with a mix of light snow and ice fog. The temperature will fluctuate between -5\\\\\\\\u00b0C and 2\\\\\\\\u00b0C, with a general trend of warming up slightly towards the end of the day. Expect mostly cloudy skies with some scattered clouds and snow flurries. The wind will be moderate to strong, blowing from various directions. It\\\\\\'s a good idea to bundle up and stay warm!\",\"Early Morning\":\"Early morning will be quite chilly, with temperatures around -5\\\\\\\\u00b0C. Expect light snow and ice fog, with moderate winds blowing from the east-southeast. It\\\\\\'s a good idea to dress warmly and stay indoors if possible.\",\"Morning\":\"Morning will see a slight warming trend, with temperatures rising to around -2\\\\\\\\u00b0C. Expect light snow and broken clouds, with moderate winds blowing from the south. It\\\\\\'s a good idea to take a warm drink with you on your way out.\",\"Afternoon\":\"Afternoon will be quite pleasant, with temperatures rising to around 2\\\\\\\\u00b0C. Expect mostly cloudy skies with some scattered clouds and snow flurries. The wind will be moderate to strong, blowing from various directions. It\\\\\\'s a good idea to take a break and enjoy the scenery.\",\"Evening\":\"Evening will see a slight cooling trend, with temperatures dropping to around 0\\\\\\\\u00b0C. Expect light snow and partly cloudy skies, with moderate winds blowing from the east-northeast. It\\\\\\'s a good idea to bundle up and stay warm.\",\"time\":\"20210326000000\",\"note\":\"\"}\\'), (\\'20210327000000\\', \\'{\"daily\":\"It\\\\\\'s going to be a chilly day on March 27th, with ice fog in the early morning and partly sunny skies in the afternoon. Temperatures will be dropping throughout the day, with a low of -3\\\\\\\\u00b0C in the late afternoon. Expect a gentle breeze blowing from the south to north, with wind speeds ranging from 6 to 17 km\\\\\\\\/h. Humidity will be relatively high, around 70-90%, with a slight decrease in the afternoon.\",\"Early Morning\":\"Early morning on March 27th will be quite chilly, with ice fog and temperatures around -2\\\\\\\\u00b0C. Expect a gentle breeze blowing from the south to north, with wind speeds around 11 km\\\\\\\\/h. Humidity will be high, around 93%.\",\"Morning\":\"Morning on March 27th will see a slight improvement in weather, with partly sunny skies and temperatures around 0\\\\\\\\u00b0C. Expect a gentle breeze blowing from the south-southwest to north-northeast, with wind speeds around 15 km\\\\\\\\/h. Humidity will be relatively high, around 75%.\",\"Afternoon\":\"Afternoon on March 27th will be partly sunny, with temperatures around 12\\\\\\\\u00b0C. Expect a gentle breeze blowing from the west to east, with wind speeds around 15 km\\\\\\\\/h. Humidity will be relatively low, around 28-32%.\",\"Evening\":\"Evening on March 27th will see a slight drop in temperature, with partly cloudy skies and temperatures around 9\\\\\\\\u00b0C. Expect a gentle breeze blowing from the southwest to northeast, with wind speeds around 9 km\\\\\\\\/h. Humidity will be relatively high, around 37%.\",\"time\":\"20210327000000\",\"note\":\"\"}\\'), (\\'20210328000000\\', \\'{\"daily\":\"It\\\\\\'s going to be a partly cloudy day with a temperature trend of warming up in the morning and cooling down in the evening. Expect a gentle breeze with a moderate wind speed. There might be some scattered showers in the late afternoon, but overall, it\\\\\\'s going to be a pleasant day.\",\"Early Morning\":\"Early morning will be partly cloudy with a gentle breeze. The temperature will be around 6-9\\\\\\\\u00b0C, and the wind speed will be moderate. Expect a pleasant start to the day.\",\"Morning\":\"In the morning, the weather will be partly sunny with a gentle breeze. The temperature will be around 10-14\\\\\\\\u00b0C, and the wind speed will be moderate. It\\\\\\'s going to be a great day to get out and about.\",\"Afternoon\":\"In the afternoon, the weather will be partly sunny with a gentle breeze. The temperature will be around 10-14\\\\\\\\u00b0C, and the wind speed will be moderate. However, there might be some scattered showers in the late afternoon, so it\\\\\\'s a good idea to carry an umbrella.\",\"Evening\":\"In the evening, the weather will be mostly cloudy with a gentle breeze. The temperature will be around 8-10\\\\\\\\u00b0C, and the wind speed will be moderate. It\\\\\\'s going to be a pleasant end to the day.\",\"time\":\"20210328000000\",\"note\":\"\"}\\'), (\\'20210329000000\\', \\'{\"daily\":\"It\\\\\\'s going to be a cold day tomorrow, March 29th, in the early spring season. Expect light snow and overcast weather throughout the day, with temperatures ranging from -2\\\\\\\\u00b0C to -11\\\\\\\\u00b0C. The wind will be blowing at moderate speeds, and humidity will be relatively high. There might be a slight drop in temperature in the late afternoon, but overall, it will be a chilly day.\",\"Early Morning\":\"Early morning, March 29th, will be quite chilly, with temperatures ranging from -2\\\\\\\\u00b0C to -8\\\\\\\\u00b0C. Expect light snow and overcast weather, with moderate winds blowing at 35-44 km\\\\\\\\/h. It will be a relatively cloudy start to the day.\",\"Morning\":\"Morning, March 29th, will see a continuation of light snow and overcast weather, with temperatures ranging from -2\\\\\\\\u00b0C to -7\\\\\\\\u00b0C. The winds will pick up slightly, blowing at 46-52 km\\\\\\\\/h. It will be a bit more windy than the early morning.\",\"Afternoon\":\"Afternoon, March 29th, will see a slight drop in temperature, ranging from -3\\\\\\\\u00b0C to -8\\\\\\\\u00b0C. Expect passing clouds and moderate winds blowing at 31-46 km\\\\\\\\/h. It will be a bit more sunny than the morning, but still quite chilly.\",\"Evening\":\"Evening, March 29th, will see a continuation of passing clouds and moderate winds blowing at 24-35 km\\\\\\\\/h. Temperatures will range from -4\\\\\\\\u00b0C to -8\\\\\\\\u00b0C. It will be a relatively calm end to the day, with a slight drop in temperature.\",\"time\":\"20210329000000\",\"note\":\"\"}\\'), (\\'20210330000000\\', \\'{\"daily\":\"It\\\\\\'s going to be a chilly day on March 30th, with a mix of passing clouds and scattered clouds. Temperatures will fluctuate between -9\\\\\\\\u00b0C and 4\\\\\\\\u00b0C. Expect a moderate wind blowing from the west to east, with gusts reaching up to 28 km\\\\\\\\/h. The humidity will be relatively low, ranging from 23% to 62%. Overall, it\\\\\\'s a typical spring day with a bit of wind and variable temperatures.\",\"Early Morning\":\"Early morning on March 30th will be quite chilly, with temperatures ranging from -9\\\\\\\\u00b0C to -8\\\\\\\\u00b0C. Expect passing clouds and a moderate wind blowing from the west to east, with gusts reaching up to 17 km\\\\\\\\/h. The humidity will be around 53%.\",\"Morning\":\"Morning on March 30th will see temperatures rise slightly, ranging from -10\\\\\\\\u00b0C to -2\\\\\\\\u00b0C. The weather will be mostly passing clouds, with a moderate wind blowing from the southwest to northeast, gusting up to 19 km\\\\\\\\/h. The humidity will be around 40%.\",\"Afternoon\":\"Afternoon on March 30th will be partly sunny, with temperatures ranging from 1\\\\\\\\u00b0C to 4\\\\\\\\u00b0C. Expect a moderate wind blowing from the west to east, with gusts reaching up to 28 km\\\\\\\\/h. The humidity will be relatively low, around 24%.\",\"Evening\":\"Evening on March 30th will see temperatures drop slightly, ranging from 1\\\\\\\\u00b0C to 2\\\\\\\\u00b0C. The weather will be mostly passing clouds, with a moderate wind blowing from the west to east, gusting up to 26 km\\\\\\\\/h. The humidity will be around 32%.\",\"time\":\"20210330000000\",\"note\":\"\"}\\'), (\\'20210331000000\\', \\'{\"daily\":\"It\\\\\\'s going to be a chilly day with a mix of passing clouds and scattered clouds. Temperatures will fluctuate between -3\\\\\\\\u00b0C and 12\\\\\\\\u00b0C. Expect a moderate wind blowing from the west to east, with gusts reaching up to 41 km\\\\\\\\/h. Humidity will range from 21% to 55%. Be prepared for a partly sunny to cloudy day with a slight chance of scattered showers in the late afternoon.\",\"Early Morning\":\"Early morning will be partly sunny with a temperature range of -3\\\\\\\\u00b0C to 3\\\\\\\\u00b0C. Expect a moderate wind blowing from the south to north, with gusts reaching up to 15 km\\\\\\\\/h. Humidity will be around 55%.\",\"Morning\":\"Morning will be mostly cloudy with a temperature range of 6\\\\\\\\u00b0C to 9\\\\\\\\u00b0C. Expect a moderate wind blowing from the west to east, with gusts reaching up to 32 km\\\\\\\\/h. Humidity will be around 25%.\",\"Afternoon\":\"Afternoon will be partly sunny to cloudy with a temperature range of 9\\\\\\\\u00b0C to 12\\\\\\\\u00b0C. Expect a moderate wind blowing from the west to east, with gusts reaching up to 28 km\\\\\\\\/h. Humidity will be around 22%.\",\"Evening\":\"Evening will be partly cloudy with a temperature range of 7\\\\\\\\u00b0C to 10\\\\\\\\u00b0C. Expect a gentle wind blowing from the southwest to northeast, with gusts reaching up to 9 km\\\\\\\\/h. Humidity will be around 29%.\",\"time\":\"20210331000000\",\"note\":\"\"}\\'), (\\'20210401000000\\', \\'{\"daily\":\"It\\\\\\'s going to be a chilly April day with a mix of passing clouds and broken clouds. Expect a temperature trend of warming up in the morning and cooling down in the evening. There might be a sudden shower in the late afternoon. Overall, it\\\\\\'s a great day to enjoy the outdoors with a light jacket.\",\"Early Morning\":\"Early morning will be quite chilly with a temperature around 2-3\\\\\\\\u00b0C. Expect passing clouds with a gentle breeze. It\\\\\\'s a great time to get some fresh air and enjoy the morning.\",\"Morning\":\"Morning will see a slight warming up with temperatures reaching around 10-12\\\\\\\\u00b0C. The sky will be partly sunny with a gentle breeze. It\\\\\\'s a perfect time to get out and about.\",\"Afternoon\":\"Afternoon will be quite windy with gusts reaching up to 50 km\\\\\\\\/h. Temperatures will be around 14-16\\\\\\\\u00b0C. Expect passing clouds with a chance of sudden showers. It\\\\\\'s a good idea to carry an umbrella.\",\"Evening\":\"Evening will see a cooling down with temperatures dropping to around 8-10\\\\\\\\u00b0C. Expect passing clouds with a gentle breeze. It\\\\\\'s a great time to relax and unwind.\",\"time\":\"20210401000000\",\"note\":\"\"}\\')]\\n\\nWe now have the weather forecasting for the following days:\\n\\n[(\\'20210401000000\\', \\'{\"daily\":\"It\\\\\\'s going to be a chilly April day with a mix of passing clouds and broken clouds. Expect a temperature trend of warming up in the morning and cooling down in the evening. There might be a sudden shower in the late afternoon. Overall, it\\\\\\'s a great day to enjoy the outdoors with a light jacket.\",\"Early Morning\":\"Early morning will be quite chilly with a temperature around 2-3\\\\\\\\u00b0C. Expect passing clouds with a gentle breeze. It\\\\\\'s a great time to get some fresh air and enjoy the morning.\",\"Morning\":\"Morning will see a slight warming up with temperatures reaching around 10-12\\\\\\\\u00b0C. The sky will be partly sunny with a gentle breeze. It\\\\\\'s a perfect time to get out and about.\",\"Afternoon\":\"Afternoon will be quite windy with gusts reaching up to 50 km\\\\\\\\/h. Temperatures will be around 14-16\\\\\\\\u00b0C. Expect passing clouds with a chance of sudden showers. It\\\\\\'s a good idea to carry an umbrella.\",\"Evening\":\"Evening will see a cooling down with temperatures dropping to around 8-10\\\\\\\\u00b0C. Expect passing clouds with a gentle breeze. It\\\\\\'s a great time to relax and unwind.\",\"time\":\"20210401000000\",\"note\":\"\"}\\'), (\\'20210402000000\\', \\'{\"daily\":\"It\\\\\\'s going to be a chilly April day with a mix of passing clouds and clear skies. Temperatures will be quite low, ranging from -2 to 12 degrees Celsius. Expect a gentle breeze with wind speeds around 9-32 km\\\\\\\\/h. As the day progresses, the temperature will rise, and the wind will pick up. Be prepared for a partly sunny afternoon with scattered clouds. Overnight, the temperature will drop, and the skies will clear up.\",\"Early Morning\":\"Early morning will be quite chilly with temperatures around 0-3\\\\\\\\u00b0C. Expect passing clouds with a gentle breeze of 9 km\\\\\\\\/h. It\\\\\\'s a good idea to bundle up!\",\"Morning\":\"Morning will see a slight rise in temperature to around 5-6\\\\\\\\u00b0C. The skies will be partly cloudy with a moderate breeze of 13 km\\\\\\\\/h. It\\\\\\'s a great time to get some fresh air!\",\"Afternoon\":\"Afternoon will be partly sunny with scattered clouds and a temperature range of 8-12\\\\\\\\u00b0C. Expect a moderate breeze of 20 km\\\\\\\\/h. It\\\\\\'s a perfect time for outdoor activities!\",\"Evening\":\"Evening will see a slight drop in temperature to around 1-4\\\\\\\\u00b0C. The skies will clear up with a gentle breeze of 6 km\\\\\\\\/h. It\\\\\\'s a great time to relax and enjoy the evening!\",\"time\":\"20210402000000\",\"note\":\"\"}\\')]\\n\\nPlease make the prediction for the next 24 hours.\\n\\nThe timestamp for forecasting is as follows:\\n\\n[20210401080000, 20210401090000, 20210401100000, 20210401110000, 20210401120000, 20210401130000, 20210401140000, 20210401150000, 20210401160000, 20210401170000, 20210401180000, 20210401190000, 20210401200000, 20210401210000, 20210401220000, 20210401230000, 20210402000000, 20210402010000, 20210402020000, 20210402030000, 20210402040000, 20210402050000, 20210402060000, 20210402070000]\\n\\nPlease format it in json format in [datastamp, value] pair, as below:\\n\\n```json\\n\\n[[<timestamp>, <predicted_value>],\\n [<timestamp>, <predicted_value>],\\n ...]\\n\\n```\\n'"
      ]
     },
     "execution_count": 98,
     "metadata": {},
     "output_type": "execute_result"
    }
   ],
   "source": [
    "user_prompt"
   ]
  }
 ],
 "metadata": {
  "kernelspec": {
   "display_name": "uni2ts",
   "language": "python",
   "name": "python3"
  },
  "language_info": {
   "codemirror_mode": {
    "name": "ipython",
    "version": 3
   },
   "file_extension": ".py",
   "mimetype": "text/x-python",
   "name": "python",
   "nbconvert_exporter": "python",
   "pygments_lexer": "ipython3",
   "version": "3.11.0"
  }
 },
 "nbformat": 4,
 "nbformat_minor": 2
}
