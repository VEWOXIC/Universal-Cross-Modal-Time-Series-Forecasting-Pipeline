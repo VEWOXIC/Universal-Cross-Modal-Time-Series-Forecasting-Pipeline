{
 "cells": [
  {
   "cell_type": "code",
   "execution_count": 1,
   "metadata": {},
   "outputs": [],
   "source": [
    "import pandas as pd\n",
    "import numpy as np\n",
    "import torch\n",
    "from data_provider.data_factory import Data_Provider\n",
    "import yaml, json\n",
    "from utils.tools import dotdict"
   ]
  },
  {
   "cell_type": "code",
   "execution_count": 2,
   "metadata": {},
   "outputs": [],
   "source": [
    "# load json\n",
    "with open('checkpoints/03-11-0936_FITS_solar_day_ahead/args.json', 'r') as f:\n",
    "    args = json.load(f)\n",
    "args = dotdict(args)"
   ]
  },
  {
   "cell_type": "code",
   "execution_count": 3,
   "metadata": {},
   "outputs": [],
   "source": [
    "# load yaml\n",
    "with open('./data_configs/fullsolar_hetero.yaml') as f:\n",
    "    data_config = yaml.load(f, Loader=yaml.FullLoader)\n",
    "data_config = dotdict(data_config)\n",
    "args.data_config = data_config\n",
    "\n",
    "args.scale = False"
   ]
  },
  {
   "cell_type": "code",
   "execution_count": 4,
   "metadata": {},
   "outputs": [
    {
     "name": "stdout",
     "output_type": "stream",
     "text": [
      "[ info ] Successfully load the dynamic data from fast_general_weather_forecast_????.json\n"
     ]
    }
   ],
   "source": [
    "a=Data_Provider(args, buffer=(not args.disable_buffer))"
   ]
  },
  {
   "cell_type": "code",
   "execution_count": 5,
   "metadata": {},
   "outputs": [
    {
     "name": "stderr",
     "output_type": "stream",
     "text": [
      "Loading val datasets:  11%|█         | 1/9 [00:00<00:05,  1.35it/s]"
     ]
    },
    {
     "name": "stdout",
     "output_type": "stream",
     "text": [
      "Add data /data/Blob_WestJP/v-zhijianxu/Benchmark/fullsolar/impute_data/id_314106.parquet to buffer\n"
     ]
    },
    {
     "name": "stderr",
     "output_type": "stream",
     "text": [
      "Loading val datasets:  22%|██▏       | 2/9 [00:01<00:04,  1.45it/s]"
     ]
    },
    {
     "name": "stdout",
     "output_type": "stream",
     "text": [
      "Add data /data/Blob_WestJP/v-zhijianxu/Benchmark/fullsolar/impute_data/id_319086.parquet to buffer\n"
     ]
    },
    {
     "name": "stderr",
     "output_type": "stream",
     "text": [
      "Loading val datasets:  33%|███▎      | 3/9 [00:01<00:03,  1.66it/s]"
     ]
    },
    {
     "name": "stdout",
     "output_type": "stream",
     "text": [
      "Add data /data/Blob_WestJP/v-zhijianxu/Benchmark/fullsolar/impute_data/id_164440.parquet to buffer\n"
     ]
    },
    {
     "name": "stderr",
     "output_type": "stream",
     "text": [
      "Loading val datasets:  44%|████▍     | 4/9 [00:02<00:03,  1.43it/s]"
     ]
    },
    {
     "name": "stdout",
     "output_type": "stream",
     "text": [
      "Add data /data/Blob_WestJP/v-zhijianxu/Benchmark/fullsolar/impute_data/id_355827.parquet to buffer\n"
     ]
    },
    {
     "name": "stderr",
     "output_type": "stream",
     "text": [
      "Loading val datasets:  56%|█████▌    | 5/9 [00:03<00:02,  1.44it/s]"
     ]
    },
    {
     "name": "stdout",
     "output_type": "stream",
     "text": [
      "Add data /data/Blob_WestJP/v-zhijianxu/Benchmark/fullsolar/impute_data/id_331901.parquet to buffer\n"
     ]
    },
    {
     "name": "stderr",
     "output_type": "stream",
     "text": [
      "Loading val datasets:  67%|██████▋   | 6/9 [00:03<00:01,  1.57it/s]"
     ]
    },
    {
     "name": "stdout",
     "output_type": "stream",
     "text": [
      "Add data /data/Blob_WestJP/v-zhijianxu/Benchmark/fullsolar/impute_data/id_332785.parquet to buffer\n"
     ]
    },
    {
     "name": "stderr",
     "output_type": "stream",
     "text": [
      "Loading val datasets:  78%|███████▊  | 7/9 [00:04<00:01,  1.59it/s]"
     ]
    },
    {
     "name": "stdout",
     "output_type": "stream",
     "text": [
      "Add data /data/Blob_WestJP/v-zhijianxu/Benchmark/fullsolar/impute_data/id_577650.parquet to buffer\n"
     ]
    },
    {
     "name": "stderr",
     "output_type": "stream",
     "text": [
      "Loading val datasets:  89%|████████▉ | 8/9 [00:05<00:00,  1.68it/s]"
     ]
    },
    {
     "name": "stdout",
     "output_type": "stream",
     "text": [
      "Add data /data/Blob_WestJP/v-zhijianxu/Benchmark/fullsolar/impute_data/id_551172.parquet to buffer\n"
     ]
    },
    {
     "name": "stderr",
     "output_type": "stream",
     "text": [
      "Loading val datasets: 100%|██████████| 9/9 [00:05<00:00,  1.60it/s]"
     ]
    },
    {
     "name": "stdout",
     "output_type": "stream",
     "text": [
      "Add data /data/Blob_WestJP/v-zhijianxu/Benchmark/fullsolar/impute_data/id_570079.parquet to buffer\n"
     ]
    },
    {
     "name": "stderr",
     "output_type": "stream",
     "text": [
      "\n"
     ]
    }
   ],
   "source": [
    "set = a.get_val('set')"
   ]
  },
  {
   "cell_type": "code",
   "execution_count": 88,
   "metadata": {},
   "outputs": [
    {
     "data": {
      "text/plain": [
       "dict_keys(['314106', '319086', '164440', '355827', '331901', '332785', '577650', '551172', '570079'])"
      ]
     },
     "execution_count": 88,
     "metadata": {},
     "output_type": "execute_result"
    }
   ],
   "source": [
    "set.keys()"
   ]
  },
  {
   "cell_type": "code",
   "execution_count": 6,
   "metadata": {},
   "outputs": [
    {
     "data": {
      "text/plain": [
       "8569"
      ]
     },
     "execution_count": 6,
     "metadata": {},
     "output_type": "execute_result"
    }
   ],
   "source": [
    "seta = set['314106']\n",
    "len(seta)"
   ]
  },
  {
   "cell_type": "code",
   "execution_count": 90,
   "metadata": {},
   "outputs": [
    {
     "data": {
      "text/plain": [
       "(array([[0.0000e+00],\n",
       "        [0.0000e+00],\n",
       "        [4.3000e-02],\n",
       "        [1.4500e-01],\n",
       "        [1.1800e-01],\n",
       "        [3.0700e-01],\n",
       "        [2.8600e-01],\n",
       "        [3.5400e-01],\n",
       "        [1.1800e-01],\n",
       "        [3.0000e-03],\n",
       "        [0.0000e+00],\n",
       "        [0.0000e+00],\n",
       "        [0.0000e+00],\n",
       "        [0.0000e+00],\n",
       "        [0.0000e+00],\n",
       "        [0.0000e+00],\n",
       "        [0.0000e+00],\n",
       "        [0.0000e+00],\n",
       "        [0.0000e+00],\n",
       "        [0.0000e+00],\n",
       "        [0.0000e+00],\n",
       "        [0.0000e+00],\n",
       "        [0.0000e+00],\n",
       "        [0.0000e+00],\n",
       "        [0.0000e+00],\n",
       "        [0.0000e+00],\n",
       "        [3.2000e-02],\n",
       "        [4.5700e-01],\n",
       "        [1.4480e+00],\n",
       "        [1.6810e+00],\n",
       "        [2.6970e+00],\n",
       "        [2.3210e+00],\n",
       "        [2.5470e+00],\n",
       "        [2.7520e+00],\n",
       "        [1.8700e+00],\n",
       "        [2.1600e-01],\n",
       "        [0.0000e+00],\n",
       "        [0.0000e+00],\n",
       "        [0.0000e+00],\n",
       "        [0.0000e+00],\n",
       "        [0.0000e+00],\n",
       "        [0.0000e+00],\n",
       "        [0.0000e+00],\n",
       "        [0.0000e+00],\n",
       "        [0.0000e+00],\n",
       "        [0.0000e+00],\n",
       "        [0.0000e+00],\n",
       "        [2.3000e-02],\n",
       "        [1.1510e+00],\n",
       "        [3.3160e+00],\n",
       "        [5.5310e+00],\n",
       "        [8.0380e+00],\n",
       "        [1.3042e+01],\n",
       "        [1.2176e+01],\n",
       "        [1.1183e+01],\n",
       "        [8.8510e+00],\n",
       "        [8.9030e+00],\n",
       "        [4.0990e+00],\n",
       "        [1.1230e+00],\n",
       "        [2.4900e-01],\n",
       "        [0.0000e+00],\n",
       "        [0.0000e+00],\n",
       "        [0.0000e+00],\n",
       "        [0.0000e+00],\n",
       "        [0.0000e+00],\n",
       "        [0.0000e+00],\n",
       "        [0.0000e+00],\n",
       "        [0.0000e+00],\n",
       "        [0.0000e+00],\n",
       "        [0.0000e+00],\n",
       "        [0.0000e+00],\n",
       "        [2.6000e-02],\n",
       "        [4.9100e-01],\n",
       "        [2.3090e+00],\n",
       "        [5.5530e+00],\n",
       "        [8.1790e+00],\n",
       "        [1.2731e+01],\n",
       "        [1.4266e+01],\n",
       "        [1.4156e+01],\n",
       "        [1.2798e+01],\n",
       "        [7.9150e+00],\n",
       "        [3.2540e+00],\n",
       "        [1.6020e+00],\n",
       "        [1.6800e-01],\n",
       "        [0.0000e+00],\n",
       "        [0.0000e+00],\n",
       "        [0.0000e+00],\n",
       "        [0.0000e+00],\n",
       "        [0.0000e+00],\n",
       "        [0.0000e+00],\n",
       "        [0.0000e+00],\n",
       "        [0.0000e+00],\n",
       "        [0.0000e+00],\n",
       "        [0.0000e+00],\n",
       "        [0.0000e+00],\n",
       "        [5.0000e-03],\n",
       "        [2.9900e-01],\n",
       "        [2.0480e+00],\n",
       "        [4.9640e+00],\n",
       "        [6.9400e+00],\n",
       "        [1.1863e+01],\n",
       "        [1.4053e+01],\n",
       "        [1.3987e+01],\n",
       "        [1.3494e+01],\n",
       "        [1.1360e+01],\n",
       "        [7.9820e+00],\n",
       "        [3.8430e+00],\n",
       "        [5.2900e-01],\n",
       "        [0.0000e+00],\n",
       "        [0.0000e+00],\n",
       "        [0.0000e+00],\n",
       "        [0.0000e+00],\n",
       "        [0.0000e+00],\n",
       "        [0.0000e+00],\n",
       "        [0.0000e+00],\n",
       "        [0.0000e+00],\n",
       "        [0.0000e+00],\n",
       "        [0.0000e+00],\n",
       "        [0.0000e+00],\n",
       "        [1.2500e-01],\n",
       "        [1.5040e+00],\n",
       "        [3.9290e+00],\n",
       "        [6.3430e+00],\n",
       "        [8.6610e+00],\n",
       "        [1.3408e+01],\n",
       "        [1.4590e+01],\n",
       "        [1.4380e+01],\n",
       "        [1.1317e+01],\n",
       "        [8.2850e+00],\n",
       "        [2.8920e+00],\n",
       "        [3.3850e+00],\n",
       "        [6.0800e-01],\n",
       "        [0.0000e+00],\n",
       "        [0.0000e+00],\n",
       "        [0.0000e+00],\n",
       "        [0.0000e+00],\n",
       "        [0.0000e+00],\n",
       "        [0.0000e+00],\n",
       "        [0.0000e+00],\n",
       "        [0.0000e+00],\n",
       "        [0.0000e+00],\n",
       "        [0.0000e+00],\n",
       "        [0.0000e+00],\n",
       "        [1.5300e-01],\n",
       "        [1.7640e+00],\n",
       "        [3.9180e+00],\n",
       "        [6.2490e+00],\n",
       "        [8.5780e+00],\n",
       "        [1.3493e+01],\n",
       "        [1.4533e+01],\n",
       "        [1.4323e+01],\n",
       "        [1.2963e+01],\n",
       "        [1.0707e+01],\n",
       "        [7.4950e+00],\n",
       "        [2.1100e+00],\n",
       "        [2.3800e-01],\n",
       "        [0.0000e+00],\n",
       "        [0.0000e+00],\n",
       "        [0.0000e+00],\n",
       "        [0.0000e+00],\n",
       "        [0.0000e+00],\n",
       "        [0.0000e+00],\n",
       "        [0.0000e+00],\n",
       "        [0.0000e+00],\n",
       "        [0.0000e+00],\n",
       "        [0.0000e+00],\n",
       "        [0.0000e+00],\n",
       "        [1.6400e-01]]),\n",
       " array([[ 1.61 ],\n",
       "        [ 3.31 ],\n",
       "        [ 6.356],\n",
       "        [ 9.18 ],\n",
       "        [11.15 ],\n",
       "        [14.543],\n",
       "        [14.295],\n",
       "        [12.953],\n",
       "        [10.737],\n",
       "        [ 6.956],\n",
       "        [ 3.723],\n",
       "        [ 0.788],\n",
       "        [ 0.   ],\n",
       "        [ 0.   ],\n",
       "        [ 0.   ],\n",
       "        [ 0.   ],\n",
       "        [ 0.   ],\n",
       "        [ 0.   ],\n",
       "        [ 0.   ],\n",
       "        [ 0.   ],\n",
       "        [ 0.   ],\n",
       "        [ 0.   ],\n",
       "        [ 0.   ],\n",
       "        [ 0.164]]),\n",
       " array([20210325080000, 20210325090000, 20210325100000, 20210325110000,\n",
       "        20210325120000, 20210325130000, 20210325140000, 20210325150000,\n",
       "        20210325160000, 20210325170000, 20210325180000, 20210325190000,\n",
       "        20210325200000, 20210325210000, 20210325220000, 20210325230000,\n",
       "        20210326000000, 20210326010000, 20210326020000, 20210326030000,\n",
       "        20210326040000, 20210326050000, 20210326060000, 20210326070000,\n",
       "        20210326080000, 20210326090000, 20210326100000, 20210326110000,\n",
       "        20210326120000, 20210326130000, 20210326140000, 20210326150000,\n",
       "        20210326160000, 20210326170000, 20210326180000, 20210326190000,\n",
       "        20210326200000, 20210326210000, 20210326220000, 20210326230000,\n",
       "        20210327000000, 20210327010000, 20210327020000, 20210327030000,\n",
       "        20210327040000, 20210327050000, 20210327060000, 20210327070000,\n",
       "        20210327080000, 20210327090000, 20210327100000, 20210327110000,\n",
       "        20210327120000, 20210327130000, 20210327140000, 20210327150000,\n",
       "        20210327160000, 20210327170000, 20210327180000, 20210327190000,\n",
       "        20210327200000, 20210327210000, 20210327220000, 20210327230000,\n",
       "        20210328000000, 20210328010000, 20210328020000, 20210328030000,\n",
       "        20210328040000, 20210328050000, 20210328060000, 20210328070000,\n",
       "        20210328080000, 20210328090000, 20210328100000, 20210328110000,\n",
       "        20210328120000, 20210328130000, 20210328140000, 20210328150000,\n",
       "        20210328160000, 20210328170000, 20210328180000, 20210328190000,\n",
       "        20210328200000, 20210328210000, 20210328220000, 20210328230000,\n",
       "        20210329000000, 20210329010000, 20210329020000, 20210329030000,\n",
       "        20210329040000, 20210329050000, 20210329060000, 20210329070000,\n",
       "        20210329080000, 20210329090000, 20210329100000, 20210329110000,\n",
       "        20210329120000, 20210329130000, 20210329140000, 20210329150000,\n",
       "        20210329160000, 20210329170000, 20210329180000, 20210329190000,\n",
       "        20210329200000, 20210329210000, 20210329220000, 20210329230000,\n",
       "        20210330000000, 20210330010000, 20210330020000, 20210330030000,\n",
       "        20210330040000, 20210330050000, 20210330060000, 20210330070000,\n",
       "        20210330080000, 20210330090000, 20210330100000, 20210330110000,\n",
       "        20210330120000, 20210330130000, 20210330140000, 20210330150000,\n",
       "        20210330160000, 20210330170000, 20210330180000, 20210330190000,\n",
       "        20210330200000, 20210330210000, 20210330220000, 20210330230000,\n",
       "        20210331000000, 20210331010000, 20210331020000, 20210331030000,\n",
       "        20210331040000, 20210331050000, 20210331060000, 20210331070000,\n",
       "        20210331080000, 20210331090000, 20210331100000, 20210331110000,\n",
       "        20210331120000, 20210331130000, 20210331140000, 20210331150000,\n",
       "        20210331160000, 20210331170000, 20210331180000, 20210331190000,\n",
       "        20210331200000, 20210331210000, 20210331220000, 20210331230000,\n",
       "        20210401000000, 20210401010000, 20210401020000, 20210401030000,\n",
       "        20210401040000, 20210401050000, 20210401060000, 20210401070000]),\n",
       " array([20210401080000, 20210401090000, 20210401100000, 20210401110000,\n",
       "        20210401120000, 20210401130000, 20210401140000, 20210401150000,\n",
       "        20210401160000, 20210401170000, 20210401180000, 20210401190000,\n",
       "        20210401200000, 20210401210000, 20210401220000, 20210401230000,\n",
       "        20210402000000, 20210402010000, 20210402020000, 20210402030000,\n",
       "        20210402040000, 20210402050000, 20210402060000, 20210402070000]),\n",
       " (['20210325000000',\n",
       "   '20210326000000',\n",
       "   '20210327000000',\n",
       "   '20210328000000',\n",
       "   '20210329000000',\n",
       "   '20210330000000',\n",
       "   '20210331000000',\n",
       "   '20210401000000'],\n",
       "  'This dataset contains the solar power generation data of 16 solar panels in Calgary, Alberta, Canada. The data is collected hourly. ',\n",
       "  'The solar panel is located at Calgary Fire Hall Headquarters.',\n",
       "  ['{\"daily\":\"It\\'s going to be a cold and snowy day on March 25th. Expect light snow and low clouds throughout the day, with a temperature trend of dropping to -5\\\\u00b0C by the evening. Be prepared for icy roads and reduced visibility. The wind will be blowing from the north at a moderate speed, and the humidity will be high, around 93%. As the day progresses, the snow flurries will become more frequent, and the temperature will continue to drop. It\\'s a good idea to stay indoors and avoid traveling unless necessary.\",\"Early Morning\":\"Early morning on March 25th will be quite chilly, with a temperature of around -1\\\\u00b0C. Expect light snow and low clouds, with a moderate wind blowing from the north. The humidity will be high, around 93%, and the visibility will be reduced due to the snow. It\\'s a good idea to bundle up and stay indoors.\",\"Morning\":\"Morning on March 25th will be similar to the early morning, with light snow and low clouds. The temperature will drop to around -2\\\\u00b0C, and the wind will continue to blow from the north. The humidity will remain high, around 93%, and the visibility will be reduced. It\\'s still a good idea to stay indoors and avoid traveling unless necessary.\",\"Afternoon\":\"Afternoon on March 25th will see a slight improvement in the weather, with the snow flurries becoming more frequent. The temperature will drop to around -5\\\\u00b0C, and the wind will continue to blow from the north. The humidity will remain high, around 93%, and the visibility will be reduced. It\\'s still a good idea to stay indoors and avoid traveling unless necessary.\",\"Evening\":\"Evening on March 25th will be quite cold, with a temperature of around -5\\\\u00b0C. Expect light snow and low clouds, with a moderate wind blowing from the north. The humidity will be high, around 93%, and the visibility will be reduced due to the snow. It\\'s a good idea to stay indoors and avoid traveling unless necessary.\",\"time\":\"20210325000000\",\"note\":\"\"}',\n",
       "   '{\"daily\":\"It\\'s going to be a chilly day in March, with a mix of light snow and ice fog. The temperature will fluctuate between -5\\\\u00b0C and 2\\\\u00b0C, with a general trend of warming up slightly towards the end of the day. Expect mostly cloudy skies with some scattered clouds and snow flurries. The wind will be moderate to strong, blowing from various directions. It\\'s a good idea to bundle up and stay warm!\",\"Early Morning\":\"Early morning will be quite chilly, with temperatures around -5\\\\u00b0C. Expect light snow and ice fog, with moderate winds blowing from the east-southeast. It\\'s a good idea to dress warmly and stay indoors if possible.\",\"Morning\":\"Morning will see a slight warming trend, with temperatures rising to around -2\\\\u00b0C. Expect light snow and broken clouds, with moderate winds blowing from the south. It\\'s a good idea to take a warm drink with you on your way out.\",\"Afternoon\":\"Afternoon will be quite pleasant, with temperatures rising to around 2\\\\u00b0C. Expect mostly cloudy skies with some scattered clouds and snow flurries. The wind will be moderate to strong, blowing from various directions. It\\'s a good idea to take a break and enjoy the scenery.\",\"Evening\":\"Evening will see a slight cooling trend, with temperatures dropping to around 0\\\\u00b0C. Expect light snow and partly cloudy skies, with moderate winds blowing from the east-northeast. It\\'s a good idea to bundle up and stay warm.\",\"time\":\"20210326000000\",\"note\":\"\"}',\n",
       "   '{\"daily\":\"It\\'s going to be a chilly day on March 27th, with ice fog in the early morning and partly sunny skies in the afternoon. Temperatures will be dropping throughout the day, with a low of -3\\\\u00b0C in the late afternoon. Expect a gentle breeze blowing from the south to north, with wind speeds ranging from 6 to 17 km\\\\/h. Humidity will be relatively high, around 70-90%, with a slight decrease in the afternoon.\",\"Early Morning\":\"Early morning on March 27th will be quite chilly, with ice fog and temperatures around -2\\\\u00b0C. Expect a gentle breeze blowing from the south to north, with wind speeds around 11 km\\\\/h. Humidity will be high, around 93%.\",\"Morning\":\"Morning on March 27th will see a slight improvement in weather, with partly sunny skies and temperatures around 0\\\\u00b0C. Expect a gentle breeze blowing from the south-southwest to north-northeast, with wind speeds around 15 km\\\\/h. Humidity will be relatively high, around 75%.\",\"Afternoon\":\"Afternoon on March 27th will be partly sunny, with temperatures around 12\\\\u00b0C. Expect a gentle breeze blowing from the west to east, with wind speeds around 15 km\\\\/h. Humidity will be relatively low, around 28-32%.\",\"Evening\":\"Evening on March 27th will see a slight drop in temperature, with partly cloudy skies and temperatures around 9\\\\u00b0C. Expect a gentle breeze blowing from the southwest to northeast, with wind speeds around 9 km\\\\/h. Humidity will be relatively high, around 37%.\",\"time\":\"20210327000000\",\"note\":\"\"}',\n",
       "   '{\"daily\":\"It\\'s going to be a partly cloudy day with a temperature trend of warming up in the morning and cooling down in the evening. Expect a gentle breeze with a moderate wind speed. There might be some scattered showers in the late afternoon, but overall, it\\'s going to be a pleasant day.\",\"Early Morning\":\"Early morning will be partly cloudy with a gentle breeze. The temperature will be around 6-9\\\\u00b0C, and the wind speed will be moderate. Expect a pleasant start to the day.\",\"Morning\":\"In the morning, the weather will be partly sunny with a gentle breeze. The temperature will be around 10-14\\\\u00b0C, and the wind speed will be moderate. It\\'s going to be a great day to get out and about.\",\"Afternoon\":\"In the afternoon, the weather will be partly sunny with a gentle breeze. The temperature will be around 10-14\\\\u00b0C, and the wind speed will be moderate. However, there might be some scattered showers in the late afternoon, so it\\'s a good idea to carry an umbrella.\",\"Evening\":\"In the evening, the weather will be mostly cloudy with a gentle breeze. The temperature will be around 8-10\\\\u00b0C, and the wind speed will be moderate. It\\'s going to be a pleasant end to the day.\",\"time\":\"20210328000000\",\"note\":\"\"}',\n",
       "   '{\"daily\":\"It\\'s going to be a cold day tomorrow, March 29th, in the early spring season. Expect light snow and overcast weather throughout the day, with temperatures ranging from -2\\\\u00b0C to -11\\\\u00b0C. The wind will be blowing at moderate speeds, and humidity will be relatively high. There might be a slight drop in temperature in the late afternoon, but overall, it will be a chilly day.\",\"Early Morning\":\"Early morning, March 29th, will be quite chilly, with temperatures ranging from -2\\\\u00b0C to -8\\\\u00b0C. Expect light snow and overcast weather, with moderate winds blowing at 35-44 km\\\\/h. It will be a relatively cloudy start to the day.\",\"Morning\":\"Morning, March 29th, will see a continuation of light snow and overcast weather, with temperatures ranging from -2\\\\u00b0C to -7\\\\u00b0C. The winds will pick up slightly, blowing at 46-52 km\\\\/h. It will be a bit more windy than the early morning.\",\"Afternoon\":\"Afternoon, March 29th, will see a slight drop in temperature, ranging from -3\\\\u00b0C to -8\\\\u00b0C. Expect passing clouds and moderate winds blowing at 31-46 km\\\\/h. It will be a bit more sunny than the morning, but still quite chilly.\",\"Evening\":\"Evening, March 29th, will see a continuation of passing clouds and moderate winds blowing at 24-35 km\\\\/h. Temperatures will range from -4\\\\u00b0C to -8\\\\u00b0C. It will be a relatively calm end to the day, with a slight drop in temperature.\",\"time\":\"20210329000000\",\"note\":\"\"}',\n",
       "   '{\"daily\":\"It\\'s going to be a chilly day on March 30th, with a mix of passing clouds and scattered clouds. Temperatures will fluctuate between -9\\\\u00b0C and 4\\\\u00b0C. Expect a moderate wind blowing from the west to east, with gusts reaching up to 28 km\\\\/h. The humidity will be relatively low, ranging from 23% to 62%. Overall, it\\'s a typical spring day with a bit of wind and variable temperatures.\",\"Early Morning\":\"Early morning on March 30th will be quite chilly, with temperatures ranging from -9\\\\u00b0C to -8\\\\u00b0C. Expect passing clouds and a moderate wind blowing from the west to east, with gusts reaching up to 17 km\\\\/h. The humidity will be around 53%.\",\"Morning\":\"Morning on March 30th will see temperatures rise slightly, ranging from -10\\\\u00b0C to -2\\\\u00b0C. The weather will be mostly passing clouds, with a moderate wind blowing from the southwest to northeast, gusting up to 19 km\\\\/h. The humidity will be around 40%.\",\"Afternoon\":\"Afternoon on March 30th will be partly sunny, with temperatures ranging from 1\\\\u00b0C to 4\\\\u00b0C. Expect a moderate wind blowing from the west to east, with gusts reaching up to 28 km\\\\/h. The humidity will be relatively low, around 24%.\",\"Evening\":\"Evening on March 30th will see temperatures drop slightly, ranging from 1\\\\u00b0C to 2\\\\u00b0C. The weather will be mostly passing clouds, with a moderate wind blowing from the west to east, gusting up to 26 km\\\\/h. The humidity will be around 32%.\",\"time\":\"20210330000000\",\"note\":\"\"}',\n",
       "   '{\"daily\":\"It\\'s going to be a chilly day with a mix of passing clouds and scattered clouds. Temperatures will fluctuate between -3\\\\u00b0C and 12\\\\u00b0C. Expect a moderate wind blowing from the west to east, with gusts reaching up to 41 km\\\\/h. Humidity will range from 21% to 55%. Be prepared for a partly sunny to cloudy day with a slight chance of scattered showers in the late afternoon.\",\"Early Morning\":\"Early morning will be partly sunny with a temperature range of -3\\\\u00b0C to 3\\\\u00b0C. Expect a moderate wind blowing from the south to north, with gusts reaching up to 15 km\\\\/h. Humidity will be around 55%.\",\"Morning\":\"Morning will be mostly cloudy with a temperature range of 6\\\\u00b0C to 9\\\\u00b0C. Expect a moderate wind blowing from the west to east, with gusts reaching up to 32 km\\\\/h. Humidity will be around 25%.\",\"Afternoon\":\"Afternoon will be partly sunny to cloudy with a temperature range of 9\\\\u00b0C to 12\\\\u00b0C. Expect a moderate wind blowing from the west to east, with gusts reaching up to 28 km\\\\/h. Humidity will be around 22%.\",\"Evening\":\"Evening will be partly cloudy with a temperature range of 7\\\\u00b0C to 10\\\\u00b0C. Expect a gentle wind blowing from the southwest to northeast, with gusts reaching up to 9 km\\\\/h. Humidity will be around 29%.\",\"time\":\"20210331000000\",\"note\":\"\"}',\n",
       "   '{\"daily\":\"It\\'s going to be a chilly April day with a mix of passing clouds and broken clouds. Expect a temperature trend of warming up in the morning and cooling down in the evening. There might be a sudden shower in the late afternoon. Overall, it\\'s a great day to enjoy the outdoors with a light jacket.\",\"Early Morning\":\"Early morning will be quite chilly with a temperature around 2-3\\\\u00b0C. Expect passing clouds with a gentle breeze. It\\'s a great time to get some fresh air and enjoy the morning.\",\"Morning\":\"Morning will see a slight warming up with temperatures reaching around 10-12\\\\u00b0C. The sky will be partly sunny with a gentle breeze. It\\'s a perfect time to get out and about.\",\"Afternoon\":\"Afternoon will be quite windy with gusts reaching up to 50 km\\\\/h. Temperatures will be around 14-16\\\\u00b0C. Expect passing clouds with a chance of sudden showers. It\\'s a good idea to carry an umbrella.\",\"Evening\":\"Evening will see a cooling down with temperatures dropping to around 8-10\\\\u00b0C. Expect passing clouds with a gentle breeze. It\\'s a great time to relax and unwind.\",\"time\":\"20210401000000\",\"note\":\"\"}']),\n",
       " (['20210401000000', '20210402000000'],\n",
       "  'This dataset contains the solar power generation data of 16 solar panels in Calgary, Alberta, Canada. The data is collected hourly. ',\n",
       "  'The solar panel is located at Calgary Fire Hall Headquarters.',\n",
       "  ['{\"daily\":\"It\\'s going to be a chilly April day with a mix of passing clouds and broken clouds. Expect a temperature trend of warming up in the morning and cooling down in the evening. There might be a sudden shower in the late afternoon. Overall, it\\'s a great day to enjoy the outdoors with a light jacket.\",\"Early Morning\":\"Early morning will be quite chilly with a temperature around 2-3\\\\u00b0C. Expect passing clouds with a gentle breeze. It\\'s a great time to get some fresh air and enjoy the morning.\",\"Morning\":\"Morning will see a slight warming up with temperatures reaching around 10-12\\\\u00b0C. The sky will be partly sunny with a gentle breeze. It\\'s a perfect time to get out and about.\",\"Afternoon\":\"Afternoon will be quite windy with gusts reaching up to 50 km\\\\/h. Temperatures will be around 14-16\\\\u00b0C. Expect passing clouds with a chance of sudden showers. It\\'s a good idea to carry an umbrella.\",\"Evening\":\"Evening will see a cooling down with temperatures dropping to around 8-10\\\\u00b0C. Expect passing clouds with a gentle breeze. It\\'s a great time to relax and unwind.\",\"time\":\"20210401000000\",\"note\":\"\"}',\n",
       "   '{\"daily\":\"It\\'s going to be a chilly April day with a mix of passing clouds and clear skies. Temperatures will be quite low, ranging from -2 to 12 degrees Celsius. Expect a gentle breeze with wind speeds around 9-32 km\\\\/h. As the day progresses, the temperature will rise, and the wind will pick up. Be prepared for a partly sunny afternoon with scattered clouds. Overnight, the temperature will drop, and the skies will clear up.\",\"Early Morning\":\"Early morning will be quite chilly with temperatures around 0-3\\\\u00b0C. Expect passing clouds with a gentle breeze of 9 km\\\\/h. It\\'s a good idea to bundle up!\",\"Morning\":\"Morning will see a slight rise in temperature to around 5-6\\\\u00b0C. The skies will be partly cloudy with a moderate breeze of 13 km\\\\/h. It\\'s a great time to get some fresh air!\",\"Afternoon\":\"Afternoon will be partly sunny with scattered clouds and a temperature range of 8-12\\\\u00b0C. Expect a moderate breeze of 20 km\\\\/h. It\\'s a perfect time for outdoor activities!\",\"Evening\":\"Evening will see a slight drop in temperature to around 1-4\\\\u00b0C. The skies will clear up with a gentle breeze of 6 km\\\\/h. It\\'s a great time to relax and enjoy the evening!\",\"time\":\"20210402000000\",\"note\":\"\"}']))"
      ]
     },
     "execution_count": 90,
     "metadata": {},
     "output_type": "execute_result"
    }
   ],
   "source": [
    "seta[2000]"
   ]
  },
  {
   "cell_type": "code",
   "execution_count": 9,
   "metadata": {},
   "outputs": [
    {
     "data": {
      "text/plain": [
       "array([20210401080000, 20210401090000, 20210401100000, 20210401110000,\n",
       "       20210401120000, 20210401130000, 20210401140000, 20210401150000,\n",
       "       20210401160000, 20210401170000, 20210401180000, 20210401190000,\n",
       "       20210401200000, 20210401210000, 20210401220000, 20210401230000,\n",
       "       20210402000000, 20210402010000, 20210402020000, 20210402030000,\n",
       "       20210402040000, 20210402050000, 20210402060000, 20210402070000])"
      ]
     },
     "execution_count": 9,
     "metadata": {},
     "output_type": "execute_result"
    }
   ],
   "source": [
    "seta[2000][3]"
   ]
  },
  {
   "cell_type": "markdown",
   "metadata": {},
   "source": [
    "## try with openai API"
   ]
  },
  {
   "cell_type": "code",
   "execution_count": null,
   "metadata": {},
   "outputs": [],
   "source": [
    "# ts_x, ts_y, tm_x, tm_y, (dy_tm_x, general, channel, [dy_x]), (dy_tm_y, general, channel, [dy_y])"
   ]
  },
  {
   "cell_type": "code",
   "execution_count": 7,
   "metadata": {},
   "outputs": [],
   "source": [
    "import openai"
   ]
  },
  {
   "cell_type": "code",
   "execution_count": 8,
   "metadata": {},
   "outputs": [],
   "source": [
    "openai.base_url = 'http://localhost:8021/v1/'\n",
    "openai.api_key = 'EMPTY'"
   ]
  },
  {
   "cell_type": "code",
   "execution_count": 9,
   "metadata": {},
   "outputs": [],
   "source": [
    "system_prompt = \"You are a professonal data analyst. You can do the forecasting by considering the historical reading time series along with weather condition and make the prediction for the next 24 hours. \" + seta[2000][4][1] + \"Please directly do the forecasting without any further external tools such as coding. You can consider the periodicity, trend, and seasonality of the data. Then consider the affect of weather condition to further refine your prediction. \"\n"
   ]
  },
  {
   "cell_type": "code",
   "execution_count": 10,
   "metadata": {},
   "outputs": [
    {
     "data": {
      "text/plain": [
       "'The solar panel is located at Calgary Fire Hall Headquarters.'"
      ]
     },
     "execution_count": 10,
     "metadata": {},
     "output_type": "execute_result"
    }
   ],
   "source": [
    "x_ts = seta[2000-120][0].squeeze().tolist()\n",
    "x_timestamp = seta[2000-120][2].tolist()\n",
    "x_table = [(x_timestamp[i], x_ts[i]) for i in range(len(x_ts))]\n",
    "\n",
    "x_dy = seta[2000-120][4][-1]\n",
    "x_dy_timestamp = seta[2000-120][4][0]\n",
    "x_dy_table = [(x_dy_timestamp[i], x_dy[i]) for i in range(len(x_dy))]\n",
    "\n",
    "channel_info = seta[2000-120][4][2]\n",
    "channel_info"
   ]
  },
  {
   "cell_type": "code",
   "execution_count": 11,
   "metadata": {},
   "outputs": [
    {
     "data": {
      "text/plain": [
       "[('20210327000000',\n",
       "  '{\"daily\":\"It\\'s going to be a chilly day on March 27th, with ice fog in the early morning and partly sunny skies in the afternoon. Temperatures will be dropping throughout the day, with a low of -3\\\\u00b0C in the late afternoon. Expect a gentle breeze blowing from the south to north, with wind speeds ranging from 6 to 17 km\\\\/h. Humidity will be relatively high, around 70-90%, with a slight decrease in the afternoon.\",\"Early Morning\":\"Early morning on March 27th will be quite chilly, with ice fog and temperatures around -2\\\\u00b0C. Expect a gentle breeze blowing from the south to north, with wind speeds around 11 km\\\\/h. Humidity will be high, around 93%.\",\"Morning\":\"Morning on March 27th will see a slight improvement in weather, with partly sunny skies and temperatures around 0\\\\u00b0C. Expect a gentle breeze blowing from the south-southwest to north-northeast, with wind speeds around 15 km\\\\/h. Humidity will be relatively high, around 75%.\",\"Afternoon\":\"Afternoon on March 27th will be partly sunny, with temperatures around 12\\\\u00b0C. Expect a gentle breeze blowing from the west to east, with wind speeds around 15 km\\\\/h. Humidity will be relatively low, around 28-32%.\",\"Evening\":\"Evening on March 27th will see a slight drop in temperature, with partly cloudy skies and temperatures around 9\\\\u00b0C. Expect a gentle breeze blowing from the southwest to northeast, with wind speeds around 9 km\\\\/h. Humidity will be relatively high, around 37%.\",\"time\":\"20210327000000\",\"note\":\"\"}'),\n",
       " ('20210328000000',\n",
       "  '{\"daily\":\"It\\'s going to be a partly cloudy day with a temperature trend of warming up in the morning and cooling down in the evening. Expect a gentle breeze with a moderate wind speed. There might be some scattered showers in the late afternoon, but overall, it\\'s going to be a pleasant day.\",\"Early Morning\":\"Early morning will be partly cloudy with a gentle breeze. The temperature will be around 6-9\\\\u00b0C, and the wind speed will be moderate. Expect a pleasant start to the day.\",\"Morning\":\"In the morning, the weather will be partly sunny with a gentle breeze. The temperature will be around 10-14\\\\u00b0C, and the wind speed will be moderate. It\\'s going to be a great day to get out and about.\",\"Afternoon\":\"In the afternoon, the weather will be partly sunny with a gentle breeze. The temperature will be around 10-14\\\\u00b0C, and the wind speed will be moderate. However, there might be some scattered showers in the late afternoon, so it\\'s a good idea to carry an umbrella.\",\"Evening\":\"In the evening, the weather will be mostly cloudy with a gentle breeze. The temperature will be around 8-10\\\\u00b0C, and the wind speed will be moderate. It\\'s going to be a pleasant end to the day.\",\"time\":\"20210328000000\",\"note\":\"\"}')]"
      ]
     },
     "execution_count": 11,
     "metadata": {},
     "output_type": "execute_result"
    }
   ],
   "source": [
    "y_ts = seta[2000-120][1].squeeze().tolist()\n",
    "y_timestamp = seta[2000-120][3].tolist()\n",
    "\n",
    "y_dy = seta[2000-120][5][-1]\n",
    "y_dy_timestamp = seta[2000-120][5][0]\n",
    "y_dy_table = [(y_dy_timestamp[i], y_dy[i]) for i in range(len(y_dy))]\n",
    "y_dy_table"
   ]
  },
  {
   "cell_type": "code",
   "execution_count": 12,
   "metadata": {},
   "outputs": [],
   "source": [
    "user_prompt = f'''\n",
    "\n",
    "We now have the data from {channel_info}. The historical data is as follows:\n",
    "\n",
    "{x_table}\n",
    "\n",
    "The historical weather condition is as follows:\n",
    "\n",
    "{x_dy_table}\n",
    "\n",
    "We now have the weather forecasting for the following days:\n",
    "\n",
    "{y_dy_table}\n",
    "\n",
    "Please make the prediction for the next 24 hours.\n",
    "\n",
    "The timestamp for forecasting is as follows:\n",
    "\n",
    "{y_timestamp}\n",
    "\n",
    "Please format it in json format in [datastamp, value] pair, as below:\n",
    "\n",
    "```json\n",
    "\n",
    "[[<timestamp>, <predicted_value>],\n",
    " [<timestamp>, <predicted_value>],\n",
    " ...]\n",
    "\n",
    "```\n",
    "'''"
   ]
  },
  {
   "cell_type": "code",
   "execution_count": 13,
   "metadata": {},
   "outputs": [],
   "source": [
    "messages = [\n",
    "    {'role': 'system', 'content': system_prompt},\n",
    "    {'role': 'user', 'content': user_prompt}\n",
    "]"
   ]
  },
  {
   "cell_type": "code",
   "execution_count": 14,
   "metadata": {},
   "outputs": [
    {
     "data": {
      "text/plain": [
       "['Qwen/Qwen2.5-14B-Instruct',\n",
       " 'deepseek-ai/DeepSeek-R1-Distill-Qwen-14B',\n",
       " 'meta-llama/Llama-3.1-8B-Instruct']"
      ]
     },
     "execution_count": 14,
     "metadata": {},
     "output_type": "execute_result"
    }
   ],
   "source": [
    "avaliable_models = openai.models.list()\n",
    "avaliable_models = [model.id for model in avaliable_models.data]\n",
    "avaliable_models"
   ]
  },
  {
   "cell_type": "code",
   "execution_count": 15,
   "metadata": {},
   "outputs": [],
   "source": [
    "import re"
   ]
  },
  {
   "cell_type": "code",
   "execution_count": 16,
   "metadata": {},
   "outputs": [],
   "source": [
    "def extract_result(result):\n",
    "    pattern = r'```json(.*?)```'\n",
    "    result = re.search(pattern, result, re.DOTALL)\n",
    "    pred = json.loads(result.group(1))\n",
    "\n",
    "    return pred"
   ]
  },
  {
   "cell_type": "code",
   "execution_count": 22,
   "metadata": {},
   "outputs": [],
   "source": [
    "# do multi processing\n",
    "import multiprocessing\n",
    "\n",
    "def call_openai(model_id, messages):\n",
    "    temp = 0.2\n",
    "    if 'DeepSeek' in model_id:\n",
    "        messages[1]['content']=messages[0]['content']+messages[1]['content']\n",
    "        messages[0]['content']=''\n",
    "        temp = 0.6\n",
    "    response = openai.chat.completions.create(\n",
    "        model=model_id,\n",
    "        messages=messages,\n",
    "        temperature=temp,\n",
    "    )\n",
    "    extracted = extract_result(response.choices[0].message.content)\n",
    "    return extracted, response.choices[0].message.content, model_id\n",
    "    # return response.choices[0].message.content\n",
    "\n",
    "pool = multiprocessing.Pool(processes=4)\n",
    "results = pool.starmap(call_openai, [(model_id, messages) for model_id in avaliable_models])"
   ]
  },
  {
   "cell_type": "code",
   "execution_count": 24,
   "metadata": {},
   "outputs": [
    {
     "data": {
      "text/plain": [
       "[([['20210327080000', 0.023],\n",
       "   ['20210327090000', 0.038],\n",
       "   ['20210327100000', 0.043],\n",
       "   ['20210327110000', 0.145],\n",
       "   ['20210327120000', 0.118],\n",
       "   ['20210327130000', 0.307],\n",
       "   ['20210327140000', 0.286],\n",
       "   ['20210327150000', 0.354],\n",
       "   ['20210327160000', 0.118],\n",
       "   ['20210327170000', 0.003],\n",
       "   ['20210327180000', 0.0],\n",
       "   ['20210327190000', 0.0],\n",
       "   ['20210327200000', 0.0],\n",
       "   ['20210327210000', 0.0],\n",
       "   ['20210327220000', 0.0],\n",
       "   ['20210327230000', 0.0],\n",
       "   ['20210328000000', 0.0],\n",
       "   ['20210328010000', 0.0],\n",
       "   ['20210328020000', 0.0],\n",
       "   ['20210328030000', 0.0],\n",
       "   ['20210328040000', 0.0],\n",
       "   ['20210328050000', 0.0],\n",
       "   ['20210328060000', 0.0],\n",
       "   ['20210328070000', 0.0]],\n",
       "  'Based on the historical data and weather conditions provided, we can make the following predictions for the next 24 hours. The historical data shows a clear diurnal pattern with peak generation during midday and minimal generation during nighttime. The weather forecast for March 27th indicates a mix of ice fog in the early morning and partly sunny skies in the afternoon, with temperatures dropping throughout the day.\\n\\nGiven the weather forecast, we can expect lower generation in the early morning due to ice fog and higher generation in the afternoon when the skies clear up. Here is the predicted generation for the next 24 hours:\\n\\n```json\\n[\\n  [\"20210327080000\", 0.023],\\n  [\"20210327090000\", 0.038],\\n  [\"20210327100000\", 0.043],\\n  [\"20210327110000\", 0.145],\\n  [\"20210327120000\", 0.118],\\n  [\"20210327130000\", 0.307],\\n  [\"20210327140000\", 0.286],\\n  [\"20210327150000\", 0.354],\\n  [\"20210327160000\", 0.118],\\n  [\"20210327170000\", 0.003],\\n  [\"20210327180000\", 0.0],\\n  [\"20210327190000\", 0.0],\\n  [\"20210327200000\", 0.0],\\n  [\"20210327210000\", 0.0],\\n  [\"20210327220000\", 0.0],\\n  [\"20210327230000\", 0.0],\\n  [\"20210328000000\", 0.0],\\n  [\"20210328010000\", 0.0],\\n  [\"20210328020000\", 0.0],\\n  [\"20210328030000\", 0.0],\\n  [\"20210328040000\", 0.0],\\n  [\"20210328050000\", 0.0],\\n  [\"20210328060000\", 0.0],\\n  [\"20210328070000\", 0.0]\\n]\\n```\\n\\nThe predictions are based on the historical pattern of solar generation and the expected weather conditions. The early morning and late evening hours are expected to have minimal generation due to ice fog and darkness, while the afternoon hours are expected to see higher generation as the skies clear up.',\n",
       "  'Qwen/Qwen2.5-14B-Instruct'),\n",
       " ([['20210327080000', 0.019],\n",
       "   ['20210327090000', 0.337],\n",
       "   ['20210327100000', 1.448],\n",
       "   ['20210327110000', 3.702],\n",
       "   ['20210327120000', 5.267],\n",
       "   ['20210327130000', 6.939],\n",
       "   ['20210327140000', 8.722],\n",
       "   ['20210327150000', 10.452],\n",
       "   ['20210327160000', 6.201],\n",
       "   ['20210327170000', 3.254],\n",
       "   ['20210327180000', 1.29],\n",
       "   ['20210327190000', 0.295],\n",
       "   ['20210327200000', 0.0],\n",
       "   ['20210327210000', 0.0],\n",
       "   ['20210327220000', 0.0],\n",
       "   ['20210327230000', 0.0],\n",
       "   ['20210328000000', 0.0],\n",
       "   ['20210328010000', 0.0],\n",
       "   ['20210328020000', 0.0],\n",
       "   ['20210328030000', 0.0],\n",
       "   ['20210328040000', 0.0],\n",
       "   ['20210328050000', 0.0],\n",
       "   ['20210328060000', 0.0],\n",
       "   ['20210328070000', 0.0]],\n",
       "  'Okay, so I need to help the user by forecasting the solar power generation for the next 24 hours. They provided historical data and weather conditions, so I should use that to make predictions. Let me start by understanding the data they\\'ve given.\\n\\nLooking at the historical solar data, it\\'s a time series with timestamps and corresponding power generation values. The timestamps are in the format \\'YYYYMMDDHH0000\\', and the values are in kW. The data spans from March 20 to March 27, 2021, with some gaps where the power is zero, probably because it\\'s nighttime or cloudy.\\n\\nThe user also provided historical weather conditions for each day, starting from March 20 to March 27. Each weather report includes a daily forecast and breakdowns into early morning, morning, afternoon, and evening, along with temperature, wind speed, and cloud cover details.\\n\\nAdditionally, there\\'s a weather forecast for March 27 and March 28, which I can use to predict the next 24 hours. The timestamps for forecasting are from 20210327080000 to 20210328070000, so I need to cover each hour in this period.\\n\\nFirst, I should analyze the historical data to identify patterns like trend, seasonality, and periodicity. Solar power generation typically follows a diurnal pattern, peaking around midday when the sun is highest. I can see that in the historical data, the highest values are around noon, which makes sense.\\n\\nBut looking at the data, after March 23, the solar generation drops significantly. On March 24, it\\'s almost zero, and then on March 25, it\\'s even lower, possibly due to cloudy or snowy conditions. Then on March 26, there\\'s a slight recovery but it\\'s still low. This suggests that weather conditions, especially cloud cover and snow, have a significant impact on solar generation.\\n\\nNow, looking at the weather forecasts for March 27 and 28. For March 27, the day starts with ice fog in the early morning, but by afternoon, it becomes partly sunny. Temperatures start low but rise a bit. On March 28, it\\'s partly cloudy with some scattered showers expected in the late afternoon.\\n\\nGiven that, I can infer that on March 27, despite the early morning ice fog, as the day progresses, the sun comes out, leading to increased solar generation. However, the presence of some clouds might limit the peak generation compared to a clear day. On March 28, the partly cloudy skies might have a similar effect, with some variability due to possible showers.\\n\\nI should also consider the trend in the historical data. From March 20 to March 27, there\\'s a noticeable decline in solar generation, possibly due to seasonal changes or increased cloud cover as spring progresses. So, my forecast should take into account that the peak might not be as high as earlier in March.\\n\\nTo make the forecast, I\\'ll start by assuming that each hour\\'s solar generation is influenced by the time of day and the weather conditions. For each timestamp, I\\'ll estimate the solar output based on historical patterns during similar weather conditions.\\n\\nFor example, on March 27 at 8 AM, the weather is partly cloudy with temperatures around 0°C. In historical data, at similar times and conditions, the generation was around 0.019 kW. But considering the ice fog in the morning, maybe it\\'s a bit lower. However, as the day progresses and the sun becomes stronger, the generation should increase.\\n\\nBy 12 PM on March 27, the weather is partly sunny, so I can expect higher generation, maybe around 12.903 kW, similar to a clear day. But since there\\'s some cloud cover, it might be a bit lower, say around 10-12 kW.\\n\\nIn the afternoon, even though it\\'s partly cloudy, the generation should still be decent. Maybe around 8-10 kW. Then, as the evening approaches, generation drops off, especially if clouds increase or if there are showers.\\n\\nFor March 28, the forecast mentions scattered showers in the late afternoon. So, I should expect that after 4 PM or so, the solar generation might drop due to rain or clouds. The morning of March 28 should be similar to March 27, with partly cloudy skies and temperatures around 6-9°C, leading to moderate solar generation.\\n\\nI\\'ll go through each hour, considering the time of day and the specific weather conditions for that hour. If the weather is sunny, I\\'ll predict higher values based on historical peaks. If it\\'s cloudy or raining, I\\'ll adjust the predictions downward.\\n\\nI also notice that on March 25 and 26, the solar generation was very low, possibly due to heavy snow and ice fog. But by March 27, the conditions improve, so the generation should start recovering.\\n\\nAdditionally, I should consider the time of year. March is early spring in Calgary, so the days are getting longer, but the solar angle is still lower than in summer, which affects the intensity of sunlight.\\n\\nPutting it all together, I\\'ll create a forecast for each of the 24 hours, adjusting the predicted values based on the historical patterns and the specific weather conditions for each hour.\\n</think>\\n\\n```json\\n[\\n    [\"20210327080000\", 0.019],\\n    [\"20210327090000\", 0.337],\\n    [\"20210327100000\", 1.448],\\n    [\"20210327110000\", 3.702],\\n    [\"20210327120000\", 5.267],\\n    [\"20210327130000\", 6.939],\\n    [\"20210327140000\", 8.722],\\n    [\"20210327150000\", 10.452],\\n    [\"20210327160000\", 6.201],\\n    [\"20210327170000\", 3.254],\\n    [\"20210327180000\", 1.29],\\n    [\"20210327190000\", 0.295],\\n    [\"20210327200000\", 0.0],\\n    [\"20210327210000\", 0.0],\\n    [\"20210327220000\", 0.0],\\n    [\"20210327230000\", 0.0],\\n    [\"20210328000000\", 0.0],\\n    [\"20210328010000\", 0.0],\\n    [\"20210328020000\", 0.0],\\n    [\"20210328030000\", 0.0],\\n    [\"20210328040000\", 0.0],\\n    [\"20210328050000\", 0.0],\\n    [\"20210328060000\", 0.0],\\n    [\"20210328070000\", 0.0]\\n]\\n```',\n",
       "  'deepseek-ai/DeepSeek-R1-Distill-Qwen-14B'),\n",
       " ([[20210327080000, 2.5],\n",
       "   [20210327090000, 3.2],\n",
       "   [20210327100000, 4.1],\n",
       "   [20210327110000, 5.3],\n",
       "   [20210327120000, 6.4],\n",
       "   [20210327130000, 7.5],\n",
       "   [20210327140000, 8.6],\n",
       "   [20210327150000, 9.7],\n",
       "   [20210327160000, 10.8],\n",
       "   [20210327170000, 11.9],\n",
       "   [20210327180000, 13.0],\n",
       "   [20210327190000, 14.1],\n",
       "   [20210327200000, 15.2],\n",
       "   [20210327210000, 16.3],\n",
       "   [20210327220000, 17.4],\n",
       "   [20210327230000, 18.5],\n",
       "   [20210328000000, 19.6],\n",
       "   [20210328010000, 20.7],\n",
       "   [20210328020000, 21.8],\n",
       "   [20210328030000, 22.9],\n",
       "   [20210328040000, 24.0],\n",
       "   [20210328050000, 25.1],\n",
       "   [20210328060000, 26.2],\n",
       "   [20210328070000, 27.3]],\n",
       "  \" \\nBased on the historical data and weather forecasting, I will make the prediction for the next 24 hours. \\n\\nFirst, I will analyze the historical data to identify the periodicity, trend, and seasonality of the solar power generation data. \\n\\nThe data shows a clear periodicity with a daily cycle, with the highest generation occurring during the day and decreasing at night. The trend of the data is increasing over time, indicating an overall increase in solar power generation. The seasonality of the data is also evident, with higher generation during the summer months and lower generation during the winter months.\\n\\nNext, I will consider the weather condition to further refine the prediction. The weather forecasting indicates that the next 24 hours will be partly cloudy with a gentle breeze and moderate wind speed. There might be some scattered showers in the late afternoon, but overall, it's going to be a pleasant day.\\n\\nBased on this analysis, I will make the prediction for the next 24 hours. \\n\\nHere is the prediction in JSON format:\\n\\n```json\\n[\\n  [20210327080000, 2.5],\\n  [20210327090000, 3.2],\\n  [20210327100000, 4.1],\\n  [20210327110000, 5.3],\\n  [20210327120000, 6.4],\\n  [20210327130000, 7.5],\\n  [20210327140000, 8.6],\\n  [20210327150000, 9.7],\\n  [20210327160000, 10.8],\\n  [20210327170000, 11.9],\\n  [20210327180000, 13.0],\\n  [20210327190000, 14.1],\\n  [20210327200000, 15.2],\\n  [20210327210000, 16.3],\\n  [20210327220000, 17.4],\\n  [20210327230000, 18.5],\\n  [20210328000000, 19.6],\\n  [20210328010000, 20.7],\\n  [20210328020000, 21.8],\\n  [20210328030000, 22.9],\\n  [20210328040000, 24.0],\\n  [20210328050000, 25.1],\\n  [20210328060000, 26.2],\\n  [20210328070000, 27.3]\\n]\\n```\\n\\nThis prediction is based on the historical data and weather forecasting, and it takes into account the periodicity, trend, and seasonality of the solar power generation data. The predicted values are in watts, and they are based on the assumption that the weather condition will remain partly cloudy with a gentle breeze and moderate wind speed. \\n\\nPlease note that this is a prediction, and the actual values may vary depending on various factors such as the accuracy of the weather forecasting and the performance of the solar panels. \\n\\nI hope this helps! Let me know if you have any further questions or if you need any additional information. \\n\\n\",\n",
       "  'meta-llama/Llama-3.1-8B-Instruct')]"
      ]
     },
     "execution_count": 24,
     "metadata": {},
     "output_type": "execute_result"
    }
   ],
   "source": [
    "results"
   ]
  },
  {
   "cell_type": "code",
   "execution_count": 20,
   "metadata": {},
   "outputs": [],
   "source": [
    "import matplotlib.pyplot as plt"
   ]
  },
  {
   "cell_type": "code",
   "execution_count": 23,
   "metadata": {},
   "outputs": [
    {
     "data": {
      "image/png": "[encoded data removed]",
      "text/plain": [
       "<Figure size 1000x500 with 1 Axes>"
      ]
     },
     "metadata": {},
     "output_type": "display_data"
    }
   ],
   "source": [
    "%matplotlib inline\n",
    "\n",
    "plt.figure(figsize=(10, 5))\n",
    "\n",
    "plt.plot(np.arange(len(x_ts)), x_ts, label='True')\n",
    "\n",
    "plt.plot(np.arange(len(x_ts), len(x_ts)+len(y_ts)), y_ts, label='True')\n",
    "\n",
    "for result in results:\n",
    "    pred = result[0][:24]\n",
    "    model_id = result[2]\n",
    "    plt.plot(np.arange(len(x_ts), len(x_ts)+len(y_ts)), [x[1] for x in pred], label=model_id)\n",
    "\n",
    "\n",
    "\n",
    "\n",
    "\n",
    "plt.legend()\n",
    "\n",
    "plt.show()\n"
   ]
  },
  {
   "cell_type": "code",
   "execution_count": 98,
   "metadata": {},
   "outputs": [
    {
     "data": {
      "text/plain": [
       "'\\n\\nWe now have the data from The solar panel is located at Calgary Fire Hall Headquarters.. The historical data is as follows:\\n\\n[(20210325080000, 0.0), (20210325090000, 0.0), (20210325100000, 0.043), (20210325110000, 0.145), (20210325120000, 0.118), (20210325130000, 0.307), (20210325140000, 0.286), (20210325150000, 0.354), (20210325160000, 0.118), (20210325170000, 0.003), (20210325180000, 0.0), (20210325190000, 0.0), (20210325200000, 0.0), (20210325210000, 0.0), (20210325220000, 0.0), (20210325230000, 0.0), (20210326000000, 0.0), (20210326010000, 0.0), (20210326020000, 0.0), (20210326030000, 0.0), (20210326040000, 0.0), (20210326050000, 0.0), (20210326060000, 0.0), (20210326070000, 0.0), (20210326080000, 0.0), (20210326090000, 0.0), (20210326100000, 0.032), (20210326110000, 0.457), (20210326120000, 1.448), (20210326130000, 1.681), (20210326140000, 2.697), (20210326150000, 2.321), (20210326160000, 2.547), (20210326170000, 2.752), (20210326180000, 1.87), (20210326190000, 0.216), (20210326200000, 0.0), (20210326210000, 0.0), (20210326220000, 0.0), (20210326230000, 0.0), (20210327000000, 0.0), (20210327010000, 0.0), (20210327020000, 0.0), (20210327030000, 0.0), (20210327040000, 0.0), (20210327050000, 0.0), (20210327060000, 0.0), (20210327070000, 0.023), (20210327080000, 1.151), (20210327090000, 3.316), (20210327100000, 5.531), (20210327110000, 8.038), (20210327120000, 13.042), (20210327130000, 12.176), (20210327140000, 11.183), (20210327150000, 8.851), (20210327160000, 8.903), (20210327170000, 4.099), (20210327180000, 1.123), (20210327190000, 0.249), (20210327200000, 0.0), (20210327210000, 0.0), (20210327220000, 0.0), (20210327230000, 0.0), (20210328000000, 0.0), (20210328010000, 0.0), (20210328020000, 0.0), (20210328030000, 0.0), (20210328040000, 0.0), (20210328050000, 0.0), (20210328060000, 0.0), (20210328070000, 0.026), (20210328080000, 0.491), (20210328090000, 2.309), (20210328100000, 5.553), (20210328110000, 8.179), (20210328120000, 12.731), (20210328130000, 14.266), (20210328140000, 14.156), (20210328150000, 12.798), (20210328160000, 7.915), (20210328170000, 3.254), (20210328180000, 1.602), (20210328190000, 0.168), (20210328200000, 0.0), (20210328210000, 0.0), (20210328220000, 0.0), (20210328230000, 0.0), (20210329000000, 0.0), (20210329010000, 0.0), (20210329020000, 0.0), (20210329030000, 0.0), (20210329040000, 0.0), (20210329050000, 0.0), (20210329060000, 0.0), (20210329070000, 0.005), (20210329080000, 0.299), (20210329090000, 2.048), (20210329100000, 4.964), (20210329110000, 6.94), (20210329120000, 11.863), (20210329130000, 14.053), (20210329140000, 13.987), (20210329150000, 13.494), (20210329160000, 11.36), (20210329170000, 7.982), (20210329180000, 3.843), (20210329190000, 0.529), (20210329200000, 0.0), (20210329210000, 0.0), (20210329220000, 0.0), (20210329230000, 0.0), (20210330000000, 0.0), (20210330010000, 0.0), (20210330020000, 0.0), (20210330030000, 0.0), (20210330040000, 0.0), (20210330050000, 0.0), (20210330060000, 0.0), (20210330070000, 0.125), (20210330080000, 1.504), (20210330090000, 3.929), (20210330100000, 6.343), (20210330110000, 8.661), (20210330120000, 13.408), (20210330130000, 14.59), (20210330140000, 14.38), (20210330150000, 11.317), (20210330160000, 8.285), (20210330170000, 2.892), (20210330180000, 3.385), (20210330190000, 0.608), (20210330200000, 0.0), (20210330210000, 0.0), (20210330220000, 0.0), (20210330230000, 0.0), (20210331000000, 0.0), (20210331010000, 0.0), (20210331020000, 0.0), (20210331030000, 0.0), (20210331040000, 0.0), (20210331050000, 0.0), (20210331060000, 0.0), (20210331070000, 0.153), (20210331080000, 1.764), (20210331090000, 3.918), (20210331100000, 6.249), (20210331110000, 8.578), (20210331120000, 13.493), (20210331130000, 14.533), (20210331140000, 14.323), (20210331150000, 12.963), (20210331160000, 10.707), (20210331170000, 7.495), (20210331180000, 2.11), (20210331190000, 0.238), (20210331200000, 0.0), (20210331210000, 0.0), (20210331220000, 0.0), (20210331230000, 0.0), (20210401000000, 0.0), (20210401010000, 0.0), (20210401020000, 0.0), (20210401030000, 0.0), (20210401040000, 0.0), (20210401050000, 0.0), (20210401060000, 0.0), (20210401070000, 0.164)]\\n\\nThe historical weather condition is as follows:\\n\\n[(\\'20210325000000\\', \\'{\"daily\":\"It\\\\\\'s going to be a cold and snowy day on March 25th. Expect light snow and low clouds throughout the day, with a temperature trend of dropping to -5\\\\\\\\u00b0C by the evening. Be prepared for icy roads and reduced visibility. The wind will be blowing from the north at a moderate speed, and the humidity will be high, around 93%. As the day progresses, the snow flurries will become more frequent, and the temperature will continue to drop. It\\\\\\'s a good idea to stay indoors and avoid traveling unless necessary.\",\"Early Morning\":\"Early morning on March 25th will be quite chilly, with a temperature of around -1\\\\\\\\u00b0C. Expect light snow and low clouds, with a moderate wind blowing from the north. The humidity will be high, around 93%, and the visibility will be reduced due to the snow. It\\\\\\'s a good idea to bundle up and stay indoors.\",\"Morning\":\"Morning on March 25th will be similar to the early morning, with light snow and low clouds. The temperature will drop to around -2\\\\\\\\u00b0C, and the wind will continue to blow from the north. The humidity will remain high, around 93%, and the visibility will be reduced. It\\\\\\'s still a good idea to stay indoors and avoid traveling unless necessary.\",\"Afternoon\":\"Afternoon on March 25th will see a slight improvement in the weather, with the snow flurries becoming more frequent. The temperature will drop to around -5\\\\\\\\u00b0C, and the wind will continue to blow from the north. The humidity will remain high, around 93%, and the visibility will be reduced. It\\\\\\'s still a good idea to stay indoors and avoid traveling unless necessary.\",\"Evening\":\"Evening on March 25th will be quite cold, with a temperature of around -5\\\\\\\\u00b0C. Expect light snow and low clouds, with a moderate wind blowing from the north. The humidity will be high, around 93%, and the visibility will be reduced due to the snow. It\\\\\\'s a good idea to stay indoors and avoid traveling unless necessary.\",\"time\":\"20210325000000\",\"note\":\"\"}\\'), (\\'20210326000000\\', \\'{\"daily\":\"It\\\\\\'s going to be a chilly day in March, with a mix of light snow and ice fog. The temperature will fluctuate between -5\\\\\\\\u00b0C and 2\\\\\\\\u00b0C, with a general trend of warming up slightly towards the end of the day. Expect mostly cloudy skies with some scattered clouds and snow flurries. The wind will be moderate to strong, blowing from various directions. It\\\\\\'s a good idea to bundle up and stay warm!\",\"Early Morning\":\"Early morning will be quite chilly, with temperatures around -5\\\\\\\\u00b0C. Expect light snow and ice fog, with moderate winds blowing from the east-southeast. It\\\\\\'s a good idea to dress warmly and stay indoors if possible.\",\"Morning\":\"Morning will see a slight warming trend, with temperatures rising to around -2\\\\\\\\u00b0C. Expect light snow and broken clouds, with moderate winds blowing from the south. It\\\\\\'s a good idea to take a warm drink with you on your way out.\",\"Afternoon\":\"Afternoon will be quite pleasant, with temperatures rising to around 2\\\\\\\\u00b0C. Expect mostly cloudy skies with some scattered clouds and snow flurries. The wind will be moderate to strong, blowing from various directions. It\\\\\\'s a good idea to take a break and enjoy the scenery.\",\"Evening\":\"Evening will see a slight cooling trend, with temperatures dropping to around 0\\\\\\\\u00b0C. Expect light snow and partly cloudy skies, with moderate winds blowing from the east-northeast. It\\\\\\'s a good idea to bundle up and stay warm.\",\"time\":\"20210326000000\",\"note\":\"\"}\\'), (\\'20210327000000\\', \\'{\"daily\":\"It\\\\\\'s going to be a chilly day on March 27th, with ice fog in the early morning and partly sunny skies in the afternoon. Temperatures will be dropping throughout the day, with a low of -3\\\\\\\\u00b0C in the late afternoon. Expect a gentle breeze blowing from the south to north, with wind speeds ranging from 6 to 17 km\\\\\\\\/h. Humidity will be relatively high, around 70-90%, with a slight decrease in the afternoon.\",\"Early Morning\":\"Early morning on March 27th will be quite chilly, with ice fog and temperatures around -2\\\\\\\\u00b0C. Expect a gentle breeze blowing from the south to north, with wind speeds around 11 km\\\\\\\\/h. Humidity will be high, around 93%.\",\"Morning\":\"Morning on March 27th will see a slight improvement in weather, with partly sunny skies and temperatures around 0\\\\\\\\u00b0C. Expect a gentle breeze blowing from the south-southwest to north-northeast, with wind speeds around 15 km\\\\\\\\/h. Humidity will be relatively high, around 75%.\",\"Afternoon\":\"Afternoon on March 27th will be partly sunny, with temperatures around 12\\\\\\\\u00b0C. Expect a gentle breeze blowing from the west to east, with wind speeds around 15 km\\\\\\\\/h. Humidity will be relatively low, around 28-32%.\",\"Evening\":\"Evening on March 27th will see a slight drop in temperature, with partly cloudy skies and temperatures around 9\\\\\\\\u00b0C. Expect a gentle breeze blowing from the southwest to northeast, with wind speeds around 9 km\\\\\\\\/h. Humidity will be relatively high, around 37%.\",\"time\":\"20210327000000\",\"note\":\"\"}\\'), (\\'20210328000000\\', \\'{\"daily\":\"It\\\\\\'s going to be a partly cloudy day with a temperature trend of warming up in the morning and cooling down in the evening. Expect a gentle breeze with a moderate wind speed. There might be some scattered showers in the late afternoon, but overall, it\\\\\\'s going to be a pleasant day.\",\"Early Morning\":\"Early morning will be partly cloudy with a gentle breeze. The temperature will be around 6-9\\\\\\\\u00b0C, and the wind speed will be moderate. Expect a pleasant start to the day.\",\"Morning\":\"In the morning, the weather will be partly sunny with a gentle breeze. The temperature will be around 10-14\\\\\\\\u00b0C, and the wind speed will be moderate. It\\\\\\'s going to be a great day to get out and about.\",\"Afternoon\":\"In the afternoon, the weather will be partly sunny with a gentle breeze. The temperature will be around 10-14\\\\\\\\u00b0C, and the wind speed will be moderate. However, there might be some scattered showers in the late afternoon, so it\\\\\\'s a good idea to carry an umbrella.\",\"Evening\":\"In the evening, the weather will be mostly cloudy with a gentle breeze. The temperature will be around 8-10\\\\\\\\u00b0C, and the wind speed will be moderate. It\\\\\\'s going to be a pleasant end to the day.\",\"time\":\"20210328000000\",\"note\":\"\"}\\'), (\\'20210329000000\\', \\'{\"daily\":\"It\\\\\\'s going to be a cold day tomorrow, March 29th, in the early spring season. Expect light snow and overcast weather throughout the day, with temperatures ranging from -2\\\\\\\\u00b0C to -11\\\\\\\\u00b0C. The wind will be blowing at moderate speeds, and humidity will be relatively high. There might be a slight drop in temperature in the late afternoon, but overall, it will be a chilly day.\",\"Early Morning\":\"Early morning, March 29th, will be quite chilly, with temperatures ranging from -2\\\\\\\\u00b0C to -8\\\\\\\\u00b0C. Expect light snow and overcast weather, with moderate winds blowing at 35-44 km\\\\\\\\/h. It will be a relatively cloudy start to the day.\",\"Morning\":\"Morning, March 29th, will see a continuation of light snow and overcast weather, with temperatures ranging from -2\\\\\\\\u00b0C to -7\\\\\\\\u00b0C. The winds will pick up slightly, blowing at 46-52 km\\\\\\\\/h. It will be a bit more windy than the early morning.\",\"Afternoon\":\"Afternoon, March 29th, will see a slight drop in temperature, ranging from -3\\\\\\\\u00b0C to -8\\\\\\\\u00b0C. Expect passing clouds and moderate winds blowing at 31-46 km\\\\\\\\/h. It will be a bit more sunny than the morning, but still quite chilly.\",\"Evening\":\"Evening, March 29th, will see a continuation of passing clouds and moderate winds blowing at 24-35 km\\\\\\\\/h. Temperatures will range from -4\\\\\\\\u00b0C to -8\\\\\\\\u00b0C. It will be a relatively calm end to the day, with a slight drop in temperature.\",\"time\":\"20210329000000\",\"note\":\"\"}\\'), (\\'20210330000000\\', \\'{\"daily\":\"It\\\\\\'s going to be a chilly day on March 30th, with a mix of passing clouds and scattered clouds. Temperatures will fluctuate between -9\\\\\\\\u00b0C and 4\\\\\\\\u00b0C. Expect a moderate wind blowing from the west to east, with gusts reaching up to 28 km\\\\\\\\/h. The humidity will be relatively low, ranging from 23% to 62%. Overall, it\\\\\\'s a typical spring day with a bit of wind and variable temperatures.\",\"Early Morning\":\"Early morning on March 30th will be quite chilly, with temperatures ranging from -9\\\\\\\\u00b0C to -8\\\\\\\\u00b0C. Expect passing clouds and a moderate wind blowing from the west to east, with gusts reaching up to 17 km\\\\\\\\/h. The humidity will be around 53%.\",\"Morning\":\"Morning on March 30th will see temperatures rise slightly, ranging from -10\\\\\\\\u00b0C to -2\\\\\\\\u00b0C. The weather will be mostly passing clouds, with a moderate wind blowing from the southwest to northeast, gusting up to 19 km\\\\\\\\/h. The humidity will be around 40%.\",\"Afternoon\":\"Afternoon on March 30th will be partly sunny, with temperatures ranging from 1\\\\\\\\u00b0C to 4\\\\\\\\u00b0C. Expect a moderate wind blowing from the west to east, with gusts reaching up to 28 km\\\\\\\\/h. The humidity will be relatively low, around 24%.\",\"Evening\":\"Evening on March 30th will see temperatures drop slightly, ranging from 1\\\\\\\\u00b0C to 2\\\\\\\\u00b0C. The weather will be mostly passing clouds, with a moderate wind blowing from the west to east, gusting up to 26 km\\\\\\\\/h. The humidity will be around 32%.\",\"time\":\"20210330000000\",\"note\":\"\"}\\'), (\\'20210331000000\\', \\'{\"daily\":\"It\\\\\\'s going to be a chilly day with a mix of passing clouds and scattered clouds. Temperatures will fluctuate between -3\\\\\\\\u00b0C and 12\\\\\\\\u00b0C. Expect a moderate wind blowing from the west to east, with gusts reaching up to 41 km\\\\\\\\/h. Humidity will range from 21% to 55%. Be prepared for a partly sunny to cloudy day with a slight chance of scattered showers in the late afternoon.\",\"Early Morning\":\"Early morning will be partly sunny with a temperature range of -3\\\\\\\\u00b0C to 3\\\\\\\\u00b0C. Expect a moderate wind blowing from the south to north, with gusts reaching up to 15 km\\\\\\\\/h. Humidity will be around 55%.\",\"Morning\":\"Morning will be mostly cloudy with a temperature range of 6\\\\\\\\u00b0C to 9\\\\\\\\u00b0C. Expect a moderate wind blowing from the west to east, with gusts reaching up to 32 km\\\\\\\\/h. Humidity will be around 25%.\",\"Afternoon\":\"Afternoon will be partly sunny to cloudy with a temperature range of 9\\\\\\\\u00b0C to 12\\\\\\\\u00b0C. Expect a moderate wind blowing from the west to east, with gusts reaching up to 28 km\\\\\\\\/h. Humidity will be around 22%.\",\"Evening\":\"Evening will be partly cloudy with a temperature range of 7\\\\\\\\u00b0C to 10\\\\\\\\u00b0C. Expect a gentle wind blowing from the southwest to northeast, with gusts reaching up to 9 km\\\\\\\\/h. Humidity will be around 29%.\",\"time\":\"20210331000000\",\"note\":\"\"}\\'), (\\'20210401000000\\', \\'{\"daily\":\"It\\\\\\'s going to be a chilly April day with a mix of passing clouds and broken clouds. Expect a temperature trend of warming up in the morning and cooling down in the evening. There might be a sudden shower in the late afternoon. Overall, it\\\\\\'s a great day to enjoy the outdoors with a light jacket.\",\"Early Morning\":\"Early morning will be quite chilly with a temperature around 2-3\\\\\\\\u00b0C. Expect passing clouds with a gentle breeze. It\\\\\\'s a great time to get some fresh air and enjoy the morning.\",\"Morning\":\"Morning will see a slight warming up with temperatures reaching around 10-12\\\\\\\\u00b0C. The sky will be partly sunny with a gentle breeze. It\\\\\\'s a perfect time to get out and about.\",\"Afternoon\":\"Afternoon will be quite windy with gusts reaching up to 50 km\\\\\\\\/h. Temperatures will be around 14-16\\\\\\\\u00b0C. Expect passing clouds with a chance of sudden showers. It\\\\\\'s a good idea to carry an umbrella.\",\"Evening\":\"Evening will see a cooling down with temperatures dropping to around 8-10\\\\\\\\u00b0C. Expect passing clouds with a gentle breeze. It\\\\\\'s a great time to relax and unwind.\",\"time\":\"20210401000000\",\"note\":\"\"}\\')]\\n\\nWe now have the weather forecasting for the following days:\\n\\n[(\\'20210401000000\\', \\'{\"daily\":\"It\\\\\\'s going to be a chilly April day with a mix of passing clouds and broken clouds. Expect a temperature trend of warming up in the morning and cooling down in the evening. There might be a sudden shower in the late afternoon. Overall, it\\\\\\'s a great day to enjoy the outdoors with a light jacket.\",\"Early Morning\":\"Early morning will be quite chilly with a temperature around 2-3\\\\\\\\u00b0C. Expect passing clouds with a gentle breeze. It\\\\\\'s a great time to get some fresh air and enjoy the morning.\",\"Morning\":\"Morning will see a slight warming up with temperatures reaching around 10-12\\\\\\\\u00b0C. The sky will be partly sunny with a gentle breeze. It\\\\\\'s a perfect time to get out and about.\",\"Afternoon\":\"Afternoon will be quite windy with gusts reaching up to 50 km\\\\\\\\/h. Temperatures will be around 14-16\\\\\\\\u00b0C. Expect passing clouds with a chance of sudden showers. It\\\\\\'s a good idea to carry an umbrella.\",\"Evening\":\"Evening will see a cooling down with temperatures dropping to around 8-10\\\\\\\\u00b0C. Expect passing clouds with a gentle breeze. It\\\\\\'s a great time to relax and unwind.\",\"time\":\"20210401000000\",\"note\":\"\"}\\'), (\\'20210402000000\\', \\'{\"daily\":\"It\\\\\\'s going to be a chilly April day with a mix of passing clouds and clear skies. Temperatures will be quite low, ranging from -2 to 12 degrees Celsius. Expect a gentle breeze with wind speeds around 9-32 km\\\\\\\\/h. As the day progresses, the temperature will rise, and the wind will pick up. Be prepared for a partly sunny afternoon with scattered clouds. Overnight, the temperature will drop, and the skies will clear up.\",\"Early Morning\":\"Early morning will be quite chilly with temperatures around 0-3\\\\\\\\u00b0C. Expect passing clouds with a gentle breeze of 9 km\\\\\\\\/h. It\\\\\\'s a good idea to bundle up!\",\"Morning\":\"Morning will see a slight rise in temperature to around 5-6\\\\\\\\u00b0C. The skies will be partly cloudy with a moderate breeze of 13 km\\\\\\\\/h. It\\\\\\'s a great time to get some fresh air!\",\"Afternoon\":\"Afternoon will be partly sunny with scattered clouds and a temperature range of 8-12\\\\\\\\u00b0C. Expect a moderate breeze of 20 km\\\\\\\\/h. It\\\\\\'s a perfect time for outdoor activities!\",\"Evening\":\"Evening will see a slight drop in temperature to around 1-4\\\\\\\\u00b0C. The skies will clear up with a gentle breeze of 6 km\\\\\\\\/h. It\\\\\\'s a great time to relax and enjoy the evening!\",\"time\":\"20210402000000\",\"note\":\"\"}\\')]\\n\\nPlease make the prediction for the next 24 hours.\\n\\nThe timestamp for forecasting is as follows:\\n\\n[20210401080000, 20210401090000, 20210401100000, 20210401110000, 20210401120000, 20210401130000, 20210401140000, 20210401150000, 20210401160000, 20210401170000, 20210401180000, 20210401190000, 20210401200000, 20210401210000, 20210401220000, 20210401230000, 20210402000000, 20210402010000, 20210402020000, 20210402030000, 20210402040000, 20210402050000, 20210402060000, 20210402070000]\\n\\nPlease format it in json format in [datastamp, value] pair, as below:\\n\\n```json\\n\\n[[<timestamp>, <predicted_value>],\\n [<timestamp>, <predicted_value>],\\n ...]\\n\\n```\\n'"
      ]
     },
     "execution_count": 98,
     "metadata": {},
     "output_type": "execute_result"
    }
   ],
   "source": [
    "user_prompt"
   ]
  }
 ],
 "metadata": {
  "kernelspec": {
   "display_name": "uni2ts",
   "language": "python",
   "name": "python3"
  },
  "language_info": {
   "codemirror_mode": {
    "name": "ipython",
    "version": 3
   },
   "file_extension": ".py",
   "mimetype": "text/x-python",
   "name": "python",
   "nbconvert_exporter": "python",
   "pygments_lexer": "ipython3",
   "version": "3.11.0"
  }
 },
 "nbformat": 4,
 "nbformat_minor": 2
}
