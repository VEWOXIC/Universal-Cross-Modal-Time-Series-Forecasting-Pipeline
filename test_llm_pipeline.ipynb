{
 "cells": [
  {
   "cell_type": "code",
   "execution_count": 1,
   "metadata": {},
   "outputs": [],
   "source": [
    "import pandas as pd\n",
    "import numpy as np\n",
    "import torch\n",
    "from data_provider.data_factory import Data_Provider\n",
    "import yaml, json\n",
    "from utils.tools import dotdict"
   ]
  },
  {
   "cell_type": "code",
   "execution_count": 2,
   "metadata": {},
   "outputs": [],
   "source": [
    "# load json\n",
    "with open('checkpoints/03-11-0936_FITS_solar_day_ahead/args.json', 'r') as f:\n",
    "    args = json.load(f)\n",
    "args = dotdict(args)"
   ]
  },
  {
   "cell_type": "code",
   "execution_count": null,
   "metadata": {},
   "outputs": [],
   "source": [
    "# load yaml\n",
    "with open('./data_configs/fullsolar_hetero.yaml') as f:\n",
    "    data_config = yaml.load(f, Loader=yaml.FullLoader)\n",
    "data_config = dotdict(data_config)\n",
    "args.data_config = data_config\n",
    "\n",
    "args.scale = False # disable the normalization"
   ]
  },
  {
   "cell_type": "code",
   "execution_count": 4,
   "metadata": {},
   "outputs": [
    {
     "name": "stdout",
     "output_type": "stream",
     "text": [
      "[ info ] Successfully load the dynamic data from fast_general_weather_forecast_????.json\n"
     ]
    }
   ],
   "source": [
    "a=Data_Provider(args, buffer=(not args.disable_buffer))"
   ]
  },
  {
   "cell_type": "code",
   "execution_count": 5,
   "metadata": {},
   "outputs": [
    {
     "name": "stderr",
     "output_type": "stream",
     "text": [
      "Loading val datasets:   0%|          | 0/9 [00:00<?, ?it/s]"
     ]
    },
    {
     "name": "stderr",
     "output_type": "stream",
     "text": [
      "Loading val datasets:  11%|█         | 1/9 [00:00<00:05,  1.54it/s]"
     ]
    },
    {
     "name": "stdout",
     "output_type": "stream",
     "text": [
      "Add data /data/Blob_WestJP/v-zhijianxu/Benchmark/fullsolar/impute_data/id_314106.parquet to buffer\n"
     ]
    },
    {
     "name": "stderr",
     "output_type": "stream",
     "text": [
      "Loading val datasets:  22%|██▏       | 2/9 [00:01<00:04,  1.63it/s]"
     ]
    },
    {
     "name": "stdout",
     "output_type": "stream",
     "text": [
      "Add data /data/Blob_WestJP/v-zhijianxu/Benchmark/fullsolar/impute_data/id_319086.parquet to buffer\n"
     ]
    },
    {
     "name": "stderr",
     "output_type": "stream",
     "text": [
      "Loading val datasets:  33%|███▎      | 3/9 [00:01<00:03,  1.83it/s]"
     ]
    },
    {
     "name": "stdout",
     "output_type": "stream",
     "text": [
      "Add data /data/Blob_WestJP/v-zhijianxu/Benchmark/fullsolar/impute_data/id_164440.parquet to buffer\n"
     ]
    },
    {
     "name": "stderr",
     "output_type": "stream",
     "text": [
      "Loading val datasets:  44%|████▍     | 4/9 [00:02<00:02,  2.03it/s]"
     ]
    },
    {
     "name": "stdout",
     "output_type": "stream",
     "text": [
      "Add data /data/Blob_WestJP/v-zhijianxu/Benchmark/fullsolar/impute_data/id_355827.parquet to buffer\n",
      "Add data /data/Blob_WestJP/v-zhijianxu/Benchmark/fullsolar/impute_data/id_331901.parquet to buffer\n"
     ]
    },
    {
     "name": "stderr",
     "output_type": "stream",
     "text": [
      "Loading val datasets:  67%|██████▋   | 6/9 [00:03<00:01,  1.92it/s]"
     ]
    },
    {
     "name": "stdout",
     "output_type": "stream",
     "text": [
      "Add data /data/Blob_WestJP/v-zhijianxu/Benchmark/fullsolar/impute_data/id_332785.parquet to buffer\n"
     ]
    },
    {
     "name": "stderr",
     "output_type": "stream",
     "text": [
      "Loading val datasets:  78%|███████▊  | 7/9 [00:03<00:01,  1.91it/s]"
     ]
    },
    {
     "name": "stdout",
     "output_type": "stream",
     "text": [
      "Add data /data/Blob_WestJP/v-zhijianxu/Benchmark/fullsolar/impute_data/id_577650.parquet to buffer\n"
     ]
    },
    {
     "name": "stderr",
     "output_type": "stream",
     "text": [
      "Loading val datasets:  89%|████████▉ | 8/9 [00:04<00:00,  1.98it/s]"
     ]
    },
    {
     "name": "stdout",
     "output_type": "stream",
     "text": [
      "Add data /data/Blob_WestJP/v-zhijianxu/Benchmark/fullsolar/impute_data/id_551172.parquet to buffer\n"
     ]
    },
    {
     "name": "stderr",
     "output_type": "stream",
     "text": [
      "Loading val datasets: 100%|██████████| 9/9 [00:04<00:00,  1.93it/s]"
     ]
    },
    {
     "name": "stdout",
     "output_type": "stream",
     "text": [
      "Add data /data/Blob_WestJP/v-zhijianxu/Benchmark/fullsolar/impute_data/id_570079.parquet to buffer\n"
     ]
    },
    {
     "name": "stderr",
     "output_type": "stream",
     "text": [
      "\n"
     ]
    }
   ],
   "source": [
    "fullsets = a.get_val('set')"
   ]
  },
  {
   "cell_type": "code",
   "execution_count": 6,
   "metadata": {},
   "outputs": [
    {
     "data": {
      "text/plain": [
       "dict_keys(['314106', '319086', '164440', '355827', '331901', '332785', '577650', '551172', '570079'])"
      ]
     },
     "execution_count": 6,
     "metadata": {},
     "output_type": "execute_result"
    }
   ],
   "source": [
    "fullsets.keys()"
   ]
  },
  {
   "cell_type": "code",
   "execution_count": 7,
   "metadata": {},
   "outputs": [
    {
     "data": {
      "text/plain": [
       "8569"
      ]
     },
     "execution_count": 7,
     "metadata": {},
     "output_type": "execute_result"
    }
   ],
   "source": [
    "seta = fullsets['314106']\n",
    "len(seta)"
   ]
  },
  {
   "cell_type": "code",
   "execution_count": 8,
   "metadata": {},
   "outputs": [],
   "source": [
    "instance = seta[2000]"
   ]
  },
  {
   "cell_type": "markdown",
   "metadata": {},
   "source": [
    "## try with openai API"
   ]
  },
  {
   "cell_type": "code",
   "execution_count": null,
   "metadata": {},
   "outputs": [],
   "source": [
    "# ts_x, ts_y, tm_x, tm_y, (dy_tm_x, general, channel, [dy_x]), (dy_tm_y, general, channel, [dy_y])"
   ]
  },
  {
   "cell_type": "code",
   "execution_count": 9,
   "metadata": {},
   "outputs": [],
   "source": [
    "import openai"
   ]
  },
  {
   "cell_type": "code",
   "execution_count": 10,
   "metadata": {},
   "outputs": [],
   "source": [
    "openai.base_url = 'http://localhost:8021/v1/'\n",
    "openai.api_key = 'EMPTY'"
   ]
  },
  {
   "cell_type": "code",
   "execution_count": 11,
   "metadata": {},
   "outputs": [],
   "source": [
    "system_prompt = \"You are a professonal data analyst. You can do the forecasting by considering the historical reading time series along with weather condition and make the prediction for the next 24 hours. \" + seta[2000][4][1] + \"Please directly do the forecasting without any further external tools such as coding. You can consider the periodicity, trend, and seasonality of the data. Then consider the affect of weather condition to further refine your prediction. \"\n"
   ]
  },
  {
   "cell_type": "code",
   "execution_count": 13,
   "metadata": {},
   "outputs": [
    {
     "data": {
      "text/plain": [
       "'The solar panel is located at Calgary Fire Hall Headquarters.'"
      ]
     },
     "execution_count": 13,
     "metadata": {},
     "output_type": "execute_result"
    }
   ],
   "source": [
    "x_ts = instance[0].squeeze().tolist()\n",
    "x_timestamp = instance[2].tolist()\n",
    "x_table = [(x_timestamp[i], x_ts[i]) for i in range(len(x_ts))]\n",
    "\n",
    "x_dy = instance[4][-1]\n",
    "x_dy_timestamp = instance[4][0]\n",
    "x_dy_table = [(x_dy_timestamp[i], x_dy[i]) for i in range(len(x_dy))]\n",
    "\n",
    "channel_info = instance[4][2]\n",
    "channel_info"
   ]
  },
  {
   "cell_type": "code",
   "execution_count": 14,
   "metadata": {},
   "outputs": [
    {
     "data": {
      "text/plain": [
       "[('20210401000000',\n",
       "  '{\"daily\":\"It\\'s going to be a chilly April day with a mix of passing clouds and broken clouds. Expect a temperature trend of warming up in the morning and cooling down in the evening. There might be a sudden shower in the late afternoon. Overall, it\\'s a great day to enjoy the outdoors with a light jacket.\",\"Early Morning\":\"Early morning will be quite chilly with a temperature around 2-3\\\\u00b0C. Expect passing clouds with a gentle breeze. It\\'s a great time to get some fresh air and enjoy the morning.\",\"Morning\":\"Morning will see a slight warming up with temperatures reaching around 10-12\\\\u00b0C. The sky will be partly sunny with a gentle breeze. It\\'s a perfect time to get out and about.\",\"Afternoon\":\"Afternoon will be quite windy with gusts reaching up to 50 km\\\\/h. Temperatures will be around 14-16\\\\u00b0C. Expect passing clouds with a chance of sudden showers. It\\'s a good idea to carry an umbrella.\",\"Evening\":\"Evening will see a cooling down with temperatures dropping to around 8-10\\\\u00b0C. Expect passing clouds with a gentle breeze. It\\'s a great time to relax and unwind.\",\"time\":\"20210401000000\",\"note\":\"\"}'),\n",
       " ('20210402000000',\n",
       "  '{\"daily\":\"It\\'s going to be a chilly April day with a mix of passing clouds and clear skies. Temperatures will be quite low, ranging from -2 to 12 degrees Celsius. Expect a gentle breeze with wind speeds around 9-32 km\\\\/h. As the day progresses, the temperature will rise, and the wind will pick up. Be prepared for a partly sunny afternoon with scattered clouds. Overnight, the temperature will drop, and the skies will clear up.\",\"Early Morning\":\"Early morning will be quite chilly with temperatures around 0-3\\\\u00b0C. Expect passing clouds with a gentle breeze of 9 km\\\\/h. It\\'s a good idea to bundle up!\",\"Morning\":\"Morning will see a slight rise in temperature to around 5-6\\\\u00b0C. The skies will be partly cloudy with a moderate breeze of 13 km\\\\/h. It\\'s a great time to get some fresh air!\",\"Afternoon\":\"Afternoon will be partly sunny with scattered clouds and a temperature range of 8-12\\\\u00b0C. Expect a moderate breeze of 20 km\\\\/h. It\\'s a perfect time for outdoor activities!\",\"Evening\":\"Evening will see a slight drop in temperature to around 1-4\\\\u00b0C. The skies will clear up with a gentle breeze of 6 km\\\\/h. It\\'s a great time to relax and enjoy the evening!\",\"time\":\"20210402000000\",\"note\":\"\"}')]"
      ]
     },
     "execution_count": 14,
     "metadata": {},
     "output_type": "execute_result"
    }
   ],
   "source": [
    "y_ts = instance[1].squeeze().tolist()\n",
    "y_timestamp = instance[3].tolist()\n",
    "\n",
    "y_dy = instance[5][-1]\n",
    "y_dy_timestamp = instance[5][0]\n",
    "y_dy_table = [(y_dy_timestamp[i], y_dy[i]) for i in range(len(y_dy))]\n",
    "y_dy_table"
   ]
  },
  {
   "cell_type": "code",
   "execution_count": 15,
   "metadata": {},
   "outputs": [],
   "source": [
    "user_prompt = f'''\n",
    "\n",
    "We now have the data from {channel_info}. The historical data is as follows:\n",
    "\n",
    "{x_table}\n",
    "\n",
    "The historical weather condition is as follows:\n",
    "\n",
    "{x_dy_table}\n",
    "\n",
    "We now have the weather forecasting for the following days:\n",
    "\n",
    "{y_dy_table}\n",
    "\n",
    "Please make the prediction for the next 24 hours.\n",
    "\n",
    "The timestamp for forecasting is as follows:\n",
    "\n",
    "{y_timestamp}\n",
    "\n",
    "Please format it in json format in [datastamp, value] pair, as below:\n",
    "\n",
    "```json\n",
    "\n",
    "[[<timestamp>, <predicted_value>],\n",
    " [<timestamp>, <predicted_value>],\n",
    " ...]\n",
    "\n",
    "```\n",
    "'''"
   ]
  },
  {
   "cell_type": "code",
   "execution_count": 16,
   "metadata": {},
   "outputs": [],
   "source": [
    "messages = [\n",
    "    {'role': 'system', 'content': system_prompt},\n",
    "    {'role': 'user', 'content': user_prompt}\n",
    "]"
   ]
  },
  {
   "cell_type": "code",
   "execution_count": 19,
   "metadata": {},
   "outputs": [
    {
     "data": {
      "text/plain": [
       "['Qwen/Qwen2.5-14B-Instruct',\n",
       " 'deepseek-ai/DeepSeek-R1-Distill-Qwen-14B',\n",
       " 'meta-llama/Llama-3.1-8B-Instruct']"
      ]
     },
     "execution_count": 19,
     "metadata": {},
     "output_type": "execute_result"
    }
   ],
   "source": [
    "avaliable_models = openai.models.list()\n",
    "avaliable_models = [model.id for model in avaliable_models.data]\n",
    "avaliable_models"
   ]
  },
  {
   "cell_type": "code",
   "execution_count": 20,
   "metadata": {},
   "outputs": [],
   "source": [
    "import re"
   ]
  },
  {
   "cell_type": "code",
   "execution_count": 21,
   "metadata": {},
   "outputs": [],
   "source": [
    "def extract_result(result):\n",
    "    pattern = r'```json(.*?)```'\n",
    "    result = re.search(pattern, result, re.DOTALL)\n",
    "    pred = json.loads(result.group(1))\n",
    "\n",
    "    return pred"
   ]
  },
  {
   "cell_type": "code",
   "execution_count": 27,
   "metadata": {},
   "outputs": [],
   "source": [
    "# do multi processing\n",
    "import multiprocessing\n",
    "\n",
    "def call_openai(model_id, messages):\n",
    "    temp = 0.2\n",
    "    if 'DeepSeek' in model_id:\n",
    "        messages[1]['content']=messages[0]['content']+messages[1]['content']\n",
    "        messages[0]['content']=''\n",
    "        temp = 0.6\n",
    "    response = openai.chat.completions.create(\n",
    "        model=model_id,\n",
    "        messages=messages,\n",
    "        temperature=temp,\n",
    "    )\n",
    "    extracted = extract_result(response.choices[0].message.content)\n",
    "    return extracted, response.choices[0].message.content, model_id\n",
    "    # return response.choices[0].message.content\n",
    "\n",
    "pool = multiprocessing.Pool(processes=4)\n",
    "results = pool.starmap(call_openai, [(model_id, messages) for model_id in avaliable_models])"
   ]
  },
  {
   "cell_type": "code",
   "execution_count": 28,
   "metadata": {},
   "outputs": [
    {
     "data": {
      "text/plain": [
       "[([['20210401080000', 0.164],\n",
       "   ['20210401090000', 1.504],\n",
       "   ['20210401100000', 3.929],\n",
       "   ['20210401110000', 6.343],\n",
       "   ['20210401120000', 8.661],\n",
       "   ['20210401130000', 13.408],\n",
       "   ['20210401140000', 14.59],\n",
       "   ['20210401150000', 14.38],\n",
       "   ['20210401160000', 11.317],\n",
       "   ['20210401170000', 8.285],\n",
       "   ['20210401180000', 2.892],\n",
       "   ['20210401190000', 3.385],\n",
       "   ['20210401200000', 0.608],\n",
       "   ['20210401210000', 0.0],\n",
       "   ['20210401220000', 0.0],\n",
       "   ['20210401230000', 0.0],\n",
       "   ['20210402000000', 0.0],\n",
       "   ['20210402010000', 0.0],\n",
       "   ['20210402020000', 0.0],\n",
       "   ['20210402030000', 0.0],\n",
       "   ['20210402040000', 0.0],\n",
       "   ['20210402050000', 0.0],\n",
       "   ['20210402060000', 0.0],\n",
       "   ['20210402070000', 0.125]],\n",
       "  'To make the prediction for the next 24 hours, we need to consider the historical solar power generation data and the weather conditions. The historical data shows a clear pattern of solar power generation peaking during the day and dropping to zero during the night. The weather conditions also play a significant role in the solar power generation, with clear skies and warm temperatures generally leading to higher generation.\\n\\nGiven the weather forecast for April 1st, 2021, we can infer the following:\\n- Early morning will be quite chilly with a temperature around 2-3°C and passing clouds.\\n- Morning will see a slight warming up with temperatures reaching around 10-12°C and partly sunny skies.\\n- Afternoon will be quite windy with gusts reaching up to 50 km/h and temperatures around 14-16°C, with passing clouds and a chance of sudden showers.\\n- Evening will see a cooling down with temperatures dropping to around 8-10°C and passing clouds.\\n\\nBased on this information, we can predict the solar power generation for the next 24 hours. Here is the forecast:\\n\\n```json\\n[\\n  [\"20210401080000\", 0.164],\\n  [\"20210401090000\", 1.504],\\n  [\"20210401100000\", 3.929],\\n  [\"20210401110000\", 6.343],\\n  [\"20210401120000\", 8.661],\\n  [\"20210401130000\", 13.408],\\n  [\"20210401140000\", 14.59],\\n  [\"20210401150000\", 14.38],\\n  [\"20210401160000\", 11.317],\\n  [\"20210401170000\", 8.285],\\n  [\"20210401180000\", 2.892],\\n  [\"20210401190000\", 3.385],\\n  [\"20210401200000\", 0.608],\\n  [\"20210401210000\", 0.0],\\n  [\"20210401220000\", 0.0],\\n  [\"20210401230000\", 0.0],\\n  [\"20210402000000\", 0.0],\\n  [\"20210402010000\", 0.0],\\n  [\"20210402020000\", 0.0],\\n  [\"20210402030000\", 0.0],\\n  [\"20210402040000\", 0.0],\\n  [\"20210402050000\", 0.0],\\n  [\"20210402060000\", 0.0],\\n  [\"20210402070000\", 0.125]\\n]\\n```\\n\\nThis forecast takes into account the historical pattern of solar power generation and the weather conditions for April 1st, 2021. The generation is expected to peak during the afternoon and drop to zero during the night.',\n",
       "  'Qwen/Qwen2.5-14B-Instruct'),\n",
       " ([[1617220800000, 0.026],\n",
       "   [1617221400000, 0.491],\n",
       "   [1617222000000, 2.309],\n",
       "   [1617222600000, 5.553],\n",
       "   [1617223200000, 8.179],\n",
       "   [1617223800000, 12.731],\n",
       "   [1617224400000, 14.266],\n",
       "   [1617225000000, 14.156],\n",
       "   [1617225600000, 12.798],\n",
       "   [1617226200000, 7.915],\n",
       "   [1617226800000, 3.254],\n",
       "   [1617227400000, 1.602],\n",
       "   [1617228000000, 0.168],\n",
       "   [1617228600000, 0.0],\n",
       "   [1617229200000, 0.0],\n",
       "   [1617229800000, 0.0],\n",
       "   [1617230400000, 0.0],\n",
       "   [1617231000000, 0.0],\n",
       "   [1617231600000, 0.0],\n",
       "   [1617232200000, 0.0],\n",
       "   [1617232800000, 0.0],\n",
       "   [1617233400000, 0.0],\n",
       "   [1617234000000, 0.0],\n",
       "   [1617234600000, 0.0],\n",
       "   [1617235200000, 0.0],\n",
       "   [1617235800000, 0.0]],\n",
       "  'Alright, I\\'m looking at this problem where I need to forecast the solar power generation for the next 24 hours based on historical data and weather conditions. The user has provided a dataset of solar panel readings in Calgary, Alberta, Canada, along with detailed weather reports for the same period. My task is to analyze this data, consider factors like periodicity, trend, and seasonality, and then adjust the predictions based on the weather forecast.\\n\\nFirst, I\\'ll examine the historical solar data. The timestamps are in the format \"YYYYMMDDHH0000\", and the values represent the power generation in some unit. Looking at the data, I notice that the solar output starts very low, almost zero, in the early hours, peaks around midday, and then drops off in the evening. This pattern is typical for solar panels, as they generate more power when the sun is strongest, usually around solar noon.\\n\\nNext, I\\'ll consider the weather data provided. Each weather report includes a daily overview and details for early morning, morning, afternoon, and evening. The weather conditions vary from snowy and cold days to partly sunny and warmer days. The weather on March 25th, for example, was cold and snowy, which likely contributed to very low solar generation. In contrast, March 28th had partly sunny skies, leading to higher solar output.\\n\\nNow, looking at the weather forecast for the next two days (April 1st and 2nd), I see that April 1st will be a chilly day with passing clouds and a chance of sudden showers, especially in the afternoon. The temperature will range from around 2-3°C in the early morning to 14-16°C in the afternoon, cooling down in the evening. The wind will be moderate to strong, which might affect solar panel efficiency, but the presence of passing clouds suggests some intermittent sun.\\n\\nFor April 2nd, the forecast indicates a mix of passing clouds and clear skies, with temperatures ranging from -2°C to 12°C. The morning will be chilly, but temperatures will rise slightly, with partly sunny skies in the afternoon. This day seems more promising for solar generation compared to April 1st, as there are more clear sky periods mentioned.\\n\\nGiven this information, I\\'ll start by identifying the trend and seasonality in the historical data. The solar generation shows a clear daily pattern, with peaks around noon. Seasonally, since the data is from March and April, which are early spring months, the days are getting longer, and solar output might be increasing as the sun becomes stronger.\\n\\nNow, I\\'ll attempt to fit a model to the historical data. Since the user wants a manual analysis without coding, I\\'ll look for patterns and trends visually. The data shows that on clear days, the solar output peaks higher, while on cloudy or snowy days, the output is much lower.\\n\\nFor April 1st, considering the forecast of passing clouds and possible showers, I expect the solar output to be moderate. The peak might not be as high as on a clear day but higher than on a fully cloudy day. The morning and early afternoon might see some sun, leading to an increase in power generation, but clouds and showers in the late afternoon could bring it down.\\n\\nOn April 2nd, with more clear sky periods, especially in the afternoon, the solar output should be higher. The temperature is expected to be a bit cooler in the morning but warming up as the day progresses, which aligns with higher solar generation as the sun becomes stronger.\\n\\nI\\'ll also consider the wind speed mentioned in the weather reports. Higher wind speeds can sometimes cause more turbulence around the panels, potentially reducing efficiency, but in this case, the wind is moderate, so its impact might be minimal.\\n\\nPutting this all together, I\\'ll estimate the solar generation for each hour. For April 1st, the output will start low, increase as the sun comes out, peak around noon, and then decrease due to clouds and showers in the late afternoon and evening. For April 2nd, the output will be higher, especially in the afternoon when the sky is clearer, leading to a more pronounced peak.\\n\\nI\\'ll also check if there\\'s any historical data for similar weather conditions to cross-verify my estimates. For instance, looking at March 28th, which had partly sunny skies, the solar output was higher, peaking at around 14.59 units. On March 30th, with partly cloudy conditions, the peak was around 13.493 units. This gives me a range to work with for April 1st and 2nd.\\n\\nFinally, I\\'ll structure my predictions by hour, ensuring that the values align with the expected weather conditions and the typical solar generation pattern. I\\'ll make sure that the predicted values are reasonable and reflect the changing weather throughout the day.\\n</think>\\n\\n```json\\n[\\n    [1617220800000, 0.026],\\n    [1617221400000, 0.491],\\n    [1617222000000, 2.309],\\n    [1617222600000, 5.553],\\n    [1617223200000, 8.179],\\n    [1617223800000, 12.731],\\n    [1617224400000, 14.266],\\n    [1617225000000, 14.156],\\n    [1617225600000, 12.798],\\n    [1617226200000, 7.915],\\n    [1617226800000, 3.254],\\n    [1617227400000, 1.602],\\n    [1617228000000, 0.168],\\n    [1617228600000, 0.0],\\n    [1617229200000, 0.0],\\n    [1617229800000, 0.0],\\n    [1617230400000, 0.0],\\n    [1617231000000, 0.0],\\n    [1617231600000, 0.0],\\n    [1617232200000, 0.0],\\n    [1617232800000, 0.0],\\n    [1617233400000, 0.0],\\n    [1617234000000, 0.0],\\n    [1617234600000, 0.0],\\n    [1617235200000, 0.0],\\n    [1617235800000, 0.0]\\n]\\n```',\n",
       "  'deepseek-ai/DeepSeek-R1-Distill-Qwen-14B'),\n",
       " ([[20210401080000, 0.0],\n",
       "   [20210401090000, 0.0],\n",
       "   [20210401100000, 0.0],\n",
       "   [20210401110000, 0.0],\n",
       "   [20210401120000, 0.0],\n",
       "   [20210401130000, 0.0],\n",
       "   [20210401140000, 0.0],\n",
       "   [20210401150000, 0.0],\n",
       "   [20210401160000, 0.0],\n",
       "   [20210401170000, 0.0],\n",
       "   [20210401180000, 0.0],\n",
       "   [20210401190000, 0.0],\n",
       "   [20210401200000, 0.0],\n",
       "   [20210401210000, 0.0],\n",
       "   [20210401220000, 0.0],\n",
       "   [20210401230000, 0.0],\n",
       "   [20210402000000, 0.0],\n",
       "   [20210402010000, 0.0],\n",
       "   [20210402020000, 0.0],\n",
       "   [20210402030000, 0.0],\n",
       "   [20210402040000, 0.0],\n",
       "   [20210402050000, 0.0],\n",
       "   [20210402060000, 0.0],\n",
       "   [20210402070000, 0.0]],\n",
       "  \" \\n\\nTo make the prediction for the next 24 hours, I will consider the historical data of the solar panel's power generation, the weather conditions, and the periodicity, trend, and seasonality of the data.\\n\\nFirst, I will analyze the historical data of the solar panel's power generation. From the data, I can see that the power generation is generally low during the night and early morning hours, and it increases during the daytime hours. There is a clear periodicity in the data, with the power generation peaking during the afternoon hours.\\n\\nNext, I will analyze the weather conditions. From the weather forecasting data, I can see that the weather will be partly cloudy with a temperature trend of warming up in the morning and cooling down in the evening. There might be a sudden shower in the late afternoon. This suggests that the solar panel's power generation will be affected by the weather conditions.\\n\\nConsidering the periodicity, trend, and seasonality of the data, I will make the prediction for the next 24 hours. Based on the historical data and the weather forecasting, I predict that the solar panel's power generation will be as follows:\\n\\n```json\\n[[20210401080000, 0.0],\\n [20210401090000, 0.0],\\n [20210401100000, 0.0],\\n [20210401110000, 0.0],\\n [20210401120000, 0.0],\\n [20210401130000, 0.0],\\n [20210401140000, 0.0],\\n [20210401150000, 0.0],\\n [20210401160000, 0.0],\\n [20210401170000, 0.0],\\n [20210401180000, 0.0],\\n [20210401190000, 0.0],\\n [20210401200000, 0.0],\\n [20210401210000, 0.0],\\n [20210401220000, 0.0],\\n [20210401230000, 0.0],\\n [20210402000000, 0.0],\\n [20210402010000, 0.0],\\n [20210402020000, 0.0],\\n [20210402030000, 0.0],\\n [20210402040000, 0.0],\\n [20210402050000, 0.0],\\n [20210402060000, 0.0],\\n [20210402070000, 0.0]]\\n```\\n\\nPlease note that this is a prediction based on the historical data and the weather forecasting, and the actual power generation may vary depending on various factors such as the solar panel's efficiency, the weather conditions, and other external factors. \",\n",
       "  'meta-llama/Llama-3.1-8B-Instruct')]"
      ]
     },
     "execution_count": 28,
     "metadata": {},
     "output_type": "execute_result"
    }
   ],
   "source": [
    "results"
   ]
  },
  {
   "cell_type": "code",
   "execution_count": 29,
   "metadata": {},
   "outputs": [],
   "source": [
    "import matplotlib.pyplot as plt"
   ]
  },
  {
   "cell_type": "code",
   "execution_count": 30,
   "metadata": {},
   "outputs": [
    {
     "data": {
      "image/png": "[encoded data removed]",
      "text/plain": [
       "<Figure size 1000x500 with 1 Axes>"
      ]
     },
     "metadata": {},
     "output_type": "display_data"
    }
   ],
   "source": [
    "%matplotlib inline\n",
    "\n",
    "plt.figure(figsize=(10, 5))\n",
    "\n",
    "plt.plot(np.arange(len(x_ts)), x_ts, label='True')\n",
    "\n",
    "plt.plot(np.arange(len(x_ts), len(x_ts)+len(y_ts)), y_ts, label='True')\n",
    "\n",
    "for result in results:\n",
    "    pred = result[0][:24]\n",
    "    model_id = result[2]\n",
    "    plt.plot(np.arange(len(x_ts), len(x_ts)+len(y_ts)), [x[1] for x in pred], label=model_id)\n",
    "\n",
    "\n",
    "\n",
    "\n",
    "\n",
    "plt.legend()\n",
    "\n",
    "plt.show()\n"
   ]
  },
  {
   "cell_type": "code",
   "execution_count": 98,
   "metadata": {},
   "outputs": [
    {
     "data": {
      "text/plain": [
       "'\\n\\nWe now have the data from The solar panel is located at Calgary Fire Hall Headquarters.. The historical data is as follows:\\n\\n[(20210325080000, 0.0), (20210325090000, 0.0), (20210325100000, 0.043), (20210325110000, 0.145), (20210325120000, 0.118), (20210325130000, 0.307), (20210325140000, 0.286), (20210325150000, 0.354), (20210325160000, 0.118), (20210325170000, 0.003), (20210325180000, 0.0), (20210325190000, 0.0), (20210325200000, 0.0), (20210325210000, 0.0), (20210325220000, 0.0), (20210325230000, 0.0), (20210326000000, 0.0), (20210326010000, 0.0), (20210326020000, 0.0), (20210326030000, 0.0), (20210326040000, 0.0), (20210326050000, 0.0), (20210326060000, 0.0), (20210326070000, 0.0), (20210326080000, 0.0), (20210326090000, 0.0), (20210326100000, 0.032), (20210326110000, 0.457), (20210326120000, 1.448), (20210326130000, 1.681), (20210326140000, 2.697), (20210326150000, 2.321), (20210326160000, 2.547), (20210326170000, 2.752), (20210326180000, 1.87), (20210326190000, 0.216), (20210326200000, 0.0), (20210326210000, 0.0), (20210326220000, 0.0), (20210326230000, 0.0), (20210327000000, 0.0), (20210327010000, 0.0), (20210327020000, 0.0), (20210327030000, 0.0), (20210327040000, 0.0), (20210327050000, 0.0), (20210327060000, 0.0), (20210327070000, 0.023), (20210327080000, 1.151), (20210327090000, 3.316), (20210327100000, 5.531), (20210327110000, 8.038), (20210327120000, 13.042), (20210327130000, 12.176), (20210327140000, 11.183), (20210327150000, 8.851), (20210327160000, 8.903), (20210327170000, 4.099), (20210327180000, 1.123), (20210327190000, 0.249), (20210327200000, 0.0), (20210327210000, 0.0), (20210327220000, 0.0), (20210327230000, 0.0), (20210328000000, 0.0), (20210328010000, 0.0), (20210328020000, 0.0), (20210328030000, 0.0), (20210328040000, 0.0), (20210328050000, 0.0), (20210328060000, 0.0), (20210328070000, 0.026), (20210328080000, 0.491), (20210328090000, 2.309), (20210328100000, 5.553), (20210328110000, 8.179), (20210328120000, 12.731), (20210328130000, 14.266), (20210328140000, 14.156), (20210328150000, 12.798), (20210328160000, 7.915), (20210328170000, 3.254), (20210328180000, 1.602), (20210328190000, 0.168), (20210328200000, 0.0), (20210328210000, 0.0), (20210328220000, 0.0), (20210328230000, 0.0), (20210329000000, 0.0), (20210329010000, 0.0), (20210329020000, 0.0), (20210329030000, 0.0), (20210329040000, 0.0), (20210329050000, 0.0), (20210329060000, 0.0), (20210329070000, 0.005), (20210329080000, 0.299), (20210329090000, 2.048), (20210329100000, 4.964), (20210329110000, 6.94), (20210329120000, 11.863), (20210329130000, 14.053), (20210329140000, 13.987), (20210329150000, 13.494), (20210329160000, 11.36), (20210329170000, 7.982), (20210329180000, 3.843), (20210329190000, 0.529), (20210329200000, 0.0), (20210329210000, 0.0), (20210329220000, 0.0), (20210329230000, 0.0), (20210330000000, 0.0), (20210330010000, 0.0), (20210330020000, 0.0), (20210330030000, 0.0), (20210330040000, 0.0), (20210330050000, 0.0), (20210330060000, 0.0), (20210330070000, 0.125), (20210330080000, 1.504), (20210330090000, 3.929), (20210330100000, 6.343), (20210330110000, 8.661), (20210330120000, 13.408), (20210330130000, 14.59), (20210330140000, 14.38), (20210330150000, 11.317), (20210330160000, 8.285), (20210330170000, 2.892), (20210330180000, 3.385), (20210330190000, 0.608), (20210330200000, 0.0), (20210330210000, 0.0), (20210330220000, 0.0), (20210330230000, 0.0), (20210331000000, 0.0), (20210331010000, 0.0), (20210331020000, 0.0), (20210331030000, 0.0), (20210331040000, 0.0), (20210331050000, 0.0), (20210331060000, 0.0), (20210331070000, 0.153), (20210331080000, 1.764), (20210331090000, 3.918), (20210331100000, 6.249), (20210331110000, 8.578), (20210331120000, 13.493), (20210331130000, 14.533), (20210331140000, 14.323), (20210331150000, 12.963), (20210331160000, 10.707), (20210331170000, 7.495), (20210331180000, 2.11), (20210331190000, 0.238), (20210331200000, 0.0), (20210331210000, 0.0), (20210331220000, 0.0), (20210331230000, 0.0), (20210401000000, 0.0), (20210401010000, 0.0), (20210401020000, 0.0), (20210401030000, 0.0), (20210401040000, 0.0), (20210401050000, 0.0), (20210401060000, 0.0), (20210401070000, 0.164)]\\n\\nThe historical weather condition is as follows:\\n\\n[(\\'20210325000000\\', \\'{\"daily\":\"It\\\\\\'s going to be a cold and snowy day on March 25th. Expect light snow and low clouds throughout the day, with a temperature trend of dropping to -5\\\\\\\\u00b0C by the evening. Be prepared for icy roads and reduced visibility. The wind will be blowing from the north at a moderate speed, and the humidity will be high, around 93%. As the day progresses, the snow flurries will become more frequent, and the temperature will continue to drop. It\\\\\\'s a good idea to stay indoors and avoid traveling unless necessary.\",\"Early Morning\":\"Early morning on March 25th will be quite chilly, with a temperature of around -1\\\\\\\\u00b0C. Expect light snow and low clouds, with a moderate wind blowing from the north. The humidity will be high, around 93%, and the visibility will be reduced due to the snow. It\\\\\\'s a good idea to bundle up and stay indoors.\",\"Morning\":\"Morning on March 25th will be similar to the early morning, with light snow and low clouds. The temperature will drop to around -2\\\\\\\\u00b0C, and the wind will continue to blow from the north. The humidity will remain high, around 93%, and the visibility will be reduced. It\\\\\\'s still a good idea to stay indoors and avoid traveling unless necessary.\",\"Afternoon\":\"Afternoon on March 25th will see a slight improvement in the weather, with the snow flurries becoming more frequent. The temperature will drop to around -5\\\\\\\\u00b0C, and the wind will continue to blow from the north. The humidity will remain high, around 93%, and the visibility will be reduced. It\\\\\\'s still a good idea to stay indoors and avoid traveling unless necessary.\",\"Evening\":\"Evening on March 25th will be quite cold, with a temperature of around -5\\\\\\\\u00b0C. Expect light snow and low clouds, with a moderate wind blowing from the north. The humidity will be high, around 93%, and the visibility will be reduced due to the snow. It\\\\\\'s a good idea to stay indoors and avoid traveling unless necessary.\",\"time\":\"20210325000000\",\"note\":\"\"}\\'), (\\'20210326000000\\', \\'{\"daily\":\"It\\\\\\'s going to be a chilly day in March, with a mix of light snow and ice fog. The temperature will fluctuate between -5\\\\\\\\u00b0C and 2\\\\\\\\u00b0C, with a general trend of warming up slightly towards the end of the day. Expect mostly cloudy skies with some scattered clouds and snow flurries. The wind will be moderate to strong, blowing from various directions. It\\\\\\'s a good idea to bundle up and stay warm!\",\"Early Morning\":\"Early morning will be quite chilly, with temperatures around -5\\\\\\\\u00b0C. Expect light snow and ice fog, with moderate winds blowing from the east-southeast. It\\\\\\'s a good idea to dress warmly and stay indoors if possible.\",\"Morning\":\"Morning will see a slight warming trend, with temperatures rising to around -2\\\\\\\\u00b0C. Expect light snow and broken clouds, with moderate winds blowing from the south. It\\\\\\'s a good idea to take a warm drink with you on your way out.\",\"Afternoon\":\"Afternoon will be quite pleasant, with temperatures rising to around 2\\\\\\\\u00b0C. Expect mostly cloudy skies with some scattered clouds and snow flurries. The wind will be moderate to strong, blowing from various directions. It\\\\\\'s a good idea to take a break and enjoy the scenery.\",\"Evening\":\"Evening will see a slight cooling trend, with temperatures dropping to around 0\\\\\\\\u00b0C. Expect light snow and partly cloudy skies, with moderate winds blowing from the east-northeast. It\\\\\\'s a good idea to bundle up and stay warm.\",\"time\":\"20210326000000\",\"note\":\"\"}\\'), (\\'20210327000000\\', \\'{\"daily\":\"It\\\\\\'s going to be a chilly day on March 27th, with ice fog in the early morning and partly sunny skies in the afternoon. Temperatures will be dropping throughout the day, with a low of -3\\\\\\\\u00b0C in the late afternoon. Expect a gentle breeze blowing from the south to north, with wind speeds ranging from 6 to 17 km\\\\\\\\/h. Humidity will be relatively high, around 70-90%, with a slight decrease in the afternoon.\",\"Early Morning\":\"Early morning on March 27th will be quite chilly, with ice fog and temperatures around -2\\\\\\\\u00b0C. Expect a gentle breeze blowing from the south to north, with wind speeds around 11 km\\\\\\\\/h. Humidity will be high, around 93%.\",\"Morning\":\"Morning on March 27th will see a slight improvement in weather, with partly sunny skies and temperatures around 0\\\\\\\\u00b0C. Expect a gentle breeze blowing from the south-southwest to north-northeast, with wind speeds around 15 km\\\\\\\\/h. Humidity will be relatively high, around 75%.\",\"Afternoon\":\"Afternoon on March 27th will be partly sunny, with temperatures around 12\\\\\\\\u00b0C. Expect a gentle breeze blowing from the west to east, with wind speeds around 15 km\\\\\\\\/h. Humidity will be relatively low, around 28-32%.\",\"Evening\":\"Evening on March 27th will see a slight drop in temperature, with partly cloudy skies and temperatures around 9\\\\\\\\u00b0C. Expect a gentle breeze blowing from the southwest to northeast, with wind speeds around 9 km\\\\\\\\/h. Humidity will be relatively high, around 37%.\",\"time\":\"20210327000000\",\"note\":\"\"}\\'), (\\'20210328000000\\', \\'{\"daily\":\"It\\\\\\'s going to be a partly cloudy day with a temperature trend of warming up in the morning and cooling down in the evening. Expect a gentle breeze with a moderate wind speed. There might be some scattered showers in the late afternoon, but overall, it\\\\\\'s going to be a pleasant day.\",\"Early Morning\":\"Early morning will be partly cloudy with a gentle breeze. The temperature will be around 6-9\\\\\\\\u00b0C, and the wind speed will be moderate. Expect a pleasant start to the day.\",\"Morning\":\"In the morning, the weather will be partly sunny with a gentle breeze. The temperature will be around 10-14\\\\\\\\u00b0C, and the wind speed will be moderate. It\\\\\\'s going to be a great day to get out and about.\",\"Afternoon\":\"In the afternoon, the weather will be partly sunny with a gentle breeze. The temperature will be around 10-14\\\\\\\\u00b0C, and the wind speed will be moderate. However, there might be some scattered showers in the late afternoon, so it\\\\\\'s a good idea to carry an umbrella.\",\"Evening\":\"In the evening, the weather will be mostly cloudy with a gentle breeze. The temperature will be around 8-10\\\\\\\\u00b0C, and the wind speed will be moderate. It\\\\\\'s going to be a pleasant end to the day.\",\"time\":\"20210328000000\",\"note\":\"\"}\\'), (\\'20210329000000\\', \\'{\"daily\":\"It\\\\\\'s going to be a cold day tomorrow, March 29th, in the early spring season. Expect light snow and overcast weather throughout the day, with temperatures ranging from -2\\\\\\\\u00b0C to -11\\\\\\\\u00b0C. The wind will be blowing at moderate speeds, and humidity will be relatively high. There might be a slight drop in temperature in the late afternoon, but overall, it will be a chilly day.\",\"Early Morning\":\"Early morning, March 29th, will be quite chilly, with temperatures ranging from -2\\\\\\\\u00b0C to -8\\\\\\\\u00b0C. Expect light snow and overcast weather, with moderate winds blowing at 35-44 km\\\\\\\\/h. It will be a relatively cloudy start to the day.\",\"Morning\":\"Morning, March 29th, will see a continuation of light snow and overcast weather, with temperatures ranging from -2\\\\\\\\u00b0C to -7\\\\\\\\u00b0C. The winds will pick up slightly, blowing at 46-52 km\\\\\\\\/h. It will be a bit more windy than the early morning.\",\"Afternoon\":\"Afternoon, March 29th, will see a slight drop in temperature, ranging from -3\\\\\\\\u00b0C to -8\\\\\\\\u00b0C. Expect passing clouds and moderate winds blowing at 31-46 km\\\\\\\\/h. It will be a bit more sunny than the morning, but still quite chilly.\",\"Evening\":\"Evening, March 29th, will see a continuation of passing clouds and moderate winds blowing at 24-35 km\\\\\\\\/h. Temperatures will range from -4\\\\\\\\u00b0C to -8\\\\\\\\u00b0C. It will be a relatively calm end to the day, with a slight drop in temperature.\",\"time\":\"20210329000000\",\"note\":\"\"}\\'), (\\'20210330000000\\', \\'{\"daily\":\"It\\\\\\'s going to be a chilly day on March 30th, with a mix of passing clouds and scattered clouds. Temperatures will fluctuate between -9\\\\\\\\u00b0C and 4\\\\\\\\u00b0C. Expect a moderate wind blowing from the west to east, with gusts reaching up to 28 km\\\\\\\\/h. The humidity will be relatively low, ranging from 23% to 62%. Overall, it\\\\\\'s a typical spring day with a bit of wind and variable temperatures.\",\"Early Morning\":\"Early morning on March 30th will be quite chilly, with temperatures ranging from -9\\\\\\\\u00b0C to -8\\\\\\\\u00b0C. Expect passing clouds and a moderate wind blowing from the west to east, with gusts reaching up to 17 km\\\\\\\\/h. The humidity will be around 53%.\",\"Morning\":\"Morning on March 30th will see temperatures rise slightly, ranging from -10\\\\\\\\u00b0C to -2\\\\\\\\u00b0C. The weather will be mostly passing clouds, with a moderate wind blowing from the southwest to northeast, gusting up to 19 km\\\\\\\\/h. The humidity will be around 40%.\",\"Afternoon\":\"Afternoon on March 30th will be partly sunny, with temperatures ranging from 1\\\\\\\\u00b0C to 4\\\\\\\\u00b0C. Expect a moderate wind blowing from the west to east, with gusts reaching up to 28 km\\\\\\\\/h. The humidity will be relatively low, around 24%.\",\"Evening\":\"Evening on March 30th will see temperatures drop slightly, ranging from 1\\\\\\\\u00b0C to 2\\\\\\\\u00b0C. The weather will be mostly passing clouds, with a moderate wind blowing from the west to east, gusting up to 26 km\\\\\\\\/h. The humidity will be around 32%.\",\"time\":\"20210330000000\",\"note\":\"\"}\\'), (\\'20210331000000\\', \\'{\"daily\":\"It\\\\\\'s going to be a chilly day with a mix of passing clouds and scattered clouds. Temperatures will fluctuate between -3\\\\\\\\u00b0C and 12\\\\\\\\u00b0C. Expect a moderate wind blowing from the west to east, with gusts reaching up to 41 km\\\\\\\\/h. Humidity will range from 21% to 55%. Be prepared for a partly sunny to cloudy day with a slight chance of scattered showers in the late afternoon.\",\"Early Morning\":\"Early morning will be partly sunny with a temperature range of -3\\\\\\\\u00b0C to 3\\\\\\\\u00b0C. Expect a moderate wind blowing from the south to north, with gusts reaching up to 15 km\\\\\\\\/h. Humidity will be around 55%.\",\"Morning\":\"Morning will be mostly cloudy with a temperature range of 6\\\\\\\\u00b0C to 9\\\\\\\\u00b0C. Expect a moderate wind blowing from the west to east, with gusts reaching up to 32 km\\\\\\\\/h. Humidity will be around 25%.\",\"Afternoon\":\"Afternoon will be partly sunny to cloudy with a temperature range of 9\\\\\\\\u00b0C to 12\\\\\\\\u00b0C. Expect a moderate wind blowing from the west to east, with gusts reaching up to 28 km\\\\\\\\/h. Humidity will be around 22%.\",\"Evening\":\"Evening will be partly cloudy with a temperature range of 7\\\\\\\\u00b0C to 10\\\\\\\\u00b0C. Expect a gentle wind blowing from the southwest to northeast, with gusts reaching up to 9 km\\\\\\\\/h. Humidity will be around 29%.\",\"time\":\"20210331000000\",\"note\":\"\"}\\'), (\\'20210401000000\\', \\'{\"daily\":\"It\\\\\\'s going to be a chilly April day with a mix of passing clouds and broken clouds. Expect a temperature trend of warming up in the morning and cooling down in the evening. There might be a sudden shower in the late afternoon. Overall, it\\\\\\'s a great day to enjoy the outdoors with a light jacket.\",\"Early Morning\":\"Early morning will be quite chilly with a temperature around 2-3\\\\\\\\u00b0C. Expect passing clouds with a gentle breeze. It\\\\\\'s a great time to get some fresh air and enjoy the morning.\",\"Morning\":\"Morning will see a slight warming up with temperatures reaching around 10-12\\\\\\\\u00b0C. The sky will be partly sunny with a gentle breeze. It\\\\\\'s a perfect time to get out and about.\",\"Afternoon\":\"Afternoon will be quite windy with gusts reaching up to 50 km\\\\\\\\/h. Temperatures will be around 14-16\\\\\\\\u00b0C. Expect passing clouds with a chance of sudden showers. It\\\\\\'s a good idea to carry an umbrella.\",\"Evening\":\"Evening will see a cooling down with temperatures dropping to around 8-10\\\\\\\\u00b0C. Expect passing clouds with a gentle breeze. It\\\\\\'s a great time to relax and unwind.\",\"time\":\"20210401000000\",\"note\":\"\"}\\')]\\n\\nWe now have the weather forecasting for the following days:\\n\\n[(\\'20210401000000\\', \\'{\"daily\":\"It\\\\\\'s going to be a chilly April day with a mix of passing clouds and broken clouds. Expect a temperature trend of warming up in the morning and cooling down in the evening. There might be a sudden shower in the late afternoon. Overall, it\\\\\\'s a great day to enjoy the outdoors with a light jacket.\",\"Early Morning\":\"Early morning will be quite chilly with a temperature around 2-3\\\\\\\\u00b0C. Expect passing clouds with a gentle breeze. It\\\\\\'s a great time to get some fresh air and enjoy the morning.\",\"Morning\":\"Morning will see a slight warming up with temperatures reaching around 10-12\\\\\\\\u00b0C. The sky will be partly sunny with a gentle breeze. It\\\\\\'s a perfect time to get out and about.\",\"Afternoon\":\"Afternoon will be quite windy with gusts reaching up to 50 km\\\\\\\\/h. Temperatures will be around 14-16\\\\\\\\u00b0C. Expect passing clouds with a chance of sudden showers. It\\\\\\'s a good idea to carry an umbrella.\",\"Evening\":\"Evening will see a cooling down with temperatures dropping to around 8-10\\\\\\\\u00b0C. Expect passing clouds with a gentle breeze. It\\\\\\'s a great time to relax and unwind.\",\"time\":\"20210401000000\",\"note\":\"\"}\\'), (\\'20210402000000\\', \\'{\"daily\":\"It\\\\\\'s going to be a chilly April day with a mix of passing clouds and clear skies. Temperatures will be quite low, ranging from -2 to 12 degrees Celsius. Expect a gentle breeze with wind speeds around 9-32 km\\\\\\\\/h. As the day progresses, the temperature will rise, and the wind will pick up. Be prepared for a partly sunny afternoon with scattered clouds. Overnight, the temperature will drop, and the skies will clear up.\",\"Early Morning\":\"Early morning will be quite chilly with temperatures around 0-3\\\\\\\\u00b0C. Expect passing clouds with a gentle breeze of 9 km\\\\\\\\/h. It\\\\\\'s a good idea to bundle up!\",\"Morning\":\"Morning will see a slight rise in temperature to around 5-6\\\\\\\\u00b0C. The skies will be partly cloudy with a moderate breeze of 13 km\\\\\\\\/h. It\\\\\\'s a great time to get some fresh air!\",\"Afternoon\":\"Afternoon will be partly sunny with scattered clouds and a temperature range of 8-12\\\\\\\\u00b0C. Expect a moderate breeze of 20 km\\\\\\\\/h. It\\\\\\'s a perfect time for outdoor activities!\",\"Evening\":\"Evening will see a slight drop in temperature to around 1-4\\\\\\\\u00b0C. The skies will clear up with a gentle breeze of 6 km\\\\\\\\/h. It\\\\\\'s a great time to relax and enjoy the evening!\",\"time\":\"20210402000000\",\"note\":\"\"}\\')]\\n\\nPlease make the prediction for the next 24 hours.\\n\\nThe timestamp for forecasting is as follows:\\n\\n[20210401080000, 20210401090000, 20210401100000, 20210401110000, 20210401120000, 20210401130000, 20210401140000, 20210401150000, 20210401160000, 20210401170000, 20210401180000, 20210401190000, 20210401200000, 20210401210000, 20210401220000, 20210401230000, 20210402000000, 20210402010000, 20210402020000, 20210402030000, 20210402040000, 20210402050000, 20210402060000, 20210402070000]\\n\\nPlease format it in json format in [datastamp, value] pair, as below:\\n\\n```json\\n\\n[[<timestamp>, <predicted_value>],\\n [<timestamp>, <predicted_value>],\\n ...]\\n\\n```\\n'"
      ]
     },
     "execution_count": 98,
     "metadata": {},
     "output_type": "execute_result"
    }
   ],
   "source": [
    "user_prompt"
   ]
  }
 ],
 "metadata": {
  "kernelspec": {
   "display_name": "uni2ts",
   "language": "python",
   "name": "python3"
  },
  "language_info": {
   "codemirror_mode": {
    "name": "ipython",
    "version": 3
   },
   "file_extension": ".py",
   "mimetype": "text/x-python",
   "name": "python",
   "nbconvert_exporter": "python",
   "pygments_lexer": "ipython3",
   "version": "3.11.0"
  }
 },
 "nbformat": 4,
 "nbformat_minor": 2
}
