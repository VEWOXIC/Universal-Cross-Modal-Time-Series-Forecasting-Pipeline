{
 "cells": [
  {
   "cell_type": "code",
   "execution_count": 1,
   "metadata": {},
   "outputs": [],
   "source": [
    "import pandas as pd\n",
    "import numpy as np\n",
    "import torch\n",
    "from data_provider.data_factory import Data_Provider\n",
    "import yaml, json\n",
    "from utils.tools import dotdict"
   ]
  },
  {
   "cell_type": "code",
   "execution_count": 2,
   "metadata": {},
   "outputs": [],
   "source": [
    "# load json\n",
    "with open('checkpoints/03-11-0936_FITS_solar_day_ahead/args.json', 'r') as f:\n",
    "    args = json.load(f)\n",
    "args = dotdict(args)"
   ]
  },
  {
   "cell_type": "code",
   "execution_count": 83,
   "metadata": {},
   "outputs": [],
   "source": [
    "# load yaml\n",
    "with open('./data_configs/fullsolar_hetero.yaml') as f:\n",
    "    data_config = yaml.load(f, Loader=yaml.FullLoader)\n",
    "data_config = dotdict(data_config)\n",
    "args.data_config = data_config\n",
    "\n",
    "args.scale = False"
   ]
  },
  {
   "cell_type": "code",
   "execution_count": 84,
   "metadata": {},
   "outputs": [
    {
     "name": "stdout",
     "output_type": "stream",
     "text": [
      "[ info ] Successfully load the dynamic data from fast_general_weather_forecast_????.json\n"
     ]
    }
   ],
   "source": [
    "a=Data_Provider(args, buffer=(not args.disable_buffer))"
   ]
  },
  {
   "cell_type": "code",
   "execution_count": 86,
   "metadata": {},
   "outputs": [
    {
     "name": "stderr",
     "output_type": "stream",
     "text": [
      "Loading val datasets: 100%|██████████| 9/9 [00:00<00:00, 12.14it/s]\n"
     ]
    }
   ],
   "source": [
    "set = a.get_val('set')"
   ]
  },
  {
   "cell_type": "code",
   "execution_count": 88,
   "metadata": {},
   "outputs": [
    {
     "data": {
      "text/plain": [
       "dict_keys(['314106', '319086', '164440', '355827', '331901', '332785', '577650', '551172', '570079'])"
      ]
     },
     "execution_count": 88,
     "metadata": {},
     "output_type": "execute_result"
    }
   ],
   "source": [
    "set.keys()"
   ]
  },
  {
   "cell_type": "code",
   "execution_count": 89,
   "metadata": {},
   "outputs": [
    {
     "data": {
      "text/plain": [
       "8569"
      ]
     },
     "execution_count": 89,
     "metadata": {},
     "output_type": "execute_result"
    }
   ],
   "source": [
    "seta = set['314106']\n",
    "len(seta)"
   ]
  },
  {
   "cell_type": "code",
   "execution_count": 90,
   "metadata": {},
   "outputs": [
    {
     "data": {
      "text/plain": [
       "(array([[0.0000e+00],\n",
       "        [0.0000e+00],\n",
       "        [4.3000e-02],\n",
       "        [1.4500e-01],\n",
       "        [1.1800e-01],\n",
       "        [3.0700e-01],\n",
       "        [2.8600e-01],\n",
       "        [3.5400e-01],\n",
       "        [1.1800e-01],\n",
       "        [3.0000e-03],\n",
       "        [0.0000e+00],\n",
       "        [0.0000e+00],\n",
       "        [0.0000e+00],\n",
       "        [0.0000e+00],\n",
       "        [0.0000e+00],\n",
       "        [0.0000e+00],\n",
       "        [0.0000e+00],\n",
       "        [0.0000e+00],\n",
       "        [0.0000e+00],\n",
       "        [0.0000e+00],\n",
       "        [0.0000e+00],\n",
       "        [0.0000e+00],\n",
       "        [0.0000e+00],\n",
       "        [0.0000e+00],\n",
       "        [0.0000e+00],\n",
       "        [0.0000e+00],\n",
       "        [3.2000e-02],\n",
       "        [4.5700e-01],\n",
       "        [1.4480e+00],\n",
       "        [1.6810e+00],\n",
       "        [2.6970e+00],\n",
       "        [2.3210e+00],\n",
       "        [2.5470e+00],\n",
       "        [2.7520e+00],\n",
       "        [1.8700e+00],\n",
       "        [2.1600e-01],\n",
       "        [0.0000e+00],\n",
       "        [0.0000e+00],\n",
       "        [0.0000e+00],\n",
       "        [0.0000e+00],\n",
       "        [0.0000e+00],\n",
       "        [0.0000e+00],\n",
       "        [0.0000e+00],\n",
       "        [0.0000e+00],\n",
       "        [0.0000e+00],\n",
       "        [0.0000e+00],\n",
       "        [0.0000e+00],\n",
       "        [2.3000e-02],\n",
       "        [1.1510e+00],\n",
       "        [3.3160e+00],\n",
       "        [5.5310e+00],\n",
       "        [8.0380e+00],\n",
       "        [1.3042e+01],\n",
       "        [1.2176e+01],\n",
       "        [1.1183e+01],\n",
       "        [8.8510e+00],\n",
       "        [8.9030e+00],\n",
       "        [4.0990e+00],\n",
       "        [1.1230e+00],\n",
       "        [2.4900e-01],\n",
       "        [0.0000e+00],\n",
       "        [0.0000e+00],\n",
       "        [0.0000e+00],\n",
       "        [0.0000e+00],\n",
       "        [0.0000e+00],\n",
       "        [0.0000e+00],\n",
       "        [0.0000e+00],\n",
       "        [0.0000e+00],\n",
       "        [0.0000e+00],\n",
       "        [0.0000e+00],\n",
       "        [0.0000e+00],\n",
       "        [2.6000e-02],\n",
       "        [4.9100e-01],\n",
       "        [2.3090e+00],\n",
       "        [5.5530e+00],\n",
       "        [8.1790e+00],\n",
       "        [1.2731e+01],\n",
       "        [1.4266e+01],\n",
       "        [1.4156e+01],\n",
       "        [1.2798e+01],\n",
       "        [7.9150e+00],\n",
       "        [3.2540e+00],\n",
       "        [1.6020e+00],\n",
       "        [1.6800e-01],\n",
       "        [0.0000e+00],\n",
       "        [0.0000e+00],\n",
       "        [0.0000e+00],\n",
       "        [0.0000e+00],\n",
       "        [0.0000e+00],\n",
       "        [0.0000e+00],\n",
       "        [0.0000e+00],\n",
       "        [0.0000e+00],\n",
       "        [0.0000e+00],\n",
       "        [0.0000e+00],\n",
       "        [0.0000e+00],\n",
       "        [5.0000e-03],\n",
       "        [2.9900e-01],\n",
       "        [2.0480e+00],\n",
       "        [4.9640e+00],\n",
       "        [6.9400e+00],\n",
       "        [1.1863e+01],\n",
       "        [1.4053e+01],\n",
       "        [1.3987e+01],\n",
       "        [1.3494e+01],\n",
       "        [1.1360e+01],\n",
       "        [7.9820e+00],\n",
       "        [3.8430e+00],\n",
       "        [5.2900e-01],\n",
       "        [0.0000e+00],\n",
       "        [0.0000e+00],\n",
       "        [0.0000e+00],\n",
       "        [0.0000e+00],\n",
       "        [0.0000e+00],\n",
       "        [0.0000e+00],\n",
       "        [0.0000e+00],\n",
       "        [0.0000e+00],\n",
       "        [0.0000e+00],\n",
       "        [0.0000e+00],\n",
       "        [0.0000e+00],\n",
       "        [1.2500e-01],\n",
       "        [1.5040e+00],\n",
       "        [3.9290e+00],\n",
       "        [6.3430e+00],\n",
       "        [8.6610e+00],\n",
       "        [1.3408e+01],\n",
       "        [1.4590e+01],\n",
       "        [1.4380e+01],\n",
       "        [1.1317e+01],\n",
       "        [8.2850e+00],\n",
       "        [2.8920e+00],\n",
       "        [3.3850e+00],\n",
       "        [6.0800e-01],\n",
       "        [0.0000e+00],\n",
       "        [0.0000e+00],\n",
       "        [0.0000e+00],\n",
       "        [0.0000e+00],\n",
       "        [0.0000e+00],\n",
       "        [0.0000e+00],\n",
       "        [0.0000e+00],\n",
       "        [0.0000e+00],\n",
       "        [0.0000e+00],\n",
       "        [0.0000e+00],\n",
       "        [0.0000e+00],\n",
       "        [1.5300e-01],\n",
       "        [1.7640e+00],\n",
       "        [3.9180e+00],\n",
       "        [6.2490e+00],\n",
       "        [8.5780e+00],\n",
       "        [1.3493e+01],\n",
       "        [1.4533e+01],\n",
       "        [1.4323e+01],\n",
       "        [1.2963e+01],\n",
       "        [1.0707e+01],\n",
       "        [7.4950e+00],\n",
       "        [2.1100e+00],\n",
       "        [2.3800e-01],\n",
       "        [0.0000e+00],\n",
       "        [0.0000e+00],\n",
       "        [0.0000e+00],\n",
       "        [0.0000e+00],\n",
       "        [0.0000e+00],\n",
       "        [0.0000e+00],\n",
       "        [0.0000e+00],\n",
       "        [0.0000e+00],\n",
       "        [0.0000e+00],\n",
       "        [0.0000e+00],\n",
       "        [0.0000e+00],\n",
       "        [1.6400e-01]]),\n",
       " array([[ 1.61 ],\n",
       "        [ 3.31 ],\n",
       "        [ 6.356],\n",
       "        [ 9.18 ],\n",
       "        [11.15 ],\n",
       "        [14.543],\n",
       "        [14.295],\n",
       "        [12.953],\n",
       "        [10.737],\n",
       "        [ 6.956],\n",
       "        [ 3.723],\n",
       "        [ 0.788],\n",
       "        [ 0.   ],\n",
       "        [ 0.   ],\n",
       "        [ 0.   ],\n",
       "        [ 0.   ],\n",
       "        [ 0.   ],\n",
       "        [ 0.   ],\n",
       "        [ 0.   ],\n",
       "        [ 0.   ],\n",
       "        [ 0.   ],\n",
       "        [ 0.   ],\n",
       "        [ 0.   ],\n",
       "        [ 0.164]]),\n",
       " array([20210325080000, 20210325090000, 20210325100000, 20210325110000,\n",
       "        20210325120000, 20210325130000, 20210325140000, 20210325150000,\n",
       "        20210325160000, 20210325170000, 20210325180000, 20210325190000,\n",
       "        20210325200000, 20210325210000, 20210325220000, 20210325230000,\n",
       "        20210326000000, 20210326010000, 20210326020000, 20210326030000,\n",
       "        20210326040000, 20210326050000, 20210326060000, 20210326070000,\n",
       "        20210326080000, 20210326090000, 20210326100000, 20210326110000,\n",
       "        20210326120000, 20210326130000, 20210326140000, 20210326150000,\n",
       "        20210326160000, 20210326170000, 20210326180000, 20210326190000,\n",
       "        20210326200000, 20210326210000, 20210326220000, 20210326230000,\n",
       "        20210327000000, 20210327010000, 20210327020000, 20210327030000,\n",
       "        20210327040000, 20210327050000, 20210327060000, 20210327070000,\n",
       "        20210327080000, 20210327090000, 20210327100000, 20210327110000,\n",
       "        20210327120000, 20210327130000, 20210327140000, 20210327150000,\n",
       "        20210327160000, 20210327170000, 20210327180000, 20210327190000,\n",
       "        20210327200000, 20210327210000, 20210327220000, 20210327230000,\n",
       "        20210328000000, 20210328010000, 20210328020000, 20210328030000,\n",
       "        20210328040000, 20210328050000, 20210328060000, 20210328070000,\n",
       "        20210328080000, 20210328090000, 20210328100000, 20210328110000,\n",
       "        20210328120000, 20210328130000, 20210328140000, 20210328150000,\n",
       "        20210328160000, 20210328170000, 20210328180000, 20210328190000,\n",
       "        20210328200000, 20210328210000, 20210328220000, 20210328230000,\n",
       "        20210329000000, 20210329010000, 20210329020000, 20210329030000,\n",
       "        20210329040000, 20210329050000, 20210329060000, 20210329070000,\n",
       "        20210329080000, 20210329090000, 20210329100000, 20210329110000,\n",
       "        20210329120000, 20210329130000, 20210329140000, 20210329150000,\n",
       "        20210329160000, 20210329170000, 20210329180000, 20210329190000,\n",
       "        20210329200000, 20210329210000, 20210329220000, 20210329230000,\n",
       "        20210330000000, 20210330010000, 20210330020000, 20210330030000,\n",
       "        20210330040000, 20210330050000, 20210330060000, 20210330070000,\n",
       "        20210330080000, 20210330090000, 20210330100000, 20210330110000,\n",
       "        20210330120000, 20210330130000, 20210330140000, 20210330150000,\n",
       "        20210330160000, 20210330170000, 20210330180000, 20210330190000,\n",
       "        20210330200000, 20210330210000, 20210330220000, 20210330230000,\n",
       "        20210331000000, 20210331010000, 20210331020000, 20210331030000,\n",
       "        20210331040000, 20210331050000, 20210331060000, 20210331070000,\n",
       "        20210331080000, 20210331090000, 20210331100000, 20210331110000,\n",
       "        20210331120000, 20210331130000, 20210331140000, 20210331150000,\n",
       "        20210331160000, 20210331170000, 20210331180000, 20210331190000,\n",
       "        20210331200000, 20210331210000, 20210331220000, 20210331230000,\n",
       "        20210401000000, 20210401010000, 20210401020000, 20210401030000,\n",
       "        20210401040000, 20210401050000, 20210401060000, 20210401070000]),\n",
       " array([20210401080000, 20210401090000, 20210401100000, 20210401110000,\n",
       "        20210401120000, 20210401130000, 20210401140000, 20210401150000,\n",
       "        20210401160000, 20210401170000, 20210401180000, 20210401190000,\n",
       "        20210401200000, 20210401210000, 20210401220000, 20210401230000,\n",
       "        20210402000000, 20210402010000, 20210402020000, 20210402030000,\n",
       "        20210402040000, 20210402050000, 20210402060000, 20210402070000]),\n",
       " (['20210325000000',\n",
       "   '20210326000000',\n",
       "   '20210327000000',\n",
       "   '20210328000000',\n",
       "   '20210329000000',\n",
       "   '20210330000000',\n",
       "   '20210331000000',\n",
       "   '20210401000000'],\n",
       "  'This dataset contains the solar power generation data of 16 solar panels in Calgary, Alberta, Canada. The data is collected hourly. ',\n",
       "  'The solar panel is located at Calgary Fire Hall Headquarters.',\n",
       "  ['{\"daily\":\"It\\'s going to be a cold and snowy day on March 25th. Expect light snow and low clouds throughout the day, with a temperature trend of dropping to -5\\\\u00b0C by the evening. Be prepared for icy roads and reduced visibility. The wind will be blowing from the north at a moderate speed, and the humidity will be high, around 93%. As the day progresses, the snow flurries will become more frequent, and the temperature will continue to drop. It\\'s a good idea to stay indoors and avoid traveling unless necessary.\",\"Early Morning\":\"Early morning on March 25th will be quite chilly, with a temperature of around -1\\\\u00b0C. Expect light snow and low clouds, with a moderate wind blowing from the north. The humidity will be high, around 93%, and the visibility will be reduced due to the snow. It\\'s a good idea to bundle up and stay indoors.\",\"Morning\":\"Morning on March 25th will be similar to the early morning, with light snow and low clouds. The temperature will drop to around -2\\\\u00b0C, and the wind will continue to blow from the north. The humidity will remain high, around 93%, and the visibility will be reduced. It\\'s still a good idea to stay indoors and avoid traveling unless necessary.\",\"Afternoon\":\"Afternoon on March 25th will see a slight improvement in the weather, with the snow flurries becoming more frequent. The temperature will drop to around -5\\\\u00b0C, and the wind will continue to blow from the north. The humidity will remain high, around 93%, and the visibility will be reduced. It\\'s still a good idea to stay indoors and avoid traveling unless necessary.\",\"Evening\":\"Evening on March 25th will be quite cold, with a temperature of around -5\\\\u00b0C. Expect light snow and low clouds, with a moderate wind blowing from the north. The humidity will be high, around 93%, and the visibility will be reduced due to the snow. It\\'s a good idea to stay indoors and avoid traveling unless necessary.\",\"time\":\"20210325000000\",\"note\":\"\"}',\n",
       "   '{\"daily\":\"It\\'s going to be a chilly day in March, with a mix of light snow and ice fog. The temperature will fluctuate between -5\\\\u00b0C and 2\\\\u00b0C, with a general trend of warming up slightly towards the end of the day. Expect mostly cloudy skies with some scattered clouds and snow flurries. The wind will be moderate to strong, blowing from various directions. It\\'s a good idea to bundle up and stay warm!\",\"Early Morning\":\"Early morning will be quite chilly, with temperatures around -5\\\\u00b0C. Expect light snow and ice fog, with moderate winds blowing from the east-southeast. It\\'s a good idea to dress warmly and stay indoors if possible.\",\"Morning\":\"Morning will see a slight warming trend, with temperatures rising to around -2\\\\u00b0C. Expect light snow and broken clouds, with moderate winds blowing from the south. It\\'s a good idea to take a warm drink with you on your way out.\",\"Afternoon\":\"Afternoon will be quite pleasant, with temperatures rising to around 2\\\\u00b0C. Expect mostly cloudy skies with some scattered clouds and snow flurries. The wind will be moderate to strong, blowing from various directions. It\\'s a good idea to take a break and enjoy the scenery.\",\"Evening\":\"Evening will see a slight cooling trend, with temperatures dropping to around 0\\\\u00b0C. Expect light snow and partly cloudy skies, with moderate winds blowing from the east-northeast. It\\'s a good idea to bundle up and stay warm.\",\"time\":\"20210326000000\",\"note\":\"\"}',\n",
       "   '{\"daily\":\"It\\'s going to be a chilly day on March 27th, with ice fog in the early morning and partly sunny skies in the afternoon. Temperatures will be dropping throughout the day, with a low of -3\\\\u00b0C in the late afternoon. Expect a gentle breeze blowing from the south to north, with wind speeds ranging from 6 to 17 km\\\\/h. Humidity will be relatively high, around 70-90%, with a slight decrease in the afternoon.\",\"Early Morning\":\"Early morning on March 27th will be quite chilly, with ice fog and temperatures around -2\\\\u00b0C. Expect a gentle breeze blowing from the south to north, with wind speeds around 11 km\\\\/h. Humidity will be high, around 93%.\",\"Morning\":\"Morning on March 27th will see a slight improvement in weather, with partly sunny skies and temperatures around 0\\\\u00b0C. Expect a gentle breeze blowing from the south-southwest to north-northeast, with wind speeds around 15 km\\\\/h. Humidity will be relatively high, around 75%.\",\"Afternoon\":\"Afternoon on March 27th will be partly sunny, with temperatures around 12\\\\u00b0C. Expect a gentle breeze blowing from the west to east, with wind speeds around 15 km\\\\/h. Humidity will be relatively low, around 28-32%.\",\"Evening\":\"Evening on March 27th will see a slight drop in temperature, with partly cloudy skies and temperatures around 9\\\\u00b0C. Expect a gentle breeze blowing from the southwest to northeast, with wind speeds around 9 km\\\\/h. Humidity will be relatively high, around 37%.\",\"time\":\"20210327000000\",\"note\":\"\"}',\n",
       "   '{\"daily\":\"It\\'s going to be a partly cloudy day with a temperature trend of warming up in the morning and cooling down in the evening. Expect a gentle breeze with a moderate wind speed. There might be some scattered showers in the late afternoon, but overall, it\\'s going to be a pleasant day.\",\"Early Morning\":\"Early morning will be partly cloudy with a gentle breeze. The temperature will be around 6-9\\\\u00b0C, and the wind speed will be moderate. Expect a pleasant start to the day.\",\"Morning\":\"In the morning, the weather will be partly sunny with a gentle breeze. The temperature will be around 10-14\\\\u00b0C, and the wind speed will be moderate. It\\'s going to be a great day to get out and about.\",\"Afternoon\":\"In the afternoon, the weather will be partly sunny with a gentle breeze. The temperature will be around 10-14\\\\u00b0C, and the wind speed will be moderate. However, there might be some scattered showers in the late afternoon, so it\\'s a good idea to carry an umbrella.\",\"Evening\":\"In the evening, the weather will be mostly cloudy with a gentle breeze. The temperature will be around 8-10\\\\u00b0C, and the wind speed will be moderate. It\\'s going to be a pleasant end to the day.\",\"time\":\"20210328000000\",\"note\":\"\"}',\n",
       "   '{\"daily\":\"It\\'s going to be a cold day tomorrow, March 29th, in the early spring season. Expect light snow and overcast weather throughout the day, with temperatures ranging from -2\\\\u00b0C to -11\\\\u00b0C. The wind will be blowing at moderate speeds, and humidity will be relatively high. There might be a slight drop in temperature in the late afternoon, but overall, it will be a chilly day.\",\"Early Morning\":\"Early morning, March 29th, will be quite chilly, with temperatures ranging from -2\\\\u00b0C to -8\\\\u00b0C. Expect light snow and overcast weather, with moderate winds blowing at 35-44 km\\\\/h. It will be a relatively cloudy start to the day.\",\"Morning\":\"Morning, March 29th, will see a continuation of light snow and overcast weather, with temperatures ranging from -2\\\\u00b0C to -7\\\\u00b0C. The winds will pick up slightly, blowing at 46-52 km\\\\/h. It will be a bit more windy than the early morning.\",\"Afternoon\":\"Afternoon, March 29th, will see a slight drop in temperature, ranging from -3\\\\u00b0C to -8\\\\u00b0C. Expect passing clouds and moderate winds blowing at 31-46 km\\\\/h. It will be a bit more sunny than the morning, but still quite chilly.\",\"Evening\":\"Evening, March 29th, will see a continuation of passing clouds and moderate winds blowing at 24-35 km\\\\/h. Temperatures will range from -4\\\\u00b0C to -8\\\\u00b0C. It will be a relatively calm end to the day, with a slight drop in temperature.\",\"time\":\"20210329000000\",\"note\":\"\"}',\n",
       "   '{\"daily\":\"It\\'s going to be a chilly day on March 30th, with a mix of passing clouds and scattered clouds. Temperatures will fluctuate between -9\\\\u00b0C and 4\\\\u00b0C. Expect a moderate wind blowing from the west to east, with gusts reaching up to 28 km\\\\/h. The humidity will be relatively low, ranging from 23% to 62%. Overall, it\\'s a typical spring day with a bit of wind and variable temperatures.\",\"Early Morning\":\"Early morning on March 30th will be quite chilly, with temperatures ranging from -9\\\\u00b0C to -8\\\\u00b0C. Expect passing clouds and a moderate wind blowing from the west to east, with gusts reaching up to 17 km\\\\/h. The humidity will be around 53%.\",\"Morning\":\"Morning on March 30th will see temperatures rise slightly, ranging from -10\\\\u00b0C to -2\\\\u00b0C. The weather will be mostly passing clouds, with a moderate wind blowing from the southwest to northeast, gusting up to 19 km\\\\/h. The humidity will be around 40%.\",\"Afternoon\":\"Afternoon on March 30th will be partly sunny, with temperatures ranging from 1\\\\u00b0C to 4\\\\u00b0C. Expect a moderate wind blowing from the west to east, with gusts reaching up to 28 km\\\\/h. The humidity will be relatively low, around 24%.\",\"Evening\":\"Evening on March 30th will see temperatures drop slightly, ranging from 1\\\\u00b0C to 2\\\\u00b0C. The weather will be mostly passing clouds, with a moderate wind blowing from the west to east, gusting up to 26 km\\\\/h. The humidity will be around 32%.\",\"time\":\"20210330000000\",\"note\":\"\"}',\n",
       "   '{\"daily\":\"It\\'s going to be a chilly day with a mix of passing clouds and scattered clouds. Temperatures will fluctuate between -3\\\\u00b0C and 12\\\\u00b0C. Expect a moderate wind blowing from the west to east, with gusts reaching up to 41 km\\\\/h. Humidity will range from 21% to 55%. Be prepared for a partly sunny to cloudy day with a slight chance of scattered showers in the late afternoon.\",\"Early Morning\":\"Early morning will be partly sunny with a temperature range of -3\\\\u00b0C to 3\\\\u00b0C. Expect a moderate wind blowing from the south to north, with gusts reaching up to 15 km\\\\/h. Humidity will be around 55%.\",\"Morning\":\"Morning will be mostly cloudy with a temperature range of 6\\\\u00b0C to 9\\\\u00b0C. Expect a moderate wind blowing from the west to east, with gusts reaching up to 32 km\\\\/h. Humidity will be around 25%.\",\"Afternoon\":\"Afternoon will be partly sunny to cloudy with a temperature range of 9\\\\u00b0C to 12\\\\u00b0C. Expect a moderate wind blowing from the west to east, with gusts reaching up to 28 km\\\\/h. Humidity will be around 22%.\",\"Evening\":\"Evening will be partly cloudy with a temperature range of 7\\\\u00b0C to 10\\\\u00b0C. Expect a gentle wind blowing from the southwest to northeast, with gusts reaching up to 9 km\\\\/h. Humidity will be around 29%.\",\"time\":\"20210331000000\",\"note\":\"\"}',\n",
       "   '{\"daily\":\"It\\'s going to be a chilly April day with a mix of passing clouds and broken clouds. Expect a temperature trend of warming up in the morning and cooling down in the evening. There might be a sudden shower in the late afternoon. Overall, it\\'s a great day to enjoy the outdoors with a light jacket.\",\"Early Morning\":\"Early morning will be quite chilly with a temperature around 2-3\\\\u00b0C. Expect passing clouds with a gentle breeze. It\\'s a great time to get some fresh air and enjoy the morning.\",\"Morning\":\"Morning will see a slight warming up with temperatures reaching around 10-12\\\\u00b0C. The sky will be partly sunny with a gentle breeze. It\\'s a perfect time to get out and about.\",\"Afternoon\":\"Afternoon will be quite windy with gusts reaching up to 50 km\\\\/h. Temperatures will be around 14-16\\\\u00b0C. Expect passing clouds with a chance of sudden showers. It\\'s a good idea to carry an umbrella.\",\"Evening\":\"Evening will see a cooling down with temperatures dropping to around 8-10\\\\u00b0C. Expect passing clouds with a gentle breeze. It\\'s a great time to relax and unwind.\",\"time\":\"20210401000000\",\"note\":\"\"}']),\n",
       " (['20210401000000', '20210402000000'],\n",
       "  'This dataset contains the solar power generation data of 16 solar panels in Calgary, Alberta, Canada. The data is collected hourly. ',\n",
       "  'The solar panel is located at Calgary Fire Hall Headquarters.',\n",
       "  ['{\"daily\":\"It\\'s going to be a chilly April day with a mix of passing clouds and broken clouds. Expect a temperature trend of warming up in the morning and cooling down in the evening. There might be a sudden shower in the late afternoon. Overall, it\\'s a great day to enjoy the outdoors with a light jacket.\",\"Early Morning\":\"Early morning will be quite chilly with a temperature around 2-3\\\\u00b0C. Expect passing clouds with a gentle breeze. It\\'s a great time to get some fresh air and enjoy the morning.\",\"Morning\":\"Morning will see a slight warming up with temperatures reaching around 10-12\\\\u00b0C. The sky will be partly sunny with a gentle breeze. It\\'s a perfect time to get out and about.\",\"Afternoon\":\"Afternoon will be quite windy with gusts reaching up to 50 km\\\\/h. Temperatures will be around 14-16\\\\u00b0C. Expect passing clouds with a chance of sudden showers. It\\'s a good idea to carry an umbrella.\",\"Evening\":\"Evening will see a cooling down with temperatures dropping to around 8-10\\\\u00b0C. Expect passing clouds with a gentle breeze. It\\'s a great time to relax and unwind.\",\"time\":\"20210401000000\",\"note\":\"\"}',\n",
       "   '{\"daily\":\"It\\'s going to be a chilly April day with a mix of passing clouds and clear skies. Temperatures will be quite low, ranging from -2 to 12 degrees Celsius. Expect a gentle breeze with wind speeds around 9-32 km\\\\/h. As the day progresses, the temperature will rise, and the wind will pick up. Be prepared for a partly sunny afternoon with scattered clouds. Overnight, the temperature will drop, and the skies will clear up.\",\"Early Morning\":\"Early morning will be quite chilly with temperatures around 0-3\\\\u00b0C. Expect passing clouds with a gentle breeze of 9 km\\\\/h. It\\'s a good idea to bundle up!\",\"Morning\":\"Morning will see a slight rise in temperature to around 5-6\\\\u00b0C. The skies will be partly cloudy with a moderate breeze of 13 km\\\\/h. It\\'s a great time to get some fresh air!\",\"Afternoon\":\"Afternoon will be partly sunny with scattered clouds and a temperature range of 8-12\\\\u00b0C. Expect a moderate breeze of 20 km\\\\/h. It\\'s a perfect time for outdoor activities!\",\"Evening\":\"Evening will see a slight drop in temperature to around 1-4\\\\u00b0C. The skies will clear up with a gentle breeze of 6 km\\\\/h. It\\'s a great time to relax and enjoy the evening!\",\"time\":\"20210402000000\",\"note\":\"\"}']))"
      ]
     },
     "execution_count": 90,
     "metadata": {},
     "output_type": "execute_result"
    }
   ],
   "source": [
    "seta[2000]"
   ]
  },
  {
   "cell_type": "code",
   "execution_count": 9,
   "metadata": {},
   "outputs": [
    {
     "data": {
      "text/plain": [
       "array([20210401080000, 20210401090000, 20210401100000, 20210401110000,\n",
       "       20210401120000, 20210401130000, 20210401140000, 20210401150000,\n",
       "       20210401160000, 20210401170000, 20210401180000, 20210401190000,\n",
       "       20210401200000, 20210401210000, 20210401220000, 20210401230000,\n",
       "       20210402000000, 20210402010000, 20210402020000, 20210402030000,\n",
       "       20210402040000, 20210402050000, 20210402060000, 20210402070000])"
      ]
     },
     "execution_count": 9,
     "metadata": {},
     "output_type": "execute_result"
    }
   ],
   "source": [
    "seta[2000][3]"
   ]
  },
  {
   "cell_type": "markdown",
   "metadata": {},
   "source": [
    "## try with openai API"
   ]
  },
  {
   "cell_type": "code",
   "execution_count": null,
   "metadata": {},
   "outputs": [],
   "source": [
    "# ts_x, ts_y, tm_x, tm_y, (dy_tm_x, general, channel, [dy_x]), (dy_tm_y, general, channel, [dy_y])"
   ]
  },
  {
   "cell_type": "code",
   "execution_count": 10,
   "metadata": {},
   "outputs": [],
   "source": [
    "import openai"
   ]
  },
  {
   "cell_type": "code",
   "execution_count": 11,
   "metadata": {},
   "outputs": [],
   "source": [
    "openai.base_url = 'http://localhost:8021/v1/'\n",
    "openai.api_key = 'EMPTY'"
   ]
  },
  {
   "cell_type": "code",
   "execution_count": 94,
   "metadata": {},
   "outputs": [],
   "source": [
    "system_prompt = \"You are a professonal data analyst. You can do the forecasting by considering the historical reading time series along with weather condition and make the prediction for the next 24 hours. \" + seta[2000][4][1] + \"Please directly do the forecasting without any further external tools such as coding. You can consider the periodicity, trend, and seasonality of the data. Then consider the affect of weather condition to further refine your prediction. \"\n"
   ]
  },
  {
   "cell_type": "code",
   "execution_count": 91,
   "metadata": {},
   "outputs": [
    {
     "data": {
      "text/plain": [
       "'The solar panel is located at Calgary Fire Hall Headquarters.'"
      ]
     },
     "execution_count": 91,
     "metadata": {},
     "output_type": "execute_result"
    }
   ],
   "source": [
    "x_ts = seta[2000][0].squeeze().tolist()\n",
    "x_timestamp = seta[2000][2].tolist()\n",
    "x_table = [(x_timestamp[i], x_ts[i]) for i in range(len(x_ts))]\n",
    "\n",
    "x_dy = seta[2000][4][-1]\n",
    "x_dy_timestamp = seta[2000][4][0]\n",
    "x_dy_table = [(x_dy_timestamp[i], x_dy[i]) for i in range(len(x_dy))]\n",
    "\n",
    "channel_info = seta[2000][4][2]\n",
    "channel_info"
   ]
  },
  {
   "cell_type": "code",
   "execution_count": 92,
   "metadata": {},
   "outputs": [
    {
     "data": {
      "text/plain": [
       "[('20210401000000',\n",
       "  '{\"daily\":\"It\\'s going to be a chilly April day with a mix of passing clouds and broken clouds. Expect a temperature trend of warming up in the morning and cooling down in the evening. There might be a sudden shower in the late afternoon. Overall, it\\'s a great day to enjoy the outdoors with a light jacket.\",\"Early Morning\":\"Early morning will be quite chilly with a temperature around 2-3\\\\u00b0C. Expect passing clouds with a gentle breeze. It\\'s a great time to get some fresh air and enjoy the morning.\",\"Morning\":\"Morning will see a slight warming up with temperatures reaching around 10-12\\\\u00b0C. The sky will be partly sunny with a gentle breeze. It\\'s a perfect time to get out and about.\",\"Afternoon\":\"Afternoon will be quite windy with gusts reaching up to 50 km\\\\/h. Temperatures will be around 14-16\\\\u00b0C. Expect passing clouds with a chance of sudden showers. It\\'s a good idea to carry an umbrella.\",\"Evening\":\"Evening will see a cooling down with temperatures dropping to around 8-10\\\\u00b0C. Expect passing clouds with a gentle breeze. It\\'s a great time to relax and unwind.\",\"time\":\"20210401000000\",\"note\":\"\"}'),\n",
       " ('20210402000000',\n",
       "  '{\"daily\":\"It\\'s going to be a chilly April day with a mix of passing clouds and clear skies. Temperatures will be quite low, ranging from -2 to 12 degrees Celsius. Expect a gentle breeze with wind speeds around 9-32 km\\\\/h. As the day progresses, the temperature will rise, and the wind will pick up. Be prepared for a partly sunny afternoon with scattered clouds. Overnight, the temperature will drop, and the skies will clear up.\",\"Early Morning\":\"Early morning will be quite chilly with temperatures around 0-3\\\\u00b0C. Expect passing clouds with a gentle breeze of 9 km\\\\/h. It\\'s a good idea to bundle up!\",\"Morning\":\"Morning will see a slight rise in temperature to around 5-6\\\\u00b0C. The skies will be partly cloudy with a moderate breeze of 13 km\\\\/h. It\\'s a great time to get some fresh air!\",\"Afternoon\":\"Afternoon will be partly sunny with scattered clouds and a temperature range of 8-12\\\\u00b0C. Expect a moderate breeze of 20 km\\\\/h. It\\'s a perfect time for outdoor activities!\",\"Evening\":\"Evening will see a slight drop in temperature to around 1-4\\\\u00b0C. The skies will clear up with a gentle breeze of 6 km\\\\/h. It\\'s a great time to relax and enjoy the evening!\",\"time\":\"20210402000000\",\"note\":\"\"}')]"
      ]
     },
     "execution_count": 92,
     "metadata": {},
     "output_type": "execute_result"
    }
   ],
   "source": [
    "y_ts = seta[2000][1].squeeze().tolist()\n",
    "y_timestamp = seta[2000][3].tolist()\n",
    "\n",
    "y_dy = seta[2000][5][-1]\n",
    "y_dy_timestamp = seta[2000][5][0]\n",
    "y_dy_table = [(y_dy_timestamp[i], y_dy[i]) for i in range(len(y_dy))]\n",
    "y_dy_table"
   ]
  },
  {
   "cell_type": "code",
   "execution_count": 93,
   "metadata": {},
   "outputs": [],
   "source": [
    "user_prompt = f'''\n",
    "\n",
    "We now have the data from {channel_info}. The historical data is as follows:\n",
    "\n",
    "{x_table}\n",
    "\n",
    "The historical weather condition is as follows:\n",
    "\n",
    "{x_dy_table}\n",
    "\n",
    "We now have the weather forecasting for the following days:\n",
    "\n",
    "{y_dy_table}\n",
    "\n",
    "Please make the prediction for the next 24 hours.\n",
    "\n",
    "The timestamp for forecasting is as follows:\n",
    "\n",
    "{y_timestamp}\n",
    "\n",
    "Please format it in json format in [datastamp, value] pair, as below:\n",
    "\n",
    "```json\n",
    "\n",
    "[[<timestamp>, <predicted_value>],\n",
    " [<timestamp>, <predicted_value>],\n",
    " ...]\n",
    "\n",
    "```\n",
    "'''"
   ]
  },
  {
   "cell_type": "code",
   "execution_count": 95,
   "metadata": {},
   "outputs": [],
   "source": [
    "messages = [\n",
    "    {'role': 'system', 'content': system_prompt},\n",
    "    {'role': 'user', 'content': user_prompt}\n",
    "]"
   ]
  },
  {
   "cell_type": "code",
   "execution_count": 96,
   "metadata": {},
   "outputs": [
    {
     "data": {
      "text/plain": [
       "['Qwen/Qwen2.5-14B-Instruct',\n",
       " 'deepseek-ai/DeepSeek-R1-Distill-Qwen-14B',\n",
       " 'meta-llama/Llama-3.1-8B-Instruct']"
      ]
     },
     "execution_count": 96,
     "metadata": {},
     "output_type": "execute_result"
    }
   ],
   "source": [
    "avaliable_models = openai.models.list()\n",
    "avaliable_models = [model.id for model in avaliable_models.data]\n",
    "avaliable_models"
   ]
  },
  {
   "cell_type": "code",
   "execution_count": 72,
   "metadata": {},
   "outputs": [],
   "source": [
    "import re"
   ]
  },
  {
   "cell_type": "code",
   "execution_count": 73,
   "metadata": {},
   "outputs": [],
   "source": [
    "def extract_result(result):\n",
    "    pattern = r'```json(.*?)```'\n",
    "    result = re.search(pattern, result, re.DOTALL)\n",
    "    pred = json.loads(result.group(1))\n",
    "\n",
    "    return pred"
   ]
  },
  {
   "cell_type": "code",
   "execution_count": 99,
   "metadata": {},
   "outputs": [],
   "source": [
    "# do multi processing\n",
    "import multiprocessing\n",
    "\n",
    "def call_openai(model_id, messages):\n",
    "    temp = 0.2\n",
    "    if 'DeepSeek' in model_id:\n",
    "        messages[1]['content']=messages[0]['content']+messages[1]['content']\n",
    "        messages[0]['content']=''\n",
    "        temp = 0.6\n",
    "    response = openai.chat.completions.create(\n",
    "        model=model_id,\n",
    "        messages=messages,\n",
    "        temperature=temp,\n",
    "    )\n",
    "    extracted = extract_result(response.choices[0].message.content)\n",
    "    return extracted, response.choices[0].message.content, model_id\n",
    "    # return response.choices[0].message.content\n",
    "\n",
    "pool = multiprocessing.Pool(processes=4)\n",
    "results = pool.starmap(call_openai, [(model_id, messages) for model_id in avaliable_models])"
   ]
  },
  {
   "cell_type": "code",
   "execution_count": 102,
   "metadata": {},
   "outputs": [
    {
     "data": {
      "text/plain": [
       "[([['20210401080000', 0.164],\n",
       "   ['20210401090000', 1.504],\n",
       "   ['20210401100000', 3.929],\n",
       "   ['20210401110000', 6.343],\n",
       "   ['20210401120000', 8.661],\n",
       "   ['20210401130000', 13.408],\n",
       "   ['20210401140000', 14.59],\n",
       "   ['20210401150000', 14.38],\n",
       "   ['20210401160000', 11.317],\n",
       "   ['20210401170000', 8.285],\n",
       "   ['20210401180000', 2.892],\n",
       "   ['20210401190000', 3.385],\n",
       "   ['20210401200000', 0.608],\n",
       "   ['20210401210000', 0.0],\n",
       "   ['20210401220000', 0.0],\n",
       "   ['20210401230000', 0.0],\n",
       "   ['20210402000000', 0.0],\n",
       "   ['20210402010000', 0.0],\n",
       "   ['20210402020000', 0.0],\n",
       "   ['20210402030000', 0.0],\n",
       "   ['20210402040000', 0.0],\n",
       "   ['20210402050000', 0.0],\n",
       "   ['20210402060000', 0.0],\n",
       "   ['20210402070000', 0.0]],\n",
       "  'To make the prediction for the next 24 hours, we need to consider the historical solar power generation data and the weather conditions. The historical data shows a clear pattern of solar generation peaking during the day and dropping to zero during the night. The weather conditions will also influence the solar generation, particularly the cloud cover and temperature.\\n\\nGiven the weather forecast for April 1st, 2021, the day will start chilly with passing clouds and a gentle breeze, warming up to a partly sunny afternoon with scattered clouds and a chance of sudden showers. The evening will see a cooling down with passing clouds and a gentle breeze.\\n\\nBased on this information, we can predict the solar generation for the next 24 hours. Here is the forecasted data in JSON format:\\n\\n```json\\n[\\n  [\"20210401080000\", 0.164],\\n  [\"20210401090000\", 1.504],\\n  [\"20210401100000\", 3.929],\\n  [\"20210401110000\", 6.343],\\n  [\"20210401120000\", 8.661],\\n  [\"20210401130000\", 13.408],\\n  [\"20210401140000\", 14.59],\\n  [\"20210401150000\", 14.38],\\n  [\"20210401160000\", 11.317],\\n  [\"20210401170000\", 8.285],\\n  [\"20210401180000\", 2.892],\\n  [\"20210401190000\", 3.385],\\n  [\"20210401200000\", 0.608],\\n  [\"20210401210000\", 0.0],\\n  [\"20210401220000\", 0.0],\\n  [\"20210401230000\", 0.0],\\n  [\"20210402000000\", 0.0],\\n  [\"20210402010000\", 0.0],\\n  [\"20210402020000\", 0.0],\\n  [\"20210402030000\", 0.0],\\n  [\"20210402040000\", 0.0],\\n  [\"20210402050000\", 0.0],\\n  [\"20210402060000\", 0.0],\\n  [\"20210402070000\", 0.0]\\n]\\n```\\n\\nThis forecast takes into account the historical pattern of solar generation and the expected weather conditions for the day. The solar generation is expected to peak in the afternoon and drop to zero during the night.',\n",
       "  'Qwen/Qwen2.5-14B-Instruct'),\n",
       " ([['20210401080000', 0.2],\n",
       "   ['20210401090000', 0.4],\n",
       "   ['20210401100000', 1.2],\n",
       "   ['20210401110000', 2.5],\n",
       "   ['20210401120000', 4.0],\n",
       "   ['20210401130000', 5.5],\n",
       "   ['20210401140000', 6.0],\n",
       "   ['20210401150000', 6.5],\n",
       "   ['20210401160000', 5.8],\n",
       "   ['20210401170000', 4.2],\n",
       "   ['20210401180000', 2.8],\n",
       "   ['20210401190000', 1.5],\n",
       "   ['20210401200000', 0.8],\n",
       "   ['20210401210000', 0.4],\n",
       "   ['20210401220000', 0.2],\n",
       "   ['20210401230000', 0.1],\n",
       "   ['20210402000000', 0.0],\n",
       "   ['20210402010000', 0.0],\n",
       "   ['20210402020000', 0.0],\n",
       "   ['20210402030000', 0.0],\n",
       "   ['20210402040000', 0.0],\n",
       "   ['20210402050000', 0.0],\n",
       "   ['20210402060000', 0.0],\n",
       "   ['20210402070000', 0.0]],\n",
       "  'Alright, let\\'s tackle this solar power forecasting problem. So, the user has provided historical solar generation data for 16 solar panels in Calgary, Alberta, Canada, along with corresponding weather conditions. They want me to forecast the next 24 hours without using any external tools, which means I\\'ll have to rely on pattern recognition and simple analytical methods.\\n\\nFirst, I\\'ll look at the historical data. The timestamps go from March 25, 2021, to April 1, 2021. Each entry has a timestamp and the solar generation value. I notice that the generation starts at 0.0, peaks around midday, and then drops back to 0.0 in the evening. This suggests a clear diurnal pattern where solar panels generate more power during daylight hours, with peak production around noon.\\n\\nLooking at the weather data, it\\'s a mix of different conditions. Some days are snowy, others have ice fog, and some are partly sunny. The weather descriptions also include temperature ranges and wind speeds. For instance, on March 25, it was cold and snowy, leading to very low solar generation. In contrast, on March 28, the weather was partly sunny, which resulted in higher solar output.\\n\\nNow, focusing on the weather forecast for April 1 and April 2. April 1 is described as a chilly day with a mix of passing clouds and broken clouds. The temperature will warm up in the morning and cool down in the evening, with a chance of sudden showers in the afternoon. April 2 is also chilly, starting with cold early mornings and warming up slightly, with clear skies and partly cloudy periods.\\n\\nGiven this, I can infer that solar generation will be influenced by cloud cover and precipitation. On April 1, the presence of passing clouds and potential showers might reduce solar output, especially during the afternoon when generation is typically highest. On April 2, with more clear skies, I expect higher solar generation compared to April 1.\\n\\nI\\'ll also consider the time of year. Calgary in early April still has relatively short daylight hours, and the sun\\'s angle is lower, which might affect the efficiency of the panels. However, as the month progresses, daylight hours will increase, which could lead to higher generation if weather conditions improve.\\n\\nLooking at the historical data, the peak generation was around 14.59 on March 30. On April 1 and 2, given the forecast, the peak might be slightly lower due to clouds but should still be around 12-14. I\\'ll spread the generation values, ensuring they align with the typical diurnal pattern, starting low in the morning, peaking around noon, and dropping in the evening.\\n\\nI\\'ll also check for any anomalies or trends in the historical data. For example, on March 29, the generation was lower, possibly due to overcast conditions. This suggests that overcast days have lower generation, which aligns with the weather data provided.\\n\\nFinally, I\\'ll structure the forecast, ensuring that each hour\\'s prediction reflects the expected weather conditions and the typical solar generation pattern. I\\'ll make sure the values are reasonable and consistent with the historical data, adjusting based on the forecasted cloud cover and precipitation.\\n</think>\\n\\n```json\\n[\\n    [ \"20210401080000\", 0.2 ],\\n    [ \"20210401090000\", 0.4 ],\\n    [ \"20210401100000\", 1.2 ],\\n    [ \"20210401110000\", 2.5 ],\\n    [ \"20210401120000\", 4.0 ],\\n    [ \"20210401130000\", 5.5 ],\\n    [ \"20210401140000\", 6.0 ],\\n    [ \"20210401150000\", 6.5 ],\\n    [ \"20210401160000\", 5.8 ],\\n    [ \"20210401170000\", 4.2 ],\\n    [ \"20210401180000\", 2.8 ],\\n    [ \"20210401190000\", 1.5 ],\\n    [ \"20210401200000\", 0.8 ],\\n    [ \"20210401210000\", 0.4 ],\\n    [ \"20210401220000\", 0.2 ],\\n    [ \"20210401230000\", 0.1 ],\\n    [ \"20210402000000\", 0.0 ],\\n    [ \"20210402010000\", 0.0 ],\\n    [ \"20210402020000\", 0.0 ],\\n    [ \"20210402030000\", 0.0 ],\\n    [ \"20210402040000\", 0.0 ],\\n    [ \"20210402050000\", 0.0 ],\\n    [ \"20210402060000\", 0.0 ],\\n    [ \"20210402070000\", 0.0 ]\\n]\\n```',\n",
       "  'deepseek-ai/DeepSeek-R1-Distill-Qwen-14B'),\n",
       " ([[20210401080000, 0.0],\n",
       "   [20210401090000, 0.0],\n",
       "   [20210401100000, 0.0],\n",
       "   [20210401110000, 0.0],\n",
       "   [20210401120000, 0.0],\n",
       "   [20210401130000, 0.0],\n",
       "   [20210401140000, 0.0],\n",
       "   [20210401150000, 0.0],\n",
       "   [20210401160000, 0.0],\n",
       "   [20210401170000, 0.0],\n",
       "   [20210401180000, 0.0],\n",
       "   [20210401190000, 0.0],\n",
       "   [20210401200000, 0.0],\n",
       "   [20210401210000, 0.0],\n",
       "   [20210401220000, 0.0],\n",
       "   [20210401230000, 0.0],\n",
       "   [20210402000000, 0.0],\n",
       "   [20210402010000, 0.0],\n",
       "   [20210402020000, 0.0],\n",
       "   [20210402030000, 0.0],\n",
       "   [20210402040000, 0.0],\n",
       "   [20210402050000, 0.0],\n",
       "   [20210402060000, 0.0],\n",
       "   [20210402070000, 0.0]],\n",
       "  ' \\nBased on the historical data and weather forecasting, I predict the solar power generation for the next 24 hours as follows:\\n\\n```json\\n[[20210401080000, 0.0],\\n [20210401090000, 0.0],\\n [20210401100000, 0.0],\\n [20210401110000, 0.0],\\n [20210401120000, 0.0],\\n [20210401130000, 0.0],\\n [20210401140000, 0.0],\\n [20210401150000, 0.0],\\n [20210401160000, 0.0],\\n [20210401170000, 0.0],\\n [20210401180000, 0.0],\\n [20210401190000, 0.0],\\n [20210401200000, 0.0],\\n [20210401210000, 0.0],\\n [20210401220000, 0.0],\\n [20210401230000, 0.0],\\n [20210402000000, 0.0],\\n [20210402010000, 0.0],\\n [20210402020000, 0.0],\\n [20210402030000, 0.0],\\n [20210402040000, 0.0],\\n [20210402050000, 0.0],\\n [20210402060000, 0.0],\\n [20210402070000, 0.0]]\\n```\\n\\nThe prediction is based on the historical data, which shows that the solar power generation is typically low during the early morning hours and increases as the day progresses. However, considering the weather forecasting, which indicates a chilly April day with a mix of passing clouds and broken clouds, I have taken into account the potential impact of cloud cover on solar power generation. As a result, I have predicted a low solar power generation for the next 24 hours. Please note that this is a prediction based on historical data and weather forecasting, and actual solar power generation may vary. ',\n",
       "  'meta-llama/Llama-3.1-8B-Instruct')]"
      ]
     },
     "execution_count": 102,
     "metadata": {},
     "output_type": "execute_result"
    }
   ],
   "source": [
    "results"
   ]
  },
  {
   "cell_type": "code",
   "execution_count": 61,
   "metadata": {},
   "outputs": [],
   "source": [
    "import matplotlib.pyplot as plt"
   ]
  },
  {
   "cell_type": "code",
   "execution_count": 105,
   "metadata": {},
   "outputs": [
    {
     "data": {
      "image/png": "[encoded data removed]",
      "text/plain": [
       "<Figure size 1000x500 with 1 Axes>"
      ]
     },
     "metadata": {},
     "output_type": "display_data"
    }
   ],
   "source": [
    "%matplotlib inline\n",
    "\n",
    "plt.figure(figsize=(10, 5))\n",
    "\n",
    "plt.plot(np.arange(len(x_ts)), x_ts, label='True')\n",
    "\n",
    "plt.plot(np.arange(len(x_ts), len(x_ts)+len(y_ts)), y_ts, label='True')\n",
    "\n",
    "for result in results:\n",
    "    pred = result[0][:24]\n",
    "    model_id = result[2]\n",
    "    plt.plot(np.arange(len(x_ts), len(x_ts)+len(y_ts)), [x[1] for x in pred], label=model_id)\n",
    "\n",
    "\n",
    "\n",
    "\n",
    "\n",
    "plt.legend()\n",
    "\n",
    "plt.show()\n"
   ]
  },
  {
   "cell_type": "code",
   "execution_count": 98,
   "metadata": {},
   "outputs": [
    {
     "data": {
      "text/plain": [
       "'\\n\\nWe now have the data from The solar panel is located at Calgary Fire Hall Headquarters.. The historical data is as follows:\\n\\n[(20210325080000, 0.0), (20210325090000, 0.0), (20210325100000, 0.043), (20210325110000, 0.145), (20210325120000, 0.118), (20210325130000, 0.307), (20210325140000, 0.286), (20210325150000, 0.354), (20210325160000, 0.118), (20210325170000, 0.003), (20210325180000, 0.0), (20210325190000, 0.0), (20210325200000, 0.0), (20210325210000, 0.0), (20210325220000, 0.0), (20210325230000, 0.0), (20210326000000, 0.0), (20210326010000, 0.0), (20210326020000, 0.0), (20210326030000, 0.0), (20210326040000, 0.0), (20210326050000, 0.0), (20210326060000, 0.0), (20210326070000, 0.0), (20210326080000, 0.0), (20210326090000, 0.0), (20210326100000, 0.032), (20210326110000, 0.457), (20210326120000, 1.448), (20210326130000, 1.681), (20210326140000, 2.697), (20210326150000, 2.321), (20210326160000, 2.547), (20210326170000, 2.752), (20210326180000, 1.87), (20210326190000, 0.216), (20210326200000, 0.0), (20210326210000, 0.0), (20210326220000, 0.0), (20210326230000, 0.0), (20210327000000, 0.0), (20210327010000, 0.0), (20210327020000, 0.0), (20210327030000, 0.0), (20210327040000, 0.0), (20210327050000, 0.0), (20210327060000, 0.0), (20210327070000, 0.023), (20210327080000, 1.151), (20210327090000, 3.316), (20210327100000, 5.531), (20210327110000, 8.038), (20210327120000, 13.042), (20210327130000, 12.176), (20210327140000, 11.183), (20210327150000, 8.851), (20210327160000, 8.903), (20210327170000, 4.099), (20210327180000, 1.123), (20210327190000, 0.249), (20210327200000, 0.0), (20210327210000, 0.0), (20210327220000, 0.0), (20210327230000, 0.0), (20210328000000, 0.0), (20210328010000, 0.0), (20210328020000, 0.0), (20210328030000, 0.0), (20210328040000, 0.0), (20210328050000, 0.0), (20210328060000, 0.0), (20210328070000, 0.026), (20210328080000, 0.491), (20210328090000, 2.309), (20210328100000, 5.553), (20210328110000, 8.179), (20210328120000, 12.731), (20210328130000, 14.266), (20210328140000, 14.156), (20210328150000, 12.798), (20210328160000, 7.915), (20210328170000, 3.254), (20210328180000, 1.602), (20210328190000, 0.168), (20210328200000, 0.0), (20210328210000, 0.0), (20210328220000, 0.0), (20210328230000, 0.0), (20210329000000, 0.0), (20210329010000, 0.0), (20210329020000, 0.0), (20210329030000, 0.0), (20210329040000, 0.0), (20210329050000, 0.0), (20210329060000, 0.0), (20210329070000, 0.005), (20210329080000, 0.299), (20210329090000, 2.048), (20210329100000, 4.964), (20210329110000, 6.94), (20210329120000, 11.863), (20210329130000, 14.053), (20210329140000, 13.987), (20210329150000, 13.494), (20210329160000, 11.36), (20210329170000, 7.982), (20210329180000, 3.843), (20210329190000, 0.529), (20210329200000, 0.0), (20210329210000, 0.0), (20210329220000, 0.0), (20210329230000, 0.0), (20210330000000, 0.0), (20210330010000, 0.0), (20210330020000, 0.0), (20210330030000, 0.0), (20210330040000, 0.0), (20210330050000, 0.0), (20210330060000, 0.0), (20210330070000, 0.125), (20210330080000, 1.504), (20210330090000, 3.929), (20210330100000, 6.343), (20210330110000, 8.661), (20210330120000, 13.408), (20210330130000, 14.59), (20210330140000, 14.38), (20210330150000, 11.317), (20210330160000, 8.285), (20210330170000, 2.892), (20210330180000, 3.385), (20210330190000, 0.608), (20210330200000, 0.0), (20210330210000, 0.0), (20210330220000, 0.0), (20210330230000, 0.0), (20210331000000, 0.0), (20210331010000, 0.0), (20210331020000, 0.0), (20210331030000, 0.0), (20210331040000, 0.0), (20210331050000, 0.0), (20210331060000, 0.0), (20210331070000, 0.153), (20210331080000, 1.764), (20210331090000, 3.918), (20210331100000, 6.249), (20210331110000, 8.578), (20210331120000, 13.493), (20210331130000, 14.533), (20210331140000, 14.323), (20210331150000, 12.963), (20210331160000, 10.707), (20210331170000, 7.495), (20210331180000, 2.11), (20210331190000, 0.238), (20210331200000, 0.0), (20210331210000, 0.0), (20210331220000, 0.0), (20210331230000, 0.0), (20210401000000, 0.0), (20210401010000, 0.0), (20210401020000, 0.0), (20210401030000, 0.0), (20210401040000, 0.0), (20210401050000, 0.0), (20210401060000, 0.0), (20210401070000, 0.164)]\\n\\nThe historical weather condition is as follows:\\n\\n[(\\'20210325000000\\', \\'{\"daily\":\"It\\\\\\'s going to be a cold and snowy day on March 25th. Expect light snow and low clouds throughout the day, with a temperature trend of dropping to -5\\\\\\\\u00b0C by the evening. Be prepared for icy roads and reduced visibility. The wind will be blowing from the north at a moderate speed, and the humidity will be high, around 93%. As the day progresses, the snow flurries will become more frequent, and the temperature will continue to drop. It\\\\\\'s a good idea to stay indoors and avoid traveling unless necessary.\",\"Early Morning\":\"Early morning on March 25th will be quite chilly, with a temperature of around -1\\\\\\\\u00b0C. Expect light snow and low clouds, with a moderate wind blowing from the north. The humidity will be high, around 93%, and the visibility will be reduced due to the snow. It\\\\\\'s a good idea to bundle up and stay indoors.\",\"Morning\":\"Morning on March 25th will be similar to the early morning, with light snow and low clouds. The temperature will drop to around -2\\\\\\\\u00b0C, and the wind will continue to blow from the north. The humidity will remain high, around 93%, and the visibility will be reduced. It\\\\\\'s still a good idea to stay indoors and avoid traveling unless necessary.\",\"Afternoon\":\"Afternoon on March 25th will see a slight improvement in the weather, with the snow flurries becoming more frequent. The temperature will drop to around -5\\\\\\\\u00b0C, and the wind will continue to blow from the north. The humidity will remain high, around 93%, and the visibility will be reduced. It\\\\\\'s still a good idea to stay indoors and avoid traveling unless necessary.\",\"Evening\":\"Evening on March 25th will be quite cold, with a temperature of around -5\\\\\\\\u00b0C. Expect light snow and low clouds, with a moderate wind blowing from the north. The humidity will be high, around 93%, and the visibility will be reduced due to the snow. It\\\\\\'s a good idea to stay indoors and avoid traveling unless necessary.\",\"time\":\"20210325000000\",\"note\":\"\"}\\'), (\\'20210326000000\\', \\'{\"daily\":\"It\\\\\\'s going to be a chilly day in March, with a mix of light snow and ice fog. The temperature will fluctuate between -5\\\\\\\\u00b0C and 2\\\\\\\\u00b0C, with a general trend of warming up slightly towards the end of the day. Expect mostly cloudy skies with some scattered clouds and snow flurries. The wind will be moderate to strong, blowing from various directions. It\\\\\\'s a good idea to bundle up and stay warm!\",\"Early Morning\":\"Early morning will be quite chilly, with temperatures around -5\\\\\\\\u00b0C. Expect light snow and ice fog, with moderate winds blowing from the east-southeast. It\\\\\\'s a good idea to dress warmly and stay indoors if possible.\",\"Morning\":\"Morning will see a slight warming trend, with temperatures rising to around -2\\\\\\\\u00b0C. Expect light snow and broken clouds, with moderate winds blowing from the south. It\\\\\\'s a good idea to take a warm drink with you on your way out.\",\"Afternoon\":\"Afternoon will be quite pleasant, with temperatures rising to around 2\\\\\\\\u00b0C. Expect mostly cloudy skies with some scattered clouds and snow flurries. The wind will be moderate to strong, blowing from various directions. It\\\\\\'s a good idea to take a break and enjoy the scenery.\",\"Evening\":\"Evening will see a slight cooling trend, with temperatures dropping to around 0\\\\\\\\u00b0C. Expect light snow and partly cloudy skies, with moderate winds blowing from the east-northeast. It\\\\\\'s a good idea to bundle up and stay warm.\",\"time\":\"20210326000000\",\"note\":\"\"}\\'), (\\'20210327000000\\', \\'{\"daily\":\"It\\\\\\'s going to be a chilly day on March 27th, with ice fog in the early morning and partly sunny skies in the afternoon. Temperatures will be dropping throughout the day, with a low of -3\\\\\\\\u00b0C in the late afternoon. Expect a gentle breeze blowing from the south to north, with wind speeds ranging from 6 to 17 km\\\\\\\\/h. Humidity will be relatively high, around 70-90%, with a slight decrease in the afternoon.\",\"Early Morning\":\"Early morning on March 27th will be quite chilly, with ice fog and temperatures around -2\\\\\\\\u00b0C. Expect a gentle breeze blowing from the south to north, with wind speeds around 11 km\\\\\\\\/h. Humidity will be high, around 93%.\",\"Morning\":\"Morning on March 27th will see a slight improvement in weather, with partly sunny skies and temperatures around 0\\\\\\\\u00b0C. Expect a gentle breeze blowing from the south-southwest to north-northeast, with wind speeds around 15 km\\\\\\\\/h. Humidity will be relatively high, around 75%.\",\"Afternoon\":\"Afternoon on March 27th will be partly sunny, with temperatures around 12\\\\\\\\u00b0C. Expect a gentle breeze blowing from the west to east, with wind speeds around 15 km\\\\\\\\/h. Humidity will be relatively low, around 28-32%.\",\"Evening\":\"Evening on March 27th will see a slight drop in temperature, with partly cloudy skies and temperatures around 9\\\\\\\\u00b0C. Expect a gentle breeze blowing from the southwest to northeast, with wind speeds around 9 km\\\\\\\\/h. Humidity will be relatively high, around 37%.\",\"time\":\"20210327000000\",\"note\":\"\"}\\'), (\\'20210328000000\\', \\'{\"daily\":\"It\\\\\\'s going to be a partly cloudy day with a temperature trend of warming up in the morning and cooling down in the evening. Expect a gentle breeze with a moderate wind speed. There might be some scattered showers in the late afternoon, but overall, it\\\\\\'s going to be a pleasant day.\",\"Early Morning\":\"Early morning will be partly cloudy with a gentle breeze. The temperature will be around 6-9\\\\\\\\u00b0C, and the wind speed will be moderate. Expect a pleasant start to the day.\",\"Morning\":\"In the morning, the weather will be partly sunny with a gentle breeze. The temperature will be around 10-14\\\\\\\\u00b0C, and the wind speed will be moderate. It\\\\\\'s going to be a great day to get out and about.\",\"Afternoon\":\"In the afternoon, the weather will be partly sunny with a gentle breeze. The temperature will be around 10-14\\\\\\\\u00b0C, and the wind speed will be moderate. However, there might be some scattered showers in the late afternoon, so it\\\\\\'s a good idea to carry an umbrella.\",\"Evening\":\"In the evening, the weather will be mostly cloudy with a gentle breeze. The temperature will be around 8-10\\\\\\\\u00b0C, and the wind speed will be moderate. It\\\\\\'s going to be a pleasant end to the day.\",\"time\":\"20210328000000\",\"note\":\"\"}\\'), (\\'20210329000000\\', \\'{\"daily\":\"It\\\\\\'s going to be a cold day tomorrow, March 29th, in the early spring season. Expect light snow and overcast weather throughout the day, with temperatures ranging from -2\\\\\\\\u00b0C to -11\\\\\\\\u00b0C. The wind will be blowing at moderate speeds, and humidity will be relatively high. There might be a slight drop in temperature in the late afternoon, but overall, it will be a chilly day.\",\"Early Morning\":\"Early morning, March 29th, will be quite chilly, with temperatures ranging from -2\\\\\\\\u00b0C to -8\\\\\\\\u00b0C. Expect light snow and overcast weather, with moderate winds blowing at 35-44 km\\\\\\\\/h. It will be a relatively cloudy start to the day.\",\"Morning\":\"Morning, March 29th, will see a continuation of light snow and overcast weather, with temperatures ranging from -2\\\\\\\\u00b0C to -7\\\\\\\\u00b0C. The winds will pick up slightly, blowing at 46-52 km\\\\\\\\/h. It will be a bit more windy than the early morning.\",\"Afternoon\":\"Afternoon, March 29th, will see a slight drop in temperature, ranging from -3\\\\\\\\u00b0C to -8\\\\\\\\u00b0C. Expect passing clouds and moderate winds blowing at 31-46 km\\\\\\\\/h. It will be a bit more sunny than the morning, but still quite chilly.\",\"Evening\":\"Evening, March 29th, will see a continuation of passing clouds and moderate winds blowing at 24-35 km\\\\\\\\/h. Temperatures will range from -4\\\\\\\\u00b0C to -8\\\\\\\\u00b0C. It will be a relatively calm end to the day, with a slight drop in temperature.\",\"time\":\"20210329000000\",\"note\":\"\"}\\'), (\\'20210330000000\\', \\'{\"daily\":\"It\\\\\\'s going to be a chilly day on March 30th, with a mix of passing clouds and scattered clouds. Temperatures will fluctuate between -9\\\\\\\\u00b0C and 4\\\\\\\\u00b0C. Expect a moderate wind blowing from the west to east, with gusts reaching up to 28 km\\\\\\\\/h. The humidity will be relatively low, ranging from 23% to 62%. Overall, it\\\\\\'s a typical spring day with a bit of wind and variable temperatures.\",\"Early Morning\":\"Early morning on March 30th will be quite chilly, with temperatures ranging from -9\\\\\\\\u00b0C to -8\\\\\\\\u00b0C. Expect passing clouds and a moderate wind blowing from the west to east, with gusts reaching up to 17 km\\\\\\\\/h. The humidity will be around 53%.\",\"Morning\":\"Morning on March 30th will see temperatures rise slightly, ranging from -10\\\\\\\\u00b0C to -2\\\\\\\\u00b0C. The weather will be mostly passing clouds, with a moderate wind blowing from the southwest to northeast, gusting up to 19 km\\\\\\\\/h. The humidity will be around 40%.\",\"Afternoon\":\"Afternoon on March 30th will be partly sunny, with temperatures ranging from 1\\\\\\\\u00b0C to 4\\\\\\\\u00b0C. Expect a moderate wind blowing from the west to east, with gusts reaching up to 28 km\\\\\\\\/h. The humidity will be relatively low, around 24%.\",\"Evening\":\"Evening on March 30th will see temperatures drop slightly, ranging from 1\\\\\\\\u00b0C to 2\\\\\\\\u00b0C. The weather will be mostly passing clouds, with a moderate wind blowing from the west to east, gusting up to 26 km\\\\\\\\/h. The humidity will be around 32%.\",\"time\":\"20210330000000\",\"note\":\"\"}\\'), (\\'20210331000000\\', \\'{\"daily\":\"It\\\\\\'s going to be a chilly day with a mix of passing clouds and scattered clouds. Temperatures will fluctuate between -3\\\\\\\\u00b0C and 12\\\\\\\\u00b0C. Expect a moderate wind blowing from the west to east, with gusts reaching up to 41 km\\\\\\\\/h. Humidity will range from 21% to 55%. Be prepared for a partly sunny to cloudy day with a slight chance of scattered showers in the late afternoon.\",\"Early Morning\":\"Early morning will be partly sunny with a temperature range of -3\\\\\\\\u00b0C to 3\\\\\\\\u00b0C. Expect a moderate wind blowing from the south to north, with gusts reaching up to 15 km\\\\\\\\/h. Humidity will be around 55%.\",\"Morning\":\"Morning will be mostly cloudy with a temperature range of 6\\\\\\\\u00b0C to 9\\\\\\\\u00b0C. Expect a moderate wind blowing from the west to east, with gusts reaching up to 32 km\\\\\\\\/h. Humidity will be around 25%.\",\"Afternoon\":\"Afternoon will be partly sunny to cloudy with a temperature range of 9\\\\\\\\u00b0C to 12\\\\\\\\u00b0C. Expect a moderate wind blowing from the west to east, with gusts reaching up to 28 km\\\\\\\\/h. Humidity will be around 22%.\",\"Evening\":\"Evening will be partly cloudy with a temperature range of 7\\\\\\\\u00b0C to 10\\\\\\\\u00b0C. Expect a gentle wind blowing from the southwest to northeast, with gusts reaching up to 9 km\\\\\\\\/h. Humidity will be around 29%.\",\"time\":\"20210331000000\",\"note\":\"\"}\\'), (\\'20210401000000\\', \\'{\"daily\":\"It\\\\\\'s going to be a chilly April day with a mix of passing clouds and broken clouds. Expect a temperature trend of warming up in the morning and cooling down in the evening. There might be a sudden shower in the late afternoon. Overall, it\\\\\\'s a great day to enjoy the outdoors with a light jacket.\",\"Early Morning\":\"Early morning will be quite chilly with a temperature around 2-3\\\\\\\\u00b0C. Expect passing clouds with a gentle breeze. It\\\\\\'s a great time to get some fresh air and enjoy the morning.\",\"Morning\":\"Morning will see a slight warming up with temperatures reaching around 10-12\\\\\\\\u00b0C. The sky will be partly sunny with a gentle breeze. It\\\\\\'s a perfect time to get out and about.\",\"Afternoon\":\"Afternoon will be quite windy with gusts reaching up to 50 km\\\\\\\\/h. Temperatures will be around 14-16\\\\\\\\u00b0C. Expect passing clouds with a chance of sudden showers. It\\\\\\'s a good idea to carry an umbrella.\",\"Evening\":\"Evening will see a cooling down with temperatures dropping to around 8-10\\\\\\\\u00b0C. Expect passing clouds with a gentle breeze. It\\\\\\'s a great time to relax and unwind.\",\"time\":\"20210401000000\",\"note\":\"\"}\\')]\\n\\nWe now have the weather forecasting for the following days:\\n\\n[(\\'20210401000000\\', \\'{\"daily\":\"It\\\\\\'s going to be a chilly April day with a mix of passing clouds and broken clouds. Expect a temperature trend of warming up in the morning and cooling down in the evening. There might be a sudden shower in the late afternoon. Overall, it\\\\\\'s a great day to enjoy the outdoors with a light jacket.\",\"Early Morning\":\"Early morning will be quite chilly with a temperature around 2-3\\\\\\\\u00b0C. Expect passing clouds with a gentle breeze. It\\\\\\'s a great time to get some fresh air and enjoy the morning.\",\"Morning\":\"Morning will see a slight warming up with temperatures reaching around 10-12\\\\\\\\u00b0C. The sky will be partly sunny with a gentle breeze. It\\\\\\'s a perfect time to get out and about.\",\"Afternoon\":\"Afternoon will be quite windy with gusts reaching up to 50 km\\\\\\\\/h. Temperatures will be around 14-16\\\\\\\\u00b0C. Expect passing clouds with a chance of sudden showers. It\\\\\\'s a good idea to carry an umbrella.\",\"Evening\":\"Evening will see a cooling down with temperatures dropping to around 8-10\\\\\\\\u00b0C. Expect passing clouds with a gentle breeze. It\\\\\\'s a great time to relax and unwind.\",\"time\":\"20210401000000\",\"note\":\"\"}\\'), (\\'20210402000000\\', \\'{\"daily\":\"It\\\\\\'s going to be a chilly April day with a mix of passing clouds and clear skies. Temperatures will be quite low, ranging from -2 to 12 degrees Celsius. Expect a gentle breeze with wind speeds around 9-32 km\\\\\\\\/h. As the day progresses, the temperature will rise, and the wind will pick up. Be prepared for a partly sunny afternoon with scattered clouds. Overnight, the temperature will drop, and the skies will clear up.\",\"Early Morning\":\"Early morning will be quite chilly with temperatures around 0-3\\\\\\\\u00b0C. Expect passing clouds with a gentle breeze of 9 km\\\\\\\\/h. It\\\\\\'s a good idea to bundle up!\",\"Morning\":\"Morning will see a slight rise in temperature to around 5-6\\\\\\\\u00b0C. The skies will be partly cloudy with a moderate breeze of 13 km\\\\\\\\/h. It\\\\\\'s a great time to get some fresh air!\",\"Afternoon\":\"Afternoon will be partly sunny with scattered clouds and a temperature range of 8-12\\\\\\\\u00b0C. Expect a moderate breeze of 20 km\\\\\\\\/h. It\\\\\\'s a perfect time for outdoor activities!\",\"Evening\":\"Evening will see a slight drop in temperature to around 1-4\\\\\\\\u00b0C. The skies will clear up with a gentle breeze of 6 km\\\\\\\\/h. It\\\\\\'s a great time to relax and enjoy the evening!\",\"time\":\"20210402000000\",\"note\":\"\"}\\')]\\n\\nPlease make the prediction for the next 24 hours.\\n\\nThe timestamp for forecasting is as follows:\\n\\n[20210401080000, 20210401090000, 20210401100000, 20210401110000, 20210401120000, 20210401130000, 20210401140000, 20210401150000, 20210401160000, 20210401170000, 20210401180000, 20210401190000, 20210401200000, 20210401210000, 20210401220000, 20210401230000, 20210402000000, 20210402010000, 20210402020000, 20210402030000, 20210402040000, 20210402050000, 20210402060000, 20210402070000]\\n\\nPlease format it in json format in [datastamp, value] pair, as below:\\n\\n```json\\n\\n[[<timestamp>, <predicted_value>],\\n [<timestamp>, <predicted_value>],\\n ...]\\n\\n```\\n'"
      ]
     },
     "execution_count": 98,
     "metadata": {},
     "output_type": "execute_result"
    }
   ],
   "source": [
    "user_prompt"
   ]
  }
 ],
 "metadata": {
  "kernelspec": {
   "display_name": "uni2ts",
   "language": "python",
   "name": "python3"
  },
  "language_info": {
   "codemirror_mode": {
    "name": "ipython",
    "version": 3
   },
   "file_extension": ".py",
   "mimetype": "text/x-python",
   "name": "python",
   "nbconvert_exporter": "python",
   "pygments_lexer": "ipython3",
   "version": "3.11.0"
  }
 },
 "nbformat": 4,
 "nbformat_minor": 2
}
