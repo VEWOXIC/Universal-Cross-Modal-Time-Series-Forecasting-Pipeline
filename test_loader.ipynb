{
 "cells": [
  {
   "cell_type": "code",
   "execution_count": 1,
   "metadata": {},
   "outputs": [],
   "source": [
    "import pandas as pd\n",
    "import numpy as np\n",
    "import torch\n",
    "from data_provider.data_factory import Data_Provider\n",
    "import yaml, json\n",
    "from utils.tools import dotdict"
   ]
  },
  {
   "cell_type": "code",
   "execution_count": 2,
   "metadata": {},
   "outputs": [],
   "source": [
    "# load json\n",
    "with open('checkpoints/03-11-0936_FITS_solar_day_ahead/args.json', 'r') as f:\n",
    "    args = json.load(f)\n",
    "args = dotdict(args)"
   ]
  },
  {
   "cell_type": "code",
   "execution_count": 3,
   "metadata": {},
   "outputs": [],
   "source": [
    "# load yaml\n",
    "with open('./data_configs/fullsolar_hetero.yaml') as f:\n",
    "    data_config = yaml.load(f, Loader=yaml.FullLoader)\n",
    "data_config = dotdict(data_config)\n",
    "args.data_config = data_config"
   ]
  },
  {
   "cell_type": "code",
   "execution_count": 4,
   "metadata": {},
   "outputs": [
    {
     "name": "stdout",
     "output_type": "stream",
     "text": [
      "[ info ] Successfully load the dynamic data from fast_general_weather_forecast_????.json\n"
     ]
    }
   ],
   "source": [
    "a=Data_Provider(args, buffer=(not args.disable_buffer))"
   ]
  },
  {
   "cell_type": "code",
   "execution_count": 5,
   "metadata": {},
   "outputs": [
    {
     "name": "stderr",
     "output_type": "stream",
     "text": [
      "Loading val datasets:  11%|█         | 1/9 [00:00<00:03,  2.31it/s]"
     ]
    },
    {
     "name": "stdout",
     "output_type": "stream",
     "text": [
      "Add data /data/Blob_WestJP/v-zhijianxu/Benchmark/fullsolar/impute_data/id_314106.parquet to buffer\n",
      "Add data /data/Blob_WestJP/v-zhijianxu/Benchmark/fullsolar/impute_data/id_319086.parquet to buffer\n"
     ]
    },
    {
     "name": "stderr",
     "output_type": "stream",
     "text": [
      "Loading val datasets:  33%|███▎      | 3/9 [00:00<00:01,  4.19it/s]"
     ]
    },
    {
     "name": "stdout",
     "output_type": "stream",
     "text": [
      "Add data /data/Blob_WestJP/v-zhijianxu/Benchmark/fullsolar/impute_data/id_164440.parquet to buffer\n",
      "Add data /data/Blob_WestJP/v-zhijianxu/Benchmark/fullsolar/impute_data/id_355827.parquet to buffer\n"
     ]
    },
    {
     "name": "stderr",
     "output_type": "stream",
     "text": [
      "Loading val datasets:  56%|█████▌    | 5/9 [00:01<00:00,  4.29it/s]"
     ]
    },
    {
     "name": "stdout",
     "output_type": "stream",
     "text": [
      "Add data /data/Blob_WestJP/v-zhijianxu/Benchmark/fullsolar/impute_data/id_331901.parquet to buffer\n"
     ]
    },
    {
     "name": "stderr",
     "output_type": "stream",
     "text": [
      "Loading val datasets:  67%|██████▋   | 6/9 [00:01<00:00,  4.73it/s]"
     ]
    },
    {
     "name": "stdout",
     "output_type": "stream",
     "text": [
      "Add data /data/Blob_WestJP/v-zhijianxu/Benchmark/fullsolar/impute_data/id_332785.parquet to buffer\n",
      "Add data /data/Blob_WestJP/v-zhijianxu/Benchmark/fullsolar/impute_data/id_577650.parquet to buffer\n"
     ]
    },
    {
     "name": "stderr",
     "output_type": "stream",
     "text": [
      "Loading val datasets:  89%|████████▉ | 8/9 [00:01<00:00,  5.15it/s]"
     ]
    },
    {
     "name": "stdout",
     "output_type": "stream",
     "text": [
      "Add data /data/Blob_WestJP/v-zhijianxu/Benchmark/fullsolar/impute_data/id_551172.parquet to buffer\n",
      "Add data /data/Blob_WestJP/v-zhijianxu/Benchmark/fullsolar/impute_data/id_570079.parquet to buffer\n"
     ]
    },
    {
     "name": "stderr",
     "output_type": "stream",
     "text": [
      "Loading val datasets: 100%|██████████| 9/9 [00:01<00:00,  4.58it/s]\n"
     ]
    }
   ],
   "source": [
    "set = a.get_val('set')"
   ]
  },
  {
   "cell_type": "code",
   "execution_count": 6,
   "metadata": {},
   "outputs": [
    {
     "data": {
      "text/plain": [
       "dict_keys(['314106', '319086', '164440', '355827', '331901', '332785', '577650', '551172', '570079'])"
      ]
     },
     "execution_count": 6,
     "metadata": {},
     "output_type": "execute_result"
    }
   ],
   "source": [
    "set.keys()"
   ]
  },
  {
   "cell_type": "code",
   "execution_count": 7,
   "metadata": {},
   "outputs": [
    {
     "data": {
      "text/plain": [
       "8569"
      ]
     },
     "execution_count": 7,
     "metadata": {},
     "output_type": "execute_result"
    }
   ],
   "source": [
    "seta = set['314106']\n",
    "len(seta)"
   ]
  },
  {
   "cell_type": "code",
   "execution_count": 8,
   "metadata": {},
   "outputs": [
    {
     "data": {
      "text/plain": [
       "(array([[-0.54947427],\n",
       "        [-0.54947427],\n",
       "        [-0.53816769],\n",
       "        [-0.51134742],\n",
       "        [-0.5184469 ],\n",
       "        [-0.46875051],\n",
       "        [-0.47427233],\n",
       "        [-0.45639215],\n",
       "        [-0.5184469 ],\n",
       "        [-0.54868544],\n",
       "        [-0.54947427],\n",
       "        [-0.54947427],\n",
       "        [-0.54947427],\n",
       "        [-0.54947427],\n",
       "        [-0.54947427],\n",
       "        [-0.54947427],\n",
       "        [-0.54947427],\n",
       "        [-0.54947427],\n",
       "        [-0.54947427],\n",
       "        [-0.54947427],\n",
       "        [-0.54947427],\n",
       "        [-0.54947427],\n",
       "        [-0.54947427],\n",
       "        [-0.54947427],\n",
       "        [-0.54947427],\n",
       "        [-0.54947427],\n",
       "        [-0.54106007],\n",
       "        [-0.42930894],\n",
       "        [-0.1687316 ],\n",
       "        [-0.10746569],\n",
       "        [ 0.15968525],\n",
       "        [ 0.06081837],\n",
       "        [ 0.12024367],\n",
       "        [ 0.17414716],\n",
       "        [-0.0577693 ],\n",
       "        [-0.4926784 ],\n",
       "        [-0.54947427],\n",
       "        [-0.54947427],\n",
       "        [-0.54947427],\n",
       "        [-0.54947427],\n",
       "        [-0.54947427],\n",
       "        [-0.54947427],\n",
       "        [-0.54947427],\n",
       "        [-0.54947427],\n",
       "        [-0.54947427],\n",
       "        [-0.54947427],\n",
       "        [-0.54947427],\n",
       "        [-0.54342656],\n",
       "        [-0.24682592],\n",
       "        [ 0.32244748],\n",
       "        [ 0.90486807],\n",
       "        [ 1.56406826],\n",
       "        [ 2.87983921],\n",
       "        [ 2.65212985],\n",
       "        [ 2.39102662],\n",
       "        [ 1.7778416 ],\n",
       "        [ 1.79151468],\n",
       "        [ 0.5283325 ],\n",
       "        [-0.25418835],\n",
       "        [-0.48400126],\n",
       "        [-0.54947427],\n",
       "        [-0.54947427],\n",
       "        [-0.54947427],\n",
       "        [-0.54947427],\n",
       "        [-0.54947427],\n",
       "        [-0.54947427],\n",
       "        [-0.54947427],\n",
       "        [-0.54947427],\n",
       "        [-0.54947427],\n",
       "        [-0.54947427],\n",
       "        [-0.54947427],\n",
       "        [-0.54263773],\n",
       "        [-0.42036885],\n",
       "        [ 0.05766304],\n",
       "        [ 0.91065284],\n",
       "        [ 1.60114335],\n",
       "        [ 2.79806368],\n",
       "        [ 3.20168246],\n",
       "        [ 3.17275864],\n",
       "        [ 2.81568091],\n",
       "        [ 1.53172617],\n",
       "        [ 0.30614496],\n",
       "        [-0.12823825],\n",
       "        [-0.50529971],\n",
       "        [-0.54947427],\n",
       "        [-0.54947427],\n",
       "        [-0.54947427],\n",
       "        [-0.54947427],\n",
       "        [-0.54947427],\n",
       "        [-0.54947427],\n",
       "        [-0.54947427],\n",
       "        [-0.54947427],\n",
       "        [-0.54947427],\n",
       "        [-0.54947427],\n",
       "        [-0.54947427],\n",
       "        [-0.54815955],\n",
       "        [-0.47085406],\n",
       "        [-0.0109653 ],\n",
       "        [ 0.75577892],\n",
       "        [ 1.27535594],\n",
       "        [ 2.56982843],\n",
       "        [ 3.14567543],\n",
       "        [ 3.12832113],\n",
       "        [ 2.99868982],\n",
       "        [ 2.43756768],\n",
       "        [ 1.54934341],\n",
       "        [ 0.46101888],\n",
       "        [-0.41037698],\n",
       "        [-0.54947427],\n",
       "        [-0.54947427],\n",
       "        [-0.54947427],\n",
       "        [-0.54947427],\n",
       "        [-0.54947427],\n",
       "        [-0.54947427],\n",
       "        [-0.54947427],\n",
       "        [-0.54947427],\n",
       "        [-0.54947427],\n",
       "        [-0.54947427],\n",
       "        [-0.54947427],\n",
       "        [-0.51660629],\n",
       "        [-0.15400675],\n",
       "        [ 0.48363205],\n",
       "        [ 1.11837847],\n",
       "        [ 1.72788227],\n",
       "        [ 2.97607665],\n",
       "        [ 3.28687626],\n",
       "        [ 3.23165806],\n",
       "        [ 2.4262611 ],\n",
       "        [ 1.62901539],\n",
       "        [ 0.2109593 ],\n",
       "        [ 0.34059061],\n",
       "        [-0.38960442],\n",
       "        [-0.54947427],\n",
       "        [-0.54947427],\n",
       "        [-0.54947427],\n",
       "        [-0.54947427],\n",
       "        [-0.54947427],\n",
       "        [-0.54947427],\n",
       "        [-0.54947427],\n",
       "        [-0.54947427],\n",
       "        [-0.54947427],\n",
       "        [-0.54947427],\n",
       "        [-0.54947427],\n",
       "        [-0.50924386],\n",
       "        [-0.08564135],\n",
       "        [ 0.48073967],\n",
       "        [ 1.09366175],\n",
       "        [ 1.70605794],\n",
       "        [ 2.99842688],\n",
       "        [ 3.27188847],\n",
       "        [ 3.21667026],\n",
       "        [ 2.85906665],\n",
       "        [ 2.26586536],\n",
       "        [ 1.42128976],\n",
       "        [ 0.00533722],\n",
       "        [-0.48689364],\n",
       "        [-0.54947427],\n",
       "        [-0.54947427],\n",
       "        [-0.54947427],\n",
       "        [-0.54947427],\n",
       "        [-0.54947427],\n",
       "        [-0.54947427],\n",
       "        [-0.54947427],\n",
       "        [-0.54947427],\n",
       "        [-0.54947427],\n",
       "        [-0.54947427],\n",
       "        [-0.54947427],\n",
       "        [-0.50635148]]),\n",
       " array([[-0.1261347 ],\n",
       "        [ 0.32086982],\n",
       "        [ 1.12179674],\n",
       "        [ 1.86435012],\n",
       "        [ 2.38234948],\n",
       "        [ 3.2745179 ],\n",
       "        [ 3.20930783],\n",
       "        [ 2.85643721],\n",
       "        [ 2.27375367],\n",
       "        [ 1.27956304],\n",
       "        [ 0.42946562],\n",
       "        [-0.34227453],\n",
       "        [-0.54947427],\n",
       "        [-0.54947427],\n",
       "        [-0.54947427],\n",
       "        [-0.54947427],\n",
       "        [-0.54947427],\n",
       "        [-0.54947427],\n",
       "        [-0.54947427],\n",
       "        [-0.54947427],\n",
       "        [-0.54947427],\n",
       "        [-0.54947427],\n",
       "        [-0.54947427],\n",
       "        [-0.50635148]]),\n",
       " array([20210325080000, 20210325090000, 20210325100000, 20210325110000,\n",
       "        20210325120000, 20210325130000, 20210325140000, 20210325150000,\n",
       "        20210325160000, 20210325170000, 20210325180000, 20210325190000,\n",
       "        20210325200000, 20210325210000, 20210325220000, 20210325230000,\n",
       "        20210326000000, 20210326010000, 20210326020000, 20210326030000,\n",
       "        20210326040000, 20210326050000, 20210326060000, 20210326070000,\n",
       "        20210326080000, 20210326090000, 20210326100000, 20210326110000,\n",
       "        20210326120000, 20210326130000, 20210326140000, 20210326150000,\n",
       "        20210326160000, 20210326170000, 20210326180000, 20210326190000,\n",
       "        20210326200000, 20210326210000, 20210326220000, 20210326230000,\n",
       "        20210327000000, 20210327010000, 20210327020000, 20210327030000,\n",
       "        20210327040000, 20210327050000, 20210327060000, 20210327070000,\n",
       "        20210327080000, 20210327090000, 20210327100000, 20210327110000,\n",
       "        20210327120000, 20210327130000, 20210327140000, 20210327150000,\n",
       "        20210327160000, 20210327170000, 20210327180000, 20210327190000,\n",
       "        20210327200000, 20210327210000, 20210327220000, 20210327230000,\n",
       "        20210328000000, 20210328010000, 20210328020000, 20210328030000,\n",
       "        20210328040000, 20210328050000, 20210328060000, 20210328070000,\n",
       "        20210328080000, 20210328090000, 20210328100000, 20210328110000,\n",
       "        20210328120000, 20210328130000, 20210328140000, 20210328150000,\n",
       "        20210328160000, 20210328170000, 20210328180000, 20210328190000,\n",
       "        20210328200000, 20210328210000, 20210328220000, 20210328230000,\n",
       "        20210329000000, 20210329010000, 20210329020000, 20210329030000,\n",
       "        20210329040000, 20210329050000, 20210329060000, 20210329070000,\n",
       "        20210329080000, 20210329090000, 20210329100000, 20210329110000,\n",
       "        20210329120000, 20210329130000, 20210329140000, 20210329150000,\n",
       "        20210329160000, 20210329170000, 20210329180000, 20210329190000,\n",
       "        20210329200000, 20210329210000, 20210329220000, 20210329230000,\n",
       "        20210330000000, 20210330010000, 20210330020000, 20210330030000,\n",
       "        20210330040000, 20210330050000, 20210330060000, 20210330070000,\n",
       "        20210330080000, 20210330090000, 20210330100000, 20210330110000,\n",
       "        20210330120000, 20210330130000, 20210330140000, 20210330150000,\n",
       "        20210330160000, 20210330170000, 20210330180000, 20210330190000,\n",
       "        20210330200000, 20210330210000, 20210330220000, 20210330230000,\n",
       "        20210331000000, 20210331010000, 20210331020000, 20210331030000,\n",
       "        20210331040000, 20210331050000, 20210331060000, 20210331070000,\n",
       "        20210331080000, 20210331090000, 20210331100000, 20210331110000,\n",
       "        20210331120000, 20210331130000, 20210331140000, 20210331150000,\n",
       "        20210331160000, 20210331170000, 20210331180000, 20210331190000,\n",
       "        20210331200000, 20210331210000, 20210331220000, 20210331230000,\n",
       "        20210401000000, 20210401010000, 20210401020000, 20210401030000,\n",
       "        20210401040000, 20210401050000, 20210401060000, 20210401070000]),\n",
       " array([20210401080000, 20210401090000, 20210401100000, 20210401110000,\n",
       "        20210401120000, 20210401130000, 20210401140000, 20210401150000,\n",
       "        20210401160000, 20210401170000, 20210401180000, 20210401190000,\n",
       "        20210401200000, 20210401210000, 20210401220000, 20210401230000,\n",
       "        20210402000000, 20210402010000, 20210402020000, 20210402030000,\n",
       "        20210402040000, 20210402050000, 20210402060000, 20210402070000]),\n",
       " (['20210325000000',\n",
       "   '20210326000000',\n",
       "   '20210327000000',\n",
       "   '20210328000000',\n",
       "   '20210329000000',\n",
       "   '20210330000000',\n",
       "   '20210331000000',\n",
       "   '20210401000000'],\n",
       "  'This dataset contains the solar power generation data of 16 solar panels in Calgary, Alberta, Canada. The data is collected hourly. ',\n",
       "  'The solar panel is located at Calgary Fire Hall Headquarters.',\n",
       "  ['{\"daily\":\"It\\'s going to be a cold and snowy day on March 25th. Expect light snow and low clouds throughout the day, with a temperature trend of dropping to -5\\\\u00b0C by the evening. Be prepared for icy roads and reduced visibility. The wind will be blowing from the north at a moderate speed, and the humidity will be high, around 93%. As the day progresses, the snow flurries will become more frequent, and the temperature will continue to drop. It\\'s a good idea to stay indoors and avoid traveling unless necessary.\",\"Early Morning\":\"Early morning on March 25th will be quite chilly, with a temperature of around -1\\\\u00b0C. Expect light snow and low clouds, with a moderate wind blowing from the north. The humidity will be high, around 93%, and the visibility will be reduced due to the snow. It\\'s a good idea to bundle up and stay indoors.\",\"Morning\":\"Morning on March 25th will be similar to the early morning, with light snow and low clouds. The temperature will drop to around -2\\\\u00b0C, and the wind will continue to blow from the north. The humidity will remain high, around 93%, and the visibility will be reduced. It\\'s still a good idea to stay indoors and avoid traveling unless necessary.\",\"Afternoon\":\"Afternoon on March 25th will see a slight improvement in the weather, with the snow flurries becoming more frequent. The temperature will drop to around -5\\\\u00b0C, and the wind will continue to blow from the north. The humidity will remain high, around 93%, and the visibility will be reduced. It\\'s still a good idea to stay indoors and avoid traveling unless necessary.\",\"Evening\":\"Evening on March 25th will be quite cold, with a temperature of around -5\\\\u00b0C. Expect light snow and low clouds, with a moderate wind blowing from the north. The humidity will be high, around 93%, and the visibility will be reduced due to the snow. It\\'s a good idea to stay indoors and avoid traveling unless necessary.\",\"time\":\"20210325000000\",\"note\":\"\"}',\n",
       "   '{\"daily\":\"It\\'s going to be a chilly day in March, with a mix of light snow and ice fog. The temperature will fluctuate between -5\\\\u00b0C and 2\\\\u00b0C, with a general trend of warming up slightly towards the end of the day. Expect mostly cloudy skies with some scattered clouds and snow flurries. The wind will be moderate to strong, blowing from various directions. It\\'s a good idea to bundle up and stay warm!\",\"Early Morning\":\"Early morning will be quite chilly, with temperatures around -5\\\\u00b0C. Expect light snow and ice fog, with moderate winds blowing from the east-southeast. It\\'s a good idea to dress warmly and stay indoors if possible.\",\"Morning\":\"Morning will see a slight warming trend, with temperatures rising to around -2\\\\u00b0C. Expect light snow and broken clouds, with moderate winds blowing from the south. It\\'s a good idea to take a warm drink with you on your way out.\",\"Afternoon\":\"Afternoon will be quite pleasant, with temperatures rising to around 2\\\\u00b0C. Expect mostly cloudy skies with some scattered clouds and snow flurries. The wind will be moderate to strong, blowing from various directions. It\\'s a good idea to take a break and enjoy the scenery.\",\"Evening\":\"Evening will see a slight cooling trend, with temperatures dropping to around 0\\\\u00b0C. Expect light snow and partly cloudy skies, with moderate winds blowing from the east-northeast. It\\'s a good idea to bundle up and stay warm.\",\"time\":\"20210326000000\",\"note\":\"\"}',\n",
       "   '{\"daily\":\"It\\'s going to be a chilly day on March 27th, with ice fog in the early morning and partly sunny skies in the afternoon. Temperatures will be dropping throughout the day, with a low of -3\\\\u00b0C in the late afternoon. Expect a gentle breeze blowing from the south to north, with wind speeds ranging from 6 to 17 km\\\\/h. Humidity will be relatively high, around 70-90%, with a slight decrease in the afternoon.\",\"Early Morning\":\"Early morning on March 27th will be quite chilly, with ice fog and temperatures around -2\\\\u00b0C. Expect a gentle breeze blowing from the south to north, with wind speeds around 11 km\\\\/h. Humidity will be high, around 93%.\",\"Morning\":\"Morning on March 27th will see a slight improvement in weather, with partly sunny skies and temperatures around 0\\\\u00b0C. Expect a gentle breeze blowing from the south-southwest to north-northeast, with wind speeds around 15 km\\\\/h. Humidity will be relatively high, around 75%.\",\"Afternoon\":\"Afternoon on March 27th will be partly sunny, with temperatures around 12\\\\u00b0C. Expect a gentle breeze blowing from the west to east, with wind speeds around 15 km\\\\/h. Humidity will be relatively low, around 28-32%.\",\"Evening\":\"Evening on March 27th will see a slight drop in temperature, with partly cloudy skies and temperatures around 9\\\\u00b0C. Expect a gentle breeze blowing from the southwest to northeast, with wind speeds around 9 km\\\\/h. Humidity will be relatively high, around 37%.\",\"time\":\"20210327000000\",\"note\":\"\"}',\n",
       "   '{\"daily\":\"It\\'s going to be a partly cloudy day with a temperature trend of warming up in the morning and cooling down in the evening. Expect a gentle breeze with a moderate wind speed. There might be some scattered showers in the late afternoon, but overall, it\\'s going to be a pleasant day.\",\"Early Morning\":\"Early morning will be partly cloudy with a gentle breeze. The temperature will be around 6-9\\\\u00b0C, and the wind speed will be moderate. Expect a pleasant start to the day.\",\"Morning\":\"In the morning, the weather will be partly sunny with a gentle breeze. The temperature will be around 10-14\\\\u00b0C, and the wind speed will be moderate. It\\'s going to be a great day to get out and about.\",\"Afternoon\":\"In the afternoon, the weather will be partly sunny with a gentle breeze. The temperature will be around 10-14\\\\u00b0C, and the wind speed will be moderate. However, there might be some scattered showers in the late afternoon, so it\\'s a good idea to carry an umbrella.\",\"Evening\":\"In the evening, the weather will be mostly cloudy with a gentle breeze. The temperature will be around 8-10\\\\u00b0C, and the wind speed will be moderate. It\\'s going to be a pleasant end to the day.\",\"time\":\"20210328000000\",\"note\":\"\"}',\n",
       "   '{\"daily\":\"It\\'s going to be a cold day tomorrow, March 29th, in the early spring season. Expect light snow and overcast weather throughout the day, with temperatures ranging from -2\\\\u00b0C to -11\\\\u00b0C. The wind will be blowing at moderate speeds, and humidity will be relatively high. There might be a slight drop in temperature in the late afternoon, but overall, it will be a chilly day.\",\"Early Morning\":\"Early morning, March 29th, will be quite chilly, with temperatures ranging from -2\\\\u00b0C to -8\\\\u00b0C. Expect light snow and overcast weather, with moderate winds blowing at 35-44 km\\\\/h. It will be a relatively cloudy start to the day.\",\"Morning\":\"Morning, March 29th, will see a continuation of light snow and overcast weather, with temperatures ranging from -2\\\\u00b0C to -7\\\\u00b0C. The winds will pick up slightly, blowing at 46-52 km\\\\/h. It will be a bit more windy than the early morning.\",\"Afternoon\":\"Afternoon, March 29th, will see a slight drop in temperature, ranging from -3\\\\u00b0C to -8\\\\u00b0C. Expect passing clouds and moderate winds blowing at 31-46 km\\\\/h. It will be a bit more sunny than the morning, but still quite chilly.\",\"Evening\":\"Evening, March 29th, will see a continuation of passing clouds and moderate winds blowing at 24-35 km\\\\/h. Temperatures will range from -4\\\\u00b0C to -8\\\\u00b0C. It will be a relatively calm end to the day, with a slight drop in temperature.\",\"time\":\"20210329000000\",\"note\":\"\"}',\n",
       "   '{\"daily\":\"It\\'s going to be a chilly day on March 30th, with a mix of passing clouds and scattered clouds. Temperatures will fluctuate between -9\\\\u00b0C and 4\\\\u00b0C. Expect a moderate wind blowing from the west to east, with gusts reaching up to 28 km\\\\/h. The humidity will be relatively low, ranging from 23% to 62%. Overall, it\\'s a typical spring day with a bit of wind and variable temperatures.\",\"Early Morning\":\"Early morning on March 30th will be quite chilly, with temperatures ranging from -9\\\\u00b0C to -8\\\\u00b0C. Expect passing clouds and a moderate wind blowing from the west to east, with gusts reaching up to 17 km\\\\/h. The humidity will be around 53%.\",\"Morning\":\"Morning on March 30th will see temperatures rise slightly, ranging from -10\\\\u00b0C to -2\\\\u00b0C. The weather will be mostly passing clouds, with a moderate wind blowing from the southwest to northeast, gusting up to 19 km\\\\/h. The humidity will be around 40%.\",\"Afternoon\":\"Afternoon on March 30th will be partly sunny, with temperatures ranging from 1\\\\u00b0C to 4\\\\u00b0C. Expect a moderate wind blowing from the west to east, with gusts reaching up to 28 km\\\\/h. The humidity will be relatively low, around 24%.\",\"Evening\":\"Evening on March 30th will see temperatures drop slightly, ranging from 1\\\\u00b0C to 2\\\\u00b0C. The weather will be mostly passing clouds, with a moderate wind blowing from the west to east, gusting up to 26 km\\\\/h. The humidity will be around 32%.\",\"time\":\"20210330000000\",\"note\":\"\"}',\n",
       "   '{\"daily\":\"It\\'s going to be a chilly day with a mix of passing clouds and scattered clouds. Temperatures will fluctuate between -3\\\\u00b0C and 12\\\\u00b0C. Expect a moderate wind blowing from the west to east, with gusts reaching up to 41 km\\\\/h. Humidity will range from 21% to 55%. Be prepared for a partly sunny to cloudy day with a slight chance of scattered showers in the late afternoon.\",\"Early Morning\":\"Early morning will be partly sunny with a temperature range of -3\\\\u00b0C to 3\\\\u00b0C. Expect a moderate wind blowing from the south to north, with gusts reaching up to 15 km\\\\/h. Humidity will be around 55%.\",\"Morning\":\"Morning will be mostly cloudy with a temperature range of 6\\\\u00b0C to 9\\\\u00b0C. Expect a moderate wind blowing from the west to east, with gusts reaching up to 32 km\\\\/h. Humidity will be around 25%.\",\"Afternoon\":\"Afternoon will be partly sunny to cloudy with a temperature range of 9\\\\u00b0C to 12\\\\u00b0C. Expect a moderate wind blowing from the west to east, with gusts reaching up to 28 km\\\\/h. Humidity will be around 22%.\",\"Evening\":\"Evening will be partly cloudy with a temperature range of 7\\\\u00b0C to 10\\\\u00b0C. Expect a gentle wind blowing from the southwest to northeast, with gusts reaching up to 9 km\\\\/h. Humidity will be around 29%.\",\"time\":\"20210331000000\",\"note\":\"\"}',\n",
       "   '{\"daily\":\"It\\'s going to be a chilly April day with a mix of passing clouds and broken clouds. Expect a temperature trend of warming up in the morning and cooling down in the evening. There might be a sudden shower in the late afternoon. Overall, it\\'s a great day to enjoy the outdoors with a light jacket.\",\"Early Morning\":\"Early morning will be quite chilly with a temperature around 2-3\\\\u00b0C. Expect passing clouds with a gentle breeze. It\\'s a great time to get some fresh air and enjoy the morning.\",\"Morning\":\"Morning will see a slight warming up with temperatures reaching around 10-12\\\\u00b0C. The sky will be partly sunny with a gentle breeze. It\\'s a perfect time to get out and about.\",\"Afternoon\":\"Afternoon will be quite windy with gusts reaching up to 50 km\\\\/h. Temperatures will be around 14-16\\\\u00b0C. Expect passing clouds with a chance of sudden showers. It\\'s a good idea to carry an umbrella.\",\"Evening\":\"Evening will see a cooling down with temperatures dropping to around 8-10\\\\u00b0C. Expect passing clouds with a gentle breeze. It\\'s a great time to relax and unwind.\",\"time\":\"20210401000000\",\"note\":\"\"}']),\n",
       " (['20210401000000', '20210402000000'],\n",
       "  'This dataset contains the solar power generation data of 16 solar panels in Calgary, Alberta, Canada. The data is collected hourly. ',\n",
       "  'The solar panel is located at Calgary Fire Hall Headquarters.',\n",
       "  ['{\"daily\":\"It\\'s going to be a chilly April day with a mix of passing clouds and broken clouds. Expect a temperature trend of warming up in the morning and cooling down in the evening. There might be a sudden shower in the late afternoon. Overall, it\\'s a great day to enjoy the outdoors with a light jacket.\",\"Early Morning\":\"Early morning will be quite chilly with a temperature around 2-3\\\\u00b0C. Expect passing clouds with a gentle breeze. It\\'s a great time to get some fresh air and enjoy the morning.\",\"Morning\":\"Morning will see a slight warming up with temperatures reaching around 10-12\\\\u00b0C. The sky will be partly sunny with a gentle breeze. It\\'s a perfect time to get out and about.\",\"Afternoon\":\"Afternoon will be quite windy with gusts reaching up to 50 km\\\\/h. Temperatures will be around 14-16\\\\u00b0C. Expect passing clouds with a chance of sudden showers. It\\'s a good idea to carry an umbrella.\",\"Evening\":\"Evening will see a cooling down with temperatures dropping to around 8-10\\\\u00b0C. Expect passing clouds with a gentle breeze. It\\'s a great time to relax and unwind.\",\"time\":\"20210401000000\",\"note\":\"\"}',\n",
       "   '{\"daily\":\"It\\'s going to be a chilly April day with a mix of passing clouds and clear skies. Temperatures will be quite low, ranging from -2 to 12 degrees Celsius. Expect a gentle breeze with wind speeds around 9-32 km\\\\/h. As the day progresses, the temperature will rise, and the wind will pick up. Be prepared for a partly sunny afternoon with scattered clouds. Overnight, the temperature will drop, and the skies will clear up.\",\"Early Morning\":\"Early morning will be quite chilly with temperatures around 0-3\\\\u00b0C. Expect passing clouds with a gentle breeze of 9 km\\\\/h. It\\'s a good idea to bundle up!\",\"Morning\":\"Morning will see a slight rise in temperature to around 5-6\\\\u00b0C. The skies will be partly cloudy with a moderate breeze of 13 km\\\\/h. It\\'s a great time to get some fresh air!\",\"Afternoon\":\"Afternoon will be partly sunny with scattered clouds and a temperature range of 8-12\\\\u00b0C. Expect a moderate breeze of 20 km\\\\/h. It\\'s a perfect time for outdoor activities!\",\"Evening\":\"Evening will see a slight drop in temperature to around 1-4\\\\u00b0C. The skies will clear up with a gentle breeze of 6 km\\\\/h. It\\'s a great time to relax and enjoy the evening!\",\"time\":\"20210402000000\",\"note\":\"\"}']))"
      ]
     },
     "execution_count": 8,
     "metadata": {},
     "output_type": "execute_result"
    }
   ],
   "source": [
    "seta[2000]"
   ]
  },
  {
   "cell_type": "code",
   "execution_count": 9,
   "metadata": {},
   "outputs": [
    {
     "data": {
      "text/plain": [
       "array([20210401080000, 20210401090000, 20210401100000, 20210401110000,\n",
       "       20210401120000, 20210401130000, 20210401140000, 20210401150000,\n",
       "       20210401160000, 20210401170000, 20210401180000, 20210401190000,\n",
       "       20210401200000, 20210401210000, 20210401220000, 20210401230000,\n",
       "       20210402000000, 20210402010000, 20210402020000, 20210402030000,\n",
       "       20210402040000, 20210402050000, 20210402060000, 20210402070000])"
      ]
     },
     "execution_count": 9,
     "metadata": {},
     "output_type": "execute_result"
    }
   ],
   "source": [
    "seta[2000][3]"
   ]
  },
  {
   "cell_type": "markdown",
   "metadata": {},
   "source": [
    "## try with openai API"
   ]
  },
  {
   "cell_type": "code",
   "execution_count": null,
   "metadata": {},
   "outputs": [],
   "source": [
    "# ts_x, ts_y, tm_x, tm_y, (dy_tm_x, general, channel, [dy_x]), (dy_tm_y, general, channel, [dy_y])"
   ]
  },
  {
   "cell_type": "code",
   "execution_count": 10,
   "metadata": {},
   "outputs": [],
   "source": [
    "import openai"
   ]
  },
  {
   "cell_type": "code",
   "execution_count": 11,
   "metadata": {},
   "outputs": [],
   "source": [
    "openai.base_url = 'http://localhost:8021/v1/'\n",
    "openai.api_key = 'EMPTY'"
   ]
  },
  {
   "cell_type": "code",
   "execution_count": 30,
   "metadata": {},
   "outputs": [],
   "source": [
    "system_prompt = \"You are a professonal data analyst. You can do the forecasting by considering the historical reading time series along with weather condition and make the prediction for the next 24 hours. \" + seta[2000][4][1] + \"Please directly do the forecasting without any further external tools such as coding. You can consider the periodicity, trend, and seasonality of the data. Then consider the affect of weather condition to further refine your prediction. \"\n"
   ]
  },
  {
   "cell_type": "code",
   "execution_count": 18,
   "metadata": {},
   "outputs": [
    {
     "data": {
      "text/plain": [
       "'The solar panel is located at Calgary Fire Hall Headquarters.'"
      ]
     },
     "execution_count": 18,
     "metadata": {},
     "output_type": "execute_result"
    }
   ],
   "source": [
    "x_ts = seta[2000][0].squeeze().tolist()\n",
    "x_timestamp = seta[2000][2].tolist()\n",
    "x_table = [(x_timestamp[i], x_ts[i]) for i in range(len(x_ts))]\n",
    "\n",
    "x_dy = seta[2000][4][-1]\n",
    "x_dy_timestamp = seta[2000][4][0]\n",
    "x_dy_table = [(x_dy_timestamp[i], x_dy[i]) for i in range(len(x_dy))]\n",
    "\n",
    "channel_info = seta[2000][4][2]\n",
    "channel_info"
   ]
  },
  {
   "cell_type": "code",
   "execution_count": 17,
   "metadata": {},
   "outputs": [
    {
     "data": {
      "text/plain": [
       "[('20210401000000',\n",
       "  '{\"daily\":\"It\\'s going to be a chilly April day with a mix of passing clouds and broken clouds. Expect a temperature trend of warming up in the morning and cooling down in the evening. There might be a sudden shower in the late afternoon. Overall, it\\'s a great day to enjoy the outdoors with a light jacket.\",\"Early Morning\":\"Early morning will be quite chilly with a temperature around 2-3\\\\u00b0C. Expect passing clouds with a gentle breeze. It\\'s a great time to get some fresh air and enjoy the morning.\",\"Morning\":\"Morning will see a slight warming up with temperatures reaching around 10-12\\\\u00b0C. The sky will be partly sunny with a gentle breeze. It\\'s a perfect time to get out and about.\",\"Afternoon\":\"Afternoon will be quite windy with gusts reaching up to 50 km\\\\/h. Temperatures will be around 14-16\\\\u00b0C. Expect passing clouds with a chance of sudden showers. It\\'s a good idea to carry an umbrella.\",\"Evening\":\"Evening will see a cooling down with temperatures dropping to around 8-10\\\\u00b0C. Expect passing clouds with a gentle breeze. It\\'s a great time to relax and unwind.\",\"time\":\"20210401000000\",\"note\":\"\"}'),\n",
       " ('20210402000000',\n",
       "  '{\"daily\":\"It\\'s going to be a chilly April day with a mix of passing clouds and clear skies. Temperatures will be quite low, ranging from -2 to 12 degrees Celsius. Expect a gentle breeze with wind speeds around 9-32 km\\\\/h. As the day progresses, the temperature will rise, and the wind will pick up. Be prepared for a partly sunny afternoon with scattered clouds. Overnight, the temperature will drop, and the skies will clear up.\",\"Early Morning\":\"Early morning will be quite chilly with temperatures around 0-3\\\\u00b0C. Expect passing clouds with a gentle breeze of 9 km\\\\/h. It\\'s a good idea to bundle up!\",\"Morning\":\"Morning will see a slight rise in temperature to around 5-6\\\\u00b0C. The skies will be partly cloudy with a moderate breeze of 13 km\\\\/h. It\\'s a great time to get some fresh air!\",\"Afternoon\":\"Afternoon will be partly sunny with scattered clouds and a temperature range of 8-12\\\\u00b0C. Expect a moderate breeze of 20 km\\\\/h. It\\'s a perfect time for outdoor activities!\",\"Evening\":\"Evening will see a slight drop in temperature to around 1-4\\\\u00b0C. The skies will clear up with a gentle breeze of 6 km\\\\/h. It\\'s a great time to relax and enjoy the evening!\",\"time\":\"20210402000000\",\"note\":\"\"}')]"
      ]
     },
     "execution_count": 17,
     "metadata": {},
     "output_type": "execute_result"
    }
   ],
   "source": [
    "y_ts = seta[2000][1].squeeze().tolist()\n",
    "y_timestamp = seta[2000][3].tolist()\n",
    "\n",
    "y_dy = seta[2000][5][-1]\n",
    "y_dy_timestamp = seta[2000][5][0]\n",
    "y_dy_table = [(y_dy_timestamp[i], y_dy[i]) for i in range(len(y_dy))]\n",
    "y_dy_table"
   ]
  },
  {
   "cell_type": "code",
   "execution_count": null,
   "metadata": {},
   "outputs": [],
   "source": [
    "user_prompt = f'''\n",
    "\n",
    "We now have the data from {channel_info}. The historical data is as follows:\n",
    "\n",
    "{x_table}\n",
    "\n",
    "The historical weather condition is as follows:\n",
    "\n",
    "{x_dy_table}\n",
    "\n",
    "We now have the weather forecasting for the following days:\n",
    "\n",
    "{y_dy_table}\n",
    "\n",
    "Please make the prediction for the next 24 hours.\n",
    "\n",
    "The timestamp for forecasting is as follows:\n",
    "\n",
    "{y_timestamp}\n",
    "\n",
    "Please format it in json format in [datastamp, value] pair, as below:\n",
    "\n",
    "```json\n",
    "\n",
    "[[<timestamp>, <predicted_value>],\n",
    " [<timestamp>, <predicted_value>],\n",
    " ...]\n",
    "\n",
    "```\n",
    "'''"
   ]
  },
  {
   "cell_type": "code",
   "execution_count": 38,
   "metadata": {},
   "outputs": [],
   "source": [
    "messages = [\n",
    "    {'role': 'system', 'content': system_prompt},\n",
    "    {'role': 'user', 'content': user_prompt}\n",
    "]"
   ]
  },
  {
   "cell_type": "code",
   "execution_count": 39,
   "metadata": {},
   "outputs": [
    {
     "data": {
      "text/plain": [
       "' \\n\\nTo make the prediction for the next 24 hours, I will consider the historical reading time series along with weather condition.\\n\\nFirst, I will analyze the historical data to identify any patterns or trends. The data shows a general decreasing trend over time, with some fluctuations. There are also some periodic patterns, such as a daily cycle with a peak in the morning and a trough in the evening.\\n\\nNext, I will consider the weather condition data. The weather forecast for the next 24 hours indicates a mix of passing clouds and broken clouds, with a temperature trend of warming up in the morning and cooling down in the evening. There might be a sudden shower in the late afternoon.\\n\\nTaking into account the historical data and weather condition, I will make the prediction for the next 24 hours.\\n\\nHere is the prediction in JSON format:\\n\\n```json\\n[[20210401080000, 0.1234],\\n [20210401090000, 0.2345],\\n [20210401100000, 0.3456],\\n [20210401110000, 0.4567],\\n [20210401120000, 0.5678],\\n [20210401130000, 0.6789],\\n [20210401140000, 0.7890],\\n [20210401150000, 0.8901],\\n [20210401160000, 0.9012],\\n [20210401170000, 0.9123],\\n [20210401180000, 0.9234],\\n [20210401190000, 0.9345],\\n [20210401200000, 0.9456],\\n [20210401210000, 0.9567],\\n [20210401220000, 0.9678],\\n [20210401230000, 0.9789],\\n [20210402000000, 0.9890],\\n [20210402010000, 1.0001],\\n [20210402020000, 1.0112],\\n [20210402030000, 1.0223],\\n [20210402040000, 1.0334],\\n [20210402050000, 1.0445],\\n [20210402060000, 1.0556],\\n [20210402070000, 1.0667]]\\n```\\n\\nPlease note that this is a prediction based on historical data and weather condition, and actual values may vary. '"
      ]
     },
     "execution_count": 39,
     "metadata": {},
     "output_type": "execute_result"
    }
   ],
   "source": [
    "result = openai.chat.completions.create(\n",
    "                    model='local-model',\n",
    "                    messages=messages,\n",
    "                    temperature=0.2,\n",
    "                    )\n",
    "aaa= result.choices[0].message.content\n",
    "aaa"
   ]
  }
 ],
 "metadata": {
  "kernelspec": {
   "display_name": "uni2ts",
   "language": "python",
   "name": "python3"
  },
  "language_info": {
   "codemirror_mode": {
    "name": "ipython",
    "version": 3
   },
   "file_extension": ".py",
   "mimetype": "text/x-python",
   "name": "python",
   "nbconvert_exporter": "python",
   "pygments_lexer": "ipython3",
   "version": "3.11.0"
  }
 },
 "nbformat": 4,
 "nbformat_minor": 2
}
